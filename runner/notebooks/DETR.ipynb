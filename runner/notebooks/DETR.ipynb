{
  "nbformat": 4,
  "nbformat_minor": 0,
  "metadata": {
    "colab": {
      "name": "DETR.ipynb",
      "provenance": [],
      "machine_shape": "hm"
    },
    "kernelspec": {
      "name": "python3",
      "display_name": "Python 3"
    },
    "language_info": {
      "name": "python"
    },
    "accelerator": "GPU"
  },
  "cells": [
    {
      "cell_type": "code",
      "metadata": {
        "colab": {
          "base_uri": "https://localhost:8080/"
        },
        "id": "z9BvSyc-Wsow",
        "outputId": "72f79b18-9706-460e-985e-2ed2ba892418"
      },
      "source": [
        "!git clone https://github.com/facebookresearch/detr.git"
      ],
      "execution_count": null,
      "outputs": [
        {
          "output_type": "stream",
          "text": [
            "Cloning into 'detr'...\n",
            "remote: Enumerating objects: 243, done.\u001b[K\n",
            "remote: Total 243 (delta 0), reused 0 (delta 0), pack-reused 243\u001b[K\n",
            "Receiving objects: 100% (243/243), 12.84 MiB | 13.02 MiB/s, done.\n",
            "Resolving deltas: 100% (127/127), done.\n"
          ],
          "name": "stdout"
        }
      ]
    },
    {
      "cell_type": "code",
      "metadata": {
        "colab": {
          "base_uri": "https://localhost:8080/"
        },
        "id": "VD6FC08eWxNt",
        "outputId": "e3e636c7-b773-4cc8-bcc7-9ac412ea5210"
      },
      "source": [
        "pip install cython scipy"
      ],
      "execution_count": null,
      "outputs": [
        {
          "output_type": "stream",
          "text": [
            "Requirement already satisfied: cython in /usr/local/lib/python3.7/dist-packages (0.29.22)\n",
            "Requirement already satisfied: scipy in /usr/local/lib/python3.7/dist-packages (1.4.1)\n",
            "Requirement already satisfied: numpy>=1.13.3 in /usr/local/lib/python3.7/dist-packages (from scipy) (1.19.5)\n"
          ],
          "name": "stdout"
        }
      ]
    },
    {
      "cell_type": "code",
      "metadata": {
        "colab": {
          "base_uri": "https://localhost:8080/"
        },
        "id": "2ABQeTqoW4MW",
        "outputId": "40fe2157-31f6-499c-d222-93adc2b15ba6"
      },
      "source": [
        "!pip install -U 'git+https://github.com/cocodataset/cocoapi.git#subdirectory=PythonAPI'"
      ],
      "execution_count": null,
      "outputs": [
        {
          "output_type": "stream",
          "text": [
            "Collecting git+https://github.com/cocodataset/cocoapi.git#subdirectory=PythonAPI\n",
            "  Cloning https://github.com/cocodataset/cocoapi.git to /tmp/pip-req-build-qy1mjndv\n",
            "  Running command git clone -q https://github.com/cocodataset/cocoapi.git /tmp/pip-req-build-qy1mjndv\n",
            "Requirement already satisfied, skipping upgrade: setuptools>=18.0 in /usr/local/lib/python3.7/dist-packages (from pycocotools==2.0) (54.2.0)\n",
            "Requirement already satisfied, skipping upgrade: cython>=0.27.3 in /usr/local/lib/python3.7/dist-packages (from pycocotools==2.0) (0.29.22)\n",
            "Requirement already satisfied, skipping upgrade: matplotlib>=2.1.0 in /usr/local/lib/python3.7/dist-packages (from pycocotools==2.0) (3.2.2)\n",
            "Requirement already satisfied, skipping upgrade: kiwisolver>=1.0.1 in /usr/local/lib/python3.7/dist-packages (from matplotlib>=2.1.0->pycocotools==2.0) (1.3.1)\n",
            "Requirement already satisfied, skipping upgrade: python-dateutil>=2.1 in /usr/local/lib/python3.7/dist-packages (from matplotlib>=2.1.0->pycocotools==2.0) (2.8.1)\n",
            "Requirement already satisfied, skipping upgrade: numpy>=1.11 in /usr/local/lib/python3.7/dist-packages (from matplotlib>=2.1.0->pycocotools==2.0) (1.19.5)\n",
            "Requirement already satisfied, skipping upgrade: cycler>=0.10 in /usr/local/lib/python3.7/dist-packages (from matplotlib>=2.1.0->pycocotools==2.0) (0.10.0)\n",
            "Requirement already satisfied, skipping upgrade: pyparsing!=2.0.4,!=2.1.2,!=2.1.6,>=2.0.1 in /usr/local/lib/python3.7/dist-packages (from matplotlib>=2.1.0->pycocotools==2.0) (2.4.7)\n",
            "Requirement already satisfied, skipping upgrade: six>=1.5 in /usr/local/lib/python3.7/dist-packages (from python-dateutil>=2.1->matplotlib>=2.1.0->pycocotools==2.0) (1.15.0)\n",
            "Building wheels for collected packages: pycocotools\n",
            "  Building wheel for pycocotools (setup.py) ... \u001b[?25l\u001b[?25hdone\n",
            "  Created wheel for pycocotools: filename=pycocotools-2.0-cp37-cp37m-linux_x86_64.whl size=263926 sha256=0165316fb0cd350d025535725de8ced965e5b8c0aad54888bd73b4767d0129c9\n",
            "  Stored in directory: /tmp/pip-ephem-wheel-cache-zh8pdc7u/wheels/90/51/41/646daf401c3bc408ff10de34ec76587a9b3ebfac8d21ca5c3a\n",
            "Successfully built pycocotools\n",
            "Installing collected packages: pycocotools\n",
            "  Found existing installation: pycocotools 2.0.2\n",
            "    Uninstalling pycocotools-2.0.2:\n",
            "      Successfully uninstalled pycocotools-2.0.2\n",
            "Successfully installed pycocotools-2.0\n"
          ],
          "name": "stdout"
        }
      ]
    },
    {
      "cell_type": "code",
      "metadata": {
        "colab": {
          "base_uri": "https://localhost:8080/"
        },
        "id": "fe-M2A33XDyR",
        "outputId": "bdd4f665-4054-427e-e700-ae46ab3fccc4"
      },
      "source": [
        "!pip install git+https://github.com/cocodataset/panopticapi.git"
      ],
      "execution_count": null,
      "outputs": [
        {
          "output_type": "stream",
          "text": [
            "Collecting git+https://github.com/cocodataset/panopticapi.git\n",
            "  Cloning https://github.com/cocodataset/panopticapi.git to /tmp/pip-req-build-gn85oqu6\n",
            "  Running command git clone -q https://github.com/cocodataset/panopticapi.git /tmp/pip-req-build-gn85oqu6\n",
            "Requirement already satisfied: numpy in /usr/local/lib/python3.7/dist-packages (from panopticapi==0.1) (1.19.5)\n",
            "Requirement already satisfied: Pillow in /usr/local/lib/python3.7/dist-packages (from panopticapi==0.1) (7.1.2)\n",
            "Building wheels for collected packages: panopticapi\n",
            "  Building wheel for panopticapi (setup.py) ... \u001b[?25l\u001b[?25hdone\n",
            "  Created wheel for panopticapi: filename=panopticapi-0.1-cp37-none-any.whl size=8316 sha256=3b34385d527a84cc4a8878f09f7f7c7a2e12740ce7b4b8689d50939f701d8980\n",
            "  Stored in directory: /tmp/pip-ephem-wheel-cache-akkedh0i/wheels/41/ae/17/f7e628e1ba4776ceea035aefb113ef24b6639ad5d5a2e5a5d1\n",
            "Successfully built panopticapi\n",
            "Installing collected packages: panopticapi\n",
            "Successfully installed panopticapi-0.1\n"
          ],
          "name": "stdout"
        }
      ]
    },
    {
      "cell_type": "code",
      "metadata": {
        "colab": {
          "base_uri": "https://localhost:8080/"
        },
        "id": "E_yTDjuHXJ_0",
        "outputId": "0be320f6-0d76-4eb0-9156-d5f7218174d6"
      },
      "source": [
        "!pip install gsutil"
      ],
      "execution_count": null,
      "outputs": [
        {
          "output_type": "stream",
          "text": [
            "Collecting gsutil\n",
            "\u001b[?25l  Downloading https://files.pythonhosted.org/packages/fb/36/c96ed34197b4bd7999aa62aa6781901a5db74c6d82b5dabcfce62df08c84/gsutil-4.61.tar.gz (2.9MB)\n",
            "\u001b[K     |████████████████████████████████| 2.9MB 4.4MB/s \n",
            "\u001b[?25hCollecting argcomplete>=1.9.4\n",
            "  Downloading https://files.pythonhosted.org/packages/e3/d0/ee7fc6ceac8957196def9bfa3b955d02163058defd3edd51ef7b1ff2769e/argcomplete-1.12.2-py2.py3-none-any.whl\n",
            "Requirement already satisfied: crcmod>=1.7 in /usr/local/lib/python3.7/dist-packages (from gsutil) (1.7)\n",
            "Collecting fasteners>=0.14.1\n",
            "  Downloading https://files.pythonhosted.org/packages/78/20/c862d765287e9e8b29f826749ebae8775bdca50b2cb2ca079346d5fbfd76/fasteners-0.16-py2.py3-none-any.whl\n",
            "Collecting gcs-oauth2-boto-plugin>=2.7\n",
            "  Downloading https://files.pythonhosted.org/packages/f7/ab/3cc16742de84b76aa328c4b9e09fbf88447027827c12fb3913c5907be23b/gcs-oauth2-boto-plugin-2.7.tar.gz\n",
            "Collecting google-apitools>=0.5.30\n",
            "\u001b[?25l  Downloading https://files.pythonhosted.org/packages/19/da/aefc4cf4c168b5d875344cd9dddc77e3a2d11986b630251af5ce47dd2843/google-apitools-0.5.31.tar.gz (173kB)\n",
            "\u001b[K     |████████████████████████████████| 174kB 22.0MB/s \n",
            "\u001b[?25hCollecting httplib2>=0.18\n",
            "\u001b[?25l  Downloading https://files.pythonhosted.org/packages/15/dc/d14bce03f4bfd0214b90a3f556d7c96f75bb94ad597c816a641b962f22e9/httplib2-0.19.1-py3-none-any.whl (95kB)\n",
            "\u001b[K     |████████████████████████████████| 102kB 6.9MB/s \n",
            "\u001b[?25hCollecting google-reauth>=0.1.0\n",
            "  Downloading https://files.pythonhosted.org/packages/69/e1/67ffaa3a645b86318ce30717af7145070ebccec5eef5c623ae08b86129b8/google_reauth-0.1.1-py2.py3-none-any.whl\n",
            "Collecting mock==2.0.0\n",
            "\u001b[?25l  Downloading https://files.pythonhosted.org/packages/e6/35/f187bdf23be87092bd0f1200d43d23076cee4d0dec109f195173fd3ebc79/mock-2.0.0-py2.py3-none-any.whl (56kB)\n",
            "\u001b[K     |████████████████████████████████| 61kB 4.5MB/s \n",
            "\u001b[?25hCollecting monotonic>=1.4\n",
            "  Downloading https://files.pythonhosted.org/packages/ac/aa/063eca6a416f397bd99552c534c6d11d57f58f2e94c14780f3bbf818c4cf/monotonic-1.5-py2.py3-none-any.whl\n",
            "Collecting pyOpenSSL>=0.13\n",
            "\u001b[?25l  Downloading https://files.pythonhosted.org/packages/b2/5e/06351ede29fd4899782ad335c2e02f1f862a887c20a3541f17c3fa1a3525/pyOpenSSL-20.0.1-py2.py3-none-any.whl (54kB)\n",
            "\u001b[K     |████████████████████████████████| 61kB 5.2MB/s \n",
            "\u001b[?25hCollecting retry_decorator>=1.0.0\n",
            "  Downloading https://files.pythonhosted.org/packages/6e/e6/bedc75b264cbcbf6e6d0e5071d96d739f540fc09be31744a7a8824c02a8e/retry_decorator-1.1.1.tar.gz\n",
            "Requirement already satisfied: six>=1.12.0 in /usr/local/lib/python3.7/dist-packages (from gsutil) (1.15.0)\n",
            "Requirement already satisfied: importlib-metadata<4,>=0.23; python_version == \"3.7\" in /usr/local/lib/python3.7/dist-packages (from argcomplete>=1.9.4->gsutil) (3.8.1)\n",
            "Collecting boto>=2.29.1\n",
            "\u001b[?25l  Downloading https://files.pythonhosted.org/packages/23/10/c0b78c27298029e4454a472a1919bde20cb182dab1662cec7f2ca1dcc523/boto-2.49.0-py2.py3-none-any.whl (1.4MB)\n",
            "\u001b[K     |████████████████████████████████| 1.4MB 23.1MB/s \n",
            "\u001b[?25hRequirement already satisfied: oauth2client>=2.2.0 in /usr/local/lib/python3.7/dist-packages (from gcs-oauth2-boto-plugin>=2.7->gsutil) (4.1.3)\n",
            "Requirement already satisfied: pyparsing<3,>=2.4.2 in /usr/local/lib/python3.7/dist-packages (from httplib2>=0.18->gsutil) (2.4.7)\n",
            "Collecting pyu2f\n",
            "  Downloading https://files.pythonhosted.org/packages/29/b5/c1209e6cb77647bc2c9a6a1a953355720f34f3b006b725e303c70f3c0786/pyu2f-0.1.5.tar.gz\n",
            "Collecting pbr>=0.11\n",
            "\u001b[?25l  Downloading https://files.pythonhosted.org/packages/fb/48/69046506f6ac61c1eaa9a0d42d22d54673b69e176d30ca98e3f61513e980/pbr-5.5.1-py2.py3-none-any.whl (106kB)\n",
            "\u001b[K     |████████████████████████████████| 112kB 47.3MB/s \n",
            "\u001b[?25hCollecting cryptography>=3.2\n",
            "\u001b[?25l  Downloading https://files.pythonhosted.org/packages/b2/26/7af637e6a7e87258b963f1731c5982fb31cd507f0d90d91836e446955d02/cryptography-3.4.7-cp36-abi3-manylinux2014_x86_64.whl (3.2MB)\n",
            "\u001b[K     |████████████████████████████████| 3.2MB 50.5MB/s \n",
            "\u001b[?25hRequirement already satisfied: typing-extensions>=3.6.4; python_version < \"3.8\" in /usr/local/lib/python3.7/dist-packages (from importlib-metadata<4,>=0.23; python_version == \"3.7\"->argcomplete>=1.9.4->gsutil) (3.7.4.3)\n",
            "Requirement already satisfied: zipp>=0.5 in /usr/local/lib/python3.7/dist-packages (from importlib-metadata<4,>=0.23; python_version == \"3.7\"->argcomplete>=1.9.4->gsutil) (3.4.1)\n",
            "Requirement already satisfied: rsa>=3.1.4 in /usr/local/lib/python3.7/dist-packages (from oauth2client>=2.2.0->gcs-oauth2-boto-plugin>=2.7->gsutil) (4.7.2)\n",
            "Requirement already satisfied: pyasn1>=0.1.7 in /usr/local/lib/python3.7/dist-packages (from oauth2client>=2.2.0->gcs-oauth2-boto-plugin>=2.7->gsutil) (0.4.8)\n",
            "Requirement already satisfied: pyasn1-modules>=0.0.5 in /usr/local/lib/python3.7/dist-packages (from oauth2client>=2.2.0->gcs-oauth2-boto-plugin>=2.7->gsutil) (0.2.8)\n",
            "Requirement already satisfied: cffi>=1.12 in /usr/local/lib/python3.7/dist-packages (from cryptography>=3.2->pyOpenSSL>=0.13->gsutil) (1.14.5)\n",
            "Requirement already satisfied: pycparser in /usr/local/lib/python3.7/dist-packages (from cffi>=1.12->cryptography>=3.2->pyOpenSSL>=0.13->gsutil) (2.20)\n",
            "Building wheels for collected packages: gsutil, gcs-oauth2-boto-plugin, google-apitools, retry-decorator, pyu2f\n",
            "  Building wheel for gsutil (setup.py) ... \u001b[?25l\u001b[?25hdone\n",
            "  Created wheel for gsutil: filename=gsutil-4.61-cp37-none-any.whl size=3709861 sha256=a7bc8b81c9138954c66e07b158780d3c768c9ca9b7b22cbd2d3f1cff463955a5\n",
            "  Stored in directory: /root/.cache/pip/wheels/21/c8/4c/b30f998197ac91cb58cbc8b63ff3654724f080391131fde96c\n",
            "  Building wheel for gcs-oauth2-boto-plugin (setup.py) ... \u001b[?25l\u001b[?25hdone\n",
            "  Created wheel for gcs-oauth2-boto-plugin: filename=gcs_oauth2_boto_plugin-2.7-cp37-none-any.whl size=23204 sha256=687e57ebd4ef3d0e46d5495a8099eff84526909ccbaab55970fe898afa90179a\n",
            "  Stored in directory: /root/.cache/pip/wheels/2e/6b/7c/bd86832ceb17e0ae3d362c44f461832452eeaacddfcf9128ee\n",
            "  Building wheel for google-apitools (setup.py) ... \u001b[?25l\u001b[?25hdone\n",
            "  Created wheel for google-apitools: filename=google_apitools-0.5.31-cp37-none-any.whl size=131043 sha256=2c69ba02ed7906010b5220751c241e43ae095b5d001d6d35fa60fb53fe483a63\n",
            "  Stored in directory: /root/.cache/pip/wheels/3b/43/31/09a9dad88d3aec6fed2d63bd35dfc532fca372e2edec5af5bf\n",
            "  Building wheel for retry-decorator (setup.py) ... \u001b[?25l\u001b[?25hdone\n",
            "  Created wheel for retry-decorator: filename=retry_decorator-1.1.1-py2.py3-none-any.whl size=3642 sha256=1fdef9e4e3031f9347c9c8501cbc7401e6368f0d741cabc2bd34bd325917c0f8\n",
            "  Stored in directory: /root/.cache/pip/wheels/a1/70/30/4af820545aa19a0d96f969ef5ecebbb9743fd89cf00db43273\n",
            "  Building wheel for pyu2f (setup.py) ... \u001b[?25l\u001b[?25hdone\n",
            "  Created wheel for pyu2f: filename=pyu2f-0.1.5-cp37-none-any.whl size=39388 sha256=907e7090ea95847e66287b02582b25f232842fbed8892e64c63fe9a33eaf7a08\n",
            "  Stored in directory: /root/.cache/pip/wheels/b9/74/4d/2a07cf37327596c99f570ebe983a9843cda0278ca36a27ad9d\n",
            "Successfully built gsutil gcs-oauth2-boto-plugin google-apitools retry-decorator pyu2f\n",
            "Installing collected packages: argcomplete, fasteners, boto, pyu2f, google-reauth, httplib2, cryptography, pyOpenSSL, retry-decorator, gcs-oauth2-boto-plugin, google-apitools, pbr, mock, monotonic, gsutil\n",
            "  Found existing installation: httplib2 0.17.4\n",
            "    Uninstalling httplib2-0.17.4:\n",
            "      Successfully uninstalled httplib2-0.17.4\n",
            "Successfully installed argcomplete-1.12.2 boto-2.49.0 cryptography-3.4.7 fasteners-0.16 gcs-oauth2-boto-plugin-2.7 google-apitools-0.5.31 google-reauth-0.1.1 gsutil-4.61 httplib2-0.19.1 mock-2.0.0 monotonic-1.5 pbr-5.5.1 pyOpenSSL-20.0.1 pyu2f-0.1.5 retry-decorator-1.1.1\n"
          ],
          "name": "stdout"
        }
      ]
    },
    {
      "cell_type": "code",
      "metadata": {
        "id": "kTjLd39UZeXz"
      },
      "source": [
        "!mkdir coco"
      ],
      "execution_count": null,
      "outputs": []
    },
    {
      "cell_type": "code",
      "metadata": {
        "colab": {
          "base_uri": "https://localhost:8080/"
        },
        "id": "dbOSShrIZmRs",
        "outputId": "794bc9f7-ef1c-438a-c716-275edd838275"
      },
      "source": [
        "%cd coco"
      ],
      "execution_count": null,
      "outputs": [
        {
          "output_type": "stream",
          "text": [
            "/content/coco\n"
          ],
          "name": "stdout"
        }
      ]
    },
    {
      "cell_type": "code",
      "metadata": {
        "id": "1ls4WunjaIck"
      },
      "source": [
        "!mkdir images"
      ],
      "execution_count": null,
      "outputs": []
    },
    {
      "cell_type": "code",
      "metadata": {
        "colab": {
          "base_uri": "https://localhost:8080/"
        },
        "id": "Be3BoDJqae3E",
        "outputId": "e63c5b23-b696-4bcc-e09b-3c36262904b8"
      },
      "source": [
        "%cd images"
      ],
      "execution_count": null,
      "outputs": [
        {
          "output_type": "stream",
          "text": [
            "/content/coco/images\n"
          ],
          "name": "stdout"
        }
      ]
    },
    {
      "cell_type": "code",
      "metadata": {
        "colab": {
          "base_uri": "https://localhost:8080/"
        },
        "id": "6IsWxiZ3apRS",
        "outputId": "5c60a14c-ee99-4ab8-ca95-14d099fcf956"
      },
      "source": [
        "!wget http://images.cocodataset.org/zips/train2017.zip"
      ],
      "execution_count": null,
      "outputs": [
        {
          "output_type": "stream",
          "text": [
            "--2021-04-09 21:32:20--  http://images.cocodataset.org/zips/train2017.zip\n",
            "Resolving images.cocodataset.org (images.cocodataset.org)... 52.216.154.132\n",
            "Connecting to images.cocodataset.org (images.cocodataset.org)|52.216.154.132|:80... connected.\n",
            "HTTP request sent, awaiting response... 200 OK\n",
            "Length: 19336861798 (18G) [application/zip]\n",
            "Saving to: ‘train2017.zip’\n",
            "\n",
            "train2017.zip       100%[===================>]  18.01G  36.4MB/s    in 8m 31s  \n",
            "\n",
            "2021-04-09 21:40:51 (36.1 MB/s) - ‘train2017.zip’ saved [19336861798/19336861798]\n",
            "\n"
          ],
          "name": "stdout"
        }
      ]
    },
    {
      "cell_type": "code",
      "metadata": {
        "colab": {
          "base_uri": "https://localhost:8080/"
        },
        "id": "-6hK8sIvasD0",
        "outputId": "f95dfbcb-f9f7-4697-eff0-0e1b4dcb6605"
      },
      "source": [
        "!wget http://images.cocodataset.org/zips/val2017.zip"
      ],
      "execution_count": null,
      "outputs": [
        {
          "output_type": "stream",
          "text": [
            "--2021-04-09 21:40:51--  http://images.cocodataset.org/zips/val2017.zip\n",
            "Resolving images.cocodataset.org (images.cocodataset.org)... 52.217.72.4\n",
            "Connecting to images.cocodataset.org (images.cocodataset.org)|52.217.72.4|:80... connected.\n",
            "HTTP request sent, awaiting response... 200 OK\n",
            "Length: 815585330 (778M) [application/zip]\n",
            "Saving to: ‘val2017.zip’\n",
            "\n",
            "val2017.zip         100%[===================>] 777.80M  36.5MB/s    in 22s     \n",
            "\n",
            "2021-04-09 21:41:14 (35.3 MB/s) - ‘val2017.zip’ saved [815585330/815585330]\n",
            "\n"
          ],
          "name": "stdout"
        }
      ]
    },
    {
      "cell_type": "code",
      "metadata": {
        "colab": {
          "base_uri": "https://localhost:8080/"
        },
        "id": "bbvLzoBKbl9J",
        "outputId": "59868250-3c42-4f70-a52d-2f0fe2c2523b"
      },
      "source": [
        "!wget http://images.cocodataset.org/zips/test2017.zip"
      ],
      "execution_count": null,
      "outputs": [
        {
          "output_type": "stream",
          "text": [
            "--2021-04-09 21:41:14--  http://images.cocodataset.org/zips/test2017.zip\n",
            "Resolving images.cocodataset.org (images.cocodataset.org)... 52.217.33.60\n",
            "Connecting to images.cocodataset.org (images.cocodataset.org)|52.217.33.60|:80... connected.\n",
            "HTTP request sent, awaiting response... 200 OK\n",
            "Length: 6646970404 (6.2G) [application/zip]\n",
            "Saving to: ‘test2017.zip’\n",
            "\n",
            "test2017.zip        100%[===================>]   6.19G  35.7MB/s    in 2m 58s  \n",
            "\n",
            "2021-04-09 21:44:12 (35.6 MB/s) - ‘test2017.zip’ saved [6646970404/6646970404]\n",
            "\n"
          ],
          "name": "stdout"
        }
      ]
    },
    {
      "cell_type": "code",
      "metadata": {
        "colab": {
          "base_uri": "https://localhost:8080/"
        },
        "id": "p5GPwcTsboh9",
        "outputId": "6a4ad383-1532-4c4f-a822-6793d5edfd68"
      },
      "source": [
        "!wget http://images.cocodataset.org/zips/unlabeled2017.zip\n"
      ],
      "execution_count": null,
      "outputs": [
        {
          "output_type": "stream",
          "text": [
            "--2021-04-09 21:44:12--  http://images.cocodataset.org/zips/unlabeled2017.zip\n",
            "Resolving images.cocodataset.org (images.cocodataset.org)... 52.217.129.201\n",
            "Connecting to images.cocodataset.org (images.cocodataset.org)|52.217.129.201|:80... connected.\n",
            "HTTP request sent, awaiting response... 200 OK\n",
            "Length: 20126613414 (19G) [application/zip]\n",
            "Saving to: ‘unlabeled2017.zip’\n",
            "\n",
            "unlabeled2017.zip   100%[===================>]  18.74G  36.6MB/s    in 9m 1s   \n",
            "\n",
            "2021-04-09 21:53:13 (35.5 MB/s) - ‘unlabeled2017.zip’ saved [20126613414/20126613414]\n",
            "\n"
          ],
          "name": "stdout"
        }
      ]
    },
    {
      "cell_type": "code",
      "metadata": {
        "id": "uCBZ3ij3cbFG"
      },
      "source": [
        "!unzip train2017.zip"
      ],
      "execution_count": null,
      "outputs": []
    },
    {
      "cell_type": "code",
      "metadata": {
        "id": "BbWqjkVPd_Q3"
      },
      "source": [
        "!unzip val2017.zip"
      ],
      "execution_count": null,
      "outputs": []
    },
    {
      "cell_type": "code",
      "metadata": {
        "id": "UCbmvRHTeOZ-"
      },
      "source": [
        "!unzip test2017.zip"
      ],
      "execution_count": null,
      "outputs": []
    },
    {
      "cell_type": "code",
      "metadata": {
        "id": "izsiEolbeQ8L"
      },
      "source": [
        "!unzip unlabeled2017.zip"
      ],
      "execution_count": null,
      "outputs": []
    },
    {
      "cell_type": "code",
      "metadata": {
        "colab": {
          "base_uri": "https://localhost:8080/"
        },
        "id": "klsfkXfNfOMX",
        "outputId": "fde39c95-0db8-4e2a-c0e4-3019a93d27a6"
      },
      "source": [
        "!pip install rm"
      ],
      "execution_count": null,
      "outputs": [
        {
          "output_type": "stream",
          "text": [
            "Collecting rm\n",
            "  Downloading https://files.pythonhosted.org/packages/a8/46/175372fda424a70c5a8bd92f341061de653ac5525f6619f1d56fc0d9bc9a/rm-2020.12.3.tar.gz\n",
            "Collecting values\n",
            "  Downloading https://files.pythonhosted.org/packages/cc/18/952219903bde3175113927866c19b536cfcea3259cd4e3fdacb8604723f6/values-2020.12.3.tar.gz\n",
            "Building wheels for collected packages: rm, values\n",
            "  Building wheel for rm (setup.py) ... \u001b[?25l\u001b[?25hdone\n",
            "  Created wheel for rm: filename=rm-2020.12.3-cp37-none-any.whl size=1423 sha256=30a7bd91a7859f6f97d90ccaa82966c65eb8bed25cb9bf74daea38cb7b09510b\n",
            "  Stored in directory: /root/.cache/pip/wheels/51/31/d2/bd52f65a6a842cc307357715acdf751951e8a35d2ba17bfe9c\n",
            "  Building wheel for values (setup.py) ... \u001b[?25l\u001b[?25hdone\n",
            "  Created wheel for values: filename=values-2020.12.3-cp37-none-any.whl size=1403 sha256=afc82ca83b8294db47363c77d16fff87fd906ebbec35177c540fcc8c9278d464\n",
            "  Stored in directory: /root/.cache/pip/wheels/6f/ae/4f/3c3954bcfd34d33a760db86564e53eed2817cf4c1540ec35b5\n",
            "Successfully built rm values\n",
            "Installing collected packages: values, rm\n",
            "Successfully installed rm-2020.12.3 values-2020.12.3\n"
          ],
          "name": "stdout"
        }
      ]
    },
    {
      "cell_type": "code",
      "metadata": {
        "id": "pKrRTF3zgI7M"
      },
      "source": [
        "!rm train2017.zip\n",
        "!rm val2017.zip\n",
        "!rm test2017.zip\n",
        "!rm unlabeled2017.zip "
      ],
      "execution_count": null,
      "outputs": []
    },
    {
      "cell_type": "code",
      "metadata": {
        "id": "a0LEbiMqgPuP"
      },
      "source": [
        "!cd ../"
      ],
      "execution_count": null,
      "outputs": []
    },
    {
      "cell_type": "code",
      "metadata": {
        "colab": {
          "base_uri": "https://localhost:8080/"
        },
        "id": "hZqGlhAuxO1R",
        "outputId": "2ec1cfb2-b678-41d7-8bac-5010fc10fc09"
      },
      "source": [
        ""
      ],
      "execution_count": null,
      "outputs": [
        {
          "output_type": "stream",
          "text": [
            "\u001b[0m\u001b[01;34mtest2017\u001b[0m/  \u001b[01;34mtrain2017\u001b[0m/  \u001b[01;34munlabeled2017\u001b[0m/  \u001b[01;34mval2017\u001b[0m/\n"
          ],
          "name": "stdout"
        }
      ]
    },
    {
      "cell_type": "code",
      "metadata": {
        "colab": {
          "base_uri": "https://localhost:8080/"
        },
        "id": "GdZ688_qgWBa",
        "outputId": "32ab1481-0b4e-4a1e-fb10-1afa12f9b000"
      },
      "source": [
        "!wget http://images.cocodataset.org/annotations/annotations_trainval2017.zip"
      ],
      "execution_count": null,
      "outputs": [
        {
          "output_type": "stream",
          "text": [
            "--2021-04-09 22:33:54--  http://images.cocodataset.org/annotations/annotations_trainval2017.zip\n",
            "Resolving images.cocodataset.org (images.cocodataset.org)... 52.217.70.172\n",
            "Connecting to images.cocodataset.org (images.cocodataset.org)|52.217.70.172|:80... connected.\n",
            "HTTP request sent, awaiting response... 200 OK\n",
            "Length: 252907541 (241M) [application/zip]\n",
            "Saving to: ‘annotations_trainval2017.zip’\n",
            "\n",
            "annotations_trainva 100%[===================>] 241.19M  36.7MB/s    in 7.2s    \n",
            "\n",
            "2021-04-09 22:34:02 (33.7 MB/s) - ‘annotations_trainval2017.zip’ saved [252907541/252907541]\n",
            "\n"
          ],
          "name": "stdout"
        }
      ]
    },
    {
      "cell_type": "code",
      "metadata": {
        "colab": {
          "base_uri": "https://localhost:8080/"
        },
        "id": "mN7IrnBfgWx9",
        "outputId": "8f987888-08d3-46e8-93c4-904fc04c1d32"
      },
      "source": [
        "!wget http://images.cocodataset.org/annotations/stuff_annotations_trainval2017.zip"
      ],
      "execution_count": null,
      "outputs": [
        {
          "output_type": "stream",
          "text": [
            "--2021-04-09 22:34:02--  http://images.cocodataset.org/annotations/stuff_annotations_trainval2017.zip\n",
            "Resolving images.cocodataset.org (images.cocodataset.org)... 52.217.137.169\n",
            "Connecting to images.cocodataset.org (images.cocodataset.org)|52.217.137.169|:80... connected.\n",
            "HTTP request sent, awaiting response... 200 OK\n",
            "Length: 1148688564 (1.1G) [application/zip]\n",
            "Saving to: ‘stuff_annotations_trainval2017.zip’\n",
            "\n",
            "stuff_annotations_t 100%[===================>]   1.07G  36.7MB/s    in 31s     \n",
            "\n",
            "2021-04-09 22:34:33 (35.6 MB/s) - ‘stuff_annotations_trainval2017.zip’ saved [1148688564/1148688564]\n",
            "\n"
          ],
          "name": "stdout"
        }
      ]
    },
    {
      "cell_type": "code",
      "metadata": {
        "colab": {
          "base_uri": "https://localhost:8080/"
        },
        "id": "DvX9WjuQgl_H",
        "outputId": "9e58fb3d-27f1-45e2-ad2d-f60e06297d36"
      },
      "source": [
        "!wget http://images.cocodataset.org/annotations/image_info_test2017.zip"
      ],
      "execution_count": null,
      "outputs": [
        {
          "output_type": "stream",
          "text": [
            "--2021-04-09 22:34:33--  http://images.cocodataset.org/annotations/image_info_test2017.zip\n",
            "Resolving images.cocodataset.org (images.cocodataset.org)... 52.217.92.204\n",
            "Connecting to images.cocodataset.org (images.cocodataset.org)|52.217.92.204|:80... connected.\n",
            "HTTP request sent, awaiting response... 200 OK\n",
            "Length: 1144034 (1.1M) [application/zip]\n",
            "Saving to: ‘image_info_test2017.zip’\n",
            "\n",
            "image_info_test2017 100%[===================>]   1.09M  2.20MB/s    in 0.5s    \n",
            "\n",
            "2021-04-09 22:34:34 (2.20 MB/s) - ‘image_info_test2017.zip’ saved [1144034/1144034]\n",
            "\n"
          ],
          "name": "stdout"
        }
      ]
    },
    {
      "cell_type": "code",
      "metadata": {
        "colab": {
          "base_uri": "https://localhost:8080/"
        },
        "id": "Y7pmDxTQgqFw",
        "outputId": "0d80d83c-9467-40f3-a6a3-2ae2fb20d8c6"
      },
      "source": [
        "!wget http://images.cocodataset.org/annotations/image_info_unlabeled2017.zip\n",
        "\n"
      ],
      "execution_count": null,
      "outputs": [
        {
          "output_type": "stream",
          "text": [
            "--2021-04-09 22:34:34--  http://images.cocodataset.org/annotations/image_info_unlabeled2017.zip\n",
            "Resolving images.cocodataset.org (images.cocodataset.org)... 52.217.92.204\n",
            "Connecting to images.cocodataset.org (images.cocodataset.org)|52.217.92.204|:80... connected.\n",
            "HTTP request sent, awaiting response... 200 OK\n",
            "Length: 4902013 (4.7M) [application/zip]\n",
            "Saving to: ‘image_info_unlabeled2017.zip’\n",
            "\n",
            "image_info_unlabele 100%[===================>]   4.67M  7.05MB/s    in 0.7s    \n",
            "\n",
            "2021-04-09 22:34:35 (7.05 MB/s) - ‘image_info_unlabeled2017.zip’ saved [4902013/4902013]\n",
            "\n"
          ],
          "name": "stdout"
        }
      ]
    },
    {
      "cell_type": "code",
      "metadata": {
        "colab": {
          "base_uri": "https://localhost:8080/"
        },
        "id": "dUXCSd1kgssP",
        "outputId": "a530bd4e-6f21-46fb-855a-f581960b319d"
      },
      "source": [
        "!unzip annotations_trainval2017.zip\n",
        "!unzip stuff_annotations_trainval2017.zip\n",
        "!unzip image_info_test2017.zip\n",
        "!unzip image_info_unlabeled2017.zip"
      ],
      "execution_count": null,
      "outputs": [
        {
          "output_type": "stream",
          "text": [
            "Archive:  annotations_trainval2017.zip\n",
            "  inflating: annotations/instances_train2017.json  \n",
            "  inflating: annotations/instances_val2017.json  \n",
            "  inflating: annotations/captions_train2017.json  \n",
            "  inflating: annotations/captions_val2017.json  \n",
            "  inflating: annotations/person_keypoints_train2017.json  \n",
            "  inflating: annotations/person_keypoints_val2017.json  \n",
            "Archive:  stuff_annotations_trainval2017.zip\n",
            " extracting: annotations/stuff_train2017_pixelmaps.zip  \n",
            " extracting: annotations/stuff_val2017_pixelmaps.zip  \n",
            "  inflating: annotations/stuff_val2017.json  \n",
            "  inflating: annotations/stuff_train2017.json  \n",
            "   creating: annotations/deprecated-challenge2017/\n",
            "  inflating: annotations/deprecated-challenge2017/val-ids.txt  \n",
            "  inflating: annotations/deprecated-challenge2017/train-ids.txt  \n",
            "Archive:  image_info_test2017.zip\n",
            "  inflating: annotations/image_info_test-dev2017.json  \n",
            "  inflating: annotations/image_info_test2017.json  \n",
            "Archive:  image_info_unlabeled2017.zip\n",
            "  inflating: annotations/image_info_unlabeled2017.json  \n"
          ],
          "name": "stdout"
        }
      ]
    },
    {
      "cell_type": "code",
      "metadata": {
        "id": "xV2TVINOg1F5"
      },
      "source": [
        "!rm annotations_trainval2017.zip\n",
        "!rm stuff_annotations_trainval2017.zip\n",
        "!rm image_info_test2017.zip\n",
        "!rm image_info_unlabeled2017.zip"
      ],
      "execution_count": null,
      "outputs": []
    },
    {
      "cell_type": "code",
      "metadata": {
        "colab": {
          "base_uri": "https://localhost:8080/"
        },
        "id": "WRcy_ofmhV1Y",
        "outputId": "5c3b48fb-620a-4123-ea6d-c188d3ab53b4"
      },
      "source": [
        "%cd .."
      ],
      "execution_count": null,
      "outputs": [
        {
          "output_type": "stream",
          "text": [
            "/content\n"
          ],
          "name": "stdout"
        }
      ]
    },
    {
      "cell_type": "code",
      "metadata": {
        "colab": {
          "base_uri": "https://localhost:8080/"
        },
        "id": "vVqmtMVyhbcU",
        "outputId": "20199e3e-82c2-44c6-9132-5a387234cf8b"
      },
      "source": [
        "%cd /content/detr/"
      ],
      "execution_count": null,
      "outputs": [
        {
          "output_type": "stream",
          "text": [
            "/content/detr\n"
          ],
          "name": "stdout"
        }
      ]
    },
    {
      "cell_type": "code",
      "metadata": {
        "colab": {
          "base_uri": "https://localhost:8080/"
        },
        "id": "wQJ7hmUKhgF7",
        "outputId": "1b910089-74d7-424d-b95c-10e97ed5d723"
      },
      "source": [
        "ls"
      ],
      "execution_count": null,
      "outputs": [
        {
          "output_type": "stream",
          "text": [
            "\u001b[0m\u001b[01;34md2\u001b[0m/         engine.py   main.py    requirements.txt      tox.ini\n",
            "\u001b[01;34mdatasets\u001b[0m/   hubconf.py  \u001b[01;34mmodels\u001b[0m/    run_with_submitit.py  \u001b[01;34mutil\u001b[0m/\n",
            "Dockerfile  LICENSE     README.md  test_all.py\n"
          ],
          "name": "stdout"
        }
      ]
    },
    {
      "cell_type": "code",
      "metadata": {
        "colab": {
          "base_uri": "https://localhost:8080/"
        },
        "id": "nLWR9BC-g9dQ",
        "outputId": "9b3ad3f9-a0ac-441e-f92e-eb6e23c8074d"
      },
      "source": [
        "!python main.py --batch_size 2 --no_aux_loss --eval --resume https://dl.fbaipublicfiles.com/detr/detr-r50-e632da11.pth --coco_path /content/coco/images\n"
      ],
      "execution_count": null,
      "outputs": [
        {
          "output_type": "stream",
          "text": [
            "Not using distributed mode\n",
            "git:\n",
            "  sha: a54b77800eb8e64e3ad0d8237789fcbf2f8350c5, status: clean, branch: master\n",
            "\n",
            "Namespace(aux_loss=False, backbone='resnet50', batch_size=2, bbox_loss_coef=5, clip_max_norm=0.1, coco_panoptic_path=None, coco_path='/content/coco/images', dataset_file='coco', dec_layers=6, device='cuda', dice_loss_coef=1, dilation=False, dim_feedforward=2048, dist_url='env://', distributed=False, dropout=0.1, enc_layers=6, eos_coef=0.1, epochs=300, eval=True, frozen_weights=None, giou_loss_coef=2, hidden_dim=256, lr=0.0001, lr_backbone=1e-05, lr_drop=200, mask_loss_coef=1, masks=False, nheads=8, num_queries=100, num_workers=2, output_dir='', position_embedding='sine', pre_norm=False, remove_difficult=False, resume='https://dl.fbaipublicfiles.com/detr/detr-r50-e632da11.pth', seed=42, set_cost_bbox=5, set_cost_class=1, set_cost_giou=2, start_epoch=0, weight_decay=0.0001, world_size=1)\n",
            "number of params: 41302368\n",
            "loading annotations into memory...\n",
            "Done (t=17.37s)\n",
            "creating index...\n",
            "index created!\n",
            "loading annotations into memory...\n",
            "Done (t=0.59s)\n",
            "creating index...\n",
            "index created!\n",
            "Downloading: \"https://dl.fbaipublicfiles.com/detr/detr-r50-e632da11.pth\" to /root/.cache/torch/hub/checkpoints/detr-r50-e632da11.pth\n",
            "100% 159M/159M [00:26<00:00, 6.27MB/s]\n",
            "Test:  [   0/2500]  eta: 0:31:07  class_error: 23.81  loss: 1.6437 (1.6437)  loss_ce: 0.5508 (0.5508)  loss_bbox: 0.2230 (0.2230)  loss_giou: 0.8699 (0.8699)  loss_ce_unscaled: 0.5508 (0.5508)  class_error_unscaled: 23.8095 (23.8095)  loss_bbox_unscaled: 0.0446 (0.0446)  loss_giou_unscaled: 0.4350 (0.4350)  cardinality_error_unscaled: 3.5000 (3.5000)  time: 0.7469  data: 0.4831  max mem: 732\n",
            "Test:  [  10/2500]  eta: 0:09:50  class_error: 33.33  loss: 0.9197 (1.0302)  loss_ce: 0.4175 (0.4347)  loss_bbox: 0.1412 (0.1546)  loss_giou: 0.4416 (0.4409)  loss_ce_unscaled: 0.4175 (0.4347)  class_error_unscaled: 23.8095 (24.2583)  loss_bbox_unscaled: 0.0282 (0.0309)  loss_giou_unscaled: 0.2208 (0.2204)  cardinality_error_unscaled: 3.5000 (5.2273)  time: 0.2371  data: 0.0539  max mem: 943\n",
            "Test:  [  20/2500]  eta: 0:08:39  class_error: 23.08  loss: 1.1652 (1.1401)  loss_ce: 0.4817 (0.5053)  loss_bbox: 0.1412 (0.1769)  loss_giou: 0.4416 (0.4579)  loss_ce_unscaled: 0.4817 (0.5053)  class_error_unscaled: 23.0769 (26.1135)  loss_bbox_unscaled: 0.0282 (0.0354)  loss_giou_unscaled: 0.2208 (0.2290)  cardinality_error_unscaled: 3.5000 (5.1190)  time: 0.1825  data: 0.0106  max mem: 943\n",
            "Test:  [  30/2500]  eta: 0:08:10  class_error: 0.00  loss: 1.1961 (1.0960)  loss_ce: 0.4801 (0.4393)  loss_bbox: 0.1520 (0.1970)  loss_giou: 0.4594 (0.4596)  loss_ce_unscaled: 0.4801 (0.4393)  class_error_unscaled: 23.0769 (23.0025)  loss_bbox_unscaled: 0.0304 (0.0394)  loss_giou_unscaled: 0.2297 (0.2298)  cardinality_error_unscaled: 3.5000 (5.3387)  time: 0.1772  data: 0.0103  max mem: 948\n",
            "Test:  [  40/2500]  eta: 0:07:53  class_error: 37.50  loss: 1.0104 (1.0914)  loss_ce: 0.3438 (0.4711)  loss_bbox: 0.1420 (0.1830)  loss_giou: 0.4133 (0.4373)  loss_ce_unscaled: 0.3438 (0.4711)  class_error_unscaled: 25.0000 (24.4346)  loss_bbox_unscaled: 0.0284 (0.0366)  loss_giou_unscaled: 0.2067 (0.2186)  cardinality_error_unscaled: 2.0000 (5.1220)  time: 0.1750  data: 0.0103  max mem: 948\n",
            "Test:  [  50/2500]  eta: 0:07:40  class_error: 41.67  loss: 1.0589 (1.1598)  loss_ce: 0.5525 (0.5072)  loss_bbox: 0.1559 (0.1975)  loss_giou: 0.4322 (0.4551)  loss_ce_unscaled: 0.5525 (0.5072)  class_error_unscaled: 25.0000 (25.6049)  loss_bbox_unscaled: 0.0312 (0.0395)  loss_giou_unscaled: 0.2161 (0.2276)  cardinality_error_unscaled: 3.5000 (5.0490)  time: 0.1714  data: 0.0100  max mem: 948\n",
            "Test:  [  60/2500]  eta: 0:07:36  class_error: 10.00  loss: 1.0808 (1.1636)  loss_ce: 0.5134 (0.4929)  loss_bbox: 0.2545 (0.2127)  loss_giou: 0.4413 (0.4579)  loss_ce_unscaled: 0.5134 (0.4929)  class_error_unscaled: 17.6471 (24.0307)  loss_bbox_unscaled: 0.0509 (0.0425)  loss_giou_unscaled: 0.2206 (0.2290)  cardinality_error_unscaled: 3.5000 (5.0656)  time: 0.1755  data: 0.0106  max mem: 948\n",
            "Test:  [  70/2500]  eta: 0:07:28  class_error: 10.71  loss: 1.0176 (1.1627)  loss_ce: 0.3540 (0.4907)  loss_bbox: 0.1806 (0.2121)  loss_giou: 0.4318 (0.4599)  loss_ce_unscaled: 0.3540 (0.4907)  class_error_unscaled: 12.5000 (23.3033)  loss_bbox_unscaled: 0.0361 (0.0424)  loss_giou_unscaled: 0.2159 (0.2300)  cardinality_error_unscaled: 2.5000 (5.0915)  time: 0.1764  data: 0.0109  max mem: 948\n",
            "Test:  [  80/2500]  eta: 0:07:26  class_error: 23.08  loss: 1.0413 (1.1588)  loss_ce: 0.4489 (0.4951)  loss_bbox: 0.1806 (0.2122)  loss_giou: 0.4033 (0.4514)  loss_ce_unscaled: 0.4489 (0.4951)  class_error_unscaled: 20.0000 (24.1139)  loss_bbox_unscaled: 0.0361 (0.0424)  loss_giou_unscaled: 0.2016 (0.2257)  cardinality_error_unscaled: 3.0000 (5.1296)  time: 0.1775  data: 0.0109  max mem: 1031\n",
            "Test:  [  90/2500]  eta: 0:07:21  class_error: 16.07  loss: 0.9538 (1.1716)  loss_ce: 0.4402 (0.4969)  loss_bbox: 0.2084 (0.2153)  loss_giou: 0.4047 (0.4595)  loss_ce_unscaled: 0.4402 (0.4969)  class_error_unscaled: 18.7500 (23.5451)  loss_bbox_unscaled: 0.0417 (0.0431)  loss_giou_unscaled: 0.2023 (0.2297)  cardinality_error_unscaled: 3.0000 (5.2143)  time: 0.1775  data: 0.0111  max mem: 1031\n",
            "Test:  [ 100/2500]  eta: 0:07:17  class_error: 50.00  loss: 0.9301 (1.1550)  loss_ce: 0.2863 (0.4869)  loss_bbox: 0.1700 (0.2163)  loss_giou: 0.4567 (0.4518)  loss_ce_unscaled: 0.2863 (0.4869)  class_error_unscaled: 16.0714 (23.2785)  loss_bbox_unscaled: 0.0340 (0.0433)  loss_giou_unscaled: 0.2283 (0.2259)  cardinality_error_unscaled: 2.0000 (5.0297)  time: 0.1732  data: 0.0110  max mem: 1031\n",
            "Test:  [ 110/2500]  eta: 0:07:15  class_error: 0.00  loss: 0.7933 (1.1285)  loss_ce: 0.2863 (0.4744)  loss_bbox: 0.1558 (0.2122)  loss_giou: 0.3393 (0.4419)  loss_ce_unscaled: 0.2863 (0.4744)  class_error_unscaled: 16.6667 (23.1875)  loss_bbox_unscaled: 0.0312 (0.0424)  loss_giou_unscaled: 0.1697 (0.2210)  cardinality_error_unscaled: 2.0000 (4.7973)  time: 0.1785  data: 0.0118  max mem: 1031\n",
            "Test:  [ 120/2500]  eta: 0:07:12  class_error: 30.00  loss: 0.7538 (1.1196)  loss_ce: 0.3243 (0.4666)  loss_bbox: 0.1408 (0.2100)  loss_giou: 0.3393 (0.4430)  loss_ce_unscaled: 0.3243 (0.4666)  class_error_unscaled: 16.6667 (22.7171)  loss_bbox_unscaled: 0.0282 (0.0420)  loss_giou_unscaled: 0.1697 (0.2215)  cardinality_error_unscaled: 2.0000 (5.0413)  time: 0.1776  data: 0.0116  max mem: 1031\n",
            "Test:  [ 130/2500]  eta: 0:07:09  class_error: 9.09  loss: 1.2320 (1.1486)  loss_ce: 0.4671 (0.4860)  loss_bbox: 0.1637 (0.2114)  loss_giou: 0.4173 (0.4513)  loss_ce_unscaled: 0.4671 (0.4860)  class_error_unscaled: 15.6250 (22.6940)  loss_bbox_unscaled: 0.0327 (0.0423)  loss_giou_unscaled: 0.2087 (0.2256)  cardinality_error_unscaled: 2.0000 (5.0534)  time: 0.1769  data: 0.0105  max mem: 1031\n",
            "Test:  [ 140/2500]  eta: 0:07:05  class_error: 0.00  loss: 1.2320 (1.1421)  loss_ce: 0.4342 (0.4796)  loss_bbox: 0.1734 (0.2118)  loss_giou: 0.4117 (0.4507)  loss_ce_unscaled: 0.4342 (0.4796)  class_error_unscaled: 23.5294 (22.7852)  loss_bbox_unscaled: 0.0347 (0.0424)  loss_giou_unscaled: 0.2058 (0.2253)  cardinality_error_unscaled: 2.0000 (4.9007)  time: 0.1717  data: 0.0096  max mem: 1031\n",
            "Test:  [ 150/2500]  eta: 0:07:04  class_error: 22.22  loss: 0.9987 (1.1435)  loss_ce: 0.4124 (0.4772)  loss_bbox: 0.2085 (0.2117)  loss_giou: 0.4117 (0.4547)  loss_ce_unscaled: 0.4124 (0.4772)  class_error_unscaled: 23.5294 (22.6359)  loss_bbox_unscaled: 0.0417 (0.0423)  loss_giou_unscaled: 0.2058 (0.2273)  cardinality_error_unscaled: 2.0000 (5.1159)  time: 0.1739  data: 0.0099  max mem: 1031\n",
            "Test:  [ 160/2500]  eta: 0:07:01  class_error: 28.57  loss: 1.0135 (1.1520)  loss_ce: 0.4124 (0.4791)  loss_bbox: 0.2085 (0.2133)  loss_giou: 0.4586 (0.4596)  loss_ce_unscaled: 0.4124 (0.4791)  class_error_unscaled: 20.0000 (22.5934)  loss_bbox_unscaled: 0.0417 (0.0427)  loss_giou_unscaled: 0.2293 (0.2298)  cardinality_error_unscaled: 3.5000 (5.0932)  time: 0.1782  data: 0.0110  max mem: 1031\n",
            "Test:  [ 170/2500]  eta: 0:07:01  class_error: 20.00  loss: 1.3505 (1.1733)  loss_ce: 0.5515 (0.4927)  loss_bbox: 0.2330 (0.2156)  loss_giou: 0.5013 (0.4650)  loss_ce_unscaled: 0.5515 (0.4927)  class_error_unscaled: 22.2222 (22.6505)  loss_bbox_unscaled: 0.0466 (0.0431)  loss_giou_unscaled: 0.2506 (0.2325)  cardinality_error_unscaled: 3.0000 (5.1696)  time: 0.1841  data: 0.0116  max mem: 1031\n",
            "Test:  [ 180/2500]  eta: 0:06:59  class_error: 14.29  loss: 1.1472 (1.1698)  loss_ce: 0.5515 (0.4866)  loss_bbox: 0.1798 (0.2136)  loss_giou: 0.5763 (0.4695)  loss_ce_unscaled: 0.5515 (0.4866)  class_error_unscaled: 15.7895 (22.0772)  loss_bbox_unscaled: 0.0360 (0.0427)  loss_giou_unscaled: 0.2882 (0.2348)  cardinality_error_unscaled: 2.0000 (5.2790)  time: 0.1893  data: 0.0115  max mem: 1031\n",
            "Test:  [ 190/2500]  eta: 0:06:56  class_error: 28.57  loss: 0.8040 (1.1671)  loss_ce: 0.2011 (0.4834)  loss_bbox: 0.1538 (0.2152)  loss_giou: 0.3817 (0.4685)  loss_ce_unscaled: 0.2011 (0.4834)  class_error_unscaled: 14.2857 (22.2914)  loss_bbox_unscaled: 0.0308 (0.0430)  loss_giou_unscaled: 0.1908 (0.2342)  cardinality_error_unscaled: 2.5000 (5.1440)  time: 0.1764  data: 0.0110  max mem: 1031\n",
            "Test:  [ 200/2500]  eta: 0:06:54  class_error: 38.46  loss: 0.8040 (1.1599)  loss_ce: 0.2011 (0.4805)  loss_bbox: 0.1643 (0.2137)  loss_giou: 0.3218 (0.4657)  loss_ce_unscaled: 0.2011 (0.4805)  class_error_unscaled: 16.6667 (22.2306)  loss_bbox_unscaled: 0.0329 (0.0427)  loss_giou_unscaled: 0.1609 (0.2328)  cardinality_error_unscaled: 2.5000 (5.0622)  time: 0.1748  data: 0.0105  max mem: 1031\n",
            "Test:  [ 210/2500]  eta: 0:06:52  class_error: 46.15  loss: 1.0578 (1.1619)  loss_ce: 0.3974 (0.4846)  loss_bbox: 0.1761 (0.2137)  loss_giou: 0.3031 (0.4636)  loss_ce_unscaled: 0.3974 (0.4846)  class_error_unscaled: 21.4286 (22.3139)  loss_bbox_unscaled: 0.0352 (0.0427)  loss_giou_unscaled: 0.1515 (0.2318)  cardinality_error_unscaled: 1.5000 (4.9976)  time: 0.1757  data: 0.0103  max mem: 1037\n",
            "Test:  [ 220/2500]  eta: 0:06:49  class_error: 25.00  loss: 0.9659 (1.1799)  loss_ce: 0.4849 (0.4979)  loss_bbox: 0.1944 (0.2141)  loss_giou: 0.3984 (0.4678)  loss_ce_unscaled: 0.4849 (0.4979)  class_error_unscaled: 28.0000 (22.5862)  loss_bbox_unscaled: 0.0389 (0.0428)  loss_giou_unscaled: 0.1992 (0.2339)  cardinality_error_unscaled: 1.5000 (4.9299)  time: 0.1711  data: 0.0103  max mem: 1037\n",
            "Test:  [ 230/2500]  eta: 0:06:47  class_error: 0.00  loss: 0.9092 (1.1633)  loss_ce: 0.2930 (0.4882)  loss_bbox: 0.1543 (0.2132)  loss_giou: 0.3260 (0.4619)  loss_ce_unscaled: 0.2930 (0.4882)  class_error_unscaled: 14.2857 (22.1298)  loss_bbox_unscaled: 0.0309 (0.0426)  loss_giou_unscaled: 0.1630 (0.2309)  cardinality_error_unscaled: 1.5000 (4.8290)  time: 0.1760  data: 0.0105  max mem: 1037\n",
            "Test:  [ 240/2500]  eta: 0:06:46  class_error: 17.39  loss: 0.7904 (1.1601)  loss_ce: 0.1986 (0.4823)  loss_bbox: 0.1368 (0.2125)  loss_giou: 0.3882 (0.4653)  loss_ce_unscaled: 0.1986 (0.4823)  class_error_unscaled: 6.6667 (22.0383)  loss_bbox_unscaled: 0.0274 (0.0425)  loss_giou_unscaled: 0.1941 (0.2327)  cardinality_error_unscaled: 1.5000 (4.7946)  time: 0.1813  data: 0.0105  max mem: 1037\n",
            "Test:  [ 250/2500]  eta: 0:06:43  class_error: 10.00  loss: 1.0204 (1.1640)  loss_ce: 0.2628 (0.4837)  loss_bbox: 0.2058 (0.2137)  loss_giou: 0.5031 (0.4666)  loss_ce_unscaled: 0.2628 (0.4837)  class_error_unscaled: 20.0000 (22.1660)  loss_bbox_unscaled: 0.0412 (0.0427)  loss_giou_unscaled: 0.2516 (0.2333)  cardinality_error_unscaled: 3.5000 (4.9044)  time: 0.1767  data: 0.0100  max mem: 1037\n",
            "Test:  [ 260/2500]  eta: 0:06:41  class_error: 20.00  loss: 1.1791 (1.1684)  loss_ce: 0.5149 (0.4888)  loss_bbox: 0.1938 (0.2129)  loss_giou: 0.4940 (0.4667)  loss_ce_unscaled: 0.5149 (0.4888)  class_error_unscaled: 20.0000 (22.2486)  loss_bbox_unscaled: 0.0388 (0.0426)  loss_giou_unscaled: 0.2470 (0.2334)  cardinality_error_unscaled: 3.5000 (4.9828)  time: 0.1758  data: 0.0100  max mem: 1037\n",
            "Test:  [ 270/2500]  eta: 0:06:41  class_error: 42.86  loss: 1.3004 (1.1717)  loss_ce: 0.5108 (0.4889)  loss_bbox: 0.1839 (0.2121)  loss_giou: 0.5889 (0.4707)  loss_ce_unscaled: 0.5108 (0.4889)  class_error_unscaled: 20.0000 (22.1668)  loss_bbox_unscaled: 0.0368 (0.0424)  loss_giou_unscaled: 0.2945 (0.2354)  cardinality_error_unscaled: 4.5000 (5.1181)  time: 0.1867  data: 0.0104  max mem: 1037\n",
            "Test:  [ 280/2500]  eta: 0:06:38  class_error: 20.83  loss: 1.3004 (1.1731)  loss_ce: 0.5108 (0.4893)  loss_bbox: 0.1839 (0.2137)  loss_giou: 0.4817 (0.4702)  loss_ce_unscaled: 0.5108 (0.4893)  class_error_unscaled: 20.8333 (22.2765)  loss_bbox_unscaled: 0.0368 (0.0427)  loss_giou_unscaled: 0.2409 (0.2351)  cardinality_error_unscaled: 4.0000 (5.0819)  time: 0.1825  data: 0.0104  max mem: 1037\n",
            "Test:  [ 290/2500]  eta: 0:06:36  class_error: 0.00  loss: 1.1183 (1.1745)  loss_ce: 0.4791 (0.4894)  loss_bbox: 0.2464 (0.2145)  loss_giou: 0.4555 (0.4707)  loss_ce_unscaled: 0.4791 (0.4894)  class_error_unscaled: 20.0000 (22.1770)  loss_bbox_unscaled: 0.0493 (0.0429)  loss_giou_unscaled: 0.2277 (0.2353)  cardinality_error_unscaled: 4.0000 (5.2079)  time: 0.1760  data: 0.0103  max mem: 1037\n",
            "Test:  [ 300/2500]  eta: 0:06:35  class_error: 13.04  loss: 1.0199 (1.1799)  loss_ce: 0.3548 (0.4954)  loss_bbox: 0.2375 (0.2152)  loss_giou: 0.3921 (0.4693)  loss_ce_unscaled: 0.3548 (0.4954)  class_error_unscaled: 21.4286 (22.4814)  loss_bbox_unscaled: 0.0475 (0.0430)  loss_giou_unscaled: 0.1961 (0.2347)  cardinality_error_unscaled: 1.5000 (5.1395)  time: 0.1851  data: 0.0110  max mem: 1037\n",
            "Test:  [ 310/2500]  eta: 0:06:34  class_error: 41.18  loss: 0.9554 (1.1829)  loss_ce: 0.3706 (0.4986)  loss_bbox: 0.2054 (0.2152)  loss_giou: 0.3724 (0.4691)  loss_ce_unscaled: 0.3706 (0.4986)  class_error_unscaled: 21.4286 (22.5295)  loss_bbox_unscaled: 0.0411 (0.0430)  loss_giou_unscaled: 0.1862 (0.2345)  cardinality_error_unscaled: 2.5000 (5.1190)  time: 0.1885  data: 0.0110  max mem: 1037\n",
            "Test:  [ 320/2500]  eta: 0:06:33  class_error: 21.88  loss: 1.1121 (1.1853)  loss_ce: 0.3808 (0.4986)  loss_bbox: 0.2048 (0.2168)  loss_giou: 0.4934 (0.4699)  loss_ce_unscaled: 0.3808 (0.4986)  class_error_unscaled: 21.8750 (22.6224)  loss_bbox_unscaled: 0.0410 (0.0434)  loss_giou_unscaled: 0.2467 (0.2350)  cardinality_error_unscaled: 2.5000 (5.1994)  time: 0.1882  data: 0.0101  max mem: 1037\n",
            "Test:  [ 330/2500]  eta: 0:06:31  class_error: 33.33  loss: 1.1851 (1.1944)  loss_ce: 0.4431 (0.5040)  loss_bbox: 0.2048 (0.2163)  loss_giou: 0.4952 (0.4741)  loss_ce_unscaled: 0.4431 (0.5040)  class_error_unscaled: 25.0000 (22.7983)  loss_bbox_unscaled: 0.0410 (0.0433)  loss_giou_unscaled: 0.2476 (0.2371)  cardinality_error_unscaled: 3.5000 (5.2779)  time: 0.1804  data: 0.0100  max mem: 1037\n",
            "Test:  [ 340/2500]  eta: 0:06:29  class_error: 19.05  loss: 0.9318 (1.1913)  loss_ce: 0.3345 (0.5016)  loss_bbox: 0.1678 (0.2149)  loss_giou: 0.4952 (0.4749)  loss_ce_unscaled: 0.3345 (0.5016)  class_error_unscaled: 18.4211 (22.7160)  loss_bbox_unscaled: 0.0336 (0.0430)  loss_giou_unscaled: 0.2476 (0.2374)  cardinality_error_unscaled: 4.0000 (5.2713)  time: 0.1791  data: 0.0101  max mem: 1037\n",
            "Test:  [ 350/2500]  eta: 0:06:26  class_error: 33.33  loss: 0.8525 (1.1793)  loss_ce: 0.2469 (0.4956)  loss_bbox: 0.1600 (0.2140)  loss_giou: 0.3747 (0.4697)  loss_ce_unscaled: 0.2469 (0.4956)  class_error_unscaled: 14.2857 (22.6341)  loss_bbox_unscaled: 0.0320 (0.0428)  loss_giou_unscaled: 0.1873 (0.2349)  cardinality_error_unscaled: 1.0000 (5.2066)  time: 0.1761  data: 0.0101  max mem: 1037\n",
            "Test:  [ 360/2500]  eta: 0:06:25  class_error: 10.00  loss: 0.9201 (1.1779)  loss_ce: 0.2893 (0.4937)  loss_bbox: 0.1925 (0.2140)  loss_giou: 0.3747 (0.4702)  loss_ce_unscaled: 0.2893 (0.4937)  class_error_unscaled: 14.2857 (22.3934)  loss_bbox_unscaled: 0.0385 (0.0428)  loss_giou_unscaled: 0.1873 (0.2351)  cardinality_error_unscaled: 1.5000 (5.2258)  time: 0.1795  data: 0.0101  max mem: 1037\n",
            "Test:  [ 370/2500]  eta: 0:06:23  class_error: 25.00  loss: 0.9860 (1.1721)  loss_ce: 0.2969 (0.4910)  loss_bbox: 0.1488 (0.2131)  loss_giou: 0.4463 (0.4679)  loss_ce_unscaled: 0.2969 (0.4910)  class_error_unscaled: 10.5263 (22.2627)  loss_bbox_unscaled: 0.0298 (0.0426)  loss_giou_unscaled: 0.2231 (0.2340)  cardinality_error_unscaled: 3.5000 (5.1765)  time: 0.1838  data: 0.0102  max mem: 1037\n",
            "Test:  [ 380/2500]  eta: 0:06:22  class_error: 0.00  loss: 0.9556 (1.1611)  loss_ce: 0.2969 (0.4857)  loss_bbox: 0.1458 (0.2114)  loss_giou: 0.3488 (0.4641)  loss_ce_unscaled: 0.2969 (0.4857)  class_error_unscaled: 10.5263 (22.0869)  loss_bbox_unscaled: 0.0292 (0.0423)  loss_giou_unscaled: 0.1744 (0.2320)  cardinality_error_unscaled: 2.0000 (5.1457)  time: 0.1849  data: 0.0108  max mem: 1037\n",
            "Test:  [ 390/2500]  eta: 0:06:20  class_error: 10.53  loss: 0.6832 (1.1580)  loss_ce: 0.3079 (0.4829)  loss_bbox: 0.1392 (0.2116)  loss_giou: 0.2532 (0.4635)  loss_ce_unscaled: 0.3079 (0.4829)  class_error_unscaled: 10.5263 (21.9658)  loss_bbox_unscaled: 0.0278 (0.0423)  loss_giou_unscaled: 0.1266 (0.2317)  cardinality_error_unscaled: 1.0000 (5.1407)  time: 0.1874  data: 0.0114  max mem: 1037\n",
            "Test:  [ 400/2500]  eta: 0:06:18  class_error: 34.29  loss: 1.0608 (1.1605)  loss_ce: 0.4661 (0.4847)  loss_bbox: 0.1584 (0.2119)  loss_giou: 0.3522 (0.4638)  loss_ce_unscaled: 0.4661 (0.4847)  class_error_unscaled: 25.0000 (22.0855)  loss_bbox_unscaled: 0.0317 (0.0424)  loss_giou_unscaled: 0.1761 (0.2319)  cardinality_error_unscaled: 2.5000 (5.1147)  time: 0.1774  data: 0.0106  max mem: 1037\n",
            "Test:  [ 410/2500]  eta: 0:06:17  class_error: 14.29  loss: 1.0560 (1.1543)  loss_ce: 0.3723 (0.4803)  loss_bbox: 0.1754 (0.2108)  loss_giou: 0.3858 (0.4632)  loss_ce_unscaled: 0.3723 (0.4803)  class_error_unscaled: 21.0526 (21.9349)  loss_bbox_unscaled: 0.0351 (0.0422)  loss_giou_unscaled: 0.1929 (0.2316)  cardinality_error_unscaled: 2.5000 (5.0535)  time: 0.1820  data: 0.0100  max mem: 1037\n",
            "Test:  [ 420/2500]  eta: 0:06:15  class_error: 16.67  loss: 0.8910 (1.1498)  loss_ce: 0.3190 (0.4783)  loss_bbox: 0.1594 (0.2100)  loss_giou: 0.3858 (0.4615)  loss_ce_unscaled: 0.3190 (0.4783)  class_error_unscaled: 14.2857 (21.8410)  loss_bbox_unscaled: 0.0319 (0.0420)  loss_giou_unscaled: 0.1929 (0.2308)  cardinality_error_unscaled: 1.5000 (5.0416)  time: 0.1840  data: 0.0100  max mem: 1037\n",
            "Test:  [ 430/2500]  eta: 0:06:13  class_error: 30.77  loss: 1.0892 (1.1510)  loss_ce: 0.4422 (0.4792)  loss_bbox: 0.1827 (0.2108)  loss_giou: 0.3999 (0.4610)  loss_ce_unscaled: 0.4422 (0.4792)  class_error_unscaled: 18.7500 (21.9004)  loss_bbox_unscaled: 0.0365 (0.0422)  loss_giou_unscaled: 0.2000 (0.2305)  cardinality_error_unscaled: 2.0000 (5.0615)  time: 0.1768  data: 0.0105  max mem: 1037\n",
            "Test:  [ 440/2500]  eta: 0:06:12  class_error: 20.00  loss: 0.9020 (1.1431)  loss_ce: 0.4101 (0.4744)  loss_bbox: 0.1704 (0.2097)  loss_giou: 0.3637 (0.4590)  loss_ce_unscaled: 0.4101 (0.4744)  class_error_unscaled: 18.7500 (21.7086)  loss_bbox_unscaled: 0.0341 (0.0419)  loss_giou_unscaled: 0.1818 (0.2295)  cardinality_error_unscaled: 2.0000 (5.0340)  time: 0.1822  data: 0.0114  max mem: 1037\n",
            "Test:  [ 450/2500]  eta: 0:06:09  class_error: 33.33  loss: 0.9686 (1.1456)  loss_ce: 0.3514 (0.4738)  loss_bbox: 0.1493 (0.2113)  loss_giou: 0.4479 (0.4605)  loss_ce_unscaled: 0.3514 (0.4738)  class_error_unscaled: 18.1818 (21.7280)  loss_bbox_unscaled: 0.0299 (0.0423)  loss_giou_unscaled: 0.2240 (0.2302)  cardinality_error_unscaled: 2.5000 (5.0931)  time: 0.1789  data: 0.0109  max mem: 1037\n",
            "Test:  [ 460/2500]  eta: 0:06:07  class_error: 25.00  loss: 1.1540 (1.1485)  loss_ce: 0.4229 (0.4732)  loss_bbox: 0.2278 (0.2135)  loss_giou: 0.5163 (0.4617)  loss_ce_unscaled: 0.4229 (0.4732)  class_error_unscaled: 25.0000 (21.9073)  loss_bbox_unscaled: 0.0456 (0.0427)  loss_giou_unscaled: 0.2582 (0.2309)  cardinality_error_unscaled: 3.0000 (5.0477)  time: 0.1698  data: 0.0110  max mem: 1037\n",
            "Test:  [ 470/2500]  eta: 0:06:05  class_error: 41.67  loss: 1.0521 (1.1475)  loss_ce: 0.4389 (0.4734)  loss_bbox: 0.2032 (0.2130)  loss_giou: 0.4583 (0.4612)  loss_ce_unscaled: 0.4389 (0.4734)  class_error_unscaled: 23.0769 (21.9788)  loss_bbox_unscaled: 0.0406 (0.0426)  loss_giou_unscaled: 0.2291 (0.2306)  cardinality_error_unscaled: 1.0000 (5.0106)  time: 0.1715  data: 0.0110  max mem: 1037\n",
            "Test:  [ 480/2500]  eta: 0:06:03  class_error: 9.09  loss: 0.9793 (1.1430)  loss_ce: 0.3814 (0.4714)  loss_bbox: 0.1677 (0.2123)  loss_giou: 0.4238 (0.4593)  loss_ce_unscaled: 0.3814 (0.4714)  class_error_unscaled: 17.6471 (21.8959)  loss_bbox_unscaled: 0.0335 (0.0425)  loss_giou_unscaled: 0.2119 (0.2296)  cardinality_error_unscaled: 1.5000 (4.9636)  time: 0.1710  data: 0.0102  max mem: 1037\n",
            "Test:  [ 490/2500]  eta: 0:06:01  class_error: 40.00  loss: 1.0589 (1.1482)  loss_ce: 0.4321 (0.4757)  loss_bbox: 0.1801 (0.2133)  loss_giou: 0.3966 (0.4592)  loss_ce_unscaled: 0.4321 (0.4757)  class_error_unscaled: 20.8333 (22.0837)  loss_bbox_unscaled: 0.0360 (0.0427)  loss_giou_unscaled: 0.1983 (0.2296)  cardinality_error_unscaled: 3.0000 (4.9888)  time: 0.1760  data: 0.0111  max mem: 1037\n",
            "Test:  [ 500/2500]  eta: 0:05:59  class_error: 18.18  loss: 1.1190 (1.1544)  loss_ce: 0.4452 (0.4790)  loss_bbox: 0.2297 (0.2150)  loss_giou: 0.3966 (0.4603)  loss_ce_unscaled: 0.4452 (0.4790)  class_error_unscaled: 25.0000 (22.2675)  loss_bbox_unscaled: 0.0459 (0.0430)  loss_giou_unscaled: 0.1983 (0.2302)  cardinality_error_unscaled: 3.0000 (4.9731)  time: 0.1826  data: 0.0123  max mem: 1068\n",
            "Test:  [ 510/2500]  eta: 0:05:58  class_error: 35.29  loss: 1.1564 (1.1600)  loss_ce: 0.4600 (0.4813)  loss_bbox: 0.2085 (0.2159)  loss_giou: 0.5077 (0.4629)  loss_ce_unscaled: 0.4600 (0.4813)  class_error_unscaled: 20.0000 (22.2177)  loss_bbox_unscaled: 0.0417 (0.0432)  loss_giou_unscaled: 0.2538 (0.2314)  cardinality_error_unscaled: 2.5000 (5.0078)  time: 0.1817  data: 0.0125  max mem: 1068\n",
            "Test:  [ 520/2500]  eta: 0:05:56  class_error: 0.00  loss: 1.1799 (1.1610)  loss_ce: 0.4409 (0.4811)  loss_bbox: 0.1947 (0.2164)  loss_giou: 0.5077 (0.4635)  loss_ce_unscaled: 0.4409 (0.4811)  class_error_unscaled: 14.2857 (22.1317)  loss_bbox_unscaled: 0.0389 (0.0433)  loss_giou_unscaled: 0.2538 (0.2317)  cardinality_error_unscaled: 3.0000 (5.0259)  time: 0.1830  data: 0.0115  max mem: 1068\n",
            "Test:  [ 530/2500]  eta: 0:05:55  class_error: 16.67  loss: 1.2850 (1.1616)  loss_ce: 0.4409 (0.4823)  loss_bbox: 0.1923 (0.2154)  loss_giou: 0.4894 (0.4639)  loss_ce_unscaled: 0.4409 (0.4823)  class_error_unscaled: 14.2857 (22.0723)  loss_bbox_unscaled: 0.0385 (0.0431)  loss_giou_unscaled: 0.2447 (0.2319)  cardinality_error_unscaled: 3.0000 (5.0772)  time: 0.1895  data: 0.0112  max mem: 1068\n",
            "Test:  [ 540/2500]  eta: 0:05:53  class_error: 12.50  loss: 1.1340 (1.1632)  loss_ce: 0.4364 (0.4836)  loss_bbox: 0.1430 (0.2157)  loss_giou: 0.4647 (0.4638)  loss_ce_unscaled: 0.4364 (0.4836)  class_error_unscaled: 14.2857 (22.1355)  loss_bbox_unscaled: 0.0286 (0.0431)  loss_giou_unscaled: 0.2324 (0.2319)  cardinality_error_unscaled: 4.0000 (5.1063)  time: 0.1884  data: 0.0120  max mem: 1068\n",
            "Test:  [ 550/2500]  eta: 0:05:51  class_error: 7.14  loss: 0.8217 (1.1566)  loss_ce: 0.3628 (0.4806)  loss_bbox: 0.1385 (0.2143)  loss_giou: 0.4016 (0.4617)  loss_ce_unscaled: 0.3628 (0.4806)  class_error_unscaled: 12.5000 (22.0058)  loss_bbox_unscaled: 0.0277 (0.0429)  loss_giou_unscaled: 0.2008 (0.2308)  cardinality_error_unscaled: 3.0000 (5.1016)  time: 0.1804  data: 0.0120  max mem: 1068\n",
            "Test:  [ 560/2500]  eta: 0:05:49  class_error: 7.69  loss: 0.6886 (1.1496)  loss_ce: 0.1810 (0.4768)  loss_bbox: 0.1363 (0.2139)  loss_giou: 0.2930 (0.4589)  loss_ce_unscaled: 0.1810 (0.4768)  class_error_unscaled: 11.1111 (21.8805)  loss_bbox_unscaled: 0.0273 (0.0428)  loss_giou_unscaled: 0.1465 (0.2294)  cardinality_error_unscaled: 2.0000 (5.0651)  time: 0.1795  data: 0.0112  max mem: 1068\n",
            "Test:  [ 570/2500]  eta: 0:05:48  class_error: 33.33  loss: 0.7103 (1.1455)  loss_ce: 0.2160 (0.4747)  loss_bbox: 0.1699 (0.2133)  loss_giou: 0.2855 (0.4574)  loss_ce_unscaled: 0.2160 (0.4747)  class_error_unscaled: 15.1515 (21.7694)  loss_bbox_unscaled: 0.0340 (0.0427)  loss_giou_unscaled: 0.1428 (0.2287)  cardinality_error_unscaled: 1.5000 (5.0552)  time: 0.1845  data: 0.0110  max mem: 1068\n",
            "Test:  [ 580/2500]  eta: 0:05:46  class_error: 42.86  loss: 0.9702 (1.1468)  loss_ce: 0.4199 (0.4742)  loss_bbox: 0.1448 (0.2130)  loss_giou: 0.4627 (0.4597)  loss_ce_unscaled: 0.4199 (0.4742)  class_error_unscaled: 15.1515 (21.7512)  loss_bbox_unscaled: 0.0290 (0.0426)  loss_giou_unscaled: 0.2314 (0.2298)  cardinality_error_unscaled: 2.5000 (5.0766)  time: 0.1883  data: 0.0115  max mem: 1068\n",
            "Test:  [ 590/2500]  eta: 0:05:44  class_error: 21.43  loss: 1.3369 (1.1518)  loss_ce: 0.4299 (0.4773)  loss_bbox: 0.1636 (0.2139)  loss_giou: 0.5913 (0.4606)  loss_ce_unscaled: 0.4299 (0.4773)  class_error_unscaled: 25.0000 (21.8976)  loss_bbox_unscaled: 0.0327 (0.0428)  loss_giou_unscaled: 0.2957 (0.2303)  cardinality_error_unscaled: 4.5000 (5.0948)  time: 0.1843  data: 0.0110  max mem: 1068\n",
            "Test:  [ 600/2500]  eta: 0:05:43  class_error: 15.15  loss: 1.2416 (1.1534)  loss_ce: 0.4374 (0.4785)  loss_bbox: 0.1850 (0.2138)  loss_giou: 0.4678 (0.4610)  loss_ce_unscaled: 0.4374 (0.4785)  class_error_unscaled: 25.0000 (21.9423)  loss_bbox_unscaled: 0.0370 (0.0428)  loss_giou_unscaled: 0.2339 (0.2305)  cardinality_error_unscaled: 4.5000 (5.1065)  time: 0.1851  data: 0.0107  max mem: 1068\n",
            "Test:  [ 610/2500]  eta: 0:05:41  class_error: 45.45  loss: 1.2863 (1.1592)  loss_ce: 0.5803 (0.4821)  loss_bbox: 0.2004 (0.2147)  loss_giou: 0.5385 (0.4624)  loss_ce_unscaled: 0.5803 (0.4821)  class_error_unscaled: 21.2121 (22.0418)  loss_bbox_unscaled: 0.0401 (0.0429)  loss_giou_unscaled: 0.2693 (0.2312)  cardinality_error_unscaled: 5.5000 (5.1939)  time: 0.1893  data: 0.0106  max mem: 1068\n",
            "Test:  [ 620/2500]  eta: 0:05:40  class_error: 20.59  loss: 1.3413 (1.1624)  loss_ce: 0.5531 (0.4838)  loss_bbox: 0.2301 (0.2147)  loss_giou: 0.6086 (0.4639)  loss_ce_unscaled: 0.5531 (0.4838)  class_error_unscaled: 21.2121 (22.1238)  loss_bbox_unscaled: 0.0460 (0.0429)  loss_giou_unscaled: 0.3043 (0.2320)  cardinality_error_unscaled: 5.5000 (5.2005)  time: 0.1881  data: 0.0104  max mem: 1068\n",
            "Test:  [ 630/2500]  eta: 0:05:38  class_error: 0.00  loss: 1.1948 (1.1607)  loss_ce: 0.3859 (0.4825)  loss_bbox: 0.1757 (0.2142)  loss_giou: 0.5075 (0.4640)  loss_ce_unscaled: 0.3859 (0.4825)  class_error_unscaled: 20.0000 (22.0101)  loss_bbox_unscaled: 0.0351 (0.0428)  loss_giou_unscaled: 0.2537 (0.2320)  cardinality_error_unscaled: 2.5000 (5.2282)  time: 0.1944  data: 0.0124  max mem: 1068\n",
            "Test:  [ 640/2500]  eta: 0:05:36  class_error: 22.22  loss: 1.0487 (1.1597)  loss_ce: 0.3756 (0.4827)  loss_bbox: 0.1685 (0.2138)  loss_giou: 0.4191 (0.4632)  loss_ce_unscaled: 0.3756 (0.4827)  class_error_unscaled: 21.0526 (22.0467)  loss_bbox_unscaled: 0.0337 (0.0428)  loss_giou_unscaled: 0.2096 (0.2316)  cardinality_error_unscaled: 3.0000 (5.2161)  time: 0.1861  data: 0.0125  max mem: 1068\n",
            "Test:  [ 650/2500]  eta: 0:05:35  class_error: 34.38  loss: 1.2138 (1.1592)  loss_ce: 0.5307 (0.4831)  loss_bbox: 0.1839 (0.2136)  loss_giou: 0.4396 (0.4624)  loss_ce_unscaled: 0.5307 (0.4831)  class_error_unscaled: 24.0000 (22.0454)  loss_bbox_unscaled: 0.0368 (0.0427)  loss_giou_unscaled: 0.2198 (0.2312)  cardinality_error_unscaled: 3.0000 (5.1912)  time: 0.1777  data: 0.0114  max mem: 1068\n",
            "Test:  [ 660/2500]  eta: 0:05:33  class_error: 0.00  loss: 0.8529 (1.1566)  loss_ce: 0.4106 (0.4817)  loss_bbox: 0.1674 (0.2132)  loss_giou: 0.3792 (0.4618)  loss_ce_unscaled: 0.4106 (0.4817)  class_error_unscaled: 16.6667 (22.0930)  loss_bbox_unscaled: 0.0335 (0.0426)  loss_giou_unscaled: 0.1896 (0.2309)  cardinality_error_unscaled: 2.5000 (5.1566)  time: 0.1815  data: 0.0123  max mem: 1068\n",
            "Test:  [ 670/2500]  eta: 0:05:31  class_error: 16.13  loss: 0.7703 (1.1595)  loss_ce: 0.3216 (0.4823)  loss_bbox: 0.1952 (0.2136)  loss_giou: 0.4107 (0.4635)  loss_ce_unscaled: 0.3216 (0.4823)  class_error_unscaled: 16.6667 (22.0741)  loss_bbox_unscaled: 0.0390 (0.0427)  loss_giou_unscaled: 0.2053 (0.2317)  cardinality_error_unscaled: 2.5000 (5.1818)  time: 0.1835  data: 0.0116  max mem: 1068\n",
            "Test:  [ 680/2500]  eta: 0:05:29  class_error: 58.82  loss: 1.1035 (1.1599)  loss_ce: 0.3952 (0.4832)  loss_bbox: 0.2313 (0.2132)  loss_giou: 0.4107 (0.4635)  loss_ce_unscaled: 0.3952 (0.4832)  class_error_unscaled: 20.0000 (22.1097)  loss_bbox_unscaled: 0.0463 (0.0426)  loss_giou_unscaled: 0.2053 (0.2317)  cardinality_error_unscaled: 4.0000 (5.1689)  time: 0.1817  data: 0.0111  max mem: 1068\n",
            "Test:  [ 690/2500]  eta: 0:05:27  class_error: 0.00  loss: 0.9556 (1.1583)  loss_ce: 0.3797 (0.4825)  loss_bbox: 0.1530 (0.2123)  loss_giou: 0.3470 (0.4635)  loss_ce_unscaled: 0.3797 (0.4825)  class_error_unscaled: 23.0769 (22.0762)  loss_bbox_unscaled: 0.0306 (0.0425)  loss_giou_unscaled: 0.1735 (0.2318)  cardinality_error_unscaled: 2.0000 (5.1592)  time: 0.1774  data: 0.0109  max mem: 1068\n",
            "Test:  [ 700/2500]  eta: 0:05:26  class_error: 26.09  loss: 0.9471 (1.1551)  loss_ce: 0.3024 (0.4801)  loss_bbox: 0.1466 (0.2121)  loss_giou: 0.3846 (0.4629)  loss_ce_unscaled: 0.3024 (0.4801)  class_error_unscaled: 20.0000 (21.9942)  loss_bbox_unscaled: 0.0293 (0.0424)  loss_giou_unscaled: 0.1923 (0.2315)  cardinality_error_unscaled: 1.5000 (5.1591)  time: 0.1889  data: 0.0113  max mem: 1068\n",
            "Test:  [ 710/2500]  eta: 0:05:24  class_error: 10.34  loss: 0.9912 (1.1537)  loss_ce: 0.2565 (0.4783)  loss_bbox: 0.1470 (0.2127)  loss_giou: 0.3846 (0.4627)  loss_ce_unscaled: 0.2565 (0.4783)  class_error_unscaled: 12.5000 (21.9281)  loss_bbox_unscaled: 0.0294 (0.0425)  loss_giou_unscaled: 0.1923 (0.2313)  cardinality_error_unscaled: 2.0000 (5.1603)  time: 0.1881  data: 0.0118  max mem: 1068\n",
            "Test:  [ 720/2500]  eta: 0:05:22  class_error: 88.89  loss: 1.0206 (1.1544)  loss_ce: 0.3548 (0.4786)  loss_bbox: 0.1664 (0.2122)  loss_giou: 0.4502 (0.4636)  loss_ce_unscaled: 0.3548 (0.4786)  class_error_unscaled: 10.5263 (21.8539)  loss_bbox_unscaled: 0.0333 (0.0424)  loss_giou_unscaled: 0.2251 (0.2318)  cardinality_error_unscaled: 4.5000 (5.2393)  time: 0.1786  data: 0.0112  max mem: 1068\n",
            "Test:  [ 730/2500]  eta: 0:05:20  class_error: 21.05  loss: 0.9809 (1.1512)  loss_ce: 0.3344 (0.4770)  loss_bbox: 0.1537 (0.2119)  loss_giou: 0.3967 (0.4622)  loss_ce_unscaled: 0.3344 (0.4770)  class_error_unscaled: 9.5238 (21.7722)  loss_bbox_unscaled: 0.0307 (0.0424)  loss_giou_unscaled: 0.1983 (0.2311)  cardinality_error_unscaled: 4.0000 (5.2025)  time: 0.1744  data: 0.0108  max mem: 1068\n",
            "Test:  [ 740/2500]  eta: 0:05:18  class_error: 57.14  loss: 0.8954 (1.1502)  loss_ce: 0.2765 (0.4759)  loss_bbox: 0.1460 (0.2119)  loss_giou: 0.3247 (0.4623)  loss_ce_unscaled: 0.2765 (0.4759)  class_error_unscaled: 7.6923 (21.7632)  loss_bbox_unscaled: 0.0292 (0.0424)  loss_giou_unscaled: 0.1623 (0.2312)  cardinality_error_unscaled: 1.5000 (5.2031)  time: 0.1730  data: 0.0106  max mem: 1068\n",
            "Test:  [ 750/2500]  eta: 0:05:16  class_error: 75.00  loss: 1.1726 (1.1555)  loss_ce: 0.3365 (0.4796)  loss_bbox: 0.1892 (0.2129)  loss_giou: 0.4867 (0.4630)  loss_ce_unscaled: 0.3365 (0.4796)  class_error_unscaled: 13.3333 (21.8488)  loss_bbox_unscaled: 0.0378 (0.0426)  loss_giou_unscaled: 0.2433 (0.2315)  cardinality_error_unscaled: 3.0000 (5.1731)  time: 0.1787  data: 0.0108  max mem: 1068\n",
            "Test:  [ 760/2500]  eta: 0:05:15  class_error: 25.00  loss: 0.9998 (1.1537)  loss_ce: 0.3376 (0.4790)  loss_bbox: 0.1758 (0.2120)  loss_giou: 0.4836 (0.4627)  loss_ce_unscaled: 0.3376 (0.4790)  class_error_unscaled: 18.7500 (21.8361)  loss_bbox_unscaled: 0.0352 (0.0424)  loss_giou_unscaled: 0.2418 (0.2314)  cardinality_error_unscaled: 3.0000 (5.1794)  time: 0.1813  data: 0.0107  max mem: 1068\n",
            "Test:  [ 770/2500]  eta: 0:05:13  class_error: 12.90  loss: 1.0845 (1.1540)  loss_ce: 0.4099 (0.4781)  loss_bbox: 0.1478 (0.2124)  loss_giou: 0.5023 (0.4635)  loss_ce_unscaled: 0.4099 (0.4781)  class_error_unscaled: 18.1818 (21.7700)  loss_bbox_unscaled: 0.0296 (0.0425)  loss_giou_unscaled: 0.2512 (0.2317)  cardinality_error_unscaled: 5.0000 (5.1751)  time: 0.1819  data: 0.0108  max mem: 1068\n",
            "Test:  [ 780/2500]  eta: 0:05:11  class_error: 15.38  loss: 1.3135 (1.1570)  loss_ce: 0.4099 (0.4792)  loss_bbox: 0.2103 (0.2130)  loss_giou: 0.6030 (0.4647)  loss_ce_unscaled: 0.4099 (0.4792)  class_error_unscaled: 18.1818 (21.7952)  loss_bbox_unscaled: 0.0421 (0.0426)  loss_giou_unscaled: 0.3015 (0.2324)  cardinality_error_unscaled: 2.0000 (5.1652)  time: 0.1906  data: 0.0110  max mem: 1068\n",
            "Test:  [ 790/2500]  eta: 0:05:10  class_error: 57.14  loss: 1.0502 (1.1548)  loss_ce: 0.3806 (0.4787)  loss_bbox: 0.1776 (0.2129)  loss_giou: 0.4637 (0.4633)  loss_ce_unscaled: 0.3806 (0.4787)  class_error_unscaled: 16.6667 (21.8206)  loss_bbox_unscaled: 0.0355 (0.0426)  loss_giou_unscaled: 0.2318 (0.2316)  cardinality_error_unscaled: 2.0000 (5.1681)  time: 0.1902  data: 0.0118  max mem: 1068\n",
            "Test:  [ 800/2500]  eta: 0:05:08  class_error: 40.00  loss: 1.0963 (1.1563)  loss_ce: 0.4808 (0.4793)  loss_bbox: 0.1776 (0.2129)  loss_giou: 0.4107 (0.4640)  loss_ce_unscaled: 0.4808 (0.4793)  class_error_unscaled: 18.1818 (21.8197)  loss_bbox_unscaled: 0.0355 (0.0426)  loss_giou_unscaled: 0.2053 (0.2320)  cardinality_error_unscaled: 2.0000 (5.2029)  time: 0.1958  data: 0.0122  max mem: 1068\n",
            "Test:  [ 810/2500]  eta: 0:05:06  class_error: 0.00  loss: 1.3379 (1.1585)  loss_ce: 0.5574 (0.4801)  loss_bbox: 0.2180 (0.2136)  loss_giou: 0.5281 (0.4649)  loss_ce_unscaled: 0.5574 (0.4801)  class_error_unscaled: 23.8095 (21.8372)  loss_bbox_unscaled: 0.0436 (0.0427)  loss_giou_unscaled: 0.2640 (0.2324)  cardinality_error_unscaled: 5.5000 (5.1948)  time: 0.1950  data: 0.0111  max mem: 1068\n",
            "Test:  [ 820/2500]  eta: 0:05:05  class_error: 0.00  loss: 1.2792 (1.1575)  loss_ce: 0.4609 (0.4796)  loss_bbox: 0.2164 (0.2136)  loss_giou: 0.4706 (0.4643)  loss_ce_unscaled: 0.4609 (0.4796)  class_error_unscaled: 23.8095 (21.8566)  loss_bbox_unscaled: 0.0433 (0.0427)  loss_giou_unscaled: 0.2353 (0.2322)  cardinality_error_unscaled: 2.5000 (5.1937)  time: 0.1845  data: 0.0107  max mem: 1068\n",
            "Test:  [ 830/2500]  eta: 0:05:03  class_error: 8.11  loss: 1.1703 (1.1580)  loss_ce: 0.4304 (0.4802)  loss_bbox: 0.1957 (0.2134)  loss_giou: 0.4654 (0.4644)  loss_ce_unscaled: 0.4304 (0.4802)  class_error_unscaled: 25.0000 (21.8865)  loss_bbox_unscaled: 0.0391 (0.0427)  loss_giou_unscaled: 0.2327 (0.2322)  cardinality_error_unscaled: 2.5000 (5.2100)  time: 0.1859  data: 0.0110  max mem: 1068\n",
            "Test:  [ 840/2500]  eta: 0:05:01  class_error: 41.67  loss: 1.1059 (1.1564)  loss_ce: 0.4304 (0.4794)  loss_bbox: 0.1698 (0.2129)  loss_giou: 0.4781 (0.4641)  loss_ce_unscaled: 0.4304 (0.4794)  class_error_unscaled: 13.5135 (21.8239)  loss_bbox_unscaled: 0.0340 (0.0426)  loss_giou_unscaled: 0.2390 (0.2320)  cardinality_error_unscaled: 3.0000 (5.2194)  time: 0.1799  data: 0.0110  max mem: 1068\n",
            "Test:  [ 850/2500]  eta: 0:05:00  class_error: 6.67  loss: 0.9910 (1.1550)  loss_ce: 0.3867 (0.4785)  loss_bbox: 0.1441 (0.2127)  loss_giou: 0.4859 (0.4638)  loss_ce_unscaled: 0.3867 (0.4785)  class_error_unscaled: 7.4074 (21.7505)  loss_bbox_unscaled: 0.0288 (0.0425)  loss_giou_unscaled: 0.2429 (0.2319)  cardinality_error_unscaled: 2.0000 (5.2192)  time: 0.1929  data: 0.0109  max mem: 1068\n",
            "Test:  [ 860/2500]  eta: 0:04:58  class_error: 0.00  loss: 1.0397 (1.1547)  loss_ce: 0.5226 (0.4790)  loss_bbox: 0.1903 (0.2124)  loss_giou: 0.3992 (0.4633)  loss_ce_unscaled: 0.5226 (0.4790)  class_error_unscaled: 11.1111 (21.7029)  loss_bbox_unscaled: 0.0381 (0.0425)  loss_giou_unscaled: 0.1996 (0.2316)  cardinality_error_unscaled: 3.0000 (5.2195)  time: 0.1911  data: 0.0105  max mem: 1068\n",
            "Test:  [ 870/2500]  eta: 0:04:56  class_error: 12.50  loss: 0.8450 (1.1516)  loss_ce: 0.2817 (0.4772)  loss_bbox: 0.1646 (0.2121)  loss_giou: 0.3768 (0.4623)  loss_ce_unscaled: 0.2817 (0.4772)  class_error_unscaled: 12.5000 (21.6546)  loss_bbox_unscaled: 0.0329 (0.0424)  loss_giou_unscaled: 0.1884 (0.2312)  cardinality_error_unscaled: 3.0000 (5.1986)  time: 0.1818  data: 0.0111  max mem: 1068\n",
            "Test:  [ 880/2500]  eta: 0:04:54  class_error: 15.38  loss: 0.8450 (1.1548)  loss_ce: 0.2375 (0.4789)  loss_bbox: 0.1737 (0.2123)  loss_giou: 0.3768 (0.4635)  loss_ce_unscaled: 0.2375 (0.4789)  class_error_unscaled: 15.3846 (21.6680)  loss_bbox_unscaled: 0.0347 (0.0425)  loss_giou_unscaled: 0.1884 (0.2318)  cardinality_error_unscaled: 3.0000 (5.1793)  time: 0.1815  data: 0.0118  max mem: 1068\n",
            "Test:  [ 890/2500]  eta: 0:04:52  class_error: 28.57  loss: 0.8161 (1.1530)  loss_ce: 0.2013 (0.4771)  loss_bbox: 0.2148 (0.2125)  loss_giou: 0.3679 (0.4634)  loss_ce_unscaled: 0.2013 (0.4771)  class_error_unscaled: 15.3846 (21.6065)  loss_bbox_unscaled: 0.0430 (0.0425)  loss_giou_unscaled: 0.1840 (0.2317)  cardinality_error_unscaled: 3.0000 (5.1740)  time: 0.1751  data: 0.0113  max mem: 1068\n",
            "Test:  [ 900/2500]  eta: 0:04:51  class_error: 31.25  loss: 0.6503 (1.1498)  loss_ce: 0.2013 (0.4760)  loss_bbox: 0.1302 (0.2120)  loss_giou: 0.3070 (0.4619)  loss_ce_unscaled: 0.2013 (0.4760)  class_error_unscaled: 16.6667 (21.5845)  loss_bbox_unscaled: 0.0260 (0.0424)  loss_giou_unscaled: 0.1535 (0.2310)  cardinality_error_unscaled: 1.5000 (5.1548)  time: 0.1812  data: 0.0109  max mem: 1068\n",
            "Test:  [ 910/2500]  eta: 0:04:49  class_error: 23.08  loss: 0.8778 (1.1521)  loss_ce: 0.3139 (0.4752)  loss_bbox: 0.2152 (0.2131)  loss_giou: 0.3457 (0.4638)  loss_ce_unscaled: 0.3139 (0.4752)  class_error_unscaled: 18.1818 (21.5234)  loss_bbox_unscaled: 0.0430 (0.0426)  loss_giou_unscaled: 0.1729 (0.2319)  cardinality_error_unscaled: 1.5000 (5.1833)  time: 0.1851  data: 0.0108  max mem: 1068\n",
            "Test:  [ 920/2500]  eta: 0:04:47  class_error: 27.27  loss: 1.2959 (1.1515)  loss_ce: 0.3324 (0.4753)  loss_bbox: 0.2242 (0.2130)  loss_giou: 0.4789 (0.4633)  loss_ce_unscaled: 0.3324 (0.4753)  class_error_unscaled: 18.1818 (21.4957)  loss_bbox_unscaled: 0.0448 (0.0426)  loss_giou_unscaled: 0.2395 (0.2317)  cardinality_error_unscaled: 3.0000 (5.1792)  time: 0.1815  data: 0.0108  max mem: 1068\n",
            "Test:  [ 930/2500]  eta: 0:04:45  class_error: 0.00  loss: 1.0567 (1.1552)  loss_ce: 0.3324 (0.4776)  loss_bbox: 0.1990 (0.2133)  loss_giou: 0.4727 (0.4644)  loss_ce_unscaled: 0.3324 (0.4776)  class_error_unscaled: 17.2414 (21.5138)  loss_bbox_unscaled: 0.0398 (0.0427)  loss_giou_unscaled: 0.2364 (0.2322)  cardinality_error_unscaled: 4.0000 (5.1912)  time: 0.1831  data: 0.0115  max mem: 1068\n",
            "Test:  [ 940/2500]  eta: 0:04:43  class_error: 12.50  loss: 1.0913 (1.1566)  loss_ce: 0.3392 (0.4788)  loss_bbox: 0.1960 (0.2134)  loss_giou: 0.4625 (0.4644)  loss_ce_unscaled: 0.3392 (0.4788)  class_error_unscaled: 16.6667 (21.5677)  loss_bbox_unscaled: 0.0392 (0.0427)  loss_giou_unscaled: 0.2313 (0.2322)  cardinality_error_unscaled: 4.5000 (5.1823)  time: 0.1871  data: 0.0114  max mem: 1068\n",
            "Test:  [ 950/2500]  eta: 0:04:42  class_error: 41.18  loss: 1.0128 (1.1548)  loss_ce: 0.3080 (0.4778)  loss_bbox: 0.1820 (0.2131)  loss_giou: 0.3747 (0.4640)  loss_ce_unscaled: 0.3080 (0.4778)  class_error_unscaled: 25.0000 (21.6265)  loss_bbox_unscaled: 0.0364 (0.0426)  loss_giou_unscaled: 0.1873 (0.2320)  cardinality_error_unscaled: 3.0000 (5.1698)  time: 0.1865  data: 0.0112  max mem: 1068\n",
            "Test:  [ 960/2500]  eta: 0:04:40  class_error: 25.00  loss: 0.8654 (1.1564)  loss_ce: 0.2580 (0.4786)  loss_bbox: 0.1598 (0.2134)  loss_giou: 0.2983 (0.4643)  loss_ce_unscaled: 0.2580 (0.4786)  class_error_unscaled: 25.0000 (21.6484)  loss_bbox_unscaled: 0.0320 (0.0427)  loss_giou_unscaled: 0.1492 (0.2322)  cardinality_error_unscaled: 1.5000 (5.1446)  time: 0.1833  data: 0.0109  max mem: 1068\n",
            "Test:  [ 970/2500]  eta: 0:04:38  class_error: 83.33  loss: 1.0114 (1.1557)  loss_ce: 0.4066 (0.4783)  loss_bbox: 0.1728 (0.2136)  loss_giou: 0.3281 (0.4637)  loss_ce_unscaled: 0.4066 (0.4783)  class_error_unscaled: 25.0000 (21.7052)  loss_bbox_unscaled: 0.0346 (0.0427)  loss_giou_unscaled: 0.1640 (0.2319)  cardinality_error_unscaled: 2.0000 (5.1246)  time: 0.1812  data: 0.0103  max mem: 1068\n",
            "Test:  [ 980/2500]  eta: 0:04:36  class_error: 0.00  loss: 0.9862 (1.1558)  loss_ce: 0.3251 (0.4773)  loss_bbox: 0.1458 (0.2141)  loss_giou: 0.3281 (0.4644)  loss_ce_unscaled: 0.3251 (0.4773)  class_error_unscaled: 18.1818 (21.6686)  loss_bbox_unscaled: 0.0292 (0.0428)  loss_giou_unscaled: 0.1640 (0.2322)  cardinality_error_unscaled: 2.0000 (5.1254)  time: 0.1812  data: 0.0109  max mem: 1068\n",
            "Test:  [ 990/2500]  eta: 0:04:34  class_error: 0.00  loss: 0.9334 (1.1565)  loss_ce: 0.3947 (0.4780)  loss_bbox: 0.1386 (0.2139)  loss_giou: 0.3801 (0.4646)  loss_ce_unscaled: 0.3947 (0.4780)  class_error_unscaled: 18.1818 (21.6861)  loss_bbox_unscaled: 0.0277 (0.0428)  loss_giou_unscaled: 0.1900 (0.2323)  cardinality_error_unscaled: 2.5000 (5.1337)  time: 0.1778  data: 0.0119  max mem: 1068\n",
            "Test:  [1000/2500]  eta: 0:04:32  class_error: 10.34  loss: 1.2496 (1.1576)  loss_ce: 0.4277 (0.4787)  loss_bbox: 0.1871 (0.2138)  loss_giou: 0.4532 (0.4652)  loss_ce_unscaled: 0.4277 (0.4787)  class_error_unscaled: 20.6897 (21.6946)  loss_bbox_unscaled: 0.0374 (0.0428)  loss_giou_unscaled: 0.2266 (0.2326)  cardinality_error_unscaled: 4.0000 (5.1459)  time: 0.1807  data: 0.0118  max mem: 1068\n",
            "Test:  [1010/2500]  eta: 0:04:31  class_error: 23.08  loss: 1.1515 (1.1625)  loss_ce: 0.4283 (0.4814)  loss_bbox: 0.1722 (0.2148)  loss_giou: 0.4532 (0.4663)  loss_ce_unscaled: 0.4283 (0.4814)  class_error_unscaled: 20.0000 (21.7486)  loss_bbox_unscaled: 0.0344 (0.0430)  loss_giou_unscaled: 0.2266 (0.2332)  cardinality_error_unscaled: 3.0000 (5.1449)  time: 0.1878  data: 0.0119  max mem: 1068\n",
            "Test:  [1020/2500]  eta: 0:04:29  class_error: 28.00  loss: 1.0181 (1.1630)  loss_ce: 0.4283 (0.4818)  loss_bbox: 0.1722 (0.2150)  loss_giou: 0.3730 (0.4661)  loss_ce_unscaled: 0.4283 (0.4818)  class_error_unscaled: 23.0769 (21.7664)  loss_bbox_unscaled: 0.0344 (0.0430)  loss_giou_unscaled: 0.1865 (0.2331)  cardinality_error_unscaled: 3.5000 (5.1322)  time: 0.1804  data: 0.0114  max mem: 1068\n",
            "Test:  [1030/2500]  eta: 0:04:27  class_error: 0.00  loss: 0.5441 (1.1601)  loss_ce: 0.1316 (0.4806)  loss_bbox: 0.1529 (0.2145)  loss_giou: 0.2861 (0.4650)  loss_ce_unscaled: 0.1316 (0.4806)  class_error_unscaled: 10.0000 (21.7380)  loss_bbox_unscaled: 0.0306 (0.0429)  loss_giou_unscaled: 0.1431 (0.2325)  cardinality_error_unscaled: 2.0000 (5.1208)  time: 0.1756  data: 0.0108  max mem: 1068\n",
            "Test:  [1040/2500]  eta: 0:04:25  class_error: 20.00  loss: 0.6796 (1.1567)  loss_ce: 0.1520 (0.4786)  loss_bbox: 0.1295 (0.2146)  loss_giou: 0.2838 (0.4635)  loss_ce_unscaled: 0.1520 (0.4786)  class_error_unscaled: 10.0000 (21.6959)  loss_bbox_unscaled: 0.0259 (0.0429)  loss_giou_unscaled: 0.1419 (0.2318)  cardinality_error_unscaled: 1.5000 (5.0970)  time: 0.1780  data: 0.0107  max mem: 1068\n",
            "Test:  [1050/2500]  eta: 0:04:23  class_error: 36.36  loss: 0.9158 (1.1588)  loss_ce: 0.4339 (0.4794)  loss_bbox: 0.2000 (0.2152)  loss_giou: 0.4183 (0.4643)  loss_ce_unscaled: 0.4339 (0.4794)  class_error_unscaled: 20.0000 (21.6853)  loss_bbox_unscaled: 0.0400 (0.0430)  loss_giou_unscaled: 0.2092 (0.2321)  cardinality_error_unscaled: 2.5000 (5.1251)  time: 0.1793  data: 0.0110  max mem: 1068\n",
            "Test:  [1060/2500]  eta: 0:04:21  class_error: 0.00  loss: 1.4126 (1.1573)  loss_ce: 0.5263 (0.4781)  loss_bbox: 0.2150 (0.2151)  loss_giou: 0.5058 (0.4641)  loss_ce_unscaled: 0.5263 (0.4781)  class_error_unscaled: 20.0000 (21.6607)  loss_bbox_unscaled: 0.0430 (0.0430)  loss_giou_unscaled: 0.2529 (0.2321)  cardinality_error_unscaled: 3.0000 (5.1315)  time: 0.1841  data: 0.0118  max mem: 1068\n",
            "Test:  [1070/2500]  eta: 0:04:20  class_error: 0.00  loss: 0.8801 (1.1571)  loss_ce: 0.2079 (0.4774)  loss_bbox: 0.1829 (0.2155)  loss_giou: 0.4506 (0.4642)  loss_ce_unscaled: 0.2079 (0.4774)  class_error_unscaled: 16.6667 (21.5956)  loss_bbox_unscaled: 0.0366 (0.0431)  loss_giou_unscaled: 0.2253 (0.2321)  cardinality_error_unscaled: 1.5000 (5.1237)  time: 0.1822  data: 0.0117  max mem: 1068\n",
            "Test:  [1080/2500]  eta: 0:04:18  class_error: 25.00  loss: 0.7841 (1.1538)  loss_ce: 0.2019 (0.4757)  loss_bbox: 0.1611 (0.2150)  loss_giou: 0.3139 (0.4632)  loss_ce_unscaled: 0.2019 (0.4757)  class_error_unscaled: 11.1111 (21.5204)  loss_bbox_unscaled: 0.0322 (0.0430)  loss_giou_unscaled: 0.1570 (0.2316)  cardinality_error_unscaled: 2.0000 (5.1170)  time: 0.1777  data: 0.0116  max mem: 1068\n",
            "Test:  [1090/2500]  eta: 0:04:16  class_error: 42.86  loss: 0.9434 (1.1578)  loss_ce: 0.3709 (0.4783)  loss_bbox: 0.2014 (0.2156)  loss_giou: 0.3124 (0.4639)  loss_ce_unscaled: 0.3709 (0.4783)  class_error_unscaled: 18.1818 (21.5901)  loss_bbox_unscaled: 0.0403 (0.0431)  loss_giou_unscaled: 0.1562 (0.2320)  cardinality_error_unscaled: 3.0000 (5.1251)  time: 0.1813  data: 0.0117  max mem: 1068\n",
            "Test:  [1100/2500]  eta: 0:04:14  class_error: 18.18  loss: 1.0746 (1.1568)  loss_ce: 0.4126 (0.4782)  loss_bbox: 0.2341 (0.2155)  loss_giou: 0.3912 (0.4630)  loss_ce_unscaled: 0.4126 (0.4782)  class_error_unscaled: 22.2222 (21.6128)  loss_bbox_unscaled: 0.0468 (0.0431)  loss_giou_unscaled: 0.1956 (0.2315)  cardinality_error_unscaled: 3.0000 (5.1122)  time: 0.1814  data: 0.0108  max mem: 1068\n",
            "Test:  [1110/2500]  eta: 0:04:12  class_error: 19.05  loss: 1.0746 (1.1567)  loss_ce: 0.3937 (0.4781)  loss_bbox: 0.1839 (0.2152)  loss_giou: 0.4535 (0.4633)  loss_ce_unscaled: 0.3937 (0.4781)  class_error_unscaled: 18.1818 (21.5677)  loss_bbox_unscaled: 0.0368 (0.0430)  loss_giou_unscaled: 0.2267 (0.2317)  cardinality_error_unscaled: 4.0000 (5.1445)  time: 0.1799  data: 0.0103  max mem: 1068\n",
            "Test:  [1120/2500]  eta: 0:04:11  class_error: 6.25  loss: 0.8619 (1.1546)  loss_ce: 0.2752 (0.4767)  loss_bbox: 0.1839 (0.2151)  loss_giou: 0.4403 (0.4628)  loss_ce_unscaled: 0.2752 (0.4767)  class_error_unscaled: 11.7647 (21.4858)  loss_bbox_unscaled: 0.0368 (0.0430)  loss_giou_unscaled: 0.2201 (0.2314)  cardinality_error_unscaled: 5.0000 (5.1293)  time: 0.1872  data: 0.0117  max mem: 1068\n",
            "Test:  [1130/2500]  eta: 0:04:09  class_error: 15.38  loss: 0.9026 (1.1574)  loss_ce: 0.3439 (0.4783)  loss_bbox: 0.2053 (0.2154)  loss_giou: 0.4154 (0.4637)  loss_ce_unscaled: 0.3439 (0.4783)  class_error_unscaled: 17.6471 (21.5115)  loss_bbox_unscaled: 0.0411 (0.0431)  loss_giou_unscaled: 0.2077 (0.2319)  cardinality_error_unscaled: 4.0000 (5.1596)  time: 0.1934  data: 0.0126  max mem: 1068\n",
            "Test:  [1140/2500]  eta: 0:04:07  class_error: 50.00  loss: 1.2634 (1.1585)  loss_ce: 0.4480 (0.4792)  loss_bbox: 0.1996 (0.2156)  loss_giou: 0.4154 (0.4637)  loss_ce_unscaled: 0.4480 (0.4792)  class_error_unscaled: 25.0000 (21.5614)  loss_bbox_unscaled: 0.0399 (0.0431)  loss_giou_unscaled: 0.2077 (0.2318)  cardinality_error_unscaled: 3.0000 (5.1402)  time: 0.1874  data: 0.0115  max mem: 1068\n",
            "Test:  [1150/2500]  eta: 0:04:05  class_error: 21.43  loss: 1.1127 (1.1568)  loss_ce: 0.4108 (0.4784)  loss_bbox: 0.1745 (0.2155)  loss_giou: 0.3697 (0.4629)  loss_ce_unscaled: 0.4108 (0.4784)  class_error_unscaled: 21.4286 (21.6001)  loss_bbox_unscaled: 0.0349 (0.0431)  loss_giou_unscaled: 0.1848 (0.2314)  cardinality_error_unscaled: 1.0000 (5.1195)  time: 0.1755  data: 0.0109  max mem: 1068\n",
            "Test:  [1160/2500]  eta: 0:04:03  class_error: 33.33  loss: 1.1127 (1.1601)  loss_ce: 0.3867 (0.4792)  loss_bbox: 0.1906 (0.2163)  loss_giou: 0.4161 (0.4645)  loss_ce_unscaled: 0.3867 (0.4792)  class_error_unscaled: 21.4286 (21.6542)  loss_bbox_unscaled: 0.0381 (0.0433)  loss_giou_unscaled: 0.2081 (0.2323)  cardinality_error_unscaled: 2.0000 (5.1301)  time: 0.1750  data: 0.0109  max mem: 1068\n",
            "Test:  [1170/2500]  eta: 0:04:01  class_error: 25.00  loss: 0.8029 (1.1555)  loss_ce: 0.1766 (0.4764)  loss_bbox: 0.1897 (0.2157)  loss_giou: 0.3322 (0.4634)  loss_ce_unscaled: 0.1766 (0.4764)  class_error_unscaled: 12.5000 (21.5527)  loss_bbox_unscaled: 0.0379 (0.0431)  loss_giou_unscaled: 0.1661 (0.2317)  cardinality_error_unscaled: 1.0000 (5.0965)  time: 0.1730  data: 0.0109  max mem: 1068\n",
            "Test:  [1180/2500]  eta: 0:03:59  class_error: 12.50  loss: 0.8029 (1.1564)  loss_ce: 0.1766 (0.4758)  loss_bbox: 0.1690 (0.2161)  loss_giou: 0.2786 (0.4645)  loss_ce_unscaled: 0.1766 (0.4758)  class_error_unscaled: 12.5000 (21.5123)  loss_bbox_unscaled: 0.0338 (0.0432)  loss_giou_unscaled: 0.1393 (0.2323)  cardinality_error_unscaled: 1.5000 (5.0957)  time: 0.1725  data: 0.0108  max mem: 1068\n",
            "Test:  [1190/2500]  eta: 0:03:58  class_error: 40.00  loss: 1.0870 (1.1563)  loss_ce: 0.3177 (0.4756)  loss_bbox: 0.2109 (0.2162)  loss_giou: 0.4630 (0.4646)  loss_ce_unscaled: 0.3177 (0.4756)  class_error_unscaled: 14.2857 (21.4738)  loss_bbox_unscaled: 0.0422 (0.0432)  loss_giou_unscaled: 0.2315 (0.2323)  cardinality_error_unscaled: 2.5000 (5.0932)  time: 0.1839  data: 0.0107  max mem: 1068\n",
            "Test:  [1200/2500]  eta: 0:03:56  class_error: 21.74  loss: 1.1309 (1.1593)  loss_ce: 0.4270 (0.4776)  loss_bbox: 0.1906 (0.2164)  loss_giou: 0.4630 (0.4652)  loss_ce_unscaled: 0.4270 (0.4776)  class_error_unscaled: 19.0476 (21.5056)  loss_bbox_unscaled: 0.0381 (0.0433)  loss_giou_unscaled: 0.2315 (0.2326)  cardinality_error_unscaled: 3.0000 (5.0858)  time: 0.1807  data: 0.0105  max mem: 1068\n",
            "Test:  [1210/2500]  eta: 0:03:54  class_error: 10.34  loss: 1.2349 (1.1607)  loss_ce: 0.4444 (0.4781)  loss_bbox: 0.1944 (0.2168)  loss_giou: 0.5188 (0.4658)  loss_ce_unscaled: 0.4444 (0.4781)  class_error_unscaled: 22.2222 (21.5047)  loss_bbox_unscaled: 0.0389 (0.0434)  loss_giou_unscaled: 0.2594 (0.2329)  cardinality_error_unscaled: 6.0000 (5.1069)  time: 0.1793  data: 0.0107  max mem: 1068\n",
            "Test:  [1220/2500]  eta: 0:03:52  class_error: 14.29  loss: 1.1704 (1.1612)  loss_ce: 0.4155 (0.4781)  loss_bbox: 0.2169 (0.2168)  loss_giou: 0.4349 (0.4662)  loss_ce_unscaled: 0.4155 (0.4781)  class_error_unscaled: 18.7500 (21.4825)  loss_bbox_unscaled: 0.0434 (0.0434)  loss_giou_unscaled: 0.2174 (0.2331)  cardinality_error_unscaled: 5.0000 (5.0885)  time: 0.1912  data: 0.0119  max mem: 1068\n",
            "Test:  [1230/2500]  eta: 0:03:50  class_error: 36.59  loss: 1.0498 (1.1630)  loss_ce: 0.4182 (0.4795)  loss_bbox: 0.1851 (0.2171)  loss_giou: 0.4082 (0.4664)  loss_ce_unscaled: 0.4182 (0.4795)  class_error_unscaled: 18.7500 (21.5306)  loss_bbox_unscaled: 0.0370 (0.0434)  loss_giou_unscaled: 0.2041 (0.2332)  cardinality_error_unscaled: 2.0000 (5.0865)  time: 0.1852  data: 0.0118  max mem: 1068\n",
            "Test:  [1240/2500]  eta: 0:03:48  class_error: 12.50  loss: 1.0498 (1.1616)  loss_ce: 0.4033 (0.4791)  loss_bbox: 0.1965 (0.2169)  loss_giou: 0.3086 (0.4656)  loss_ce_unscaled: 0.4033 (0.4791)  class_error_unscaled: 20.0000 (21.5317)  loss_bbox_unscaled: 0.0393 (0.0434)  loss_giou_unscaled: 0.1543 (0.2328)  cardinality_error_unscaled: 2.0000 (5.0786)  time: 0.1692  data: 0.0107  max mem: 1068\n",
            "Test:  [1250/2500]  eta: 0:03:47  class_error: 25.00  loss: 0.9718 (1.1598)  loss_ce: 0.2584 (0.4772)  loss_bbox: 0.2137 (0.2172)  loss_giou: 0.3327 (0.4655)  loss_ce_unscaled: 0.2584 (0.4772)  class_error_unscaled: 18.7500 (21.4587)  loss_bbox_unscaled: 0.0427 (0.0434)  loss_giou_unscaled: 0.1663 (0.2327)  cardinality_error_unscaled: 2.0000 (5.0707)  time: 0.1759  data: 0.0106  max mem: 1068\n",
            "Test:  [1260/2500]  eta: 0:03:45  class_error: 10.00  loss: 1.2343 (1.1625)  loss_ce: 0.3881 (0.4780)  loss_bbox: 0.2203 (0.2175)  loss_giou: 0.6025 (0.4670)  loss_ce_unscaled: 0.3881 (0.4780)  class_error_unscaled: 18.7500 (21.5135)  loss_bbox_unscaled: 0.0441 (0.0435)  loss_giou_unscaled: 0.3013 (0.2335)  cardinality_error_unscaled: 4.0000 (5.1015)  time: 0.1930  data: 0.0117  max mem: 1068\n",
            "Test:  [1270/2500]  eta: 0:03:43  class_error: 17.39  loss: 1.0420 (1.1613)  loss_ce: 0.4627 (0.4775)  loss_bbox: 0.2143 (0.2173)  loss_giou: 0.4891 (0.4665)  loss_ce_unscaled: 0.4627 (0.4775)  class_error_unscaled: 20.6897 (21.4926)  loss_bbox_unscaled: 0.0429 (0.0435)  loss_giou_unscaled: 0.2446 (0.2333)  cardinality_error_unscaled: 3.5000 (5.0976)  time: 0.1932  data: 0.0128  max mem: 1068\n",
            "Test:  [1280/2500]  eta: 0:03:41  class_error: 15.38  loss: 1.0147 (1.1632)  loss_ce: 0.3978 (0.4785)  loss_bbox: 0.1905 (0.2174)  loss_giou: 0.4637 (0.4674)  loss_ce_unscaled: 0.3978 (0.4785)  class_error_unscaled: 17.3913 (21.4891)  loss_bbox_unscaled: 0.0381 (0.0435)  loss_giou_unscaled: 0.2318 (0.2337)  cardinality_error_unscaled: 3.0000 (5.1140)  time: 0.1881  data: 0.0124  max mem: 1068\n",
            "Test:  [1290/2500]  eta: 0:03:40  class_error: 61.54  loss: 1.2907 (1.1664)  loss_ce: 0.4560 (0.4797)  loss_bbox: 0.2291 (0.2180)  loss_giou: 0.6415 (0.4687)  loss_ce_unscaled: 0.4560 (0.4797)  class_error_unscaled: 20.0000 (21.5192)  loss_bbox_unscaled: 0.0458 (0.0436)  loss_giou_unscaled: 0.3207 (0.2343)  cardinality_error_unscaled: 4.5000 (5.1294)  time: 0.1802  data: 0.0111  max mem: 1068\n",
            "Test:  [1300/2500]  eta: 0:03:38  class_error: 20.00  loss: 1.2461 (1.1682)  loss_ce: 0.3568 (0.4802)  loss_bbox: 0.2557 (0.2186)  loss_giou: 0.6108 (0.4694)  loss_ce_unscaled: 0.3568 (0.4802)  class_error_unscaled: 26.6667 (21.5700)  loss_bbox_unscaled: 0.0511 (0.0437)  loss_giou_unscaled: 0.3054 (0.2347)  cardinality_error_unscaled: 3.5000 (5.1172)  time: 0.1723  data: 0.0100  max mem: 1068\n",
            "Test:  [1310/2500]  eta: 0:03:36  class_error: 46.15  loss: 1.2221 (1.1709)  loss_ce: 0.4426 (0.4818)  loss_bbox: 0.2374 (0.2192)  loss_giou: 0.4523 (0.4700)  loss_ce_unscaled: 0.4426 (0.4818)  class_error_unscaled: 20.0000 (21.5796)  loss_bbox_unscaled: 0.0475 (0.0438)  loss_giou_unscaled: 0.2261 (0.2350)  cardinality_error_unscaled: 4.5000 (5.1281)  time: 0.1788  data: 0.0099  max mem: 1068\n",
            "Test:  [1320/2500]  eta: 0:03:34  class_error: 40.00  loss: 1.1538 (1.1720)  loss_ce: 0.5798 (0.4821)  loss_bbox: 0.1752 (0.2190)  loss_giou: 0.4523 (0.4709)  loss_ce_unscaled: 0.5798 (0.4821)  class_error_unscaled: 20.0000 (21.6419)  loss_bbox_unscaled: 0.0350 (0.0438)  loss_giou_unscaled: 0.2261 (0.2355)  cardinality_error_unscaled: 3.0000 (5.1518)  time: 0.1842  data: 0.0099  max mem: 1068\n",
            "Test:  [1330/2500]  eta: 0:03:32  class_error: 0.00  loss: 1.1371 (1.1718)  loss_ce: 0.5585 (0.4822)  loss_bbox: 0.1689 (0.2189)  loss_giou: 0.4045 (0.4707)  loss_ce_unscaled: 0.5585 (0.4822)  class_error_unscaled: 20.0000 (21.6268)  loss_bbox_unscaled: 0.0338 (0.0438)  loss_giou_unscaled: 0.2023 (0.2354)  cardinality_error_unscaled: 3.0000 (5.1461)  time: 0.1854  data: 0.0104  max mem: 1068\n",
            "Test:  [1340/2500]  eta: 0:03:31  class_error: 10.00  loss: 1.1371 (1.1723)  loss_ce: 0.3975 (0.4818)  loss_bbox: 0.1577 (0.2190)  loss_giou: 0.4802 (0.4715)  loss_ce_unscaled: 0.3975 (0.4818)  class_error_unscaled: 16.6667 (21.6492)  loss_bbox_unscaled: 0.0315 (0.0438)  loss_giou_unscaled: 0.2401 (0.2357)  cardinality_error_unscaled: 3.0000 (5.1469)  time: 0.1886  data: 0.0105  max mem: 1068\n",
            "Test:  [1350/2500]  eta: 0:03:29  class_error: 25.00  loss: 1.0433 (1.1701)  loss_ce: 0.3095 (0.4803)  loss_bbox: 0.1577 (0.2189)  loss_giou: 0.4237 (0.4708)  loss_ce_unscaled: 0.3095 (0.4803)  class_error_unscaled: 25.0000 (21.6650)  loss_bbox_unscaled: 0.0315 (0.0438)  loss_giou_unscaled: 0.2119 (0.2354)  cardinality_error_unscaled: 1.0000 (5.1195)  time: 0.1791  data: 0.0104  max mem: 1068\n",
            "Test:  [1360/2500]  eta: 0:03:27  class_error: 7.69  loss: 0.8790 (1.1689)  loss_ce: 0.3095 (0.4796)  loss_bbox: 0.1809 (0.2188)  loss_giou: 0.3974 (0.4705)  loss_ce_unscaled: 0.3095 (0.4796)  class_error_unscaled: 23.0769 (21.6574)  loss_bbox_unscaled: 0.0362 (0.0438)  loss_giou_unscaled: 0.1987 (0.2353)  cardinality_error_unscaled: 1.5000 (5.1234)  time: 0.1693  data: 0.0103  max mem: 1068\n",
            "Test:  [1370/2500]  eta: 0:03:25  class_error: 0.00  loss: 1.0148 (1.1691)  loss_ce: 0.3147 (0.4789)  loss_bbox: 0.1686 (0.2188)  loss_giou: 0.4308 (0.4713)  loss_ce_unscaled: 0.3147 (0.4789)  class_error_unscaled: 16.6667 (21.6335)  loss_bbox_unscaled: 0.0337 (0.0438)  loss_giou_unscaled: 0.2154 (0.2357)  cardinality_error_unscaled: 2.5000 (5.1240)  time: 0.1767  data: 0.0098  max mem: 1068\n",
            "Test:  [1380/2500]  eta: 0:03:23  class_error: 26.09  loss: 1.1477 (1.1731)  loss_ce: 0.3308 (0.4813)  loss_bbox: 0.1808 (0.2195)  loss_giou: 0.5266 (0.4723)  loss_ce_unscaled: 0.3308 (0.4813)  class_error_unscaled: 22.2222 (21.6628)  loss_bbox_unscaled: 0.0362 (0.0439)  loss_giou_unscaled: 0.2633 (0.2361)  cardinality_error_unscaled: 2.5000 (5.1133)  time: 0.1773  data: 0.0100  max mem: 1068\n",
            "Test:  [1390/2500]  eta: 0:03:21  class_error: 52.00  loss: 0.9900 (1.1718)  loss_ce: 0.3989 (0.4808)  loss_bbox: 0.2064 (0.2195)  loss_giou: 0.3449 (0.4715)  loss_ce_unscaled: 0.3989 (0.4808)  class_error_unscaled: 22.2222 (21.6559)  loss_bbox_unscaled: 0.0413 (0.0439)  loss_giou_unscaled: 0.1725 (0.2357)  cardinality_error_unscaled: 3.5000 (5.1006)  time: 0.1724  data: 0.0105  max mem: 1068\n",
            "Test:  [1400/2500]  eta: 0:03:19  class_error: 75.00  loss: 0.9646 (1.1730)  loss_ce: 0.2886 (0.4815)  loss_bbox: 0.1677 (0.2198)  loss_giou: 0.3443 (0.4717)  loss_ce_unscaled: 0.2886 (0.4815)  class_error_unscaled: 16.6667 (21.6820)  loss_bbox_unscaled: 0.0335 (0.0440)  loss_giou_unscaled: 0.1721 (0.2358)  cardinality_error_unscaled: 3.0000 (5.0903)  time: 0.1790  data: 0.0111  max mem: 1068\n",
            "Test:  [1410/2500]  eta: 0:03:17  class_error: 27.27  loss: 1.0715 (1.1742)  loss_ce: 0.4101 (0.4812)  loss_bbox: 0.2219 (0.2203)  loss_giou: 0.4515 (0.4727)  loss_ce_unscaled: 0.4101 (0.4812)  class_error_unscaled: 17.8571 (21.6327)  loss_bbox_unscaled: 0.0444 (0.0441)  loss_giou_unscaled: 0.2258 (0.2364)  cardinality_error_unscaled: 3.0000 (5.1052)  time: 0.1803  data: 0.0107  max mem: 1068\n",
            "Test:  [1420/2500]  eta: 0:03:16  class_error: 20.00  loss: 1.1103 (1.1733)  loss_ce: 0.4088 (0.4805)  loss_bbox: 0.2103 (0.2200)  loss_giou: 0.5373 (0.4728)  loss_ce_unscaled: 0.4088 (0.4805)  class_error_unscaled: 17.8571 (21.6021)  loss_bbox_unscaled: 0.0421 (0.0440)  loss_giou_unscaled: 0.2686 (0.2364)  cardinality_error_unscaled: 4.5000 (5.1006)  time: 0.1802  data: 0.0101  max mem: 1068\n",
            "Test:  [1430/2500]  eta: 0:03:14  class_error: 29.41  loss: 1.0146 (1.1728)  loss_ce: 0.4020 (0.4804)  loss_bbox: 0.1737 (0.2198)  loss_giou: 0.3748 (0.4725)  loss_ce_unscaled: 0.4020 (0.4804)  class_error_unscaled: 20.0000 (21.6032)  loss_bbox_unscaled: 0.0347 (0.0440)  loss_giou_unscaled: 0.1874 (0.2362)  cardinality_error_unscaled: 3.5000 (5.1041)  time: 0.1769  data: 0.0100  max mem: 1068\n",
            "Test:  [1440/2500]  eta: 0:03:12  class_error: 26.67  loss: 1.1238 (1.1746)  loss_ce: 0.4705 (0.4821)  loss_bbox: 0.1737 (0.2198)  loss_giou: 0.4099 (0.4727)  loss_ce_unscaled: 0.4705 (0.4821)  class_error_unscaled: 26.6667 (21.6877)  loss_bbox_unscaled: 0.0347 (0.0440)  loss_giou_unscaled: 0.2050 (0.2363)  cardinality_error_unscaled: 3.0000 (5.0951)  time: 0.1782  data: 0.0106  max mem: 1068\n",
            "Test:  [1450/2500]  eta: 0:03:10  class_error: 25.00  loss: 1.1238 (1.1741)  loss_ce: 0.4705 (0.4819)  loss_bbox: 0.2007 (0.2197)  loss_giou: 0.5197 (0.4725)  loss_ce_unscaled: 0.4705 (0.4819)  class_error_unscaled: 20.0000 (21.6696)  loss_bbox_unscaled: 0.0401 (0.0439)  loss_giou_unscaled: 0.2599 (0.2363)  cardinality_error_unscaled: 2.0000 (5.0827)  time: 0.1788  data: 0.0107  max mem: 1068\n",
            "Test:  [1460/2500]  eta: 0:03:08  class_error: 21.88  loss: 0.9580 (1.1724)  loss_ce: 0.3304 (0.4806)  loss_bbox: 0.1417 (0.2193)  loss_giou: 0.5025 (0.4725)  loss_ce_unscaled: 0.3304 (0.4806)  class_error_unscaled: 16.6667 (21.6042)  loss_bbox_unscaled: 0.0283 (0.0439)  loss_giou_unscaled: 0.2513 (0.2362)  cardinality_error_unscaled: 2.0000 (5.0951)  time: 0.1803  data: 0.0108  max mem: 1068\n",
            "Test:  [1470/2500]  eta: 0:03:07  class_error: 15.38  loss: 0.8830 (1.1730)  loss_ce: 0.3503 (0.4809)  loss_bbox: 0.1787 (0.2194)  loss_giou: 0.4143 (0.4727)  loss_ce_unscaled: 0.3503 (0.4809)  class_error_unscaled: 16.6667 (21.6315)  loss_bbox_unscaled: 0.0357 (0.0439)  loss_giou_unscaled: 0.2072 (0.2364)  cardinality_error_unscaled: 3.0000 (5.1050)  time: 0.1848  data: 0.0112  max mem: 1068\n",
            "Test:  [1480/2500]  eta: 0:03:05  class_error: 20.00  loss: 0.9934 (1.1718)  loss_ce: 0.3552 (0.4798)  loss_bbox: 0.2001 (0.2192)  loss_giou: 0.4167 (0.4728)  loss_ce_unscaled: 0.3552 (0.4798)  class_error_unscaled: 16.6667 (21.5743)  loss_bbox_unscaled: 0.0400 (0.0438)  loss_giou_unscaled: 0.2084 (0.2364)  cardinality_error_unscaled: 3.0000 (5.1009)  time: 0.1772  data: 0.0108  max mem: 1068\n",
            "Test:  [1490/2500]  eta: 0:03:03  class_error: 36.36  loss: 0.7891 (1.1725)  loss_ce: 0.2578 (0.4802)  loss_bbox: 0.1793 (0.2190)  loss_giou: 0.4490 (0.4732)  loss_ce_unscaled: 0.2578 (0.4802)  class_error_unscaled: 12.5000 (21.5802)  loss_bbox_unscaled: 0.0359 (0.0438)  loss_giou_unscaled: 0.2245 (0.2366)  cardinality_error_unscaled: 2.0000 (5.0905)  time: 0.1751  data: 0.0110  max mem: 1068\n",
            "Test:  [1500/2500]  eta: 0:03:01  class_error: 6.67  loss: 1.0108 (1.1728)  loss_ce: 0.3217 (0.4803)  loss_bbox: 0.1940 (0.2195)  loss_giou: 0.4122 (0.4730)  loss_ce_unscaled: 0.3217 (0.4803)  class_error_unscaled: 16.6667 (21.5958)  loss_bbox_unscaled: 0.0388 (0.0439)  loss_giou_unscaled: 0.2061 (0.2365)  cardinality_error_unscaled: 1.5000 (5.0913)  time: 0.1778  data: 0.0113  max mem: 1068\n",
            "Test:  [1510/2500]  eta: 0:02:59  class_error: 12.50  loss: 0.9079 (1.1716)  loss_ce: 0.3217 (0.4799)  loss_bbox: 0.1937 (0.2193)  loss_giou: 0.3915 (0.4723)  loss_ce_unscaled: 0.3217 (0.4799)  class_error_unscaled: 18.1818 (21.6218)  loss_bbox_unscaled: 0.0387 (0.0439)  loss_giou_unscaled: 0.1957 (0.2362)  cardinality_error_unscaled: 1.5000 (5.0698)  time: 0.1775  data: 0.0106  max mem: 1068\n",
            "Test:  [1520/2500]  eta: 0:02:57  class_error: 36.84  loss: 0.9079 (1.1731)  loss_ce: 0.3556 (0.4810)  loss_bbox: 0.1652 (0.2196)  loss_giou: 0.3915 (0.4726)  loss_ce_unscaled: 0.3556 (0.4810)  class_error_unscaled: 19.4445 (21.6446)  loss_bbox_unscaled: 0.0330 (0.0439)  loss_giou_unscaled: 0.1957 (0.2363)  cardinality_error_unscaled: 2.0000 (5.0776)  time: 0.1737  data: 0.0101  max mem: 1068\n",
            "Test:  [1530/2500]  eta: 0:02:55  class_error: 60.00  loss: 0.9327 (1.1723)  loss_ce: 0.5308 (0.4805)  loss_bbox: 0.1544 (0.2197)  loss_giou: 0.2571 (0.4721)  loss_ce_unscaled: 0.5308 (0.4805)  class_error_unscaled: 20.0000 (21.6839)  loss_bbox_unscaled: 0.0309 (0.0439)  loss_giou_unscaled: 0.1285 (0.2360)  cardinality_error_unscaled: 2.0000 (5.0585)  time: 0.1773  data: 0.0105  max mem: 1068\n",
            "Test:  [1540/2500]  eta: 0:02:54  class_error: 0.00  loss: 0.9327 (1.1728)  loss_ce: 0.4321 (0.4803)  loss_bbox: 0.1847 (0.2202)  loss_giou: 0.4358 (0.4723)  loss_ce_unscaled: 0.4321 (0.4803)  class_error_unscaled: 20.0000 (21.6723)  loss_bbox_unscaled: 0.0369 (0.0440)  loss_giou_unscaled: 0.2179 (0.2362)  cardinality_error_unscaled: 2.0000 (5.0633)  time: 0.1791  data: 0.0111  max mem: 1068\n",
            "Test:  [1550/2500]  eta: 0:02:52  class_error: 42.86  loss: 0.8166 (1.1716)  loss_ce: 0.2339 (0.4798)  loss_bbox: 0.2036 (0.2199)  loss_giou: 0.4537 (0.4719)  loss_ce_unscaled: 0.2339 (0.4798)  class_error_unscaled: 18.1818 (21.6492)  loss_bbox_unscaled: 0.0407 (0.0440)  loss_giou_unscaled: 0.2269 (0.2360)  cardinality_error_unscaled: 2.5000 (5.0467)  time: 0.1767  data: 0.0110  max mem: 1068\n",
            "Test:  [1560/2500]  eta: 0:02:50  class_error: 11.90  loss: 0.7544 (1.1697)  loss_ce: 0.2339 (0.4786)  loss_bbox: 0.1534 (0.2196)  loss_giou: 0.2286 (0.4715)  loss_ce_unscaled: 0.2339 (0.4786)  class_error_unscaled: 14.2857 (21.6104)  loss_bbox_unscaled: 0.0307 (0.0439)  loss_giou_unscaled: 0.1143 (0.2357)  cardinality_error_unscaled: 2.5000 (5.0439)  time: 0.1820  data: 0.0105  max mem: 1068\n",
            "Test:  [1570/2500]  eta: 0:02:48  class_error: 30.43  loss: 1.0438 (1.1710)  loss_ce: 0.3241 (0.4790)  loss_bbox: 0.1445 (0.2199)  loss_giou: 0.5212 (0.4721)  loss_ce_unscaled: 0.3241 (0.4790)  class_error_unscaled: 14.2857 (21.5873)  loss_bbox_unscaled: 0.0289 (0.0440)  loss_giou_unscaled: 0.2606 (0.2361)  cardinality_error_unscaled: 4.0000 (5.0605)  time: 0.1862  data: 0.0109  max mem: 1068\n",
            "Test:  [1580/2500]  eta: 0:02:46  class_error: 9.52  loss: 1.2777 (1.1712)  loss_ce: 0.3857 (0.4793)  loss_bbox: 0.1445 (0.2202)  loss_giou: 0.4076 (0.4717)  loss_ce_unscaled: 0.3857 (0.4793)  class_error_unscaled: 14.2857 (21.5781)  loss_bbox_unscaled: 0.0289 (0.0440)  loss_giou_unscaled: 0.2038 (0.2359)  cardinality_error_unscaled: 1.0000 (5.0436)  time: 0.1761  data: 0.0113  max mem: 1068\n",
            "Test:  [1590/2500]  eta: 0:02:44  class_error: 0.00  loss: 0.7011 (1.1706)  loss_ce: 0.3120 (0.4787)  loss_bbox: 0.1840 (0.2202)  loss_giou: 0.3649 (0.4718)  loss_ce_unscaled: 0.3120 (0.4787)  class_error_unscaled: 20.0000 (21.5502)  loss_bbox_unscaled: 0.0368 (0.0440)  loss_giou_unscaled: 0.1824 (0.2359)  cardinality_error_unscaled: 1.0000 (5.0405)  time: 0.1732  data: 0.0111  max mem: 1068\n",
            "Test:  [1600/2500]  eta: 0:02:43  class_error: 16.67  loss: 0.9490 (1.1710)  loss_ce: 0.3337 (0.4787)  loss_bbox: 0.2061 (0.2204)  loss_giou: 0.3986 (0.4719)  loss_ce_unscaled: 0.3337 (0.4787)  class_error_unscaled: 16.6667 (21.5636)  loss_bbox_unscaled: 0.0412 (0.0441)  loss_giou_unscaled: 0.1993 (0.2359)  cardinality_error_unscaled: 2.0000 (5.0262)  time: 0.1849  data: 0.0121  max mem: 1068\n",
            "Test:  [1610/2500]  eta: 0:02:41  class_error: 15.79  loss: 1.2751 (1.1728)  loss_ce: 0.4785 (0.4794)  loss_bbox: 0.2477 (0.2207)  loss_giou: 0.5159 (0.4727)  loss_ce_unscaled: 0.4785 (0.4794)  class_error_unscaled: 20.0000 (21.6067)  loss_bbox_unscaled: 0.0495 (0.0441)  loss_giou_unscaled: 0.2580 (0.2363)  cardinality_error_unscaled: 2.0000 (5.0410)  time: 0.1900  data: 0.0123  max mem: 1068\n",
            "Test:  [1620/2500]  eta: 0:02:39  class_error: 6.25  loss: 1.3077 (1.1726)  loss_ce: 0.4113 (0.4793)  loss_bbox: 0.1958 (0.2205)  loss_giou: 0.5444 (0.4728)  loss_ce_unscaled: 0.4113 (0.4793)  class_error_unscaled: 20.0000 (21.6006)  loss_bbox_unscaled: 0.0392 (0.0441)  loss_giou_unscaled: 0.2722 (0.2364)  cardinality_error_unscaled: 2.0000 (5.0466)  time: 0.1949  data: 0.0125  max mem: 1068\n",
            "Test:  [1630/2500]  eta: 0:02:37  class_error: 44.44  loss: 1.2627 (1.1741)  loss_ce: 0.5347 (0.4804)  loss_bbox: 0.1846 (0.2207)  loss_giou: 0.4677 (0.4729)  loss_ce_unscaled: 0.5347 (0.4804)  class_error_unscaled: 28.2609 (21.6464)  loss_bbox_unscaled: 0.0369 (0.0441)  loss_giou_unscaled: 0.2338 (0.2365)  cardinality_error_unscaled: 3.5000 (5.0506)  time: 0.1996  data: 0.0129  max mem: 1068\n",
            "Test:  [1640/2500]  eta: 0:02:36  class_error: 31.82  loss: 1.3570 (1.1780)  loss_ce: 0.6150 (0.4831)  loss_bbox: 0.1898 (0.2211)  loss_giou: 0.4795 (0.4738)  loss_ce_unscaled: 0.6150 (0.4831)  class_error_unscaled: 29.1667 (21.6786)  loss_bbox_unscaled: 0.0380 (0.0442)  loss_giou_unscaled: 0.2397 (0.2369)  cardinality_error_unscaled: 4.5000 (5.0548)  time: 0.1902  data: 0.0122  max mem: 1068\n",
            "Test:  [1650/2500]  eta: 0:02:34  class_error: 18.18  loss: 1.2327 (1.1794)  loss_ce: 0.4882 (0.4833)  loss_bbox: 0.1835 (0.2212)  loss_giou: 0.5899 (0.4749)  loss_ce_unscaled: 0.4882 (0.4833)  class_error_unscaled: 20.0000 (21.7115)  loss_bbox_unscaled: 0.0367 (0.0442)  loss_giou_unscaled: 0.2949 (0.2374)  cardinality_error_unscaled: 5.0000 (5.0697)  time: 0.1884  data: 0.0109  max mem: 1068\n",
            "Test:  [1660/2500]  eta: 0:02:32  class_error: 25.00  loss: 1.1308 (1.1805)  loss_ce: 0.4599 (0.4844)  loss_bbox: 0.1942 (0.2212)  loss_giou: 0.5058 (0.4749)  loss_ce_unscaled: 0.4599 (0.4844)  class_error_unscaled: 20.0000 (21.7592)  loss_bbox_unscaled: 0.0388 (0.0442)  loss_giou_unscaled: 0.2529 (0.2375)  cardinality_error_unscaled: 4.5000 (5.0641)  time: 0.1864  data: 0.0101  max mem: 1068\n",
            "Test:  [1670/2500]  eta: 0:02:30  class_error: 20.83  loss: 1.0819 (1.1796)  loss_ce: 0.3612 (0.4838)  loss_bbox: 0.2105 (0.2210)  loss_giou: 0.4445 (0.4747)  loss_ce_unscaled: 0.3612 (0.4838)  class_error_unscaled: 20.0000 (21.7556)  loss_bbox_unscaled: 0.0421 (0.0442)  loss_giou_unscaled: 0.2222 (0.2374)  cardinality_error_unscaled: 2.5000 (5.0539)  time: 0.1669  data: 0.0098  max mem: 1068\n",
            "Test:  [1680/2500]  eta: 0:02:28  class_error: 22.86  loss: 1.0578 (1.1818)  loss_ce: 0.2981 (0.4849)  loss_bbox: 0.2180 (0.2214)  loss_giou: 0.4447 (0.4755)  loss_ce_unscaled: 0.2981 (0.4849)  class_error_unscaled: 20.0000 (21.7783)  loss_bbox_unscaled: 0.0436 (0.0443)  loss_giou_unscaled: 0.2223 (0.2378)  cardinality_error_unscaled: 3.0000 (5.0824)  time: 0.1643  data: 0.0104  max mem: 1068\n",
            "Test:  [1690/2500]  eta: 0:02:27  class_error: 0.00  loss: 1.2098 (1.1806)  loss_ce: 0.4129 (0.4843)  loss_bbox: 0.1902 (0.2212)  loss_giou: 0.5258 (0.4751)  loss_ce_unscaled: 0.4129 (0.4843)  class_error_unscaled: 14.2857 (21.7453)  loss_bbox_unscaled: 0.0380 (0.0442)  loss_giou_unscaled: 0.2629 (0.2376)  cardinality_error_unscaled: 4.0000 (5.0760)  time: 0.1796  data: 0.0121  max mem: 1068\n",
            "Test:  [1700/2500]  eta: 0:02:25  class_error: 17.65  loss: 0.8772 (1.1787)  loss_ce: 0.2349 (0.4831)  loss_bbox: 0.1561 (0.2210)  loss_giou: 0.3000 (0.4746)  loss_ce_unscaled: 0.2349 (0.4831)  class_error_unscaled: 11.1111 (21.7199)  loss_bbox_unscaled: 0.0312 (0.0442)  loss_giou_unscaled: 0.1500 (0.2373)  cardinality_error_unscaled: 2.5000 (5.0623)  time: 0.1793  data: 0.0126  max mem: 1068\n",
            "Test:  [1710/2500]  eta: 0:02:23  class_error: 30.77  loss: 1.0073 (1.1789)  loss_ce: 0.3947 (0.4831)  loss_bbox: 0.1506 (0.2207)  loss_giou: 0.4005 (0.4751)  loss_ce_unscaled: 0.3947 (0.4831)  class_error_unscaled: 14.2857 (21.7198)  loss_bbox_unscaled: 0.0301 (0.0441)  loss_giou_unscaled: 0.2002 (0.2375)  cardinality_error_unscaled: 2.5000 (5.0681)  time: 0.1810  data: 0.0125  max mem: 1068\n",
            "Test:  [1720/2500]  eta: 0:02:21  class_error: 23.53  loss: 1.3690 (1.1837)  loss_ce: 0.5593 (0.4857)  loss_bbox: 0.2131 (0.2215)  loss_giou: 0.5703 (0.4765)  loss_ce_unscaled: 0.5593 (0.4857)  class_error_unscaled: 27.7778 (21.7933)  loss_bbox_unscaled: 0.0426 (0.0443)  loss_giou_unscaled: 0.2852 (0.2382)  cardinality_error_unscaled: 3.0000 (5.0793)  time: 0.1800  data: 0.0121  max mem: 1068\n",
            "Test:  [1730/2500]  eta: 0:02:19  class_error: 0.00  loss: 1.2005 (1.1812)  loss_ce: 0.5201 (0.4844)  loss_bbox: 0.2225 (0.2213)  loss_giou: 0.4286 (0.4755)  loss_ce_unscaled: 0.5201 (0.4844)  class_error_unscaled: 23.5294 (21.7503)  loss_bbox_unscaled: 0.0445 (0.0443)  loss_giou_unscaled: 0.2143 (0.2378)  cardinality_error_unscaled: 2.0000 (5.0791)  time: 0.1801  data: 0.0117  max mem: 1068\n",
            "Test:  [1740/2500]  eta: 0:02:17  class_error: 0.00  loss: 0.7513 (1.1811)  loss_ce: 0.2681 (0.4841)  loss_bbox: 0.1480 (0.2217)  loss_giou: 0.2431 (0.4752)  loss_ce_unscaled: 0.2681 (0.4841)  class_error_unscaled: 11.1111 (21.7318)  loss_bbox_unscaled: 0.0296 (0.0443)  loss_giou_unscaled: 0.1216 (0.2376)  cardinality_error_unscaled: 1.5000 (5.0787)  time: 0.1860  data: 0.0120  max mem: 1068\n",
            "Test:  [1750/2500]  eta: 0:02:16  class_error: 21.62  loss: 0.7513 (1.1811)  loss_ce: 0.2681 (0.4843)  loss_bbox: 0.1496 (0.2216)  loss_giou: 0.3677 (0.4751)  loss_ce_unscaled: 0.2681 (0.4843)  class_error_unscaled: 16.6667 (21.7314)  loss_bbox_unscaled: 0.0299 (0.0443)  loss_giou_unscaled: 0.1839 (0.2376)  cardinality_error_unscaled: 3.5000 (5.0820)  time: 0.1785  data: 0.0118  max mem: 1068\n",
            "Test:  [1760/2500]  eta: 0:02:14  class_error: 0.00  loss: 1.0021 (1.1818)  loss_ce: 0.6323 (0.4852)  loss_bbox: 0.2080 (0.2218)  loss_giou: 0.3738 (0.4747)  loss_ce_unscaled: 0.6323 (0.4852)  class_error_unscaled: 25.0000 (21.7799)  loss_bbox_unscaled: 0.0416 (0.0444)  loss_giou_unscaled: 0.1869 (0.2374)  cardinality_error_unscaled: 4.0000 (5.0806)  time: 0.1748  data: 0.0116  max mem: 1068\n",
            "Test:  [1770/2500]  eta: 0:02:12  class_error: 9.09  loss: 0.9281 (1.1804)  loss_ce: 0.3402 (0.4845)  loss_bbox: 0.1384 (0.2215)  loss_giou: 0.3595 (0.4744)  loss_ce_unscaled: 0.3402 (0.4845)  class_error_unscaled: 25.0000 (21.7601)  loss_bbox_unscaled: 0.0277 (0.0443)  loss_giou_unscaled: 0.1798 (0.2372)  cardinality_error_unscaled: 0.5000 (5.0678)  time: 0.1724  data: 0.0111  max mem: 1068\n",
            "Test:  [1780/2500]  eta: 0:02:10  class_error: 0.00  loss: 1.0652 (1.1804)  loss_ce: 0.3317 (0.4842)  loss_bbox: 0.1504 (0.2215)  loss_giou: 0.3760 (0.4747)  loss_ce_unscaled: 0.3317 (0.4842)  class_error_unscaled: 15.0000 (21.7371)  loss_bbox_unscaled: 0.0301 (0.0443)  loss_giou_unscaled: 0.1880 (0.2374)  cardinality_error_unscaled: 3.0000 (5.0783)  time: 0.1770  data: 0.0105  max mem: 1068\n",
            "Test:  [1790/2500]  eta: 0:02:08  class_error: 4.55  loss: 1.0652 (1.1796)  loss_ce: 0.3317 (0.4837)  loss_bbox: 0.1694 (0.2212)  loss_giou: 0.4734 (0.4748)  loss_ce_unscaled: 0.3317 (0.4837)  class_error_unscaled: 14.2857 (21.7147)  loss_bbox_unscaled: 0.0339 (0.0442)  loss_giou_unscaled: 0.2367 (0.2374)  cardinality_error_unscaled: 3.0000 (5.0745)  time: 0.1859  data: 0.0106  max mem: 1068\n",
            "Test:  [1800/2500]  eta: 0:02:06  class_error: 0.00  loss: 1.1221 (1.1814)  loss_ce: 0.3691 (0.4843)  loss_bbox: 0.2029 (0.2217)  loss_giou: 0.5015 (0.4754)  loss_ce_unscaled: 0.3691 (0.4843)  class_error_unscaled: 14.2857 (21.7498)  loss_bbox_unscaled: 0.0406 (0.0443)  loss_giou_unscaled: 0.2507 (0.2377)  cardinality_error_unscaled: 2.5000 (5.0938)  time: 0.1838  data: 0.0120  max mem: 1068\n",
            "Test:  [1810/2500]  eta: 0:02:05  class_error: 70.00  loss: 1.2218 (1.1826)  loss_ce: 0.4137 (0.4847)  loss_bbox: 0.2426 (0.2220)  loss_giou: 0.5172 (0.4758)  loss_ce_unscaled: 0.4137 (0.4847)  class_error_unscaled: 20.0000 (21.7829)  loss_bbox_unscaled: 0.0485 (0.0444)  loss_giou_unscaled: 0.2586 (0.2379)  cardinality_error_unscaled: 2.0000 (5.0828)  time: 0.1791  data: 0.0128  max mem: 1068\n",
            "Test:  [1820/2500]  eta: 0:02:03  class_error: 60.00  loss: 1.1489 (1.1842)  loss_ce: 0.4261 (0.4856)  loss_bbox: 0.2168 (0.2224)  loss_giou: 0.4279 (0.4761)  loss_ce_unscaled: 0.4261 (0.4856)  class_error_unscaled: 30.0000 (21.8388)  loss_bbox_unscaled: 0.0434 (0.0445)  loss_giou_unscaled: 0.2139 (0.2381)  cardinality_error_unscaled: 1.5000 (5.0678)  time: 0.1780  data: 0.0118  max mem: 1068\n",
            "Test:  [1830/2500]  eta: 0:02:01  class_error: 14.29  loss: 1.1489 (1.1835)  loss_ce: 0.3953 (0.4852)  loss_bbox: 0.2114 (0.2223)  loss_giou: 0.4279 (0.4760)  loss_ce_unscaled: 0.3953 (0.4852)  class_error_unscaled: 17.6471 (21.7849)  loss_bbox_unscaled: 0.0423 (0.0445)  loss_giou_unscaled: 0.2139 (0.2380)  cardinality_error_unscaled: 3.5000 (5.0751)  time: 0.1787  data: 0.0116  max mem: 1068\n",
            "Test:  [1840/2500]  eta: 0:01:59  class_error: 25.00  loss: 1.3586 (1.1843)  loss_ce: 0.3953 (0.4855)  loss_bbox: 0.2154 (0.2225)  loss_giou: 0.4846 (0.4763)  loss_ce_unscaled: 0.3953 (0.4855)  class_error_unscaled: 14.2857 (21.8020)  loss_bbox_unscaled: 0.0431 (0.0445)  loss_giou_unscaled: 0.2423 (0.2382)  cardinality_error_unscaled: 4.5000 (5.0630)  time: 0.1830  data: 0.0119  max mem: 1068\n",
            "Test:  [1850/2500]  eta: 0:01:57  class_error: 46.43  loss: 1.4474 (1.1859)  loss_ce: 0.5391 (0.4865)  loss_bbox: 0.2154 (0.2225)  loss_giou: 0.5012 (0.4769)  loss_ce_unscaled: 0.5391 (0.4865)  class_error_unscaled: 20.0000 (21.8249)  loss_bbox_unscaled: 0.0431 (0.0445)  loss_giou_unscaled: 0.2506 (0.2384)  cardinality_error_unscaled: 2.5000 (5.0629)  time: 0.1829  data: 0.0117  max mem: 1068\n",
            "Test:  [1860/2500]  eta: 0:01:55  class_error: 28.57  loss: 1.0409 (1.1844)  loss_ce: 0.3461 (0.4857)  loss_bbox: 0.1870 (0.2224)  loss_giou: 0.4207 (0.4763)  loss_ce_unscaled: 0.3461 (0.4857)  class_error_unscaled: 20.0000 (21.7983)  loss_bbox_unscaled: 0.0374 (0.0445)  loss_giou_unscaled: 0.2104 (0.2382)  cardinality_error_unscaled: 2.5000 (5.0476)  time: 0.1707  data: 0.0116  max mem: 1068\n",
            "Test:  [1870/2500]  eta: 0:01:54  class_error: 36.96  loss: 0.9192 (1.1848)  loss_ce: 0.3006 (0.4857)  loss_bbox: 0.1988 (0.2223)  loss_giou: 0.3790 (0.4767)  loss_ce_unscaled: 0.3006 (0.4857)  class_error_unscaled: 18.5185 (21.7992)  loss_bbox_unscaled: 0.0398 (0.0445)  loss_giou_unscaled: 0.1895 (0.2383)  cardinality_error_unscaled: 2.5000 (5.0599)  time: 0.1682  data: 0.0106  max mem: 1068\n",
            "Test:  [1880/2500]  eta: 0:01:52  class_error: 18.75  loss: 1.2226 (1.1868)  loss_ce: 0.4410 (0.4872)  loss_bbox: 0.2284 (0.2225)  loss_giou: 0.4674 (0.4771)  loss_ce_unscaled: 0.4410 (0.4872)  class_error_unscaled: 18.7500 (21.8186)  loss_bbox_unscaled: 0.0457 (0.0445)  loss_giou_unscaled: 0.2337 (0.2385)  cardinality_error_unscaled: 2.5000 (5.0566)  time: 0.1811  data: 0.0106  max mem: 1068\n",
            "Test:  [1890/2500]  eta: 0:01:50  class_error: 17.65  loss: 1.0735 (1.1851)  loss_ce: 0.3864 (0.4866)  loss_bbox: 0.1699 (0.2221)  loss_giou: 0.4547 (0.4764)  loss_ce_unscaled: 0.3864 (0.4866)  class_error_unscaled: 18.7500 (21.8080)  loss_bbox_unscaled: 0.0340 (0.0444)  loss_giou_unscaled: 0.2274 (0.2382)  cardinality_error_unscaled: 2.0000 (5.0598)  time: 0.1939  data: 0.0110  max mem: 1068\n",
            "Test:  [1900/2500]  eta: 0:01:48  class_error: 14.81  loss: 0.9982 (1.1863)  loss_ce: 0.3921 (0.4869)  loss_bbox: 0.1551 (0.2222)  loss_giou: 0.5005 (0.4772)  loss_ce_unscaled: 0.3921 (0.4869)  class_error_unscaled: 14.8148 (21.8073)  loss_bbox_unscaled: 0.0310 (0.0444)  loss_giou_unscaled: 0.2503 (0.2386)  cardinality_error_unscaled: 3.0000 (5.0668)  time: 0.1918  data: 0.0103  max mem: 1068\n",
            "Test:  [1910/2500]  eta: 0:01:46  class_error: 0.00  loss: 0.9982 (1.1857)  loss_ce: 0.3465 (0.4869)  loss_bbox: 0.1698 (0.2220)  loss_giou: 0.5386 (0.4768)  loss_ce_unscaled: 0.3465 (0.4869)  class_error_unscaled: 14.2857 (21.7720)  loss_bbox_unscaled: 0.0340 (0.0444)  loss_giou_unscaled: 0.2693 (0.2384)  cardinality_error_unscaled: 3.5000 (5.0636)  time: 0.1767  data: 0.0101  max mem: 1068\n",
            "Test:  [1920/2500]  eta: 0:01:45  class_error: 14.29  loss: 0.7929 (1.1840)  loss_ce: 0.1976 (0.4859)  loss_bbox: 0.1467 (0.2218)  loss_giou: 0.3695 (0.4763)  loss_ce_unscaled: 0.1976 (0.4859)  class_error_unscaled: 14.2857 (21.7575)  loss_bbox_unscaled: 0.0293 (0.0444)  loss_giou_unscaled: 0.1848 (0.2382)  cardinality_error_unscaled: 2.0000 (5.0445)  time: 0.1807  data: 0.0105  max mem: 1068\n",
            "Test:  [1930/2500]  eta: 0:01:43  class_error: 28.57  loss: 0.9816 (1.1859)  loss_ce: 0.3993 (0.4868)  loss_bbox: 0.2107 (0.2223)  loss_giou: 0.4564 (0.4768)  loss_ce_unscaled: 0.3993 (0.4868)  class_error_unscaled: 21.7391 (21.7988)  loss_bbox_unscaled: 0.0421 (0.0445)  loss_giou_unscaled: 0.2282 (0.2384)  cardinality_error_unscaled: 1.5000 (5.0388)  time: 0.1783  data: 0.0107  max mem: 1068\n",
            "Test:  [1940/2500]  eta: 0:01:41  class_error: 0.00  loss: 1.2417 (1.1851)  loss_ce: 0.3491 (0.4862)  loss_bbox: 0.2295 (0.2224)  loss_giou: 0.4822 (0.4765)  loss_ce_unscaled: 0.3491 (0.4862)  class_error_unscaled: 21.7391 (21.7977)  loss_bbox_unscaled: 0.0459 (0.0445)  loss_giou_unscaled: 0.2411 (0.2383)  cardinality_error_unscaled: 2.5000 (5.0319)  time: 0.1741  data: 0.0109  max mem: 1068\n",
            "Test:  [1950/2500]  eta: 0:01:39  class_error: 20.00  loss: 0.8539 (1.1847)  loss_ce: 0.3434 (0.4860)  loss_bbox: 0.2295 (0.2227)  loss_giou: 0.4302 (0.4761)  loss_ce_unscaled: 0.3434 (0.4860)  class_error_unscaled: 16.6667 (21.8165)  loss_bbox_unscaled: 0.0459 (0.0445)  loss_giou_unscaled: 0.2151 (0.2381)  cardinality_error_unscaled: 1.5000 (5.0213)  time: 0.1840  data: 0.0112  max mem: 1068\n",
            "Test:  [1960/2500]  eta: 0:01:37  class_error: 26.32  loss: 1.0387 (1.1859)  loss_ce: 0.4474 (0.4866)  loss_bbox: 0.2476 (0.2230)  loss_giou: 0.4302 (0.4763)  loss_ce_unscaled: 0.4474 (0.4866)  class_error_unscaled: 25.0000 (21.8638)  loss_bbox_unscaled: 0.0495 (0.0446)  loss_giou_unscaled: 0.2151 (0.2382)  cardinality_error_unscaled: 2.0000 (5.0224)  time: 0.1792  data: 0.0116  max mem: 1068\n",
            "Test:  [1970/2500]  eta: 0:01:36  class_error: 52.38  loss: 1.0603 (1.1865)  loss_ce: 0.5294 (0.4868)  loss_bbox: 0.2345 (0.2234)  loss_giou: 0.4684 (0.4763)  loss_ce_unscaled: 0.5294 (0.4868)  class_error_unscaled: 23.5294 (21.8805)  loss_bbox_unscaled: 0.0469 (0.0447)  loss_giou_unscaled: 0.2342 (0.2382)  cardinality_error_unscaled: 3.0000 (5.0213)  time: 0.1736  data: 0.0118  max mem: 1068\n",
            "Test:  [1980/2500]  eta: 0:01:34  class_error: 28.57  loss: 1.2359 (1.1873)  loss_ce: 0.6391 (0.4875)  loss_bbox: 0.2055 (0.2234)  loss_giou: 0.4581 (0.4764)  loss_ce_unscaled: 0.6391 (0.4875)  class_error_unscaled: 23.8095 (21.9250)  loss_bbox_unscaled: 0.0411 (0.0447)  loss_giou_unscaled: 0.2291 (0.2382)  cardinality_error_unscaled: 2.0000 (5.0164)  time: 0.1767  data: 0.0111  max mem: 1068\n",
            "Test:  [1990/2500]  eta: 0:01:32  class_error: 40.00  loss: 1.0317 (1.1879)  loss_ce: 0.4398 (0.4877)  loss_bbox: 0.1856 (0.2239)  loss_giou: 0.4258 (0.4763)  loss_ce_unscaled: 0.4398 (0.4877)  class_error_unscaled: 26.6667 (21.9425)  loss_bbox_unscaled: 0.0371 (0.0448)  loss_giou_unscaled: 0.2129 (0.2382)  cardinality_error_unscaled: 1.5000 (4.9995)  time: 0.1829  data: 0.0106  max mem: 1068\n",
            "Test:  [2000/2500]  eta: 0:01:30  class_error: 21.05  loss: 1.0662 (1.1874)  loss_ce: 0.3398 (0.4872)  loss_bbox: 0.2396 (0.2241)  loss_giou: 0.3428 (0.4761)  loss_ce_unscaled: 0.3398 (0.4872)  class_error_unscaled: 16.6667 (21.9075)  loss_bbox_unscaled: 0.0479 (0.0448)  loss_giou_unscaled: 0.1714 (0.2380)  cardinality_error_unscaled: 1.5000 (4.9938)  time: 0.1785  data: 0.0106  max mem: 1068\n",
            "Test:  [2010/2500]  eta: 0:01:28  class_error: 40.00  loss: 1.1536 (1.1876)  loss_ce: 0.4220 (0.4871)  loss_bbox: 0.1859 (0.2240)  loss_giou: 0.4461 (0.4765)  loss_ce_unscaled: 0.4220 (0.4871)  class_error_unscaled: 14.2857 (21.8905)  loss_bbox_unscaled: 0.0372 (0.0448)  loss_giou_unscaled: 0.2230 (0.2382)  cardinality_error_unscaled: 3.5000 (5.0191)  time: 0.1731  data: 0.0101  max mem: 1068\n",
            "Test:  [2020/2500]  eta: 0:01:26  class_error: 53.33  loss: 1.1509 (1.1876)  loss_ce: 0.4937 (0.4870)  loss_bbox: 0.1551 (0.2239)  loss_giou: 0.5277 (0.4767)  loss_ce_unscaled: 0.4937 (0.4870)  class_error_unscaled: 19.4445 (21.9115)  loss_bbox_unscaled: 0.0310 (0.0448)  loss_giou_unscaled: 0.2638 (0.2384)  cardinality_error_unscaled: 3.5000 (5.0148)  time: 0.1874  data: 0.0101  max mem: 1068\n",
            "Test:  [2030/2500]  eta: 0:01:25  class_error: 30.00  loss: 1.0565 (1.1875)  loss_ce: 0.4773 (0.4870)  loss_bbox: 0.1638 (0.2239)  loss_giou: 0.3833 (0.4767)  loss_ce_unscaled: 0.4773 (0.4870)  class_error_unscaled: 25.0000 (21.9016)  loss_bbox_unscaled: 0.0328 (0.0448)  loss_giou_unscaled: 0.1917 (0.2383)  cardinality_error_unscaled: 1.5000 (5.0123)  time: 0.1829  data: 0.0111  max mem: 1068\n",
            "Test:  [2040/2500]  eta: 0:01:23  class_error: 15.62  loss: 1.0826 (1.1885)  loss_ce: 0.5997 (0.4874)  loss_bbox: 0.1638 (0.2237)  loss_giou: 0.5256 (0.4774)  loss_ce_unscaled: 0.5997 (0.4874)  class_error_unscaled: 16.9231 (21.8921)  loss_bbox_unscaled: 0.0328 (0.0447)  loss_giou_unscaled: 0.2628 (0.2387)  cardinality_error_unscaled: 2.5000 (5.0287)  time: 0.1748  data: 0.0119  max mem: 1068\n",
            "Test:  [2050/2500]  eta: 0:01:21  class_error: 20.00  loss: 1.5483 (1.1904)  loss_ce: 0.6083 (0.4879)  loss_bbox: 0.1786 (0.2240)  loss_giou: 0.6487 (0.4784)  loss_ce_unscaled: 0.6083 (0.4879)  class_error_unscaled: 16.9231 (21.9096)  loss_bbox_unscaled: 0.0357 (0.0448)  loss_giou_unscaled: 0.3244 (0.2392)  cardinality_error_unscaled: 2.0000 (5.0310)  time: 0.1836  data: 0.0115  max mem: 1068\n",
            "Test:  [2060/2500]  eta: 0:01:19  class_error: 0.00  loss: 1.0756 (1.1888)  loss_ce: 0.5324 (0.4873)  loss_bbox: 0.1673 (0.2236)  loss_giou: 0.4262 (0.4780)  loss_ce_unscaled: 0.5324 (0.4873)  class_error_unscaled: 20.0000 (21.9098)  loss_bbox_unscaled: 0.0335 (0.0447)  loss_giou_unscaled: 0.2131 (0.2390)  cardinality_error_unscaled: 2.0000 (5.0260)  time: 0.1782  data: 0.0108  max mem: 1068\n",
            "Test:  [2070/2500]  eta: 0:01:17  class_error: 50.00  loss: 1.0756 (1.1889)  loss_ce: 0.4971 (0.4873)  loss_bbox: 0.1368 (0.2237)  loss_giou: 0.3562 (0.4778)  loss_ce_unscaled: 0.4971 (0.4873)  class_error_unscaled: 18.5185 (21.9476)  loss_bbox_unscaled: 0.0274 (0.0447)  loss_giou_unscaled: 0.1781 (0.2389)  cardinality_error_unscaled: 2.5000 (5.0237)  time: 0.1723  data: 0.0111  max mem: 1068\n",
            "Test:  [2080/2500]  eta: 0:01:16  class_error: 50.00  loss: 1.3116 (1.1896)  loss_ce: 0.4971 (0.4873)  loss_bbox: 0.1898 (0.2237)  loss_giou: 0.5354 (0.4786)  loss_ce_unscaled: 0.4971 (0.4873)  class_error_unscaled: 18.5185 (21.9522)  loss_bbox_unscaled: 0.0380 (0.0447)  loss_giou_unscaled: 0.2677 (0.2393)  cardinality_error_unscaled: 4.5000 (5.0464)  time: 0.1732  data: 0.0106  max mem: 1068\n",
            "Test:  [2090/2500]  eta: 0:01:14  class_error: 0.00  loss: 1.3116 (1.1901)  loss_ce: 0.4404 (0.4874)  loss_bbox: 0.1751 (0.2237)  loss_giou: 0.5354 (0.4790)  loss_ce_unscaled: 0.4404 (0.4874)  class_error_unscaled: 19.3548 (21.9586)  loss_bbox_unscaled: 0.0350 (0.0447)  loss_giou_unscaled: 0.2677 (0.2395)  cardinality_error_unscaled: 6.0000 (5.0586)  time: 0.1728  data: 0.0100  max mem: 1068\n",
            "Test:  [2100/2500]  eta: 0:01:12  class_error: 0.00  loss: 0.7845 (1.1895)  loss_ce: 0.4089 (0.4874)  loss_bbox: 0.1566 (0.2236)  loss_giou: 0.3917 (0.4785)  loss_ce_unscaled: 0.4089 (0.4874)  class_error_unscaled: 25.0000 (22.0087)  loss_bbox_unscaled: 0.0313 (0.0447)  loss_giou_unscaled: 0.1958 (0.2393)  cardinality_error_unscaled: 2.0000 (5.0600)  time: 0.1765  data: 0.0109  max mem: 1068\n",
            "Test:  [2110/2500]  eta: 0:01:10  class_error: 28.57  loss: 1.1053 (1.1903)  loss_ce: 0.4692 (0.4880)  loss_bbox: 0.1791 (0.2237)  loss_giou: 0.4020 (0.4786)  loss_ce_unscaled: 0.4692 (0.4880)  class_error_unscaled: 28.5714 (22.0360)  loss_bbox_unscaled: 0.0358 (0.0447)  loss_giou_unscaled: 0.2010 (0.2393)  cardinality_error_unscaled: 1.5000 (5.0531)  time: 0.1839  data: 0.0118  max mem: 1068\n",
            "Test:  [2120/2500]  eta: 0:01:08  class_error: 50.00  loss: 1.1053 (1.1899)  loss_ce: 0.4552 (0.4876)  loss_bbox: 0.2100 (0.2238)  loss_giou: 0.4696 (0.4786)  loss_ce_unscaled: 0.4552 (0.4876)  class_error_unscaled: 22.2222 (22.0403)  loss_bbox_unscaled: 0.0420 (0.0448)  loss_giou_unscaled: 0.2348 (0.2393)  cardinality_error_unscaled: 2.0000 (5.0545)  time: 0.1765  data: 0.0119  max mem: 1068\n",
            "Test:  [2130/2500]  eta: 0:01:06  class_error: 15.38  loss: 1.1296 (1.1904)  loss_ce: 0.2515 (0.4875)  loss_bbox: 0.1914 (0.2237)  loss_giou: 0.5782 (0.4792)  loss_ce_unscaled: 0.2515 (0.4875)  class_error_unscaled: 15.3846 (22.0239)  loss_bbox_unscaled: 0.0383 (0.0447)  loss_giou_unscaled: 0.2891 (0.2396)  cardinality_error_unscaled: 4.5000 (5.0711)  time: 0.1792  data: 0.0117  max mem: 1068\n",
            "Test:  [2140/2500]  eta: 0:01:05  class_error: 33.33  loss: 1.1296 (1.1903)  loss_ce: 0.3101 (0.4876)  loss_bbox: 0.1903 (0.2239)  loss_giou: 0.4664 (0.4788)  loss_ce_unscaled: 0.3101 (0.4876)  class_error_unscaled: 18.1818 (22.0391)  loss_bbox_unscaled: 0.0381 (0.0448)  loss_giou_unscaled: 0.2332 (0.2394)  cardinality_error_unscaled: 3.0000 (5.0617)  time: 0.1842  data: 0.0119  max mem: 1068\n",
            "Test:  [2150/2500]  eta: 0:01:03  class_error: 0.00  loss: 0.8045 (1.1896)  loss_ce: 0.3101 (0.4871)  loss_bbox: 0.1723 (0.2237)  loss_giou: 0.4141 (0.4789)  loss_ce_unscaled: 0.3101 (0.4871)  class_error_unscaled: 14.7059 (21.9971)  loss_bbox_unscaled: 0.0345 (0.0447)  loss_giou_unscaled: 0.2071 (0.2395)  cardinality_error_unscaled: 4.0000 (5.0716)  time: 0.1826  data: 0.0117  max mem: 1068\n",
            "Test:  [2160/2500]  eta: 0:01:01  class_error: 30.95  loss: 0.8045 (1.1891)  loss_ce: 0.2716 (0.4867)  loss_bbox: 0.1655 (0.2236)  loss_giou: 0.4018 (0.4788)  loss_ce_unscaled: 0.2716 (0.4867)  class_error_unscaled: 14.7059 (22.0028)  loss_bbox_unscaled: 0.0331 (0.0447)  loss_giou_unscaled: 0.2009 (0.2394)  cardinality_error_unscaled: 4.0000 (5.0643)  time: 0.1769  data: 0.0106  max mem: 1068\n",
            "Test:  [2170/2500]  eta: 0:00:59  class_error: 76.92  loss: 0.9225 (1.1894)  loss_ce: 0.3434 (0.4866)  loss_bbox: 0.1804 (0.2236)  loss_giou: 0.4456 (0.4791)  loss_ce_unscaled: 0.3434 (0.4866)  class_error_unscaled: 22.2222 (22.0458)  loss_bbox_unscaled: 0.0361 (0.0447)  loss_giou_unscaled: 0.2228 (0.2396)  cardinality_error_unscaled: 2.0000 (5.0548)  time: 0.1720  data: 0.0101  max mem: 1068\n",
            "Test:  [2180/2500]  eta: 0:00:57  class_error: 16.67  loss: 0.9225 (1.1875)  loss_ce: 0.3220 (0.4858)  loss_bbox: 0.1719 (0.2233)  loss_giou: 0.4052 (0.4783)  loss_ce_unscaled: 0.3220 (0.4858)  class_error_unscaled: 20.0000 (22.0370)  loss_bbox_unscaled: 0.0344 (0.0447)  loss_giou_unscaled: 0.2026 (0.2392)  cardinality_error_unscaled: 1.0000 (5.0413)  time: 0.1826  data: 0.0103  max mem: 1068\n",
            "Test:  [2190/2500]  eta: 0:00:56  class_error: 8.70  loss: 1.0508 (1.1878)  loss_ce: 0.4054 (0.4862)  loss_bbox: 0.1654 (0.2232)  loss_giou: 0.3656 (0.4784)  loss_ce_unscaled: 0.4054 (0.4862)  class_error_unscaled: 20.0000 (22.0651)  loss_bbox_unscaled: 0.0331 (0.0446)  loss_giou_unscaled: 0.1828 (0.2392)  cardinality_error_unscaled: 1.5000 (5.0345)  time: 0.1765  data: 0.0107  max mem: 1068\n",
            "Test:  [2200/2500]  eta: 0:00:54  class_error: 14.29  loss: 1.2522 (1.1878)  loss_ce: 0.4054 (0.4858)  loss_bbox: 0.2033 (0.2234)  loss_giou: 0.5231 (0.4786)  loss_ce_unscaled: 0.4054 (0.4858)  class_error_unscaled: 20.6897 (22.0473)  loss_bbox_unscaled: 0.0407 (0.0447)  loss_giou_unscaled: 0.2615 (0.2393)  cardinality_error_unscaled: 3.5000 (5.0416)  time: 0.1775  data: 0.0113  max mem: 1068\n",
            "Test:  [2210/2500]  eta: 0:00:52  class_error: 22.22  loss: 1.0249 (1.1873)  loss_ce: 0.3233 (0.4854)  loss_bbox: 0.1824 (0.2232)  loss_giou: 0.5066 (0.4787)  loss_ce_unscaled: 0.3233 (0.4854)  class_error_unscaled: 14.2857 (22.0213)  loss_bbox_unscaled: 0.0365 (0.0446)  loss_giou_unscaled: 0.2533 (0.2393)  cardinality_error_unscaled: 3.5000 (5.0421)  time: 0.1861  data: 0.0112  max mem: 1068\n",
            "Test:  [2220/2500]  eta: 0:00:50  class_error: 18.18  loss: 1.0862 (1.1877)  loss_ce: 0.3899 (0.4853)  loss_bbox: 0.1933 (0.2235)  loss_giou: 0.3467 (0.4789)  loss_ce_unscaled: 0.3899 (0.4853)  class_error_unscaled: 20.0000 (22.0291)  loss_bbox_unscaled: 0.0387 (0.0447)  loss_giou_unscaled: 0.1733 (0.2394)  cardinality_error_unscaled: 3.0000 (5.0353)  time: 0.1752  data: 0.0107  max mem: 1068\n",
            "Test:  [2230/2500]  eta: 0:00:48  class_error: 0.00  loss: 0.9728 (1.1871)  loss_ce: 0.3899 (0.4849)  loss_bbox: 0.1844 (0.2232)  loss_giou: 0.3467 (0.4790)  loss_ce_unscaled: 0.3899 (0.4849)  class_error_unscaled: 18.1818 (21.9963)  loss_bbox_unscaled: 0.0369 (0.0446)  loss_giou_unscaled: 0.1733 (0.2395)  cardinality_error_unscaled: 3.0000 (5.0392)  time: 0.1727  data: 0.0103  max mem: 1068\n",
            "Test:  [2240/2500]  eta: 0:00:47  class_error: 7.69  loss: 0.7352 (1.1854)  loss_ce: 0.2531 (0.4840)  loss_bbox: 0.1648 (0.2230)  loss_giou: 0.3120 (0.4784)  loss_ce_unscaled: 0.2531 (0.4840)  class_error_unscaled: 17.0732 (21.9675)  loss_bbox_unscaled: 0.0330 (0.0446)  loss_giou_unscaled: 0.1560 (0.2392)  cardinality_error_unscaled: 2.5000 (5.0297)  time: 0.1715  data: 0.0106  max mem: 1068\n",
            "Test:  [2250/2500]  eta: 0:00:45  class_error: 25.00  loss: 0.9133 (1.1883)  loss_ce: 0.3090 (0.4861)  loss_bbox: 0.1854 (0.2234)  loss_giou: 0.3380 (0.4789)  loss_ce_unscaled: 0.3090 (0.4861)  class_error_unscaled: 25.0000 (21.9687)  loss_bbox_unscaled: 0.0371 (0.0447)  loss_giou_unscaled: 0.1690 (0.2395)  cardinality_error_unscaled: 2.0000 (5.0389)  time: 0.1729  data: 0.0106  max mem: 1068\n",
            "Test:  [2260/2500]  eta: 0:00:43  class_error: 14.29  loss: 1.0005 (1.1878)  loss_ce: 0.3932 (0.4856)  loss_bbox: 0.1492 (0.2231)  loss_giou: 0.4588 (0.4791)  loss_ce_unscaled: 0.3932 (0.4856)  class_error_unscaled: 20.0000 (21.9644)  loss_bbox_unscaled: 0.0298 (0.0446)  loss_giou_unscaled: 0.2294 (0.2396)  cardinality_error_unscaled: 2.0000 (5.0299)  time: 0.1830  data: 0.0106  max mem: 1068\n",
            "Test:  [2270/2500]  eta: 0:00:41  class_error: 34.78  loss: 1.0005 (1.1877)  loss_ce: 0.3932 (0.4856)  loss_bbox: 0.1524 (0.2230)  loss_giou: 0.3978 (0.4791)  loss_ce_unscaled: 0.3932 (0.4856)  class_error_unscaled: 16.6667 (21.9704)  loss_bbox_unscaled: 0.0305 (0.0446)  loss_giou_unscaled: 0.1989 (0.2395)  cardinality_error_unscaled: 2.0000 (5.0361)  time: 0.1812  data: 0.0121  max mem: 1068\n",
            "Test:  [2280/2500]  eta: 0:00:39  class_error: 8.33  loss: 1.1192 (1.1884)  loss_ce: 0.4874 (0.4861)  loss_bbox: 0.1717 (0.2229)  loss_giou: 0.3637 (0.4794)  loss_ce_unscaled: 0.4874 (0.4861)  class_error_unscaled: 16.6667 (21.9769)  loss_bbox_unscaled: 0.0343 (0.0446)  loss_giou_unscaled: 0.1819 (0.2397)  cardinality_error_unscaled: 5.5000 (5.0515)  time: 0.1867  data: 0.0124  max mem: 1068\n",
            "Test:  [2290/2500]  eta: 0:00:37  class_error: 27.78  loss: 1.3525 (1.1914)  loss_ce: 0.5993 (0.4879)  loss_bbox: 0.1837 (0.2231)  loss_giou: 0.5067 (0.4803)  loss_ce_unscaled: 0.5993 (0.4879)  class_error_unscaled: 22.5806 (22.0270)  loss_bbox_unscaled: 0.0367 (0.0446)  loss_giou_unscaled: 0.2534 (0.2401)  cardinality_error_unscaled: 4.5000 (5.0467)  time: 0.1843  data: 0.0109  max mem: 1068\n",
            "Test:  [2300/2500]  eta: 0:00:36  class_error: 0.00  loss: 1.0222 (1.1901)  loss_ce: 0.4019 (0.4871)  loss_bbox: 0.1922 (0.2229)  loss_giou: 0.4653 (0.4801)  loss_ce_unscaled: 0.4019 (0.4871)  class_error_unscaled: 16.6667 (21.9903)  loss_bbox_unscaled: 0.0384 (0.0446)  loss_giou_unscaled: 0.2326 (0.2400)  cardinality_error_unscaled: 2.5000 (5.0445)  time: 0.1737  data: 0.0107  max mem: 1068\n",
            "Test:  [2310/2500]  eta: 0:00:34  class_error: 83.33  loss: 0.9552 (1.1915)  loss_ce: 0.3283 (0.4879)  loss_bbox: 0.1922 (0.2233)  loss_giou: 0.3846 (0.4803)  loss_ce_unscaled: 0.3283 (0.4879)  class_error_unscaled: 14.2857 (22.0189)  loss_bbox_unscaled: 0.0384 (0.0447)  loss_giou_unscaled: 0.1923 (0.2402)  cardinality_error_unscaled: 1.5000 (5.0366)  time: 0.1762  data: 0.0114  max mem: 1068\n",
            "Test:  [2320/2500]  eta: 0:00:32  class_error: 30.00  loss: 0.8573 (1.1904)  loss_ce: 0.3156 (0.4874)  loss_bbox: 0.1904 (0.2231)  loss_giou: 0.3711 (0.4799)  loss_ce_unscaled: 0.3156 (0.4874)  class_error_unscaled: 18.1818 (21.9933)  loss_bbox_unscaled: 0.0381 (0.0446)  loss_giou_unscaled: 0.1856 (0.2399)  cardinality_error_unscaled: 1.5000 (5.0263)  time: 0.1734  data: 0.0112  max mem: 1068\n",
            "Test:  [2330/2500]  eta: 0:00:30  class_error: 5.88  loss: 1.0439 (1.1915)  loss_ce: 0.4292 (0.4880)  loss_bbox: 0.1973 (0.2230)  loss_giou: 0.4527 (0.4805)  loss_ce_unscaled: 0.4292 (0.4880)  class_error_unscaled: 19.0476 (22.0060)  loss_bbox_unscaled: 0.0395 (0.0446)  loss_giou_unscaled: 0.2264 (0.2402)  cardinality_error_unscaled: 2.0000 (5.0450)  time: 0.1698  data: 0.0103  max mem: 1068\n",
            "Test:  [2340/2500]  eta: 0:00:28  class_error: 9.09  loss: 1.1562 (1.1909)  loss_ce: 0.5142 (0.4878)  loss_bbox: 0.1638 (0.2227)  loss_giou: 0.4717 (0.4803)  loss_ce_unscaled: 0.5142 (0.4878)  class_error_unscaled: 20.0000 (21.9759)  loss_bbox_unscaled: 0.0328 (0.0445)  loss_giou_unscaled: 0.2358 (0.2402)  cardinality_error_unscaled: 2.5000 (5.0397)  time: 0.1682  data: 0.0104  max mem: 1068\n",
            "Test:  [2350/2500]  eta: 0:00:27  class_error: 20.00  loss: 0.9094 (1.1906)  loss_ce: 0.4600 (0.4876)  loss_bbox: 0.1600 (0.2228)  loss_giou: 0.4164 (0.4802)  loss_ce_unscaled: 0.4600 (0.4876)  class_error_unscaled: 14.2857 (21.9544)  loss_bbox_unscaled: 0.0320 (0.0446)  loss_giou_unscaled: 0.2082 (0.2401)  cardinality_error_unscaled: 2.0000 (5.0532)  time: 0.1723  data: 0.0117  max mem: 1129\n",
            "Test:  [2360/2500]  eta: 0:00:25  class_error: 25.00  loss: 0.9354 (1.1899)  loss_ce: 0.2934 (0.4870)  loss_bbox: 0.1502 (0.2226)  loss_giou: 0.4789 (0.4803)  loss_ce_unscaled: 0.2934 (0.4870)  class_error_unscaled: 16.1290 (21.9306)  loss_bbox_unscaled: 0.0300 (0.0445)  loss_giou_unscaled: 0.2395 (0.2402)  cardinality_error_unscaled: 2.5000 (5.0506)  time: 0.1825  data: 0.0115  max mem: 1129\n",
            "Test:  [2370/2500]  eta: 0:00:23  class_error: 5.26  loss: 0.8972 (1.1898)  loss_ce: 0.2552 (0.4870)  loss_bbox: 0.1540 (0.2226)  loss_giou: 0.5062 (0.4803)  loss_ce_unscaled: 0.2552 (0.4870)  class_error_unscaled: 16.6667 (21.9263)  loss_bbox_unscaled: 0.0308 (0.0445)  loss_giou_unscaled: 0.2531 (0.2401)  cardinality_error_unscaled: 2.0000 (5.0456)  time: 0.1808  data: 0.0115  max mem: 1129\n",
            "Test:  [2380/2500]  eta: 0:00:21  class_error: 66.67  loss: 1.1018 (1.1898)  loss_ce: 0.3573 (0.4868)  loss_bbox: 0.1994 (0.2227)  loss_giou: 0.4417 (0.4803)  loss_ce_unscaled: 0.3573 (0.4868)  class_error_unscaled: 20.0000 (21.9185)  loss_bbox_unscaled: 0.0399 (0.0445)  loss_giou_unscaled: 0.2208 (0.2402)  cardinality_error_unscaled: 1.5000 (5.0502)  time: 0.1732  data: 0.0115  max mem: 1129\n",
            "Test:  [2390/2500]  eta: 0:00:19  class_error: 0.00  loss: 1.1496 (1.1887)  loss_ce: 0.3573 (0.4864)  loss_bbox: 0.1774 (0.2225)  loss_giou: 0.3384 (0.4799)  loss_ce_unscaled: 0.3573 (0.4864)  class_error_unscaled: 16.6667 (21.9058)  loss_bbox_unscaled: 0.0355 (0.0445)  loss_giou_unscaled: 0.1692 (0.2399)  cardinality_error_unscaled: 2.0000 (5.0437)  time: 0.1741  data: 0.0104  max mem: 1129\n",
            "Test:  [2400/2500]  eta: 0:00:18  class_error: 0.00  loss: 1.0027 (1.1912)  loss_ce: 0.3715 (0.4876)  loss_bbox: 0.1666 (0.2230)  loss_giou: 0.3491 (0.4806)  loss_ce_unscaled: 0.3715 (0.4876)  class_error_unscaled: 16.6667 (21.9199)  loss_bbox_unscaled: 0.0333 (0.0446)  loss_giou_unscaled: 0.1745 (0.2403)  cardinality_error_unscaled: 3.5000 (5.0483)  time: 0.1819  data: 0.0101  max mem: 1129\n",
            "Test:  [2410/2500]  eta: 0:00:16  class_error: 44.12  loss: 1.1573 (1.1929)  loss_ce: 0.3922 (0.4886)  loss_bbox: 0.2370 (0.2234)  loss_giou: 0.4470 (0.4808)  loss_ce_unscaled: 0.3922 (0.4886)  class_error_unscaled: 23.0769 (21.9718)  loss_bbox_unscaled: 0.0474 (0.0447)  loss_giou_unscaled: 0.2235 (0.2404)  cardinality_error_unscaled: 3.0000 (5.0392)  time: 0.1735  data: 0.0102  max mem: 1129\n",
            "Test:  [2420/2500]  eta: 0:00:14  class_error: 16.67  loss: 1.2532 (1.1926)  loss_ce: 0.4891 (0.4883)  loss_bbox: 0.2370 (0.2233)  loss_giou: 0.4890 (0.4810)  loss_ce_unscaled: 0.4891 (0.4883)  class_error_unscaled: 21.0526 (21.9609)  loss_bbox_unscaled: 0.0474 (0.0447)  loss_giou_unscaled: 0.2445 (0.2405)  cardinality_error_unscaled: 1.0000 (5.0333)  time: 0.1687  data: 0.0100  max mem: 1129\n",
            "Test:  [2430/2500]  eta: 0:00:12  class_error: 21.05  loss: 1.2898 (1.1958)  loss_ce: 0.5263 (0.4898)  loss_bbox: 0.2034 (0.2242)  loss_giou: 0.5189 (0.4817)  loss_ce_unscaled: 0.5263 (0.4898)  class_error_unscaled: 21.0526 (22.0135)  loss_bbox_unscaled: 0.0407 (0.0448)  loss_giou_unscaled: 0.2594 (0.2409)  cardinality_error_unscaled: 2.0000 (5.0288)  time: 0.1781  data: 0.0106  max mem: 1129\n",
            "Test:  [2440/2500]  eta: 0:00:10  class_error: 20.00  loss: 1.1297 (1.1961)  loss_ce: 0.3874 (0.4903)  loss_bbox: 0.1964 (0.2241)  loss_giou: 0.4619 (0.4817)  loss_ce_unscaled: 0.3874 (0.4903)  class_error_unscaled: 25.0000 (22.0297)  loss_bbox_unscaled: 0.0393 (0.0448)  loss_giou_unscaled: 0.2310 (0.2408)  cardinality_error_unscaled: 2.0000 (5.0215)  time: 0.1779  data: 0.0113  max mem: 1129\n",
            "Test:  [2450/2500]  eta: 0:00:09  class_error: 42.86  loss: 1.1301 (1.1967)  loss_ce: 0.3874 (0.4903)  loss_bbox: 0.1929 (0.2243)  loss_giou: 0.5069 (0.4821)  loss_ce_unscaled: 0.3874 (0.4903)  class_error_unscaled: 25.0000 (22.0680)  loss_bbox_unscaled: 0.0386 (0.0449)  loss_giou_unscaled: 0.2534 (0.2411)  cardinality_error_unscaled: 1.5000 (5.0153)  time: 0.1741  data: 0.0114  max mem: 1129\n",
            "Test:  [2460/2500]  eta: 0:00:07  class_error: 30.00  loss: 1.3844 (1.1985)  loss_ce: 0.5191 (0.4917)  loss_bbox: 0.2087 (0.2244)  loss_giou: 0.5318 (0.4824)  loss_ce_unscaled: 0.5191 (0.4917)  class_error_unscaled: 28.5714 (22.1002)  loss_bbox_unscaled: 0.0417 (0.0449)  loss_giou_unscaled: 0.2659 (0.2412)  cardinality_error_unscaled: 2.0000 (5.0291)  time: 0.1779  data: 0.0117  max mem: 1129\n",
            "Test:  [2470/2500]  eta: 0:00:05  class_error: 12.50  loss: 1.3918 (1.1992)  loss_ce: 0.5316 (0.4921)  loss_bbox: 0.2130 (0.2244)  loss_giou: 0.5313 (0.4827)  loss_ce_unscaled: 0.5316 (0.4921)  class_error_unscaled: 26.0870 (22.1145)  loss_bbox_unscaled: 0.0426 (0.0449)  loss_giou_unscaled: 0.2657 (0.2414)  cardinality_error_unscaled: 4.5000 (5.0312)  time: 0.1774  data: 0.0110  max mem: 1129\n",
            "Test:  [2480/2500]  eta: 0:00:03  class_error: 0.00  loss: 1.1168 (1.1982)  loss_ce: 0.3147 (0.4911)  loss_bbox: 0.2130 (0.2245)  loss_giou: 0.4276 (0.4827)  loss_ce_unscaled: 0.3147 (0.4911)  class_error_unscaled: 17.6471 (22.0768)  loss_bbox_unscaled: 0.0426 (0.0449)  loss_giou_unscaled: 0.2138 (0.2413)  cardinality_error_unscaled: 1.5000 (5.0250)  time: 0.1724  data: 0.0104  max mem: 1129\n",
            "Test:  [2490/2500]  eta: 0:00:01  class_error: 63.16  loss: 0.8190 (1.1979)  loss_ce: 0.2518 (0.4909)  loss_bbox: 0.2006 (0.2244)  loss_giou: 0.4276 (0.4826)  loss_ce_unscaled: 0.2518 (0.4909)  class_error_unscaled: 14.2857 (22.0764)  loss_bbox_unscaled: 0.0401 (0.0449)  loss_giou_unscaled: 0.2138 (0.2413)  cardinality_error_unscaled: 2.0000 (5.0293)  time: 0.1721  data: 0.0108  max mem: 1129\n",
            "Test:  [2499/2500]  eta: 0:00:00  class_error: 14.29  loss: 1.0251 (1.1980)  loss_ce: 0.3291 (0.4907)  loss_bbox: 0.2006 (0.2246)  loss_giou: 0.4465 (0.4827)  loss_ce_unscaled: 0.3291 (0.4907)  class_error_unscaled: 17.8571 (22.0605)  loss_bbox_unscaled: 0.0401 (0.0449)  loss_giou_unscaled: 0.2233 (0.2413)  cardinality_error_unscaled: 4.0000 (5.0270)  time: 0.1771  data: 0.0120  max mem: 1129\n",
            "Test: Total time: 0:07:31 (0.1806 s / it)\n",
            "Averaged stats: class_error: 14.29  loss: 1.0251 (1.1980)  loss_ce: 0.3291 (0.4907)  loss_bbox: 0.2006 (0.2246)  loss_giou: 0.4465 (0.4827)  loss_ce_unscaled: 0.3291 (0.4907)  class_error_unscaled: 17.8571 (22.0605)  loss_bbox_unscaled: 0.0401 (0.0449)  loss_giou_unscaled: 0.2233 (0.2413)  cardinality_error_unscaled: 4.0000 (5.0270)\n",
            "Accumulating evaluation results...\n",
            "DONE (t=11.73s).\n",
            "IoU metric: bbox\n",
            " Average Precision  (AP) @[ IoU=0.50:0.95 | area=   all | maxDets=100 ] = 0.420\n",
            " Average Precision  (AP) @[ IoU=0.50      | area=   all | maxDets=100 ] = 0.624\n",
            " Average Precision  (AP) @[ IoU=0.75      | area=   all | maxDets=100 ] = 0.442\n",
            " Average Precision  (AP) @[ IoU=0.50:0.95 | area= small | maxDets=100 ] = 0.205\n",
            " Average Precision  (AP) @[ IoU=0.50:0.95 | area=medium | maxDets=100 ] = 0.458\n",
            " Average Precision  (AP) @[ IoU=0.50:0.95 | area= large | maxDets=100 ] = 0.611\n",
            " Average Recall     (AR) @[ IoU=0.50:0.95 | area=   all | maxDets=  1 ] = 0.333\n",
            " Average Recall     (AR) @[ IoU=0.50:0.95 | area=   all | maxDets= 10 ] = 0.533\n",
            " Average Recall     (AR) @[ IoU=0.50:0.95 | area=   all | maxDets=100 ] = 0.574\n",
            " Average Recall     (AR) @[ IoU=0.50:0.95 | area= small | maxDets=100 ] = 0.312\n",
            " Average Recall     (AR) @[ IoU=0.50:0.95 | area=medium | maxDets=100 ] = 0.628\n",
            " Average Recall     (AR) @[ IoU=0.50:0.95 | area= large | maxDets=100 ] = 0.805\n"
          ],
          "name": "stdout"
        }
      ]
    },
    {
      "cell_type": "code",
      "metadata": {
        "id": "CLEAXtXth7E9"
      },
      "source": [
        ""
      ],
      "execution_count": null,
      "outputs": []
    }
  ]
}