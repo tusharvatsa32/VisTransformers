{
  "nbformat": 4,
  "nbformat_minor": 0,
  "metadata": {
    "accelerator": "GPU",
    "celltoolbar": "Edit Metadata",
    "colab": {
      "name": "ViT_pretrained_B_32.ipynb",
      "provenance": [],
      "collapsed_sections": [],
      "toc_visible": true,
      "machine_shape": "hm",
      "include_colab_link": true
    },
    "kernelspec": {
      "display_name": "Python 3",
      "language": "python",
      "name": "python3"
    },
    "language_info": {
      "codemirror_mode": {
        "name": "ipython",
        "version": 3
      },
      "file_extension": ".py",
      "mimetype": "text/x-python",
      "name": "python",
      "nbconvert_exporter": "python",
      "pygments_lexer": "ipython3",
      "version": "3.8.5"
    },
    "toc": {
      "base_numbering": 1,
      "nav_menu": {},
      "number_sections": true,
      "sideBar": true,
      "skip_h1_title": false,
      "title_cell": "Table of Contents",
      "title_sidebar": "Contents",
      "toc_cell": false,
      "toc_position": {},
      "toc_section_display": true,
      "toc_window_display": false
    }
  },
  "cells": [
    {
      "cell_type": "markdown",
      "metadata": {
        "id": "view-in-github",
        "colab_type": "text"
      },
      "source": [
        "<a href=\"https://colab.research.google.com/github/tusharvatsa32/VisTransformers/blob/main/Code/ViT_pretrained_B_32.ipynb\" target=\"_parent\"><img src=\"https://colab.research.google.com/assets/colab-badge.svg\" alt=\"Open In Colab\"/></a>"
      ]
    },
    {
      "cell_type": "markdown",
      "metadata": {
        "id": "IDT1Xwv9RZXb"
      },
      "source": [
        "## Import Libraries"
      ]
    },
    {
      "cell_type": "code",
      "metadata": {
        "colab": {
          "base_uri": "https://localhost:8080/"
        },
        "id": "vEujzAIePqnn",
        "outputId": "81658614-282f-4962-f454-22693a998b96"
      },
      "source": [
        "!nvidia-smi"
      ],
      "execution_count": 1,
      "outputs": [
        {
          "output_type": "stream",
          "text": [
            "Sat May  1 01:26:33 2021       \n",
            "+-----------------------------------------------------------------------------+\n",
            "| NVIDIA-SMI 465.19.01    Driver Version: 460.32.03    CUDA Version: 11.2     |\n",
            "|-------------------------------+----------------------+----------------------+\n",
            "| GPU  Name        Persistence-M| Bus-Id        Disp.A | Volatile Uncorr. ECC |\n",
            "| Fan  Temp  Perf  Pwr:Usage/Cap|         Memory-Usage | GPU-Util  Compute M. |\n",
            "|                               |                      |               MIG M. |\n",
            "|===============================+======================+======================|\n",
            "|   0  Tesla V100-SXM2...  Off  | 00000000:00:04.0 Off |                    0 |\n",
            "| N/A   34C    P0    48W / 300W |      0MiB / 16160MiB |      0%      Default |\n",
            "|                               |                      |                  N/A |\n",
            "+-------------------------------+----------------------+----------------------+\n",
            "                                                                               \n",
            "+-----------------------------------------------------------------------------+\n",
            "| Processes:                                                                  |\n",
            "|  GPU   GI   CI        PID   Type   Process name                  GPU Memory |\n",
            "|        ID   ID                                                   Usage      |\n",
            "|=============================================================================|\n",
            "|  No running processes found                                                 |\n",
            "+-----------------------------------------------------------------------------+\n"
          ],
          "name": "stdout"
        }
      ]
    },
    {
      "cell_type": "code",
      "metadata": {
        "id": "Je-f_fI7aVgr"
      },
      "source": [
        "!pip install -q einops"
      ],
      "execution_count": 2,
      "outputs": []
    },
    {
      "cell_type": "code",
      "metadata": {
        "id": "qq-e52uORIVg"
      },
      "source": [
        "import os\n",
        "import random\n",
        "import numpy as np\n",
        "import torch\n",
        "import torch.nn as nn\n",
        "import torchvision\n",
        "import torch.nn.functional as F\n",
        "import torch.optim as optim\n",
        "from torchvision import datasets, models, transforms\n",
        "from torch import einsum\n",
        "from PIL import Image\n",
        "from torch.utils.data import DataLoader, Dataset\n",
        "from torchvision import datasets, transforms\n",
        "from tqdm.notebook import tqdm\n",
        "from einops import rearrange, repeat\n",
        "from einops.layers.torch import Rearrange"
      ],
      "execution_count": 3,
      "outputs": []
    },
    {
      "cell_type": "code",
      "metadata": {
        "colab": {
          "base_uri": "https://localhost:8080/"
        },
        "id": "pV-E0IFHRITw",
        "outputId": "09a32a95-0f1e-4a55-98ed-c68124eb1928"
      },
      "source": [
        "print(f\"Torch: {torch.__version__}\")"
      ],
      "execution_count": 4,
      "outputs": [
        {
          "output_type": "stream",
          "text": [
            "Torch: 1.8.1+cu101\n"
          ],
          "name": "stdout"
        }
      ]
    },
    {
      "cell_type": "code",
      "metadata": {
        "id": "mSO-6jwwlYzO"
      },
      "source": [
        "def seed_everything(seed):\n",
        "    random.seed(seed)\n",
        "    os.environ['PYTHONHASHSEED'] = str(seed)\n",
        "    np.random.seed(seed)\n",
        "    torch.manual_seed(seed)\n",
        "    torch.cuda.manual_seed(seed)\n",
        "    torch.cuda.manual_seed_all(seed)\n",
        "    torch.backends.cudnn.deterministic = True\n",
        "\n",
        "seed_everything(11785)"
      ],
      "execution_count": 5,
      "outputs": []
    },
    {
      "cell_type": "code",
      "metadata": {
        "id": "ZS5Jp9SBRgQr"
      },
      "source": [
        "device = 'cuda'"
      ],
      "execution_count": 6,
      "outputs": []
    },
    {
      "cell_type": "code",
      "metadata": {
        "id": "PWry7mRoT5iT"
      },
      "source": [
        "!pip install -q pytorch_pretrained_vit"
      ],
      "execution_count": 7,
      "outputs": []
    },
    {
      "cell_type": "code",
      "metadata": {
        "id": "l_0631Qvbi_3"
      },
      "source": [
        "img_size = ((384, 384)) \n",
        "\n",
        "transforms_train = transforms.Compose([\n",
        "    transforms.Resize(img_size),\n",
        "    transforms.ColorJitter(hue=.05, saturation=.05),\n",
        "    transforms.RandomHorizontalFlip(p=0.3),\n",
        "    transforms.RandomVerticalFlip(p=0.3),\n",
        "    transforms.RandomRotation(10, interpolation=torchvision.transforms.InterpolationMode.BILINEAR),\n",
        "    transforms.RandomCrop(img_size, fill=0),\n",
        "    transforms.RandomAffine(10, scale=(0.8, 1.2)),\n",
        "    transforms.ToTensor(),\n",
        "    transforms.Normalize((0.485, 0.456, 0.406), (0.229, 0.224, 0.225))\n",
        "])\n",
        "\n",
        "transforms_val = transforms.Compose([\n",
        "    transforms.Resize(img_size),\n",
        "    transforms.ToTensor(),\n",
        "    transforms.Normalize((0.485, 0.456, 0.406), (0.229, 0.224, 0.225))\n",
        "])"
      ],
      "execution_count": 13,
      "outputs": []
    },
    {
      "cell_type": "markdown",
      "metadata": {
        "id": "ZEIyZaYXRkZF"
      },
      "source": [
        "## Load Data"
      ]
    },
    {
      "cell_type": "code",
      "metadata": {
        "colab": {
          "base_uri": "https://localhost:8080/"
        },
        "id": "hTsnUVjBbOKG",
        "outputId": "2f11bb53-2148-4428-8701-bcfb145be2e0"
      },
      "source": [
        "train_data = torchvision.datasets.CIFAR100(train=True,download=True,root= \"./cifar100/train_data\", transform=transforms_train)\n",
        "train_loader = torch.utils.data.DataLoader(train_data, batch_size=8,\n",
        "                                          shuffle=True, num_workers=8)\n",
        "\n",
        "valid_data = torchvision.datasets.CIFAR100(train=False,download=True,root= \"./cifar100/test_data\", transform=transforms_val)\n",
        "valid_loader = torch.utils.data.DataLoader(valid_data, batch_size=4,\n",
        "                                         shuffle=False, num_workers=8)"
      ],
      "execution_count": 14,
      "outputs": [
        {
          "output_type": "stream",
          "text": [
            "Files already downloaded and verified\n"
          ],
          "name": "stdout"
        },
        {
          "output_type": "stream",
          "text": [
            "/usr/local/lib/python3.7/dist-packages/torch/utils/data/dataloader.py:477: UserWarning: This DataLoader will create 8 worker processes in total. Our suggested max number of worker in current system is 4, which is smaller than what this DataLoader is going to create. Please be aware that excessive worker creation might get DataLoader running slow or even freeze, lower the worker number to avoid potential slowness/freeze if necessary.\n",
            "  cpuset_checked))\n"
          ],
          "name": "stderr"
        },
        {
          "output_type": "stream",
          "text": [
            "Files already downloaded and verified\n"
          ],
          "name": "stdout"
        }
      ]
    },
    {
      "cell_type": "code",
      "metadata": {
        "colab": {
          "base_uri": "https://localhost:8080/"
        },
        "id": "JiIcaG1zSZLA",
        "outputId": "abbe44eb-a9c7-45e9-ceb7-8a3fc69af132"
      },
      "source": [
        "print(len(train_data), len(train_loader))"
      ],
      "execution_count": 15,
      "outputs": [
        {
          "output_type": "stream",
          "text": [
            "50000 6250\n"
          ],
          "name": "stdout"
        }
      ]
    },
    {
      "cell_type": "code",
      "metadata": {
        "colab": {
          "base_uri": "https://localhost:8080/"
        },
        "id": "hLLq3UCRSZIo",
        "outputId": "b1c6e09d-b0e9-4f44-966a-be6994ef0ec1"
      },
      "source": [
        "print(len(valid_data), len(valid_loader))"
      ],
      "execution_count": 16,
      "outputs": [
        {
          "output_type": "stream",
          "text": [
            "10000 2500\n"
          ],
          "name": "stdout"
        }
      ]
    },
    {
      "cell_type": "markdown",
      "metadata": {
        "id": "8VCgoZBvovkx"
      },
      "source": [
        "### Visual Transformer"
      ]
    },
    {
      "cell_type": "code",
      "metadata": {
        "colab": {
          "base_uri": "https://localhost:8080/"
        },
        "id": "D5EizoWMFu51",
        "outputId": "1c25fdb9-c41b-402a-9e2b-c5a109fddb07"
      },
      "source": [
        "from pytorch_pretrained_vit import ViT\n",
        "model = ViT('B_32_imagenet1k', pretrained=True)\n",
        "\n",
        "num_ftrs = model.fc.in_features\n",
        "model.fc = nn.Linear(num_ftrs, 100)\n",
        "model = model.to(device)"
      ],
      "execution_count": 25,
      "outputs": [
        {
          "output_type": "stream",
          "text": [
            "Loaded pretrained weights.\n"
          ],
          "name": "stdout"
        }
      ]
    },
    {
      "cell_type": "markdown",
      "metadata": {
        "id": "4u5YZG1eozIv"
      },
      "source": [
        "### Training"
      ]
    },
    {
      "cell_type": "code",
      "metadata": {
        "id": "2Go1icggSnrB"
      },
      "source": [
        "numEpochs = 100\n",
        "in_features = 3 # RGB channels\n",
        "\n",
        "learningRate = 0.01\n",
        "weightDecay = 2e-5\n",
        "\n",
        "num_classes = len(train_data.classes)\n",
        "\n",
        "criterion = nn.CrossEntropyLoss()\n",
        "optimizer = torch.optim.SGD(model.parameters(), lr=learningRate, weight_decay=weightDecay, momentum=0.9, nesterov=True)\n",
        "\n",
        "scheduler = torch.optim.lr_scheduler.ReduceLROnPlateau(optimizer, mode='max', factor=0.4, patience=5, threshold=0.002, verbose=True)"
      ],
      "execution_count": 26,
      "outputs": []
    },
    {
      "cell_type": "code",
      "metadata": {
        "id": "QsF6UcuGc981"
      },
      "source": [
        "my_acc = []\n",
        "my_loss = []"
      ],
      "execution_count": 27,
      "outputs": []
    },
    {
      "cell_type": "code",
      "metadata": {
        "colab": {
          "base_uri": "https://localhost:8080/"
        },
        "id": "KDBDOcxeU1eR",
        "outputId": "8f3a073b-2a40-4a36-f087-112cedff6f0e"
      },
      "source": [
        "# Train!\n",
        "for epoch in range(numEpochs):\n",
        "    \n",
        "    # Train\n",
        "    model.train()\n",
        "    train_loss = 0.0\n",
        "    train_acc = 0.0\n",
        "    correct = 0\n",
        "\n",
        "    for batch_num, (x, y) in enumerate(train_loader):\n",
        "        optimizer.zero_grad()\n",
        "        \n",
        "        x, y = x.to(device), y.to(device)\n",
        "\n",
        "        outputs = model(x)\n",
        "\n",
        "        correct += (torch.argmax(outputs, axis=1) == y).sum().item()\n",
        "\n",
        "        loss = criterion(outputs, y.long())\n",
        "        loss.backward()\n",
        "        optimizer.step()\n",
        "\n",
        "        del(outputs)\n",
        "\n",
        "        train_loss += loss.item()\n",
        "\n",
        "        if batch_num % 100 == 0:\n",
        "            print('Epoch: {}\\tBatch: {}\\tAvg-Loss: {:.4f}'.format(epoch, batch_num+1, train_loss/(batch_num+1)))\n",
        "\n",
        "    train_accuracy = correct / len(train_data)\n",
        "\n",
        "    # Validate\n",
        "    model.eval()\n",
        "    num_correct = 0\n",
        "    for batch_num1, (x, y) in enumerate(valid_loader):\n",
        "        x, y = x.to(device), y.to(device)\n",
        "        outputs = model(x)\n",
        "\n",
        "        num_correct += (torch.argmax(outputs, axis=1) == y).sum().item()\n",
        "\n",
        "    val_accuracy = num_correct / len(valid_data)\n",
        "    my_acc.append(val_accuracy)\n",
        "    my_loss.append(train_loss/(batch_num+1))\n",
        "    print('Epoch: {}\\t Training Accuracy: {:.4f}\\t Validation Accuracy: {:.4f}\\t Avg-Loss: {:.4f}'.format(epoch, train_accuracy*100, val_accuracy * 100, train_loss/(batch_num+1)))\n",
        "    scheduler.step(val_accuracy)\n",
        "\n",
        "    #torch.save(network.state_dict(),'/content/drive/MyDrive/DL_CMU/HW2_P2/ResNet_Plateau_d3/Net_'+str(epoch)+'_'+str(val_accuracy)+'_checkpoint.t7')"
      ],
      "execution_count": null,
      "outputs": [
        {
          "output_type": "stream",
          "text": [
            "/usr/local/lib/python3.7/dist-packages/torch/utils/data/dataloader.py:477: UserWarning: This DataLoader will create 8 worker processes in total. Our suggested max number of worker in current system is 4, which is smaller than what this DataLoader is going to create. Please be aware that excessive worker creation might get DataLoader running slow or even freeze, lower the worker number to avoid potential slowness/freeze if necessary.\n",
            "  cpuset_checked))\n"
          ],
          "name": "stderr"
        },
        {
          "output_type": "stream",
          "text": [
            "Epoch: 0\tBatch: 1\tAvg-Loss: 4.4003\n",
            "Epoch: 0\tBatch: 101\tAvg-Loss: 4.9490\n",
            "Epoch: 0\tBatch: 201\tAvg-Loss: 4.8966\n",
            "Epoch: 0\tBatch: 301\tAvg-Loss: 4.8168\n",
            "Epoch: 0\tBatch: 401\tAvg-Loss: 4.7652\n",
            "Epoch: 0\tBatch: 501\tAvg-Loss: 4.7284\n",
            "Epoch: 0\tBatch: 601\tAvg-Loss: 4.6874\n",
            "Epoch: 0\tBatch: 701\tAvg-Loss: 4.6482\n",
            "Epoch: 0\tBatch: 801\tAvg-Loss: 4.6010\n",
            "Epoch: 0\tBatch: 901\tAvg-Loss: 4.5684\n",
            "Epoch: 0\tBatch: 1001\tAvg-Loss: 4.5403\n",
            "Epoch: 0\tBatch: 1101\tAvg-Loss: 4.5144\n",
            "Epoch: 0\tBatch: 1201\tAvg-Loss: 4.4868\n",
            "Epoch: 0\tBatch: 1301\tAvg-Loss: 4.4582\n",
            "Epoch: 0\tBatch: 1401\tAvg-Loss: 4.4349\n",
            "Epoch: 0\tBatch: 1501\tAvg-Loss: 4.4156\n",
            "Epoch: 0\tBatch: 1601\tAvg-Loss: 4.3966\n",
            "Epoch: 0\tBatch: 1701\tAvg-Loss: 4.3746\n",
            "Epoch: 0\tBatch: 1801\tAvg-Loss: 4.3520\n",
            "Epoch: 0\tBatch: 1901\tAvg-Loss: 4.3323\n",
            "Epoch: 0\tBatch: 2001\tAvg-Loss: 4.3167\n",
            "Epoch: 0\tBatch: 2101\tAvg-Loss: 4.3004\n",
            "Epoch: 0\tBatch: 2201\tAvg-Loss: 4.2800\n",
            "Epoch: 0\tBatch: 2301\tAvg-Loss: 4.2613\n",
            "Epoch: 0\tBatch: 2401\tAvg-Loss: 4.2453\n",
            "Epoch: 0\tBatch: 2501\tAvg-Loss: 4.2313\n",
            "Epoch: 0\tBatch: 2601\tAvg-Loss: 4.2159\n",
            "Epoch: 0\tBatch: 2701\tAvg-Loss: 4.1977\n",
            "Epoch: 0\tBatch: 2801\tAvg-Loss: 4.1813\n",
            "Epoch: 0\tBatch: 2901\tAvg-Loss: 4.1703\n",
            "Epoch: 0\tBatch: 3001\tAvg-Loss: 4.1558\n",
            "Epoch: 0\tBatch: 3101\tAvg-Loss: 4.1422\n",
            "Epoch: 0\tBatch: 3201\tAvg-Loss: 4.1295\n",
            "Epoch: 0\tBatch: 3301\tAvg-Loss: 4.1175\n",
            "Epoch: 0\tBatch: 3401\tAvg-Loss: 4.1038\n",
            "Epoch: 0\tBatch: 3501\tAvg-Loss: 4.0874\n",
            "Epoch: 0\tBatch: 3601\tAvg-Loss: 4.0697\n",
            "Epoch: 0\tBatch: 3701\tAvg-Loss: 4.0542\n",
            "Epoch: 0\tBatch: 3801\tAvg-Loss: 4.0413\n",
            "Epoch: 0\tBatch: 3901\tAvg-Loss: 4.0257\n",
            "Epoch: 0\tBatch: 4001\tAvg-Loss: 4.0096\n",
            "Epoch: 0\tBatch: 4101\tAvg-Loss: 3.9948\n",
            "Epoch: 0\tBatch: 4201\tAvg-Loss: 3.9782\n",
            "Epoch: 0\tBatch: 4301\tAvg-Loss: 3.9624\n",
            "Epoch: 0\tBatch: 4401\tAvg-Loss: 3.9449\n",
            "Epoch: 0\tBatch: 4501\tAvg-Loss: 3.9281\n",
            "Epoch: 0\tBatch: 4601\tAvg-Loss: 3.9113\n",
            "Epoch: 0\tBatch: 4701\tAvg-Loss: 3.8951\n",
            "Epoch: 0\tBatch: 4801\tAvg-Loss: 3.8771\n",
            "Epoch: 0\tBatch: 4901\tAvg-Loss: 3.8623\n",
            "Epoch: 0\tBatch: 5001\tAvg-Loss: 3.8460\n",
            "Epoch: 0\tBatch: 5101\tAvg-Loss: 3.8270\n",
            "Epoch: 0\tBatch: 5201\tAvg-Loss: 3.8101\n",
            "Epoch: 0\tBatch: 5301\tAvg-Loss: 3.7920\n",
            "Epoch: 0\tBatch: 5401\tAvg-Loss: 3.7741\n",
            "Epoch: 0\tBatch: 5501\tAvg-Loss: 3.7532\n",
            "Epoch: 0\tBatch: 5601\tAvg-Loss: 3.7349\n",
            "Epoch: 0\tBatch: 5701\tAvg-Loss: 3.7153\n",
            "Epoch: 0\tBatch: 5801\tAvg-Loss: 3.6968\n",
            "Epoch: 0\tBatch: 5901\tAvg-Loss: 3.6767\n",
            "Epoch: 0\tBatch: 6001\tAvg-Loss: 3.6567\n",
            "Epoch: 0\tBatch: 6101\tAvg-Loss: 3.6382\n",
            "Epoch: 0\tBatch: 6201\tAvg-Loss: 3.6199\n",
            "Epoch: 0\t Training Accuracy: 15.2820\t Validation Accuracy: 43.3800\t Avg-Loss: 3.6105\n",
            "Epoch: 1\tBatch: 1\tAvg-Loss: 2.6871\n",
            "Epoch: 1\tBatch: 101\tAvg-Loss: 2.3493\n",
            "Epoch: 1\tBatch: 201\tAvg-Loss: 2.2685\n",
            "Epoch: 1\tBatch: 301\tAvg-Loss: 2.2419\n",
            "Epoch: 1\tBatch: 401\tAvg-Loss: 2.2608\n",
            "Epoch: 1\tBatch: 501\tAvg-Loss: 2.2360\n",
            "Epoch: 1\tBatch: 601\tAvg-Loss: 2.2234\n",
            "Epoch: 1\tBatch: 701\tAvg-Loss: 2.1898\n",
            "Epoch: 1\tBatch: 801\tAvg-Loss: 2.1690\n",
            "Epoch: 1\tBatch: 901\tAvg-Loss: 2.1536\n",
            "Epoch: 1\tBatch: 1001\tAvg-Loss: 2.1315\n",
            "Epoch: 1\tBatch: 1101\tAvg-Loss: 2.1181\n",
            "Epoch: 1\tBatch: 1201\tAvg-Loss: 2.1075\n",
            "Epoch: 1\tBatch: 1301\tAvg-Loss: 2.0974\n",
            "Epoch: 1\tBatch: 1401\tAvg-Loss: 2.0874\n",
            "Epoch: 1\tBatch: 1501\tAvg-Loss: 2.0785\n",
            "Epoch: 1\tBatch: 1601\tAvg-Loss: 2.0676\n",
            "Epoch: 1\tBatch: 1701\tAvg-Loss: 2.0535\n",
            "Epoch: 1\tBatch: 1801\tAvg-Loss: 2.0352\n",
            "Epoch: 1\tBatch: 1901\tAvg-Loss: 2.0262\n",
            "Epoch: 1\tBatch: 2001\tAvg-Loss: 2.0118\n",
            "Epoch: 1\tBatch: 2101\tAvg-Loss: 1.9979\n",
            "Epoch: 1\tBatch: 2201\tAvg-Loss: 1.9873\n"
          ],
          "name": "stdout"
        }
      ]
    }
  ]
}