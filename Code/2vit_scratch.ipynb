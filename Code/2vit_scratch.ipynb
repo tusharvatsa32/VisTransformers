{
  "nbformat": 4,
  "nbformat_minor": 0,
  "metadata": {
    "accelerator": "GPU",
    "celltoolbar": "Edit Metadata",
    "colab": {
      "name": "2vit_scratch.ipynb",
      "provenance": [],
      "collapsed_sections": [],
      "machine_shape": "hm"
    },
    "kernelspec": {
      "display_name": "Python 3",
      "language": "python",
      "name": "python3"
    },
    "language_info": {
      "codemirror_mode": {
        "name": "ipython",
        "version": 3
      },
      "file_extension": ".py",
      "mimetype": "text/x-python",
      "name": "python",
      "nbconvert_exporter": "python",
      "pygments_lexer": "ipython3",
      "version": "3.8.5"
    },
    "toc": {
      "base_numbering": 1,
      "nav_menu": {},
      "number_sections": true,
      "sideBar": true,
      "skip_h1_title": false,
      "title_cell": "Table of Contents",
      "title_sidebar": "Contents",
      "toc_cell": false,
      "toc_position": {},
      "toc_section_display": true,
      "toc_window_display": false
    },
    "widgets": {
      "application/vnd.jupyter.widget-state+json": {
        "3978ddc7d462477ab2ed8bff9a0c4f39": {
          "model_module": "@jupyter-widgets/controls",
          "model_name": "HBoxModel",
          "state": {
            "_view_name": "HBoxView",
            "_dom_classes": [],
            "_model_name": "HBoxModel",
            "_view_module": "@jupyter-widgets/controls",
            "_model_module_version": "1.5.0",
            "_view_count": null,
            "_view_module_version": "1.5.0",
            "box_style": "",
            "layout": "IPY_MODEL_91e88e05ad2c4d458c63b86299af5ea7",
            "_model_module": "@jupyter-widgets/controls",
            "children": [
              "IPY_MODEL_71e627f47bfe4fe7b77cadacbc437aa9",
              "IPY_MODEL_9397abbc03354de69d759feddb4b29af"
            ]
          }
        },
        "91e88e05ad2c4d458c63b86299af5ea7": {
          "model_module": "@jupyter-widgets/base",
          "model_name": "LayoutModel",
          "state": {
            "_view_name": "LayoutView",
            "grid_template_rows": null,
            "right": null,
            "justify_content": null,
            "_view_module": "@jupyter-widgets/base",
            "overflow": null,
            "_model_module_version": "1.2.0",
            "_view_count": null,
            "flex_flow": null,
            "width": null,
            "min_width": null,
            "border": null,
            "align_items": null,
            "bottom": null,
            "_model_module": "@jupyter-widgets/base",
            "top": null,
            "grid_column": null,
            "overflow_y": null,
            "overflow_x": null,
            "grid_auto_flow": null,
            "grid_area": null,
            "grid_template_columns": null,
            "flex": null,
            "_model_name": "LayoutModel",
            "justify_items": null,
            "grid_row": null,
            "max_height": null,
            "align_content": null,
            "visibility": null,
            "align_self": null,
            "height": null,
            "min_height": null,
            "padding": null,
            "grid_auto_rows": null,
            "grid_gap": null,
            "max_width": null,
            "order": null,
            "_view_module_version": "1.2.0",
            "grid_template_areas": null,
            "object_position": null,
            "object_fit": null,
            "grid_auto_columns": null,
            "margin": null,
            "display": null,
            "left": null
          }
        },
        "71e627f47bfe4fe7b77cadacbc437aa9": {
          "model_module": "@jupyter-widgets/controls",
          "model_name": "FloatProgressModel",
          "state": {
            "_view_name": "ProgressView",
            "style": "IPY_MODEL_a4205e4d9afe47989b4173dc20d9ce56",
            "_dom_classes": [],
            "description": "",
            "_model_name": "FloatProgressModel",
            "bar_style": "success",
            "max": 170498071,
            "_view_module": "@jupyter-widgets/controls",
            "_model_module_version": "1.5.0",
            "value": 170498071,
            "_view_count": null,
            "_view_module_version": "1.5.0",
            "orientation": "horizontal",
            "min": 0,
            "description_tooltip": null,
            "_model_module": "@jupyter-widgets/controls",
            "layout": "IPY_MODEL_fd3337fb674a472b983cab31923075f9"
          }
        },
        "9397abbc03354de69d759feddb4b29af": {
          "model_module": "@jupyter-widgets/controls",
          "model_name": "HTMLModel",
          "state": {
            "_view_name": "HTMLView",
            "style": "IPY_MODEL_62cbdacae6ce4b17b712bbb06d48f2a4",
            "_dom_classes": [],
            "description": "",
            "_model_name": "HTMLModel",
            "placeholder": "​",
            "_view_module": "@jupyter-widgets/controls",
            "_model_module_version": "1.5.0",
            "value": " 170499072/? [00:49&lt;00:00, 3411259.16it/s]",
            "_view_count": null,
            "_view_module_version": "1.5.0",
            "description_tooltip": null,
            "_model_module": "@jupyter-widgets/controls",
            "layout": "IPY_MODEL_21a6ca62d9204928bedc1c9867f44c8c"
          }
        },
        "a4205e4d9afe47989b4173dc20d9ce56": {
          "model_module": "@jupyter-widgets/controls",
          "model_name": "ProgressStyleModel",
          "state": {
            "_view_name": "StyleView",
            "_model_name": "ProgressStyleModel",
            "description_width": "initial",
            "_view_module": "@jupyter-widgets/base",
            "_model_module_version": "1.5.0",
            "_view_count": null,
            "_view_module_version": "1.2.0",
            "bar_color": null,
            "_model_module": "@jupyter-widgets/controls"
          }
        },
        "fd3337fb674a472b983cab31923075f9": {
          "model_module": "@jupyter-widgets/base",
          "model_name": "LayoutModel",
          "state": {
            "_view_name": "LayoutView",
            "grid_template_rows": null,
            "right": null,
            "justify_content": null,
            "_view_module": "@jupyter-widgets/base",
            "overflow": null,
            "_model_module_version": "1.2.0",
            "_view_count": null,
            "flex_flow": null,
            "width": null,
            "min_width": null,
            "border": null,
            "align_items": null,
            "bottom": null,
            "_model_module": "@jupyter-widgets/base",
            "top": null,
            "grid_column": null,
            "overflow_y": null,
            "overflow_x": null,
            "grid_auto_flow": null,
            "grid_area": null,
            "grid_template_columns": null,
            "flex": null,
            "_model_name": "LayoutModel",
            "justify_items": null,
            "grid_row": null,
            "max_height": null,
            "align_content": null,
            "visibility": null,
            "align_self": null,
            "height": null,
            "min_height": null,
            "padding": null,
            "grid_auto_rows": null,
            "grid_gap": null,
            "max_width": null,
            "order": null,
            "_view_module_version": "1.2.0",
            "grid_template_areas": null,
            "object_position": null,
            "object_fit": null,
            "grid_auto_columns": null,
            "margin": null,
            "display": null,
            "left": null
          }
        },
        "62cbdacae6ce4b17b712bbb06d48f2a4": {
          "model_module": "@jupyter-widgets/controls",
          "model_name": "DescriptionStyleModel",
          "state": {
            "_view_name": "StyleView",
            "_model_name": "DescriptionStyleModel",
            "description_width": "",
            "_view_module": "@jupyter-widgets/base",
            "_model_module_version": "1.5.0",
            "_view_count": null,
            "_view_module_version": "1.2.0",
            "_model_module": "@jupyter-widgets/controls"
          }
        },
        "21a6ca62d9204928bedc1c9867f44c8c": {
          "model_module": "@jupyter-widgets/base",
          "model_name": "LayoutModel",
          "state": {
            "_view_name": "LayoutView",
            "grid_template_rows": null,
            "right": null,
            "justify_content": null,
            "_view_module": "@jupyter-widgets/base",
            "overflow": null,
            "_model_module_version": "1.2.0",
            "_view_count": null,
            "flex_flow": null,
            "width": null,
            "min_width": null,
            "border": null,
            "align_items": null,
            "bottom": null,
            "_model_module": "@jupyter-widgets/base",
            "top": null,
            "grid_column": null,
            "overflow_y": null,
            "overflow_x": null,
            "grid_auto_flow": null,
            "grid_area": null,
            "grid_template_columns": null,
            "flex": null,
            "_model_name": "LayoutModel",
            "justify_items": null,
            "grid_row": null,
            "max_height": null,
            "align_content": null,
            "visibility": null,
            "align_self": null,
            "height": null,
            "min_height": null,
            "padding": null,
            "grid_auto_rows": null,
            "grid_gap": null,
            "max_width": null,
            "order": null,
            "_view_module_version": "1.2.0",
            "grid_template_areas": null,
            "object_position": null,
            "object_fit": null,
            "grid_auto_columns": null,
            "margin": null,
            "display": null,
            "left": null
          }
        },
        "fda0cdcf6bd841a1b4cc85bb8a5f3250": {
          "model_module": "@jupyter-widgets/controls",
          "model_name": "HBoxModel",
          "state": {
            "_view_name": "HBoxView",
            "_dom_classes": [],
            "_model_name": "HBoxModel",
            "_view_module": "@jupyter-widgets/controls",
            "_model_module_version": "1.5.0",
            "_view_count": null,
            "_view_module_version": "1.5.0",
            "box_style": "",
            "layout": "IPY_MODEL_7f2c599d38814d948587be56cb363628",
            "_model_module": "@jupyter-widgets/controls",
            "children": [
              "IPY_MODEL_e630607a58e341a5bfc4a5b56e6b45bd",
              "IPY_MODEL_f2873cf2cdf641248d35d1594c90026f"
            ]
          }
        },
        "7f2c599d38814d948587be56cb363628": {
          "model_module": "@jupyter-widgets/base",
          "model_name": "LayoutModel",
          "state": {
            "_view_name": "LayoutView",
            "grid_template_rows": null,
            "right": null,
            "justify_content": null,
            "_view_module": "@jupyter-widgets/base",
            "overflow": null,
            "_model_module_version": "1.2.0",
            "_view_count": null,
            "flex_flow": null,
            "width": null,
            "min_width": null,
            "border": null,
            "align_items": null,
            "bottom": null,
            "_model_module": "@jupyter-widgets/base",
            "top": null,
            "grid_column": null,
            "overflow_y": null,
            "overflow_x": null,
            "grid_auto_flow": null,
            "grid_area": null,
            "grid_template_columns": null,
            "flex": null,
            "_model_name": "LayoutModel",
            "justify_items": null,
            "grid_row": null,
            "max_height": null,
            "align_content": null,
            "visibility": null,
            "align_self": null,
            "height": null,
            "min_height": null,
            "padding": null,
            "grid_auto_rows": null,
            "grid_gap": null,
            "max_width": null,
            "order": null,
            "_view_module_version": "1.2.0",
            "grid_template_areas": null,
            "object_position": null,
            "object_fit": null,
            "grid_auto_columns": null,
            "margin": null,
            "display": null,
            "left": null
          }
        },
        "e630607a58e341a5bfc4a5b56e6b45bd": {
          "model_module": "@jupyter-widgets/controls",
          "model_name": "FloatProgressModel",
          "state": {
            "_view_name": "ProgressView",
            "style": "IPY_MODEL_30db07dd72644fa29ca2a95203cc6749",
            "_dom_classes": [],
            "description": "",
            "_model_name": "FloatProgressModel",
            "bar_style": "success",
            "max": 170498071,
            "_view_module": "@jupyter-widgets/controls",
            "_model_module_version": "1.5.0",
            "value": 170498071,
            "_view_count": null,
            "_view_module_version": "1.5.0",
            "orientation": "horizontal",
            "min": 0,
            "description_tooltip": null,
            "_model_module": "@jupyter-widgets/controls",
            "layout": "IPY_MODEL_f42463b2ad294c0ab3977805b695930d"
          }
        },
        "f2873cf2cdf641248d35d1594c90026f": {
          "model_module": "@jupyter-widgets/controls",
          "model_name": "HTMLModel",
          "state": {
            "_view_name": "HTMLView",
            "style": "IPY_MODEL_f8b382b3eeea487fa09aa4477abcdf74",
            "_dom_classes": [],
            "description": "",
            "_model_name": "HTMLModel",
            "placeholder": "​",
            "_view_module": "@jupyter-widgets/controls",
            "_model_module_version": "1.5.0",
            "value": " 170499072/? [00:11&lt;00:00, 14440758.66it/s]",
            "_view_count": null,
            "_view_module_version": "1.5.0",
            "description_tooltip": null,
            "_model_module": "@jupyter-widgets/controls",
            "layout": "IPY_MODEL_157cdb9378564f798db6ba96d56ca13e"
          }
        },
        "30db07dd72644fa29ca2a95203cc6749": {
          "model_module": "@jupyter-widgets/controls",
          "model_name": "ProgressStyleModel",
          "state": {
            "_view_name": "StyleView",
            "_model_name": "ProgressStyleModel",
            "description_width": "initial",
            "_view_module": "@jupyter-widgets/base",
            "_model_module_version": "1.5.0",
            "_view_count": null,
            "_view_module_version": "1.2.0",
            "bar_color": null,
            "_model_module": "@jupyter-widgets/controls"
          }
        },
        "f42463b2ad294c0ab3977805b695930d": {
          "model_module": "@jupyter-widgets/base",
          "model_name": "LayoutModel",
          "state": {
            "_view_name": "LayoutView",
            "grid_template_rows": null,
            "right": null,
            "justify_content": null,
            "_view_module": "@jupyter-widgets/base",
            "overflow": null,
            "_model_module_version": "1.2.0",
            "_view_count": null,
            "flex_flow": null,
            "width": null,
            "min_width": null,
            "border": null,
            "align_items": null,
            "bottom": null,
            "_model_module": "@jupyter-widgets/base",
            "top": null,
            "grid_column": null,
            "overflow_y": null,
            "overflow_x": null,
            "grid_auto_flow": null,
            "grid_area": null,
            "grid_template_columns": null,
            "flex": null,
            "_model_name": "LayoutModel",
            "justify_items": null,
            "grid_row": null,
            "max_height": null,
            "align_content": null,
            "visibility": null,
            "align_self": null,
            "height": null,
            "min_height": null,
            "padding": null,
            "grid_auto_rows": null,
            "grid_gap": null,
            "max_width": null,
            "order": null,
            "_view_module_version": "1.2.0",
            "grid_template_areas": null,
            "object_position": null,
            "object_fit": null,
            "grid_auto_columns": null,
            "margin": null,
            "display": null,
            "left": null
          }
        },
        "f8b382b3eeea487fa09aa4477abcdf74": {
          "model_module": "@jupyter-widgets/controls",
          "model_name": "DescriptionStyleModel",
          "state": {
            "_view_name": "StyleView",
            "_model_name": "DescriptionStyleModel",
            "description_width": "",
            "_view_module": "@jupyter-widgets/base",
            "_model_module_version": "1.5.0",
            "_view_count": null,
            "_view_module_version": "1.2.0",
            "_model_module": "@jupyter-widgets/controls"
          }
        },
        "157cdb9378564f798db6ba96d56ca13e": {
          "model_module": "@jupyter-widgets/base",
          "model_name": "LayoutModel",
          "state": {
            "_view_name": "LayoutView",
            "grid_template_rows": null,
            "right": null,
            "justify_content": null,
            "_view_module": "@jupyter-widgets/base",
            "overflow": null,
            "_model_module_version": "1.2.0",
            "_view_count": null,
            "flex_flow": null,
            "width": null,
            "min_width": null,
            "border": null,
            "align_items": null,
            "bottom": null,
            "_model_module": "@jupyter-widgets/base",
            "top": null,
            "grid_column": null,
            "overflow_y": null,
            "overflow_x": null,
            "grid_auto_flow": null,
            "grid_area": null,
            "grid_template_columns": null,
            "flex": null,
            "_model_name": "LayoutModel",
            "justify_items": null,
            "grid_row": null,
            "max_height": null,
            "align_content": null,
            "visibility": null,
            "align_self": null,
            "height": null,
            "min_height": null,
            "padding": null,
            "grid_auto_rows": null,
            "grid_gap": null,
            "max_width": null,
            "order": null,
            "_view_module_version": "1.2.0",
            "grid_template_areas": null,
            "object_position": null,
            "object_fit": null,
            "grid_auto_columns": null,
            "margin": null,
            "display": null,
            "left": null
          }
        }
      }
    }
  },
  "cells": [
    {
      "cell_type": "markdown",
      "metadata": {
        "id": "IDT1Xwv9RZXb"
      },
      "source": [
        "## Import Libraries"
      ]
    },
    {
      "cell_type": "code",
      "metadata": {
        "colab": {
          "base_uri": "https://localhost:8080/"
        },
        "id": "vEujzAIePqnn",
        "outputId": "e2ac795e-b298-4789-d853-9960b96d3278"
      },
      "source": [
        "!nvidia-smi"
      ],
      "execution_count": 1,
      "outputs": [
        {
          "output_type": "stream",
          "text": [
            "Thu Apr 29 20:08:00 2021       \n",
            "+-----------------------------------------------------------------------------+\n",
            "| NVIDIA-SMI 465.19.01    Driver Version: 460.32.03    CUDA Version: 11.2     |\n",
            "|-------------------------------+----------------------+----------------------+\n",
            "| GPU  Name        Persistence-M| Bus-Id        Disp.A | Volatile Uncorr. ECC |\n",
            "| Fan  Temp  Perf  Pwr:Usage/Cap|         Memory-Usage | GPU-Util  Compute M. |\n",
            "|                               |                      |               MIG M. |\n",
            "|===============================+======================+======================|\n",
            "|   0  Tesla V100-SXM2...  Off  | 00000000:00:04.0 Off |                    0 |\n",
            "| N/A   41C    P0    27W / 300W |      0MiB / 16160MiB |      0%      Default |\n",
            "|                               |                      |                  N/A |\n",
            "+-------------------------------+----------------------+----------------------+\n",
            "                                                                               \n",
            "+-----------------------------------------------------------------------------+\n",
            "| Processes:                                                                  |\n",
            "|  GPU   GI   CI        PID   Type   Process name                  GPU Memory |\n",
            "|        ID   ID                                                   Usage      |\n",
            "|=============================================================================|\n",
            "|  No running processes found                                                 |\n",
            "+-----------------------------------------------------------------------------+\n"
          ],
          "name": "stdout"
        }
      ]
    },
    {
      "cell_type": "code",
      "metadata": {
        "id": "Je-f_fI7aVgr"
      },
      "source": [
        "!pip install -q einops"
      ],
      "execution_count": 2,
      "outputs": []
    },
    {
      "cell_type": "code",
      "metadata": {
        "id": "qq-e52uORIVg"
      },
      "source": [
        "import os\n",
        "import random\n",
        "import numpy as np\n",
        "import torch\n",
        "import torch.nn as nn\n",
        "import torchvision\n",
        "import torch.nn.functional as F\n",
        "import torch.optim as optim\n",
        "from torchvision import datasets, models, transforms\n",
        "from torch import einsum\n",
        "from PIL import Image\n",
        "from torch.utils.data import DataLoader, Dataset\n",
        "from torchvision import datasets, transforms\n",
        "from tqdm.notebook import tqdm\n",
        "from einops import rearrange, repeat\n",
        "from einops.layers.torch import Rearrange"
      ],
      "execution_count": 3,
      "outputs": []
    },
    {
      "cell_type": "code",
      "metadata": {
        "colab": {
          "base_uri": "https://localhost:8080/"
        },
        "id": "pV-E0IFHRITw",
        "outputId": "89d2b83e-617f-4991-89e2-614f2e4abc04"
      },
      "source": [
        "print(f\"Torch: {torch.__version__}\")"
      ],
      "execution_count": 4,
      "outputs": [
        {
          "output_type": "stream",
          "text": [
            "Torch: 1.8.1+cu101\n"
          ],
          "name": "stdout"
        }
      ]
    },
    {
      "cell_type": "code",
      "metadata": {
        "id": "mSO-6jwwlYzO"
      },
      "source": [
        "def seed_everything(seed):\n",
        "    random.seed(seed)\n",
        "    os.environ['PYTHONHASHSEED'] = str(seed)\n",
        "    np.random.seed(seed)\n",
        "    torch.manual_seed(seed)\n",
        "    torch.cuda.manual_seed(seed)\n",
        "    torch.cuda.manual_seed_all(seed)\n",
        "    torch.backends.cudnn.deterministic = True\n",
        "\n",
        "seed_everything(11785)"
      ],
      "execution_count": 5,
      "outputs": []
    },
    {
      "cell_type": "code",
      "metadata": {
        "id": "ZS5Jp9SBRgQr"
      },
      "source": [
        "device = 'cuda'"
      ],
      "execution_count": 6,
      "outputs": []
    },
    {
      "cell_type": "code",
      "metadata": {
        "id": "l_0631Qvbi_3"
      },
      "source": [
        "img_size = ((64, 64)) \n",
        "\n",
        "transforms_train = transforms.Compose([\n",
        "    transforms.Resize(img_size),\n",
        "    transforms.ColorJitter(hue=.05, saturation=.05),\n",
        "    transforms.RandomHorizontalFlip(p=0.3),\n",
        "    transforms.RandomVerticalFlip(p=0.3),\n",
        "    transforms.RandomRotation(10, interpolation=torchvision.transforms.InterpolationMode.BILINEAR),\n",
        "    transforms.RandomCrop(img_size, fill=0),\n",
        "    transforms.RandomAffine(10, scale=(0.8, 1.2)),\n",
        "    transforms.ToTensor(),\n",
        "    transforms.Normalize((0.485, 0.456, 0.406), (0.229, 0.224, 0.225))\n",
        "])\n",
        "\n",
        "transforms_val = transforms.Compose([\n",
        "    transforms.Resize(img_size),\n",
        "    transforms.ToTensor(),\n",
        "    transforms.Normalize((0.485, 0.456, 0.406), (0.229, 0.224, 0.225))\n",
        "])"
      ],
      "execution_count": 8,
      "outputs": []
    },
    {
      "cell_type": "markdown",
      "metadata": {
        "id": "ZEIyZaYXRkZF"
      },
      "source": [
        "## Load Data"
      ]
    },
    {
      "cell_type": "code",
      "metadata": {
        "colab": {
          "base_uri": "https://localhost:8080/",
          "height": 235,
          "referenced_widgets": [
            "3978ddc7d462477ab2ed8bff9a0c4f39",
            "91e88e05ad2c4d458c63b86299af5ea7",
            "71e627f47bfe4fe7b77cadacbc437aa9",
            "9397abbc03354de69d759feddb4b29af",
            "a4205e4d9afe47989b4173dc20d9ce56",
            "fd3337fb674a472b983cab31923075f9",
            "62cbdacae6ce4b17b712bbb06d48f2a4",
            "21a6ca62d9204928bedc1c9867f44c8c",
            "fda0cdcf6bd841a1b4cc85bb8a5f3250",
            "7f2c599d38814d948587be56cb363628",
            "e630607a58e341a5bfc4a5b56e6b45bd",
            "f2873cf2cdf641248d35d1594c90026f",
            "30db07dd72644fa29ca2a95203cc6749",
            "f42463b2ad294c0ab3977805b695930d",
            "f8b382b3eeea487fa09aa4477abcdf74",
            "157cdb9378564f798db6ba96d56ca13e"
          ]
        },
        "id": "hTsnUVjBbOKG",
        "outputId": "53243b28-c236-49e4-d9f5-fd1032c78768"
      },
      "source": [
        "train_data = torchvision.datasets.CIFAR10(train=True,download=True,root= \"./cifar10/train_data\", transform=transforms_train)\n",
        "train_loader = torch.utils.data.DataLoader(train_data, batch_size=128,\n",
        "                                          shuffle=True, num_workers=8)\n",
        "\n",
        "valid_data = torchvision.datasets.CIFAR10(train=False,download=True,root= \"./cifar10/test_data\", transform=transforms_val)\n",
        "valid_loader = torch.utils.data.DataLoader(valid_data, batch_size=32,\n",
        "                                         shuffle=False, num_workers=8)"
      ],
      "execution_count": 9,
      "outputs": [
        {
          "output_type": "stream",
          "text": [
            "Downloading https://www.cs.toronto.edu/~kriz/cifar-10-python.tar.gz to ./cifar10/train_data/cifar-10-python.tar.gz\n"
          ],
          "name": "stdout"
        },
        {
          "output_type": "display_data",
          "data": {
            "application/vnd.jupyter.widget-view+json": {
              "model_id": "3978ddc7d462477ab2ed8bff9a0c4f39",
              "version_minor": 0,
              "version_major": 2
            },
            "text/plain": [
              "HBox(children=(FloatProgress(value=0.0, max=170498071.0), HTML(value='')))"
            ]
          },
          "metadata": {
            "tags": []
          }
        },
        {
          "output_type": "stream",
          "text": [
            "\n",
            "Extracting ./cifar10/train_data/cifar-10-python.tar.gz to ./cifar10/train_data\n"
          ],
          "name": "stdout"
        },
        {
          "output_type": "stream",
          "text": [
            "/usr/local/lib/python3.7/dist-packages/torch/utils/data/dataloader.py:477: UserWarning: This DataLoader will create 8 worker processes in total. Our suggested max number of worker in current system is 4, which is smaller than what this DataLoader is going to create. Please be aware that excessive worker creation might get DataLoader running slow or even freeze, lower the worker number to avoid potential slowness/freeze if necessary.\n",
            "  cpuset_checked))\n"
          ],
          "name": "stderr"
        },
        {
          "output_type": "stream",
          "text": [
            "Downloading https://www.cs.toronto.edu/~kriz/cifar-10-python.tar.gz to ./cifar10/test_data/cifar-10-python.tar.gz\n"
          ],
          "name": "stdout"
        },
        {
          "output_type": "display_data",
          "data": {
            "application/vnd.jupyter.widget-view+json": {
              "model_id": "fda0cdcf6bd841a1b4cc85bb8a5f3250",
              "version_minor": 0,
              "version_major": 2
            },
            "text/plain": [
              "HBox(children=(FloatProgress(value=0.0, max=170498071.0), HTML(value='')))"
            ]
          },
          "metadata": {
            "tags": []
          }
        },
        {
          "output_type": "stream",
          "text": [
            "\n",
            "Extracting ./cifar10/test_data/cifar-10-python.tar.gz to ./cifar10/test_data\n"
          ],
          "name": "stdout"
        }
      ]
    },
    {
      "cell_type": "code",
      "metadata": {
        "colab": {
          "base_uri": "https://localhost:8080/"
        },
        "id": "JiIcaG1zSZLA",
        "outputId": "8bbc23fd-ea89-42d1-d8f7-d016a168dd50"
      },
      "source": [
        "print(len(train_data), len(train_loader))"
      ],
      "execution_count": 10,
      "outputs": [
        {
          "output_type": "stream",
          "text": [
            "50000 391\n"
          ],
          "name": "stdout"
        }
      ]
    },
    {
      "cell_type": "code",
      "metadata": {
        "colab": {
          "base_uri": "https://localhost:8080/"
        },
        "id": "hLLq3UCRSZIo",
        "outputId": "e754b1b1-8e14-4be7-8157-396e10e28a03"
      },
      "source": [
        "print(len(valid_data), len(valid_loader))"
      ],
      "execution_count": 11,
      "outputs": [
        {
          "output_type": "stream",
          "text": [
            "10000 313\n"
          ],
          "name": "stdout"
        }
      ]
    },
    {
      "cell_type": "markdown",
      "metadata": {
        "id": "8VCgoZBvovkx"
      },
      "source": [
        "### Visual Transformer"
      ]
    },
    {
      "cell_type": "code",
      "metadata": {
        "id": "c3zuPy1RZeH1"
      },
      "source": [
        "class PreNorm(nn.Module):\n",
        "    def __init__(self, dim, fn):\n",
        "        super().__init__()\n",
        "        self.norm = nn.LayerNorm(dim)\n",
        "        self.fn = fn\n",
        "    def forward(self, x, **kwargs):\n",
        "        return self.fn(self.norm(x), **kwargs)\n",
        "\n",
        "class FeedForward(nn.Module):\n",
        "    def __init__(self, dim, hidden_dim, dropout = 0.):\n",
        "        super().__init__()\n",
        "        self.net = nn.Sequential(\n",
        "            nn.Linear(dim, hidden_dim),\n",
        "            nn.GELU(),\n",
        "            nn.Dropout(dropout),\n",
        "            nn.Linear(hidden_dim, dim),\n",
        "            nn.Dropout(dropout)\n",
        "        )\n",
        "    def forward(self, x):\n",
        "        return self.net(x)\n",
        "\n",
        "class Attention(nn.Module):\n",
        "    def __init__(self, dim, heads = 8, dim_head = 64, dropout = 0.):\n",
        "        super().__init__()\n",
        "        inner_dim = dim_head *  heads\n",
        "        project_out = not (heads == 1 and dim_head == dim)\n",
        "\n",
        "        self.heads = heads\n",
        "        self.scale = dim_head ** -0.5\n",
        "\n",
        "        self.attend = nn.Softmax(dim = -1)\n",
        "        self.to_qkv = nn.Linear(dim, inner_dim * 3, bias = False)\n",
        "\n",
        "        self.to_out = nn.Sequential(\n",
        "            nn.Linear(inner_dim, dim),\n",
        "            nn.Dropout(dropout)\n",
        "        ) if project_out else nn.Identity()\n",
        "\n",
        "    def forward(self, x):\n",
        "        b, n, _, h = *x.shape, self.heads\n",
        "        qkv = self.to_qkv(x).chunk(3, dim = -1)\n",
        "        q, k, v = map(lambda t: rearrange(t, 'b n (h d) -> b h n d', h = h), qkv)\n",
        "\n",
        "        dots = einsum('b h i d, b h j d -> b h i j', q, k) * self.scale\n",
        "\n",
        "        attn = self.attend(dots)\n",
        "\n",
        "        out = einsum('b h i j, b h j d -> b h i d', attn, v)\n",
        "        out = rearrange(out, 'b h n d -> b n (h d)')\n",
        "        return self.to_out(out)\n",
        "\n",
        "class Transformer(nn.Module):\n",
        "    def __init__(self, dim, depth, heads, dim_head, mlp_dim, dropout = 0.):\n",
        "        super().__init__()\n",
        "        self.layers = nn.ModuleList([])\n",
        "        for _ in range(depth):\n",
        "            self.layers.append(nn.ModuleList([\n",
        "                PreNorm(dim, Attention(dim, heads = heads, dim_head = dim_head, dropout = dropout)),\n",
        "                PreNorm(dim, FeedForward(dim, mlp_dim, dropout = dropout))\n",
        "            ]))\n",
        "    def forward(self, x):\n",
        "        for attn, ff in self.layers:\n",
        "            x = attn(x) + x\n",
        "            x = ff(x) + x\n",
        "        return x\n",
        "\n",
        "class ViT(nn.Module):\n",
        "    def __init__(self, *, image_size, patch_size, num_classes, dim, depth, heads, mlp_dim, pool = 'cls', channels = 3, dim_head = 64, dropout = 0., emb_dropout = 0.):\n",
        "        super().__init__()\n",
        "        assert image_size % patch_size == 0, 'Image dimensions must be divisible by the patch size.'\n",
        "        num_patches = (image_size // patch_size) ** 2\n",
        "        patch_dim = channels * patch_size ** 2\n",
        "        assert pool in {'cls', 'mean'}, 'pool type must be either cls (cls token) or mean (mean pooling)'\n",
        "\n",
        "        self.to_patch_embedding = nn.Sequential(\n",
        "            Rearrange('b c (h p1) (w p2) -> b (h w) (p1 p2 c)', p1 = patch_size, p2 = patch_size),\n",
        "            nn.Linear(patch_dim, dim),\n",
        "        )\n",
        "\n",
        "        self.pos_embedding = nn.Parameter(torch.randn(1, num_patches + 1, dim))\n",
        "        self.cls_token = nn.Parameter(torch.randn(1, 1, dim))\n",
        "        self.dropout = nn.Dropout(emb_dropout)\n",
        "\n",
        "        self.transformer = Transformer(dim, depth, heads, dim_head, mlp_dim, dropout)\n",
        "\n",
        "        self.pool = pool\n",
        "        self.to_latent = nn.Identity()\n",
        "\n",
        "        self.mlp_head = nn.Sequential(\n",
        "            nn.LayerNorm(dim),\n",
        "            nn.Linear(dim, num_classes)\n",
        "        )\n",
        "\n",
        "    def forward(self, img):\n",
        "        x = self.to_patch_embedding(img)\n",
        "        b, n, _ = x.shape\n",
        "\n",
        "        cls_tokens = repeat(self.cls_token, '() n d -> b n d', b = b)\n",
        "        x = torch.cat((cls_tokens, x), dim=1)\n",
        "        x += self.pos_embedding[:, :(n + 1)]\n",
        "        x = self.dropout(x)\n",
        "\n",
        "        x = self.transformer(x)\n",
        "\n",
        "        x = x.mean(dim = 1) if self.pool == 'mean' else x[:, 0]\n",
        "\n",
        "        x = self.to_latent(x)\n",
        "        return self.mlp_head(x)"
      ],
      "execution_count": 12,
      "outputs": []
    },
    {
      "cell_type": "code",
      "metadata": {
        "id": "Z3IoLgpkcFql"
      },
      "source": [
        "model = ViT(\n",
        "    image_size=64,\n",
        "    patch_size=8,\n",
        "    num_classes=10,\n",
        "    dim=512,\n",
        "    depth=6,\n",
        "    heads=8,\n",
        "    mlp_dim=1024,\n",
        "    dropout=0.2,\n",
        "    emb_dropout=0.1\n",
        ").to(device)"
      ],
      "execution_count": 15,
      "outputs": []
    },
    {
      "cell_type": "markdown",
      "metadata": {
        "id": "4u5YZG1eozIv"
      },
      "source": [
        "### Training"
      ]
    },
    {
      "cell_type": "code",
      "metadata": {
        "id": "2Go1icggSnrB"
      },
      "source": [
        "numEpochs = 100\n",
        "in_features = 3 # RGB channels\n",
        "\n",
        "learningRate = 0.03\n",
        "weightDecay = 5e-5\n",
        "\n",
        "num_classes = len(train_data.classes)\n",
        "\n",
        "criterion = nn.CrossEntropyLoss()\n",
        "optimizer = torch.optim.SGD(model.parameters(), lr=learningRate, weight_decay=weightDecay, momentum=0.9, nesterov=True)\n",
        "\n",
        "scheduler = torch.optim.lr_scheduler.ReduceLROnPlateau(optimizer, mode='max', factor=0.3, patience=3, threshold=0.002, verbose=True)"
      ],
      "execution_count": 16,
      "outputs": []
    },
    {
      "cell_type": "code",
      "metadata": {
        "id": "QsF6UcuGc981"
      },
      "source": [
        "my_acc = []\n",
        "my_loss = []"
      ],
      "execution_count": 17,
      "outputs": []
    },
    {
      "cell_type": "code",
      "metadata": {
        "colab": {
          "base_uri": "https://localhost:8080/"
        },
        "id": "KDBDOcxeU1eR",
        "outputId": "4c014ce1-5fb0-43d9-e379-a81ba98e38af"
      },
      "source": [
        "# Train!\n",
        "for epoch in range(numEpochs):\n",
        "    \n",
        "    # Train\n",
        "    model.train()\n",
        "    train_loss = 0.0\n",
        "    train_acc = 0.0\n",
        "    correct = 0\n",
        "\n",
        "    for batch_num, (x, y) in enumerate(train_loader):\n",
        "        optimizer.zero_grad()\n",
        "        \n",
        "        x, y = x.to(device), y.to(device)\n",
        "\n",
        "        outputs = model(x)\n",
        "\n",
        "        correct += (torch.argmax(outputs, axis=1) == y).sum().item()\n",
        "\n",
        "        loss = criterion(outputs, y.long())\n",
        "        loss.backward()\n",
        "        optimizer.step()\n",
        "\n",
        "        del(outputs)\n",
        "\n",
        "        train_loss += loss.item()\n",
        "\n",
        "        if batch_num % 100 == 0:\n",
        "            print('Epoch: {}\\tBatch: {}\\tAvg-Loss: {:.4f}'.format(epoch, batch_num+1, train_loss/(batch_num+1)))\n",
        "\n",
        "    train_accuracy = correct / len(train_data)\n",
        "\n",
        "    # Validate\n",
        "    model.eval()\n",
        "    num_correct = 0\n",
        "    for batch_num1, (x, y) in enumerate(valid_loader):\n",
        "        x, y = x.to(device), y.to(device)\n",
        "        outputs = model(x)\n",
        "\n",
        "        num_correct += (torch.argmax(outputs, axis=1) == y).sum().item()\n",
        "\n",
        "    val_accuracy = num_correct / len(valid_data)\n",
        "    my_acc.append(val_accuracy)\n",
        "    my_loss.append(train_loss/(batch_num+1))\n",
        "    print('Epoch: {}\\t Training Accuracy: {:.4f}\\t Validation Accuracy: {:.4f}\\t Avg-Loss: {:.4f}'.format(epoch, train_accuracy*100, val_accuracy * 100, train_loss/(batch_num+1)))\n",
        "    scheduler.step(val_accuracy)\n",
        "\n",
        "    #torch.save(network.state_dict(),'/content/drive/MyDrive/DL_CMU/HW2_P2/ResNet_Plateau_d3/Net_'+str(epoch)+'_'+str(val_accuracy)+'_checkpoint.t7')"
      ],
      "execution_count": null,
      "outputs": [
        {
          "output_type": "stream",
          "text": [
            "/usr/local/lib/python3.7/dist-packages/torch/utils/data/dataloader.py:477: UserWarning: This DataLoader will create 8 worker processes in total. Our suggested max number of worker in current system is 4, which is smaller than what this DataLoader is going to create. Please be aware that excessive worker creation might get DataLoader running slow or even freeze, lower the worker number to avoid potential slowness/freeze if necessary.\n",
            "  cpuset_checked))\n"
          ],
          "name": "stderr"
        },
        {
          "output_type": "stream",
          "text": [
            "Epoch: 0\tBatch: 1\tAvg-Loss: 2.4225\n",
            "Epoch: 0\tBatch: 101\tAvg-Loss: 3.2220\n",
            "Epoch: 0\tBatch: 201\tAvg-Loss: 2.6791\n",
            "Epoch: 0\tBatch: 301\tAvg-Loss: 2.4711\n",
            "Epoch: 0\t Training Accuracy: 21.6080\t Validation Accuracy: 30.4100\t Avg-Loss: 2.3525\n",
            "Epoch: 1\tBatch: 1\tAvg-Loss: 1.8711\n",
            "Epoch: 1\tBatch: 101\tAvg-Loss: 1.8781\n",
            "Epoch: 1\tBatch: 201\tAvg-Loss: 1.8455\n",
            "Epoch: 1\tBatch: 301\tAvg-Loss: 1.8156\n",
            "Epoch: 1\t Training Accuracy: 34.1600\t Validation Accuracy: 41.2900\t Avg-Loss: 1.7890\n",
            "Epoch: 2\tBatch: 1\tAvg-Loss: 1.7566\n",
            "Epoch: 2\tBatch: 101\tAvg-Loss: 1.6584\n",
            "Epoch: 2\tBatch: 201\tAvg-Loss: 1.6391\n",
            "Epoch: 2\tBatch: 301\tAvg-Loss: 1.6276\n",
            "Epoch: 2\t Training Accuracy: 40.8920\t Validation Accuracy: 46.0900\t Avg-Loss: 1.6157\n",
            "Epoch: 3\tBatch: 1\tAvg-Loss: 1.6257\n",
            "Epoch: 3\tBatch: 101\tAvg-Loss: 1.5394\n",
            "Epoch: 3\tBatch: 201\tAvg-Loss: 1.5356\n",
            "Epoch: 3\tBatch: 301\tAvg-Loss: 1.5287\n",
            "Epoch: 3\t Training Accuracy: 44.5060\t Validation Accuracy: 48.1000\t Avg-Loss: 1.5235\n",
            "Epoch: 4\tBatch: 1\tAvg-Loss: 1.6012\n",
            "Epoch: 4\tBatch: 101\tAvg-Loss: 1.4790\n",
            "Epoch: 4\tBatch: 201\tAvg-Loss: 1.4750\n",
            "Epoch: 4\tBatch: 301\tAvg-Loss: 1.4668\n",
            "Epoch: 4\t Training Accuracy: 46.8280\t Validation Accuracy: 52.6600\t Avg-Loss: 1.4610\n",
            "Epoch: 5\tBatch: 1\tAvg-Loss: 1.4633\n",
            "Epoch: 5\tBatch: 101\tAvg-Loss: 1.4152\n",
            "Epoch: 5\tBatch: 201\tAvg-Loss: 1.4074\n",
            "Epoch: 5\tBatch: 301\tAvg-Loss: 1.4037\n",
            "Epoch: 5\t Training Accuracy: 49.0980\t Validation Accuracy: 54.3600\t Avg-Loss: 1.4009\n",
            "Epoch: 6\tBatch: 1\tAvg-Loss: 1.2751\n",
            "Epoch: 6\tBatch: 101\tAvg-Loss: 1.3665\n",
            "Epoch: 6\tBatch: 201\tAvg-Loss: 1.3591\n",
            "Epoch: 6\tBatch: 301\tAvg-Loss: 1.3576\n",
            "Epoch: 6\t Training Accuracy: 51.0780\t Validation Accuracy: 54.5800\t Avg-Loss: 1.3561\n",
            "Epoch: 7\tBatch: 1\tAvg-Loss: 1.3085\n",
            "Epoch: 7\tBatch: 101\tAvg-Loss: 1.3259\n",
            "Epoch: 7\tBatch: 201\tAvg-Loss: 1.3219\n",
            "Epoch: 7\tBatch: 301\tAvg-Loss: 1.3210\n",
            "Epoch: 7\t Training Accuracy: 52.5200\t Validation Accuracy: 57.2800\t Avg-Loss: 1.3179\n",
            "Epoch: 8\tBatch: 1\tAvg-Loss: 1.4053\n",
            "Epoch: 8\tBatch: 101\tAvg-Loss: 1.2864\n",
            "Epoch: 8\tBatch: 201\tAvg-Loss: 1.2884\n",
            "Epoch: 8\tBatch: 301\tAvg-Loss: 1.2837\n",
            "Epoch: 8\t Training Accuracy: 53.9480\t Validation Accuracy: 58.1800\t Avg-Loss: 1.2823\n",
            "Epoch: 9\tBatch: 1\tAvg-Loss: 1.2649\n",
            "Epoch: 9\tBatch: 101\tAvg-Loss: 1.2721\n",
            "Epoch: 9\tBatch: 201\tAvg-Loss: 1.2603\n",
            "Epoch: 9\tBatch: 301\tAvg-Loss: 1.2516\n",
            "Epoch: 9\t Training Accuracy: 55.0520\t Validation Accuracy: 58.7000\t Avg-Loss: 1.2474\n",
            "Epoch: 10\tBatch: 1\tAvg-Loss: 1.3093\n",
            "Epoch: 10\tBatch: 101\tAvg-Loss: 1.2346\n",
            "Epoch: 10\tBatch: 201\tAvg-Loss: 1.2313\n",
            "Epoch: 10\tBatch: 301\tAvg-Loss: 1.2320\n",
            "Epoch: 10\t Training Accuracy: 56.3300\t Validation Accuracy: 59.6000\t Avg-Loss: 1.2226\n",
            "Epoch: 11\tBatch: 1\tAvg-Loss: 1.1914\n",
            "Epoch: 11\tBatch: 101\tAvg-Loss: 1.2043\n",
            "Epoch: 11\tBatch: 201\tAvg-Loss: 1.1996\n",
            "Epoch: 11\tBatch: 301\tAvg-Loss: 1.1976\n",
            "Epoch: 11\t Training Accuracy: 57.0940\t Validation Accuracy: 59.6900\t Avg-Loss: 1.1970\n",
            "Epoch: 12\tBatch: 1\tAvg-Loss: 1.0939\n",
            "Epoch: 12\tBatch: 101\tAvg-Loss: 1.1650\n",
            "Epoch: 12\tBatch: 201\tAvg-Loss: 1.1778\n",
            "Epoch: 12\tBatch: 301\tAvg-Loss: 1.1748\n",
            "Epoch: 12\t Training Accuracy: 58.0200\t Validation Accuracy: 60.2400\t Avg-Loss: 1.1759\n",
            "Epoch: 13\tBatch: 1\tAvg-Loss: 1.1544\n",
            "Epoch: 13\tBatch: 101\tAvg-Loss: 1.1457\n",
            "Epoch: 13\tBatch: 201\tAvg-Loss: 1.1553\n",
            "Epoch: 13\tBatch: 301\tAvg-Loss: 1.1497\n",
            "Epoch: 13\t Training Accuracy: 58.6780\t Validation Accuracy: 61.3900\t Avg-Loss: 1.1499\n",
            "Epoch: 14\tBatch: 1\tAvg-Loss: 1.0414\n",
            "Epoch: 14\tBatch: 101\tAvg-Loss: 1.1406\n",
            "Epoch: 14\tBatch: 201\tAvg-Loss: 1.1386\n",
            "Epoch: 14\tBatch: 301\tAvg-Loss: 1.1425\n",
            "Epoch: 14\t Training Accuracy: 59.4260\t Validation Accuracy: 62.8600\t Avg-Loss: 1.1359\n",
            "Epoch: 15\tBatch: 1\tAvg-Loss: 1.2519\n",
            "Epoch: 15\tBatch: 101\tAvg-Loss: 1.1157\n",
            "Epoch: 15\tBatch: 201\tAvg-Loss: 1.1143\n",
            "Epoch: 15\tBatch: 301\tAvg-Loss: 1.1108\n",
            "Epoch: 15\t Training Accuracy: 60.6020\t Validation Accuracy: 61.6900\t Avg-Loss: 1.1114\n",
            "Epoch: 16\tBatch: 1\tAvg-Loss: 1.3495\n",
            "Epoch: 16\tBatch: 101\tAvg-Loss: 1.1010\n",
            "Epoch: 16\tBatch: 201\tAvg-Loss: 1.0982\n",
            "Epoch: 16\tBatch: 301\tAvg-Loss: 1.0995\n",
            "Epoch: 16\t Training Accuracy: 60.8980\t Validation Accuracy: 62.7200\t Avg-Loss: 1.0992\n",
            "Epoch: 17\tBatch: 1\tAvg-Loss: 1.2068\n",
            "Epoch: 17\tBatch: 101\tAvg-Loss: 1.0864\n",
            "Epoch: 17\tBatch: 201\tAvg-Loss: 1.0834\n",
            "Epoch: 17\tBatch: 301\tAvg-Loss: 1.0836\n",
            "Epoch: 17\t Training Accuracy: 61.5160\t Validation Accuracy: 62.9900\t Avg-Loss: 1.0825\n",
            "Epoch: 18\tBatch: 1\tAvg-Loss: 1.0610\n",
            "Epoch: 18\tBatch: 101\tAvg-Loss: 1.0556\n",
            "Epoch: 18\tBatch: 201\tAvg-Loss: 1.0661\n",
            "Epoch: 18\tBatch: 301\tAvg-Loss: 1.0667\n",
            "Epoch: 18\t Training Accuracy: 61.9160\t Validation Accuracy: 64.2700\t Avg-Loss: 1.0648\n",
            "Epoch: 19\tBatch: 1\tAvg-Loss: 0.8767\n",
            "Epoch: 19\tBatch: 101\tAvg-Loss: 1.0413\n",
            "Epoch: 19\tBatch: 201\tAvg-Loss: 1.0561\n",
            "Epoch: 19\tBatch: 301\tAvg-Loss: 1.0498\n",
            "Epoch: 19\t Training Accuracy: 62.7720\t Validation Accuracy: 64.5400\t Avg-Loss: 1.0488\n",
            "Epoch: 20\tBatch: 1\tAvg-Loss: 0.9461\n",
            "Epoch: 20\tBatch: 101\tAvg-Loss: 1.0223\n",
            "Epoch: 20\tBatch: 201\tAvg-Loss: 1.0215\n",
            "Epoch: 20\tBatch: 301\tAvg-Loss: 1.0246\n",
            "Epoch: 20\t Training Accuracy: 63.2080\t Validation Accuracy: 65.9400\t Avg-Loss: 1.0311\n",
            "Epoch: 21\tBatch: 1\tAvg-Loss: 0.9741\n",
            "Epoch: 21\tBatch: 101\tAvg-Loss: 1.0237\n",
            "Epoch: 21\tBatch: 201\tAvg-Loss: 1.0204\n",
            "Epoch: 21\tBatch: 301\tAvg-Loss: 1.0245\n",
            "Epoch: 21\t Training Accuracy: 63.3580\t Validation Accuracy: 66.1900\t Avg-Loss: 1.0274\n",
            "Epoch: 22\tBatch: 1\tAvg-Loss: 0.8284\n",
            "Epoch: 22\tBatch: 101\tAvg-Loss: 1.0027\n",
            "Epoch: 22\tBatch: 201\tAvg-Loss: 0.9986\n",
            "Epoch: 22\tBatch: 301\tAvg-Loss: 1.0065\n",
            "Epoch: 22\t Training Accuracy: 64.0140\t Validation Accuracy: 67.0100\t Avg-Loss: 1.0069\n",
            "Epoch: 23\tBatch: 1\tAvg-Loss: 0.9781\n",
            "Epoch: 23\tBatch: 101\tAvg-Loss: 0.9918\n",
            "Epoch: 23\tBatch: 201\tAvg-Loss: 0.9974\n",
            "Epoch: 23\tBatch: 301\tAvg-Loss: 1.0032\n",
            "Epoch: 23\t Training Accuracy: 64.3820\t Validation Accuracy: 65.4900\t Avg-Loss: 0.9971\n",
            "Epoch: 24\tBatch: 1\tAvg-Loss: 1.0085\n",
            "Epoch: 24\tBatch: 101\tAvg-Loss: 0.9788\n",
            "Epoch: 24\tBatch: 201\tAvg-Loss: 0.9769\n",
            "Epoch: 24\tBatch: 301\tAvg-Loss: 0.9801\n",
            "Epoch: 24\t Training Accuracy: 65.1300\t Validation Accuracy: 66.9400\t Avg-Loss: 0.9795\n",
            "Epoch: 25\tBatch: 1\tAvg-Loss: 0.9461\n",
            "Epoch: 25\tBatch: 101\tAvg-Loss: 0.9577\n",
            "Epoch: 25\tBatch: 201\tAvg-Loss: 0.9652\n",
            "Epoch: 25\tBatch: 301\tAvg-Loss: 0.9657\n",
            "Epoch: 25\t Training Accuracy: 65.7400\t Validation Accuracy: 67.7300\t Avg-Loss: 0.9687\n",
            "Epoch: 26\tBatch: 1\tAvg-Loss: 0.8986\n",
            "Epoch: 26\tBatch: 101\tAvg-Loss: 0.9564\n",
            "Epoch: 26\tBatch: 201\tAvg-Loss: 0.9471\n",
            "Epoch: 26\tBatch: 301\tAvg-Loss: 0.9502\n",
            "Epoch: 26\t Training Accuracy: 66.0400\t Validation Accuracy: 68.8800\t Avg-Loss: 0.9529\n",
            "Epoch: 27\tBatch: 1\tAvg-Loss: 0.7199\n",
            "Epoch: 27\tBatch: 101\tAvg-Loss: 0.9438\n",
            "Epoch: 27\tBatch: 201\tAvg-Loss: 0.9488\n",
            "Epoch: 27\tBatch: 301\tAvg-Loss: 0.9464\n",
            "Epoch: 27\t Training Accuracy: 66.4840\t Validation Accuracy: 67.2400\t Avg-Loss: 0.9450\n",
            "Epoch: 28\tBatch: 1\tAvg-Loss: 0.8665\n",
            "Epoch: 28\tBatch: 101\tAvg-Loss: 0.9348\n",
            "Epoch: 28\tBatch: 201\tAvg-Loss: 0.9315\n",
            "Epoch: 28\tBatch: 301\tAvg-Loss: 0.9366\n",
            "Epoch: 28\t Training Accuracy: 66.6040\t Validation Accuracy: 67.5700\t Avg-Loss: 0.9349\n",
            "Epoch: 29\tBatch: 1\tAvg-Loss: 1.0357\n",
            "Epoch: 29\tBatch: 101\tAvg-Loss: 0.9249\n",
            "Epoch: 29\tBatch: 201\tAvg-Loss: 0.9214\n",
            "Epoch: 29\tBatch: 301\tAvg-Loss: 0.9235\n",
            "Epoch: 29\t Training Accuracy: 66.8600\t Validation Accuracy: 68.3000\t Avg-Loss: 0.9232\n",
            "Epoch: 30\tBatch: 1\tAvg-Loss: 0.8644\n",
            "Epoch: 30\tBatch: 101\tAvg-Loss: 0.9081\n",
            "Epoch: 30\tBatch: 201\tAvg-Loss: 0.9162\n",
            "Epoch: 30\tBatch: 301\tAvg-Loss: 0.9129\n",
            "Epoch: 30\t Training Accuracy: 67.6260\t Validation Accuracy: 69.1500\t Avg-Loss: 0.9105\n",
            "Epoch: 31\tBatch: 1\tAvg-Loss: 0.9557\n",
            "Epoch: 31\tBatch: 101\tAvg-Loss: 0.8847\n",
            "Epoch: 31\tBatch: 201\tAvg-Loss: 0.8940\n",
            "Epoch: 31\tBatch: 301\tAvg-Loss: 0.9020\n",
            "Epoch: 31\t Training Accuracy: 67.6440\t Validation Accuracy: 69.2900\t Avg-Loss: 0.9024\n",
            "Epoch: 32\tBatch: 1\tAvg-Loss: 0.7846\n",
            "Epoch: 32\tBatch: 101\tAvg-Loss: 0.8867\n",
            "Epoch: 32\tBatch: 201\tAvg-Loss: 0.8839\n",
            "Epoch: 32\tBatch: 301\tAvg-Loss: 0.8881\n",
            "Epoch: 32\t Training Accuracy: 68.2760\t Validation Accuracy: 69.1000\t Avg-Loss: 0.8899\n",
            "Epoch: 33\tBatch: 1\tAvg-Loss: 0.8977\n",
            "Epoch: 33\tBatch: 101\tAvg-Loss: 0.8767\n",
            "Epoch: 33\tBatch: 201\tAvg-Loss: 0.8818\n",
            "Epoch: 33\tBatch: 301\tAvg-Loss: 0.8821\n",
            "Epoch: 33\t Training Accuracy: 68.8180\t Validation Accuracy: 69.0900\t Avg-Loss: 0.8836\n",
            "Epoch: 34\tBatch: 1\tAvg-Loss: 0.8860\n",
            "Epoch: 34\tBatch: 101\tAvg-Loss: 0.8522\n",
            "Epoch: 34\tBatch: 201\tAvg-Loss: 0.8628\n",
            "Epoch: 34\tBatch: 301\tAvg-Loss: 0.8700\n",
            "Epoch: 34\t Training Accuracy: 69.0740\t Validation Accuracy: 70.6200\t Avg-Loss: 0.8730\n",
            "Epoch: 35\tBatch: 1\tAvg-Loss: 0.8542\n",
            "Epoch: 35\tBatch: 101\tAvg-Loss: 0.8566\n",
            "Epoch: 35\tBatch: 201\tAvg-Loss: 0.8577\n",
            "Epoch: 35\tBatch: 301\tAvg-Loss: 0.8612\n",
            "Epoch: 35\t Training Accuracy: 69.3300\t Validation Accuracy: 70.5500\t Avg-Loss: 0.8616\n",
            "Epoch: 36\tBatch: 1\tAvg-Loss: 0.8319\n",
            "Epoch: 36\tBatch: 101\tAvg-Loss: 0.8497\n",
            "Epoch: 36\tBatch: 201\tAvg-Loss: 0.8480\n",
            "Epoch: 36\tBatch: 301\tAvg-Loss: 0.8511\n",
            "Epoch: 36\t Training Accuracy: 69.8460\t Validation Accuracy: 70.5900\t Avg-Loss: 0.8537\n",
            "Epoch: 37\tBatch: 1\tAvg-Loss: 0.8909\n",
            "Epoch: 37\tBatch: 101\tAvg-Loss: 0.8514\n",
            "Epoch: 37\tBatch: 201\tAvg-Loss: 0.8364\n",
            "Epoch: 37\tBatch: 301\tAvg-Loss: 0.8438\n",
            "Epoch: 37\t Training Accuracy: 70.3060\t Validation Accuracy: 71.5800\t Avg-Loss: 0.8397\n",
            "Epoch: 38\tBatch: 1\tAvg-Loss: 0.7275\n",
            "Epoch: 38\tBatch: 101\tAvg-Loss: 0.8260\n",
            "Epoch: 38\tBatch: 201\tAvg-Loss: 0.8352\n",
            "Epoch: 38\tBatch: 301\tAvg-Loss: 0.8375\n",
            "Epoch: 38\t Training Accuracy: 70.0460\t Validation Accuracy: 71.3800\t Avg-Loss: 0.8374\n",
            "Epoch: 39\tBatch: 1\tAvg-Loss: 0.7837\n",
            "Epoch: 39\tBatch: 101\tAvg-Loss: 0.8132\n",
            "Epoch: 39\tBatch: 201\tAvg-Loss: 0.8202\n",
            "Epoch: 39\tBatch: 301\tAvg-Loss: 0.8219\n",
            "Epoch: 39\t Training Accuracy: 70.5800\t Validation Accuracy: 70.6600\t Avg-Loss: 0.8249\n",
            "Epoch: 40\tBatch: 1\tAvg-Loss: 0.6558\n",
            "Epoch: 40\tBatch: 101\tAvg-Loss: 0.8032\n",
            "Epoch: 40\tBatch: 201\tAvg-Loss: 0.8060\n",
            "Epoch: 40\tBatch: 301\tAvg-Loss: 0.8109\n",
            "Epoch: 40\t Training Accuracy: 71.0140\t Validation Accuracy: 70.8000\t Avg-Loss: 0.8141\n",
            "Epoch: 41\tBatch: 1\tAvg-Loss: 0.7238\n",
            "Epoch: 41\tBatch: 101\tAvg-Loss: 0.8034\n",
            "Epoch: 41\tBatch: 201\tAvg-Loss: 0.8008\n",
            "Epoch: 41\tBatch: 301\tAvg-Loss: 0.8015\n",
            "Epoch: 41\t Training Accuracy: 71.3100\t Validation Accuracy: 72.1100\t Avg-Loss: 0.8041\n",
            "Epoch: 42\tBatch: 1\tAvg-Loss: 0.8227\n",
            "Epoch: 42\tBatch: 101\tAvg-Loss: 0.7871\n",
            "Epoch: 42\tBatch: 201\tAvg-Loss: 0.7954\n",
            "Epoch: 42\tBatch: 301\tAvg-Loss: 0.7978\n",
            "Epoch: 42\t Training Accuracy: 71.5540\t Validation Accuracy: 71.7900\t Avg-Loss: 0.7998\n",
            "Epoch: 43\tBatch: 1\tAvg-Loss: 0.8430\n",
            "Epoch: 43\tBatch: 101\tAvg-Loss: 0.7908\n",
            "Epoch: 43\tBatch: 201\tAvg-Loss: 0.7930\n",
            "Epoch: 43\tBatch: 301\tAvg-Loss: 0.7887\n",
            "Epoch: 43\t Training Accuracy: 72.0260\t Validation Accuracy: 72.0400\t Avg-Loss: 0.7877\n",
            "Epoch: 44\tBatch: 1\tAvg-Loss: 0.7177\n",
            "Epoch: 44\tBatch: 101\tAvg-Loss: 0.7726\n"
          ],
          "name": "stdout"
        }
      ]
    },
    {
      "cell_type": "code",
      "metadata": {
        "id": "kl7r45-FUmfC"
      },
      "source": [
        ""
      ],
      "execution_count": null,
      "outputs": []
    }
  ]
}