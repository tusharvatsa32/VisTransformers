{
  "nbformat": 4,
  "nbformat_minor": 0,
  "metadata": {
    "accelerator": "GPU",
    "celltoolbar": "Edit Metadata",
    "colab": {
      "name": "ViT_scratch_cifar100.ipynb",
      "provenance": [],
      "collapsed_sections": [],
      "machine_shape": "hm",
      "include_colab_link": true
    },
    "kernelspec": {
      "display_name": "Python 3",
      "language": "python",
      "name": "python3"
    },
    "language_info": {
      "codemirror_mode": {
        "name": "ipython",
        "version": 3
      },
      "file_extension": ".py",
      "mimetype": "text/x-python",
      "name": "python",
      "nbconvert_exporter": "python",
      "pygments_lexer": "ipython3",
      "version": "3.8.5"
    },
    "toc": {
      "base_numbering": 1,
      "nav_menu": {},
      "number_sections": true,
      "sideBar": true,
      "skip_h1_title": false,
      "title_cell": "Table of Contents",
      "title_sidebar": "Contents",
      "toc_cell": false,
      "toc_position": {},
      "toc_section_display": true,
      "toc_window_display": false
    },
    "widgets": {
      "application/vnd.jupyter.widget-state+json": {
        "912fe5dfba3a4df3ae28d4883b12b930": {
          "model_module": "@jupyter-widgets/controls",
          "model_name": "HBoxModel",
          "state": {
            "_view_name": "HBoxView",
            "_dom_classes": [],
            "_model_name": "HBoxModel",
            "_view_module": "@jupyter-widgets/controls",
            "_model_module_version": "1.5.0",
            "_view_count": null,
            "_view_module_version": "1.5.0",
            "box_style": "",
            "layout": "IPY_MODEL_9f5cbd511a99441da561183a7b397b09",
            "_model_module": "@jupyter-widgets/controls",
            "children": [
              "IPY_MODEL_3318ed5bf92b41779c655d8ce4f6fe24",
              "IPY_MODEL_d894d495f10d473395c9291b4d9175b1"
            ]
          }
        },
        "9f5cbd511a99441da561183a7b397b09": {
          "model_module": "@jupyter-widgets/base",
          "model_name": "LayoutModel",
          "state": {
            "_view_name": "LayoutView",
            "grid_template_rows": null,
            "right": null,
            "justify_content": null,
            "_view_module": "@jupyter-widgets/base",
            "overflow": null,
            "_model_module_version": "1.2.0",
            "_view_count": null,
            "flex_flow": null,
            "width": null,
            "min_width": null,
            "border": null,
            "align_items": null,
            "bottom": null,
            "_model_module": "@jupyter-widgets/base",
            "top": null,
            "grid_column": null,
            "overflow_y": null,
            "overflow_x": null,
            "grid_auto_flow": null,
            "grid_area": null,
            "grid_template_columns": null,
            "flex": null,
            "_model_name": "LayoutModel",
            "justify_items": null,
            "grid_row": null,
            "max_height": null,
            "align_content": null,
            "visibility": null,
            "align_self": null,
            "height": null,
            "min_height": null,
            "padding": null,
            "grid_auto_rows": null,
            "grid_gap": null,
            "max_width": null,
            "order": null,
            "_view_module_version": "1.2.0",
            "grid_template_areas": null,
            "object_position": null,
            "object_fit": null,
            "grid_auto_columns": null,
            "margin": null,
            "display": null,
            "left": null
          }
        },
        "3318ed5bf92b41779c655d8ce4f6fe24": {
          "model_module": "@jupyter-widgets/controls",
          "model_name": "FloatProgressModel",
          "state": {
            "_view_name": "ProgressView",
            "style": "IPY_MODEL_b4479800279343af88f5acfa5f4bdf65",
            "_dom_classes": [],
            "description": "",
            "_model_name": "FloatProgressModel",
            "bar_style": "success",
            "max": 169001437,
            "_view_module": "@jupyter-widgets/controls",
            "_model_module_version": "1.5.0",
            "value": 169001437,
            "_view_count": null,
            "_view_module_version": "1.5.0",
            "orientation": "horizontal",
            "min": 0,
            "description_tooltip": null,
            "_model_module": "@jupyter-widgets/controls",
            "layout": "IPY_MODEL_dd96ff0482e74194bed39610a012b1e4"
          }
        },
        "d894d495f10d473395c9291b4d9175b1": {
          "model_module": "@jupyter-widgets/controls",
          "model_name": "HTMLModel",
          "state": {
            "_view_name": "HTMLView",
            "style": "IPY_MODEL_889bf849f4524fb9ae0c17aa7b0796b5",
            "_dom_classes": [],
            "description": "",
            "_model_name": "HTMLModel",
            "placeholder": "​",
            "_view_module": "@jupyter-widgets/controls",
            "_model_module_version": "1.5.0",
            "value": " 169001984/? [00:11&lt;00:00, 14879393.01it/s]",
            "_view_count": null,
            "_view_module_version": "1.5.0",
            "description_tooltip": null,
            "_model_module": "@jupyter-widgets/controls",
            "layout": "IPY_MODEL_13bb9a7a20dc47368ed26eff1c69090e"
          }
        },
        "b4479800279343af88f5acfa5f4bdf65": {
          "model_module": "@jupyter-widgets/controls",
          "model_name": "ProgressStyleModel",
          "state": {
            "_view_name": "StyleView",
            "_model_name": "ProgressStyleModel",
            "description_width": "initial",
            "_view_module": "@jupyter-widgets/base",
            "_model_module_version": "1.5.0",
            "_view_count": null,
            "_view_module_version": "1.2.0",
            "bar_color": null,
            "_model_module": "@jupyter-widgets/controls"
          }
        },
        "dd96ff0482e74194bed39610a012b1e4": {
          "model_module": "@jupyter-widgets/base",
          "model_name": "LayoutModel",
          "state": {
            "_view_name": "LayoutView",
            "grid_template_rows": null,
            "right": null,
            "justify_content": null,
            "_view_module": "@jupyter-widgets/base",
            "overflow": null,
            "_model_module_version": "1.2.0",
            "_view_count": null,
            "flex_flow": null,
            "width": null,
            "min_width": null,
            "border": null,
            "align_items": null,
            "bottom": null,
            "_model_module": "@jupyter-widgets/base",
            "top": null,
            "grid_column": null,
            "overflow_y": null,
            "overflow_x": null,
            "grid_auto_flow": null,
            "grid_area": null,
            "grid_template_columns": null,
            "flex": null,
            "_model_name": "LayoutModel",
            "justify_items": null,
            "grid_row": null,
            "max_height": null,
            "align_content": null,
            "visibility": null,
            "align_self": null,
            "height": null,
            "min_height": null,
            "padding": null,
            "grid_auto_rows": null,
            "grid_gap": null,
            "max_width": null,
            "order": null,
            "_view_module_version": "1.2.0",
            "grid_template_areas": null,
            "object_position": null,
            "object_fit": null,
            "grid_auto_columns": null,
            "margin": null,
            "display": null,
            "left": null
          }
        },
        "889bf849f4524fb9ae0c17aa7b0796b5": {
          "model_module": "@jupyter-widgets/controls",
          "model_name": "DescriptionStyleModel",
          "state": {
            "_view_name": "StyleView",
            "_model_name": "DescriptionStyleModel",
            "description_width": "",
            "_view_module": "@jupyter-widgets/base",
            "_model_module_version": "1.5.0",
            "_view_count": null,
            "_view_module_version": "1.2.0",
            "_model_module": "@jupyter-widgets/controls"
          }
        },
        "13bb9a7a20dc47368ed26eff1c69090e": {
          "model_module": "@jupyter-widgets/base",
          "model_name": "LayoutModel",
          "state": {
            "_view_name": "LayoutView",
            "grid_template_rows": null,
            "right": null,
            "justify_content": null,
            "_view_module": "@jupyter-widgets/base",
            "overflow": null,
            "_model_module_version": "1.2.0",
            "_view_count": null,
            "flex_flow": null,
            "width": null,
            "min_width": null,
            "border": null,
            "align_items": null,
            "bottom": null,
            "_model_module": "@jupyter-widgets/base",
            "top": null,
            "grid_column": null,
            "overflow_y": null,
            "overflow_x": null,
            "grid_auto_flow": null,
            "grid_area": null,
            "grid_template_columns": null,
            "flex": null,
            "_model_name": "LayoutModel",
            "justify_items": null,
            "grid_row": null,
            "max_height": null,
            "align_content": null,
            "visibility": null,
            "align_self": null,
            "height": null,
            "min_height": null,
            "padding": null,
            "grid_auto_rows": null,
            "grid_gap": null,
            "max_width": null,
            "order": null,
            "_view_module_version": "1.2.0",
            "grid_template_areas": null,
            "object_position": null,
            "object_fit": null,
            "grid_auto_columns": null,
            "margin": null,
            "display": null,
            "left": null
          }
        },
        "e98afa5ff443457c81a65b6435982073": {
          "model_module": "@jupyter-widgets/controls",
          "model_name": "HBoxModel",
          "state": {
            "_view_name": "HBoxView",
            "_dom_classes": [],
            "_model_name": "HBoxModel",
            "_view_module": "@jupyter-widgets/controls",
            "_model_module_version": "1.5.0",
            "_view_count": null,
            "_view_module_version": "1.5.0",
            "box_style": "",
            "layout": "IPY_MODEL_327c11e3a5784d3ba8509fe6448d3408",
            "_model_module": "@jupyter-widgets/controls",
            "children": [
              "IPY_MODEL_ab2a0b8529a94ceea4b2a41a9198906b",
              "IPY_MODEL_8ff856836d1b4867ae8da66d4780bb30"
            ]
          }
        },
        "327c11e3a5784d3ba8509fe6448d3408": {
          "model_module": "@jupyter-widgets/base",
          "model_name": "LayoutModel",
          "state": {
            "_view_name": "LayoutView",
            "grid_template_rows": null,
            "right": null,
            "justify_content": null,
            "_view_module": "@jupyter-widgets/base",
            "overflow": null,
            "_model_module_version": "1.2.0",
            "_view_count": null,
            "flex_flow": null,
            "width": null,
            "min_width": null,
            "border": null,
            "align_items": null,
            "bottom": null,
            "_model_module": "@jupyter-widgets/base",
            "top": null,
            "grid_column": null,
            "overflow_y": null,
            "overflow_x": null,
            "grid_auto_flow": null,
            "grid_area": null,
            "grid_template_columns": null,
            "flex": null,
            "_model_name": "LayoutModel",
            "justify_items": null,
            "grid_row": null,
            "max_height": null,
            "align_content": null,
            "visibility": null,
            "align_self": null,
            "height": null,
            "min_height": null,
            "padding": null,
            "grid_auto_rows": null,
            "grid_gap": null,
            "max_width": null,
            "order": null,
            "_view_module_version": "1.2.0",
            "grid_template_areas": null,
            "object_position": null,
            "object_fit": null,
            "grid_auto_columns": null,
            "margin": null,
            "display": null,
            "left": null
          }
        },
        "ab2a0b8529a94ceea4b2a41a9198906b": {
          "model_module": "@jupyter-widgets/controls",
          "model_name": "FloatProgressModel",
          "state": {
            "_view_name": "ProgressView",
            "style": "IPY_MODEL_e4603734d79f4f0b84d97a3d04015d77",
            "_dom_classes": [],
            "description": "",
            "_model_name": "FloatProgressModel",
            "bar_style": "success",
            "max": 169001437,
            "_view_module": "@jupyter-widgets/controls",
            "_model_module_version": "1.5.0",
            "value": 169001437,
            "_view_count": null,
            "_view_module_version": "1.5.0",
            "orientation": "horizontal",
            "min": 0,
            "description_tooltip": null,
            "_model_module": "@jupyter-widgets/controls",
            "layout": "IPY_MODEL_12aba100b1414b1cbaaa5c7f1434df44"
          }
        },
        "8ff856836d1b4867ae8da66d4780bb30": {
          "model_module": "@jupyter-widgets/controls",
          "model_name": "HTMLModel",
          "state": {
            "_view_name": "HTMLView",
            "style": "IPY_MODEL_754cf93408de4dda866a0c69a48458c5",
            "_dom_classes": [],
            "description": "",
            "_model_name": "HTMLModel",
            "placeholder": "​",
            "_view_module": "@jupyter-widgets/controls",
            "_model_module_version": "1.5.0",
            "value": " 169001984/? [00:13&lt;00:00, 12935788.67it/s]",
            "_view_count": null,
            "_view_module_version": "1.5.0",
            "description_tooltip": null,
            "_model_module": "@jupyter-widgets/controls",
            "layout": "IPY_MODEL_bbf29f75761446958516d79877d3e80d"
          }
        },
        "e4603734d79f4f0b84d97a3d04015d77": {
          "model_module": "@jupyter-widgets/controls",
          "model_name": "ProgressStyleModel",
          "state": {
            "_view_name": "StyleView",
            "_model_name": "ProgressStyleModel",
            "description_width": "initial",
            "_view_module": "@jupyter-widgets/base",
            "_model_module_version": "1.5.0",
            "_view_count": null,
            "_view_module_version": "1.2.0",
            "bar_color": null,
            "_model_module": "@jupyter-widgets/controls"
          }
        },
        "12aba100b1414b1cbaaa5c7f1434df44": {
          "model_module": "@jupyter-widgets/base",
          "model_name": "LayoutModel",
          "state": {
            "_view_name": "LayoutView",
            "grid_template_rows": null,
            "right": null,
            "justify_content": null,
            "_view_module": "@jupyter-widgets/base",
            "overflow": null,
            "_model_module_version": "1.2.0",
            "_view_count": null,
            "flex_flow": null,
            "width": null,
            "min_width": null,
            "border": null,
            "align_items": null,
            "bottom": null,
            "_model_module": "@jupyter-widgets/base",
            "top": null,
            "grid_column": null,
            "overflow_y": null,
            "overflow_x": null,
            "grid_auto_flow": null,
            "grid_area": null,
            "grid_template_columns": null,
            "flex": null,
            "_model_name": "LayoutModel",
            "justify_items": null,
            "grid_row": null,
            "max_height": null,
            "align_content": null,
            "visibility": null,
            "align_self": null,
            "height": null,
            "min_height": null,
            "padding": null,
            "grid_auto_rows": null,
            "grid_gap": null,
            "max_width": null,
            "order": null,
            "_view_module_version": "1.2.0",
            "grid_template_areas": null,
            "object_position": null,
            "object_fit": null,
            "grid_auto_columns": null,
            "margin": null,
            "display": null,
            "left": null
          }
        },
        "754cf93408de4dda866a0c69a48458c5": {
          "model_module": "@jupyter-widgets/controls",
          "model_name": "DescriptionStyleModel",
          "state": {
            "_view_name": "StyleView",
            "_model_name": "DescriptionStyleModel",
            "description_width": "",
            "_view_module": "@jupyter-widgets/base",
            "_model_module_version": "1.5.0",
            "_view_count": null,
            "_view_module_version": "1.2.0",
            "_model_module": "@jupyter-widgets/controls"
          }
        },
        "bbf29f75761446958516d79877d3e80d": {
          "model_module": "@jupyter-widgets/base",
          "model_name": "LayoutModel",
          "state": {
            "_view_name": "LayoutView",
            "grid_template_rows": null,
            "right": null,
            "justify_content": null,
            "_view_module": "@jupyter-widgets/base",
            "overflow": null,
            "_model_module_version": "1.2.0",
            "_view_count": null,
            "flex_flow": null,
            "width": null,
            "min_width": null,
            "border": null,
            "align_items": null,
            "bottom": null,
            "_model_module": "@jupyter-widgets/base",
            "top": null,
            "grid_column": null,
            "overflow_y": null,
            "overflow_x": null,
            "grid_auto_flow": null,
            "grid_area": null,
            "grid_template_columns": null,
            "flex": null,
            "_model_name": "LayoutModel",
            "justify_items": null,
            "grid_row": null,
            "max_height": null,
            "align_content": null,
            "visibility": null,
            "align_self": null,
            "height": null,
            "min_height": null,
            "padding": null,
            "grid_auto_rows": null,
            "grid_gap": null,
            "max_width": null,
            "order": null,
            "_view_module_version": "1.2.0",
            "grid_template_areas": null,
            "object_position": null,
            "object_fit": null,
            "grid_auto_columns": null,
            "margin": null,
            "display": null,
            "left": null
          }
        }
      }
    }
  },
  "cells": [
    {
      "cell_type": "markdown",
      "metadata": {
        "id": "view-in-github",
        "colab_type": "text"
      },
      "source": [
        "<a href=\"https://colab.research.google.com/github/tusharvatsa32/VisTransformers/blob/main/Code/ViT_scratch_cifar100.ipynb\" target=\"_parent\"><img src=\"https://colab.research.google.com/assets/colab-badge.svg\" alt=\"Open In Colab\"/></a>"
      ]
    },
    {
      "cell_type": "markdown",
      "metadata": {
        "id": "IDT1Xwv9RZXb"
      },
      "source": [
        "## Import Libraries"
      ]
    },
    {
      "cell_type": "code",
      "metadata": {
        "colab": {
          "base_uri": "https://localhost:8080/"
        },
        "id": "vEujzAIePqnn",
        "outputId": "96be9630-afe7-45a2-99f9-4a477561d0a4"
      },
      "source": [
        "!nvidia-smi"
      ],
      "execution_count": 1,
      "outputs": [
        {
          "output_type": "stream",
          "text": [
            "Thu Apr 29 21:42:44 2021       \n",
            "+-----------------------------------------------------------------------------+\n",
            "| NVIDIA-SMI 465.19.01    Driver Version: 460.32.03    CUDA Version: 11.2     |\n",
            "|-------------------------------+----------------------+----------------------+\n",
            "| GPU  Name        Persistence-M| Bus-Id        Disp.A | Volatile Uncorr. ECC |\n",
            "| Fan  Temp  Perf  Pwr:Usage/Cap|         Memory-Usage | GPU-Util  Compute M. |\n",
            "|                               |                      |               MIG M. |\n",
            "|===============================+======================+======================|\n",
            "|   0  Tesla P100-PCIE...  Off  | 00000000:00:04.0 Off |                    0 |\n",
            "| N/A   36C    P0    28W / 250W |      0MiB / 16280MiB |      0%      Default |\n",
            "|                               |                      |                  N/A |\n",
            "+-------------------------------+----------------------+----------------------+\n",
            "                                                                               \n",
            "+-----------------------------------------------------------------------------+\n",
            "| Processes:                                                                  |\n",
            "|  GPU   GI   CI        PID   Type   Process name                  GPU Memory |\n",
            "|        ID   ID                                                   Usage      |\n",
            "|=============================================================================|\n",
            "|  No running processes found                                                 |\n",
            "+-----------------------------------------------------------------------------+\n"
          ],
          "name": "stdout"
        }
      ]
    },
    {
      "cell_type": "code",
      "metadata": {
        "id": "Je-f_fI7aVgr"
      },
      "source": [
        "!pip install -q einops"
      ],
      "execution_count": 2,
      "outputs": []
    },
    {
      "cell_type": "code",
      "metadata": {
        "id": "qq-e52uORIVg"
      },
      "source": [
        "import os\n",
        "import random\n",
        "import numpy as np\n",
        "import torch\n",
        "import torch.nn as nn\n",
        "import torchvision\n",
        "import torch.nn.functional as F\n",
        "import torch.optim as optim\n",
        "from torchvision import datasets, models, transforms\n",
        "from torch import einsum\n",
        "from PIL import Image\n",
        "from torch.utils.data import DataLoader, Dataset\n",
        "from torchvision import datasets, transforms\n",
        "from tqdm.notebook import tqdm\n",
        "from einops import rearrange, repeat\n",
        "from einops.layers.torch import Rearrange"
      ],
      "execution_count": 3,
      "outputs": []
    },
    {
      "cell_type": "code",
      "metadata": {
        "colab": {
          "base_uri": "https://localhost:8080/"
        },
        "id": "pV-E0IFHRITw",
        "outputId": "c771938f-bf97-4c3a-b916-d5ba8ae98f00"
      },
      "source": [
        "print(f\"Torch: {torch.__version__}\")"
      ],
      "execution_count": 4,
      "outputs": [
        {
          "output_type": "stream",
          "text": [
            "Torch: 1.8.1+cu101\n"
          ],
          "name": "stdout"
        }
      ]
    },
    {
      "cell_type": "code",
      "metadata": {
        "id": "mSO-6jwwlYzO"
      },
      "source": [
        "def seed_everything(seed):\n",
        "    random.seed(seed)\n",
        "    os.environ['PYTHONHASHSEED'] = str(seed)\n",
        "    np.random.seed(seed)\n",
        "    torch.manual_seed(seed)\n",
        "    torch.cuda.manual_seed(seed)\n",
        "    torch.cuda.manual_seed_all(seed)\n",
        "    torch.backends.cudnn.deterministic = True\n",
        "\n",
        "seed_everything(11785)"
      ],
      "execution_count": 5,
      "outputs": []
    },
    {
      "cell_type": "code",
      "metadata": {
        "id": "ZS5Jp9SBRgQr"
      },
      "source": [
        "device = 'cuda'"
      ],
      "execution_count": 6,
      "outputs": []
    },
    {
      "cell_type": "code",
      "metadata": {
        "id": "l_0631Qvbi_3"
      },
      "source": [
        "img_size = ((64, 64)) \n",
        "\n",
        "transforms_train = transforms.Compose([\n",
        "    transforms.Resize(img_size),\n",
        "    transforms.ColorJitter(hue=.05, saturation=.05),\n",
        "    transforms.RandomHorizontalFlip(p=0.3),\n",
        "    transforms.RandomVerticalFlip(p=0.3),\n",
        "    transforms.RandomRotation(10, interpolation=torchvision.transforms.InterpolationMode.BILINEAR),\n",
        "    transforms.RandomCrop(img_size, fill=0),\n",
        "    transforms.RandomAffine(10, scale=(0.8, 1.2)),\n",
        "    transforms.ToTensor(),\n",
        "    transforms.Normalize((0.485, 0.456, 0.406), (0.229, 0.224, 0.225))\n",
        "])\n",
        "\n",
        "transforms_val = transforms.Compose([\n",
        "    transforms.Resize(img_size),\n",
        "    transforms.ToTensor(),\n",
        "    transforms.Normalize((0.485, 0.456, 0.406), (0.229, 0.224, 0.225))\n",
        "])"
      ],
      "execution_count": 7,
      "outputs": []
    },
    {
      "cell_type": "markdown",
      "metadata": {
        "id": "ZEIyZaYXRkZF"
      },
      "source": [
        "## Load Data"
      ]
    },
    {
      "cell_type": "code",
      "metadata": {
        "colab": {
          "base_uri": "https://localhost:8080/",
          "height": 235,
          "referenced_widgets": [
            "912fe5dfba3a4df3ae28d4883b12b930",
            "9f5cbd511a99441da561183a7b397b09",
            "3318ed5bf92b41779c655d8ce4f6fe24",
            "d894d495f10d473395c9291b4d9175b1",
            "b4479800279343af88f5acfa5f4bdf65",
            "dd96ff0482e74194bed39610a012b1e4",
            "889bf849f4524fb9ae0c17aa7b0796b5",
            "13bb9a7a20dc47368ed26eff1c69090e",
            "e98afa5ff443457c81a65b6435982073",
            "327c11e3a5784d3ba8509fe6448d3408",
            "ab2a0b8529a94ceea4b2a41a9198906b",
            "8ff856836d1b4867ae8da66d4780bb30",
            "e4603734d79f4f0b84d97a3d04015d77",
            "12aba100b1414b1cbaaa5c7f1434df44",
            "754cf93408de4dda866a0c69a48458c5",
            "bbf29f75761446958516d79877d3e80d"
          ]
        },
        "id": "hTsnUVjBbOKG",
        "outputId": "1e27c2f2-14e7-414f-f61e-141272122921"
      },
      "source": [
        "train_data = torchvision.datasets.CIFAR100(train=True,download=True,root= \"./cifar100/train_data\", transform=transforms_train)\n",
        "train_loader = torch.utils.data.DataLoader(train_data, batch_size=256,\n",
        "                                          shuffle=True, num_workers=8)\n",
        "\n",
        "valid_data = torchvision.datasets.CIFAR100(train=False,download=True,root= \"./cifar100/test_data\", transform=transforms_val)\n",
        "valid_loader = torch.utils.data.DataLoader(valid_data, batch_size=64,\n",
        "                                         shuffle=False, num_workers=8)"
      ],
      "execution_count": 8,
      "outputs": [
        {
          "output_type": "stream",
          "text": [
            "Downloading https://www.cs.toronto.edu/~kriz/cifar-100-python.tar.gz to ./cifar100/train_data/cifar-100-python.tar.gz\n"
          ],
          "name": "stdout"
        },
        {
          "output_type": "display_data",
          "data": {
            "application/vnd.jupyter.widget-view+json": {
              "model_id": "912fe5dfba3a4df3ae28d4883b12b930",
              "version_minor": 0,
              "version_major": 2
            },
            "text/plain": [
              "HBox(children=(FloatProgress(value=0.0, max=169001437.0), HTML(value='')))"
            ]
          },
          "metadata": {
            "tags": []
          }
        },
        {
          "output_type": "stream",
          "text": [
            "\n",
            "Extracting ./cifar100/train_data/cifar-100-python.tar.gz to ./cifar100/train_data\n"
          ],
          "name": "stdout"
        },
        {
          "output_type": "stream",
          "text": [
            "/usr/local/lib/python3.7/dist-packages/torch/utils/data/dataloader.py:477: UserWarning: This DataLoader will create 8 worker processes in total. Our suggested max number of worker in current system is 4, which is smaller than what this DataLoader is going to create. Please be aware that excessive worker creation might get DataLoader running slow or even freeze, lower the worker number to avoid potential slowness/freeze if necessary.\n",
            "  cpuset_checked))\n"
          ],
          "name": "stderr"
        },
        {
          "output_type": "stream",
          "text": [
            "Downloading https://www.cs.toronto.edu/~kriz/cifar-100-python.tar.gz to ./cifar100/test_data/cifar-100-python.tar.gz\n"
          ],
          "name": "stdout"
        },
        {
          "output_type": "display_data",
          "data": {
            "application/vnd.jupyter.widget-view+json": {
              "model_id": "e98afa5ff443457c81a65b6435982073",
              "version_minor": 0,
              "version_major": 2
            },
            "text/plain": [
              "HBox(children=(FloatProgress(value=0.0, max=169001437.0), HTML(value='')))"
            ]
          },
          "metadata": {
            "tags": []
          }
        },
        {
          "output_type": "stream",
          "text": [
            "\n",
            "Extracting ./cifar100/test_data/cifar-100-python.tar.gz to ./cifar100/test_data\n"
          ],
          "name": "stdout"
        }
      ]
    },
    {
      "cell_type": "code",
      "metadata": {
        "colab": {
          "base_uri": "https://localhost:8080/"
        },
        "id": "JiIcaG1zSZLA",
        "outputId": "0ff1b1de-780b-4b9f-dde0-41e7bc5f54e7"
      },
      "source": [
        "print(len(train_data), len(train_loader))"
      ],
      "execution_count": 9,
      "outputs": [
        {
          "output_type": "stream",
          "text": [
            "50000 196\n"
          ],
          "name": "stdout"
        }
      ]
    },
    {
      "cell_type": "code",
      "metadata": {
        "colab": {
          "base_uri": "https://localhost:8080/"
        },
        "id": "hLLq3UCRSZIo",
        "outputId": "606bcaac-dbb0-4237-ca98-3324d6325357"
      },
      "source": [
        "print(len(valid_data), len(valid_loader))"
      ],
      "execution_count": 10,
      "outputs": [
        {
          "output_type": "stream",
          "text": [
            "10000 157\n"
          ],
          "name": "stdout"
        }
      ]
    },
    {
      "cell_type": "markdown",
      "metadata": {
        "id": "8VCgoZBvovkx"
      },
      "source": [
        "### Visual Transformer"
      ]
    },
    {
      "cell_type": "code",
      "metadata": {
        "id": "c3zuPy1RZeH1"
      },
      "source": [
        "class PreNorm(nn.Module):\n",
        "    def __init__(self, dim, fn):\n",
        "        super().__init__()\n",
        "        self.norm = nn.LayerNorm(dim)\n",
        "        self.fn = fn\n",
        "    def forward(self, x, **kwargs):\n",
        "        return self.fn(self.norm(x), **kwargs)\n",
        "\n",
        "class FeedForward(nn.Module):\n",
        "    def __init__(self, dim, hidden_dim, dropout = 0.):\n",
        "        super().__init__()\n",
        "        self.net = nn.Sequential(\n",
        "            nn.Linear(dim, hidden_dim),\n",
        "            nn.GELU(),\n",
        "            nn.Dropout(dropout),\n",
        "            nn.Linear(hidden_dim, dim),\n",
        "            nn.Dropout(dropout)\n",
        "        )\n",
        "    def forward(self, x):\n",
        "        return self.net(x)\n",
        "\n",
        "class Attention(nn.Module):\n",
        "    def __init__(self, dim, heads = 8, dim_head = 64, dropout = 0.):\n",
        "        super().__init__()\n",
        "        inner_dim = dim_head *  heads\n",
        "        project_out = not (heads == 1 and dim_head == dim)\n",
        "\n",
        "        self.heads = heads\n",
        "        self.scale = dim_head ** -0.5\n",
        "\n",
        "        self.attend = nn.Softmax(dim = -1)\n",
        "        self.to_qkv = nn.Linear(dim, inner_dim * 3, bias = False)\n",
        "\n",
        "        self.to_out = nn.Sequential(\n",
        "            nn.Linear(inner_dim, dim),\n",
        "            nn.Dropout(dropout)\n",
        "        ) if project_out else nn.Identity()\n",
        "\n",
        "    def forward(self, x):\n",
        "        b, n, _, h = *x.shape, self.heads\n",
        "        qkv = self.to_qkv(x).chunk(3, dim = -1)\n",
        "        q, k, v = map(lambda t: rearrange(t, 'b n (h d) -> b h n d', h = h), qkv)\n",
        "\n",
        "        dots = einsum('b h i d, b h j d -> b h i j', q, k) * self.scale\n",
        "\n",
        "        attn = self.attend(dots)\n",
        "\n",
        "        out = einsum('b h i j, b h j d -> b h i d', attn, v)\n",
        "        out = rearrange(out, 'b h n d -> b n (h d)')\n",
        "        return self.to_out(out)\n",
        "\n",
        "class Transformer(nn.Module):\n",
        "    def __init__(self, dim, depth, heads, dim_head, mlp_dim, dropout = 0.):\n",
        "        super().__init__()\n",
        "        self.layers = nn.ModuleList([])\n",
        "        for _ in range(depth):\n",
        "            self.layers.append(nn.ModuleList([\n",
        "                PreNorm(dim, Attention(dim, heads = heads, dim_head = dim_head, dropout = dropout)),\n",
        "                PreNorm(dim, FeedForward(dim, mlp_dim, dropout = dropout))\n",
        "            ]))\n",
        "    def forward(self, x):\n",
        "        for attn, ff in self.layers:\n",
        "            x = attn(x) + x\n",
        "            x = ff(x) + x\n",
        "        return x\n",
        "\n",
        "class ViT(nn.Module):\n",
        "    def __init__(self, *, image_size, patch_size, num_classes, dim, depth, heads, mlp_dim, pool = 'cls', channels = 3, dim_head = 64, dropout = 0., emb_dropout = 0.):\n",
        "        super().__init__()\n",
        "        assert image_size % patch_size == 0, 'Image dimensions must be divisible by the patch size.'\n",
        "        num_patches = (image_size // patch_size) ** 2\n",
        "        patch_dim = channels * patch_size ** 2\n",
        "        assert pool in {'cls', 'mean'}, 'pool type must be either cls (cls token) or mean (mean pooling)'\n",
        "\n",
        "        self.to_patch_embedding = nn.Sequential(\n",
        "            Rearrange('b c (h p1) (w p2) -> b (h w) (p1 p2 c)', p1 = patch_size, p2 = patch_size),\n",
        "            nn.Linear(patch_dim, dim),\n",
        "        )\n",
        "\n",
        "        self.pos_embedding = nn.Parameter(torch.randn(1, num_patches + 1, dim))\n",
        "        self.cls_token = nn.Parameter(torch.randn(1, 1, dim))\n",
        "        self.dropout = nn.Dropout(emb_dropout)\n",
        "\n",
        "        self.transformer = Transformer(dim, depth, heads, dim_head, mlp_dim, dropout)\n",
        "\n",
        "        self.pool = pool\n",
        "        self.to_latent = nn.Identity()\n",
        "\n",
        "        self.mlp_head = nn.Sequential(\n",
        "            nn.LayerNorm(dim),\n",
        "            nn.Linear(dim, num_classes)\n",
        "        )\n",
        "\n",
        "    def forward(self, img):\n",
        "        x = self.to_patch_embedding(img)\n",
        "        b, n, _ = x.shape\n",
        "\n",
        "        cls_tokens = repeat(self.cls_token, '() n d -> b n d', b = b)\n",
        "        x = torch.cat((cls_tokens, x), dim=1)\n",
        "        x += self.pos_embedding[:, :(n + 1)]\n",
        "        x = self.dropout(x)\n",
        "\n",
        "        x = self.transformer(x)\n",
        "\n",
        "        x = x.mean(dim = 1) if self.pool == 'mean' else x[:, 0]\n",
        "\n",
        "        x = self.to_latent(x)\n",
        "        return self.mlp_head(x)"
      ],
      "execution_count": 11,
      "outputs": []
    },
    {
      "cell_type": "code",
      "metadata": {
        "id": "Z3IoLgpkcFql"
      },
      "source": [
        "model = ViT(\n",
        "    image_size=64,\n",
        "    patch_size=8,\n",
        "    num_classes=100,\n",
        "    dim=512,\n",
        "    depth=6,\n",
        "    heads=8,\n",
        "    mlp_dim=1024,\n",
        "    dropout=0.3,\n",
        "    emb_dropout=0.1\n",
        ").to(device)"
      ],
      "execution_count": 12,
      "outputs": []
    },
    {
      "cell_type": "markdown",
      "metadata": {
        "id": "4u5YZG1eozIv"
      },
      "source": [
        "### Training"
      ]
    },
    {
      "cell_type": "code",
      "metadata": {
        "id": "2Go1icggSnrB"
      },
      "source": [
        "numEpochs = 100\n",
        "in_features = 3 # RGB channels\n",
        "\n",
        "learningRate = 0.1\n",
        "weightDecay = 2e-5\n",
        "\n",
        "num_classes = len(train_data.classes)\n",
        "\n",
        "criterion = nn.CrossEntropyLoss()\n",
        "optimizer = torch.optim.SGD(model.parameters(), lr=learningRate, weight_decay=weightDecay, momentum=0.9, nesterov=True)\n",
        "\n",
        "scheduler = torch.optim.lr_scheduler.ReduceLROnPlateau(optimizer, mode='max', factor=0.4, patience=5, threshold=0.002, verbose=True)"
      ],
      "execution_count": 13,
      "outputs": []
    },
    {
      "cell_type": "code",
      "metadata": {
        "id": "QsF6UcuGc981"
      },
      "source": [
        "my_acc = []\n",
        "my_loss = []"
      ],
      "execution_count": 14,
      "outputs": []
    },
    {
      "cell_type": "code",
      "metadata": {
        "colab": {
          "base_uri": "https://localhost:8080/"
        },
        "id": "KDBDOcxeU1eR",
        "outputId": "d4629d08-5168-4abe-c0a9-335422f13236"
      },
      "source": [
        "# Train!\n",
        "for epoch in range(numEpochs):\n",
        "    \n",
        "    # Train\n",
        "    model.train()\n",
        "    train_loss = 0.0\n",
        "    train_acc = 0.0\n",
        "    correct = 0\n",
        "\n",
        "    for batch_num, (x, y) in enumerate(train_loader):\n",
        "        optimizer.zero_grad()\n",
        "        \n",
        "        x, y = x.to(device), y.to(device)\n",
        "\n",
        "        outputs = model(x)\n",
        "\n",
        "        correct += (torch.argmax(outputs, axis=1) == y).sum().item()\n",
        "\n",
        "        loss = criterion(outputs, y.long())\n",
        "        loss.backward()\n",
        "        optimizer.step()\n",
        "\n",
        "        del(outputs)\n",
        "\n",
        "        train_loss += loss.item()\n",
        "\n",
        "        if batch_num % 100 == 0:\n",
        "            print('Epoch: {}\\tBatch: {}\\tAvg-Loss: {:.4f}'.format(epoch, batch_num+1, train_loss/(batch_num+1)))\n",
        "\n",
        "    train_accuracy = correct / len(train_data)\n",
        "\n",
        "    # Validate\n",
        "    model.eval()\n",
        "    num_correct = 0\n",
        "    for batch_num1, (x, y) in enumerate(valid_loader):\n",
        "        x, y = x.to(device), y.to(device)\n",
        "        outputs = model(x)\n",
        "\n",
        "        num_correct += (torch.argmax(outputs, axis=1) == y).sum().item()\n",
        "\n",
        "    val_accuracy = num_correct / len(valid_data)\n",
        "    my_acc.append(val_accuracy)\n",
        "    my_loss.append(train_loss/(batch_num+1))\n",
        "    print('Epoch: {}\\t Training Accuracy: {:.4f}\\t Validation Accuracy: {:.4f}\\t Avg-Loss: {:.4f}'.format(epoch, train_accuracy*100, val_accuracy * 100, train_loss/(batch_num+1)))\n",
        "    scheduler.step(val_accuracy)\n",
        "\n",
        "    #torch.save(network.state_dict(),'/content/drive/MyDrive/DL_CMU/HW2_P2/ResNet_Plateau_d3/Net_'+str(epoch)+'_'+str(val_accuracy)+'_checkpoint.t7')"
      ],
      "execution_count": 15,
      "outputs": [
        {
          "output_type": "stream",
          "text": [
            "/usr/local/lib/python3.7/dist-packages/torch/utils/data/dataloader.py:477: UserWarning: This DataLoader will create 8 worker processes in total. Our suggested max number of worker in current system is 4, which is smaller than what this DataLoader is going to create. Please be aware that excessive worker creation might get DataLoader running slow or even freeze, lower the worker number to avoid potential slowness/freeze if necessary.\n",
            "  cpuset_checked))\n"
          ],
          "name": "stderr"
        },
        {
          "output_type": "stream",
          "text": [
            "Epoch: 0\tBatch: 1\tAvg-Loss: 4.7420\n",
            "Epoch: 0\tBatch: 101\tAvg-Loss: 4.4519\n",
            "Epoch: 0\t Training Accuracy: 6.5660\t Validation Accuracy: 11.2600\t Avg-Loss: 4.2121\n",
            "Epoch: 1\tBatch: 1\tAvg-Loss: 4.0061\n",
            "Epoch: 1\tBatch: 101\tAvg-Loss: 3.7386\n",
            "Epoch: 1\t Training Accuracy: 13.8020\t Validation Accuracy: 18.7100\t Avg-Loss: 3.6590\n",
            "Epoch: 2\tBatch: 1\tAvg-Loss: 3.2805\n",
            "Epoch: 2\tBatch: 101\tAvg-Loss: 3.4501\n",
            "Epoch: 2\t Training Accuracy: 17.7960\t Validation Accuracy: 20.5500\t Avg-Loss: 3.4139\n",
            "Epoch: 3\tBatch: 1\tAvg-Loss: 3.3964\n",
            "Epoch: 3\tBatch: 101\tAvg-Loss: 3.3026\n",
            "Epoch: 3\t Training Accuracy: 20.5020\t Validation Accuracy: 24.7200\t Avg-Loss: 3.2724\n",
            "Epoch: 4\tBatch: 1\tAvg-Loss: 3.1320\n",
            "Epoch: 4\tBatch: 101\tAvg-Loss: 3.1881\n",
            "Epoch: 4\t Training Accuracy: 22.3440\t Validation Accuracy: 26.1000\t Avg-Loss: 3.1689\n",
            "Epoch: 5\tBatch: 1\tAvg-Loss: 2.9580\n",
            "Epoch: 5\tBatch: 101\tAvg-Loss: 3.0824\n",
            "Epoch: 5\t Training Accuracy: 24.0900\t Validation Accuracy: 26.8700\t Avg-Loss: 3.0750\n",
            "Epoch: 6\tBatch: 1\tAvg-Loss: 3.0693\n",
            "Epoch: 6\tBatch: 101\tAvg-Loss: 2.9984\n",
            "Epoch: 6\t Training Accuracy: 25.8400\t Validation Accuracy: 28.5700\t Avg-Loss: 2.9928\n",
            "Epoch: 7\tBatch: 1\tAvg-Loss: 3.0117\n",
            "Epoch: 7\tBatch: 101\tAvg-Loss: 2.9409\n",
            "Epoch: 7\t Training Accuracy: 27.0160\t Validation Accuracy: 29.7300\t Avg-Loss: 2.9292\n",
            "Epoch: 8\tBatch: 1\tAvg-Loss: 2.8614\n",
            "Epoch: 8\tBatch: 101\tAvg-Loss: 2.8682\n",
            "Epoch: 8\t Training Accuracy: 28.3060\t Validation Accuracy: 31.8800\t Avg-Loss: 2.8542\n",
            "Epoch: 9\tBatch: 1\tAvg-Loss: 2.9258\n",
            "Epoch: 9\tBatch: 101\tAvg-Loss: 2.7880\n",
            "Epoch: 9\t Training Accuracy: 29.5260\t Validation Accuracy: 33.7600\t Avg-Loss: 2.7872\n",
            "Epoch: 10\tBatch: 1\tAvg-Loss: 2.7961\n",
            "Epoch: 10\tBatch: 101\tAvg-Loss: 2.7407\n",
            "Epoch: 10\t Training Accuracy: 30.9600\t Validation Accuracy: 34.8300\t Avg-Loss: 2.7292\n",
            "Epoch: 11\tBatch: 1\tAvg-Loss: 2.6070\n",
            "Epoch: 11\tBatch: 101\tAvg-Loss: 2.6631\n",
            "Epoch: 11\t Training Accuracy: 32.2280\t Validation Accuracy: 33.8100\t Avg-Loss: 2.6621\n",
            "Epoch: 12\tBatch: 1\tAvg-Loss: 2.6200\n",
            "Epoch: 12\tBatch: 101\tAvg-Loss: 2.6124\n",
            "Epoch: 12\t Training Accuracy: 33.4380\t Validation Accuracy: 36.7300\t Avg-Loss: 2.6104\n",
            "Epoch: 13\tBatch: 1\tAvg-Loss: 2.6418\n",
            "Epoch: 13\tBatch: 101\tAvg-Loss: 2.5659\n",
            "Epoch: 13\t Training Accuracy: 34.3260\t Validation Accuracy: 36.8000\t Avg-Loss: 2.5549\n",
            "Epoch: 14\tBatch: 1\tAvg-Loss: 2.3970\n",
            "Epoch: 14\tBatch: 101\tAvg-Loss: 2.4963\n",
            "Epoch: 14\t Training Accuracy: 35.4780\t Validation Accuracy: 36.4600\t Avg-Loss: 2.5001\n",
            "Epoch: 15\tBatch: 1\tAvg-Loss: 2.5442\n",
            "Epoch: 15\tBatch: 101\tAvg-Loss: 2.4491\n",
            "Epoch: 15\t Training Accuracy: 36.3800\t Validation Accuracy: 39.1600\t Avg-Loss: 2.4507\n",
            "Epoch: 16\tBatch: 1\tAvg-Loss: 2.3442\n",
            "Epoch: 16\tBatch: 101\tAvg-Loss: 2.4064\n",
            "Epoch: 16\t Training Accuracy: 37.1740\t Validation Accuracy: 39.5300\t Avg-Loss: 2.4127\n",
            "Epoch: 17\tBatch: 1\tAvg-Loss: 2.4779\n",
            "Epoch: 17\tBatch: 101\tAvg-Loss: 2.3483\n",
            "Epoch: 17\t Training Accuracy: 38.1480\t Validation Accuracy: 41.1600\t Avg-Loss: 2.3646\n",
            "Epoch: 18\tBatch: 1\tAvg-Loss: 2.2922\n",
            "Epoch: 18\tBatch: 101\tAvg-Loss: 2.3060\n",
            "Epoch: 18\t Training Accuracy: 39.3580\t Validation Accuracy: 40.0500\t Avg-Loss: 2.3219\n",
            "Epoch: 19\tBatch: 1\tAvg-Loss: 2.1419\n",
            "Epoch: 19\tBatch: 101\tAvg-Loss: 2.2685\n",
            "Epoch: 19\t Training Accuracy: 40.2660\t Validation Accuracy: 41.9000\t Avg-Loss: 2.2768\n",
            "Epoch: 20\tBatch: 1\tAvg-Loss: 2.2038\n",
            "Epoch: 20\tBatch: 101\tAvg-Loss: 2.2304\n",
            "Epoch: 20\t Training Accuracy: 41.0860\t Validation Accuracy: 43.0300\t Avg-Loss: 2.2357\n",
            "Epoch: 21\tBatch: 1\tAvg-Loss: 2.1210\n",
            "Epoch: 21\tBatch: 101\tAvg-Loss: 2.1750\n",
            "Epoch: 21\t Training Accuracy: 41.6880\t Validation Accuracy: 42.7600\t Avg-Loss: 2.1942\n",
            "Epoch: 22\tBatch: 1\tAvg-Loss: 2.1701\n",
            "Epoch: 22\tBatch: 101\tAvg-Loss: 2.1453\n",
            "Epoch: 22\t Training Accuracy: 42.5580\t Validation Accuracy: 42.9500\t Avg-Loss: 2.1600\n",
            "Epoch: 23\tBatch: 1\tAvg-Loss: 2.0741\n",
            "Epoch: 23\tBatch: 101\tAvg-Loss: 2.1106\n",
            "Epoch: 23\t Training Accuracy: 43.2140\t Validation Accuracy: 42.8300\t Avg-Loss: 2.1172\n",
            "Epoch: 24\tBatch: 1\tAvg-Loss: 2.0425\n",
            "Epoch: 24\tBatch: 101\tAvg-Loss: 2.0787\n",
            "Epoch: 24\t Training Accuracy: 44.4660\t Validation Accuracy: 44.7300\t Avg-Loss: 2.0738\n",
            "Epoch: 25\tBatch: 1\tAvg-Loss: 2.0624\n",
            "Epoch: 25\tBatch: 101\tAvg-Loss: 2.0188\n",
            "Epoch: 25\t Training Accuracy: 45.2400\t Validation Accuracy: 44.9500\t Avg-Loss: 2.0359\n",
            "Epoch: 26\tBatch: 1\tAvg-Loss: 1.9353\n",
            "Epoch: 26\tBatch: 101\tAvg-Loss: 1.9860\n",
            "Epoch: 26\t Training Accuracy: 45.7980\t Validation Accuracy: 46.7400\t Avg-Loss: 2.0061\n",
            "Epoch: 27\tBatch: 1\tAvg-Loss: 1.9470\n",
            "Epoch: 27\tBatch: 101\tAvg-Loss: 1.9762\n",
            "Epoch: 27\t Training Accuracy: 46.4440\t Validation Accuracy: 45.4200\t Avg-Loss: 1.9769\n",
            "Epoch: 28\tBatch: 1\tAvg-Loss: 1.9814\n",
            "Epoch: 28\tBatch: 101\tAvg-Loss: 1.9262\n",
            "Epoch: 28\t Training Accuracy: 47.6020\t Validation Accuracy: 45.5300\t Avg-Loss: 1.9353\n",
            "Epoch: 29\tBatch: 1\tAvg-Loss: 1.7984\n",
            "Epoch: 29\tBatch: 101\tAvg-Loss: 1.8909\n",
            "Epoch: 29\t Training Accuracy: 48.1600\t Validation Accuracy: 46.6600\t Avg-Loss: 1.9015\n",
            "Epoch: 30\tBatch: 1\tAvg-Loss: 1.7629\n",
            "Epoch: 30\tBatch: 101\tAvg-Loss: 1.8511\n",
            "Epoch: 30\t Training Accuracy: 48.7740\t Validation Accuracy: 47.6600\t Avg-Loss: 1.8753\n",
            "Epoch: 31\tBatch: 1\tAvg-Loss: 1.7851\n",
            "Epoch: 31\tBatch: 101\tAvg-Loss: 1.8267\n",
            "Epoch: 31\t Training Accuracy: 49.5520\t Validation Accuracy: 46.1100\t Avg-Loss: 1.8402\n",
            "Epoch: 32\tBatch: 1\tAvg-Loss: 2.0226\n",
            "Epoch: 32\tBatch: 101\tAvg-Loss: 1.7890\n",
            "Epoch: 32\t Training Accuracy: 50.2200\t Validation Accuracy: 47.2900\t Avg-Loss: 1.8118\n",
            "Epoch: 33\tBatch: 1\tAvg-Loss: 1.7462\n",
            "Epoch: 33\tBatch: 101\tAvg-Loss: 1.7677\n",
            "Epoch: 33\t Training Accuracy: 50.8000\t Validation Accuracy: 47.6900\t Avg-Loss: 1.7806\n",
            "Epoch: 34\tBatch: 1\tAvg-Loss: 1.6305\n",
            "Epoch: 34\tBatch: 101\tAvg-Loss: 1.7284\n",
            "Epoch: 34\t Training Accuracy: 51.5320\t Validation Accuracy: 48.7500\t Avg-Loss: 1.7484\n",
            "Epoch: 35\tBatch: 1\tAvg-Loss: 1.7850\n",
            "Epoch: 35\tBatch: 101\tAvg-Loss: 1.6909\n",
            "Epoch: 35\t Training Accuracy: 52.5080\t Validation Accuracy: 47.7900\t Avg-Loss: 1.7163\n",
            "Epoch: 36\tBatch: 1\tAvg-Loss: 1.5859\n",
            "Epoch: 36\tBatch: 101\tAvg-Loss: 1.6680\n",
            "Epoch: 36\t Training Accuracy: 52.6720\t Validation Accuracy: 47.7400\t Avg-Loss: 1.6964\n",
            "Epoch: 37\tBatch: 1\tAvg-Loss: 1.6709\n",
            "Epoch: 37\tBatch: 101\tAvg-Loss: 1.6370\n",
            "Epoch: 37\t Training Accuracy: 53.1820\t Validation Accuracy: 48.9000\t Avg-Loss: 1.6752\n",
            "Epoch: 38\tBatch: 1\tAvg-Loss: 1.5012\n",
            "Epoch: 38\tBatch: 101\tAvg-Loss: 1.6138\n",
            "Epoch: 38\t Training Accuracy: 54.2880\t Validation Accuracy: 48.4300\t Avg-Loss: 1.6343\n",
            "Epoch: 39\tBatch: 1\tAvg-Loss: 1.6336\n",
            "Epoch: 39\tBatch: 101\tAvg-Loss: 1.5810\n",
            "Epoch: 39\t Training Accuracy: 54.7140\t Validation Accuracy: 49.0400\t Avg-Loss: 1.6066\n",
            "Epoch: 40\tBatch: 1\tAvg-Loss: 1.6595\n",
            "Epoch: 40\tBatch: 101\tAvg-Loss: 1.5646\n",
            "Epoch: 40\t Training Accuracy: 55.3180\t Validation Accuracy: 47.9100\t Avg-Loss: 1.5865\n",
            "Epoch: 41\tBatch: 1\tAvg-Loss: 1.2954\n",
            "Epoch: 41\tBatch: 101\tAvg-Loss: 1.5175\n",
            "Epoch: 41\t Training Accuracy: 56.1260\t Validation Accuracy: 50.0900\t Avg-Loss: 1.5555\n",
            "Epoch: 42\tBatch: 1\tAvg-Loss: 1.4260\n",
            "Epoch: 42\tBatch: 101\tAvg-Loss: 1.5020\n",
            "Epoch: 42\t Training Accuracy: 56.6880\t Validation Accuracy: 50.1300\t Avg-Loss: 1.5283\n",
            "Epoch: 43\tBatch: 1\tAvg-Loss: 1.5045\n",
            "Epoch: 43\tBatch: 101\tAvg-Loss: 1.4737\n",
            "Epoch: 43\t Training Accuracy: 57.2200\t Validation Accuracy: 50.2500\t Avg-Loss: 1.5023\n",
            "Epoch: 44\tBatch: 1\tAvg-Loss: 1.5519\n",
            "Epoch: 44\tBatch: 101\tAvg-Loss: 1.4362\n",
            "Epoch: 44\t Training Accuracy: 58.0040\t Validation Accuracy: 51.6600\t Avg-Loss: 1.4677\n",
            "Epoch: 45\tBatch: 1\tAvg-Loss: 1.3245\n",
            "Epoch: 45\tBatch: 101\tAvg-Loss: 1.4231\n",
            "Epoch: 45\t Training Accuracy: 58.4820\t Validation Accuracy: 49.5100\t Avg-Loss: 1.4492\n",
            "Epoch: 46\tBatch: 1\tAvg-Loss: 1.3259\n",
            "Epoch: 46\tBatch: 101\tAvg-Loss: 1.3967\n",
            "Epoch: 46\t Training Accuracy: 58.8260\t Validation Accuracy: 48.5100\t Avg-Loss: 1.4305\n",
            "Epoch: 47\tBatch: 1\tAvg-Loss: 1.3180\n",
            "Epoch: 47\tBatch: 101\tAvg-Loss: 1.3763\n",
            "Epoch: 47\t Training Accuracy: 59.5860\t Validation Accuracy: 49.8800\t Avg-Loss: 1.4012\n",
            "Epoch: 48\tBatch: 1\tAvg-Loss: 1.5308\n",
            "Epoch: 48\tBatch: 101\tAvg-Loss: 1.3681\n",
            "Epoch: 48\t Training Accuracy: 59.9380\t Validation Accuracy: 50.1700\t Avg-Loss: 1.3863\n",
            "Epoch: 49\tBatch: 1\tAvg-Loss: 1.1077\n",
            "Epoch: 49\tBatch: 101\tAvg-Loss: 1.3161\n",
            "Epoch: 49\t Training Accuracy: 60.8180\t Validation Accuracy: 50.2100\t Avg-Loss: 1.3480\n",
            "Epoch: 50\tBatch: 1\tAvg-Loss: 1.3724\n",
            "Epoch: 50\tBatch: 101\tAvg-Loss: 1.2898\n",
            "Epoch: 50\t Training Accuracy: 61.6240\t Validation Accuracy: 49.9900\t Avg-Loss: 1.3245\n",
            "Epoch    51: reducing learning rate of group 0 to 4.0000e-02.\n",
            "Epoch: 51\tBatch: 1\tAvg-Loss: 1.3323\n",
            "Epoch: 51\tBatch: 101\tAvg-Loss: 1.1144\n",
            "Epoch: 51\t Training Accuracy: 67.2980\t Validation Accuracy: 52.6900\t Avg-Loss: 1.1039\n",
            "Epoch: 52\tBatch: 1\tAvg-Loss: 1.0631\n",
            "Epoch: 52\tBatch: 101\tAvg-Loss: 1.0279\n",
            "Epoch: 52\t Training Accuracy: 69.0900\t Validation Accuracy: 52.4100\t Avg-Loss: 1.0377\n",
            "Epoch: 53\tBatch: 1\tAvg-Loss: 0.9633\n",
            "Epoch: 53\tBatch: 101\tAvg-Loss: 0.9811\n",
            "Epoch: 53\t Training Accuracy: 70.0740\t Validation Accuracy: 52.6900\t Avg-Loss: 0.9985\n",
            "Epoch: 54\tBatch: 1\tAvg-Loss: 0.8307\n",
            "Epoch: 54\tBatch: 101\tAvg-Loss: 0.9570\n",
            "Epoch: 54\t Training Accuracy: 70.4280\t Validation Accuracy: 52.1800\t Avg-Loss: 0.9785\n",
            "Epoch: 55\tBatch: 1\tAvg-Loss: 0.9701\n",
            "Epoch: 55\tBatch: 101\tAvg-Loss: 0.9344\n",
            "Epoch: 55\t Training Accuracy: 70.5560\t Validation Accuracy: 52.7600\t Avg-Loss: 0.9626\n",
            "Epoch: 56\tBatch: 1\tAvg-Loss: 0.8961\n",
            "Epoch: 56\tBatch: 101\tAvg-Loss: 0.9107\n",
            "Epoch: 56\t Training Accuracy: 71.5560\t Validation Accuracy: 52.4400\t Avg-Loss: 0.9341\n",
            "Epoch: 57\tBatch: 1\tAvg-Loss: 0.8849\n",
            "Epoch: 57\tBatch: 101\tAvg-Loss: 0.8887\n",
            "Epoch: 57\t Training Accuracy: 72.1900\t Validation Accuracy: 52.1700\t Avg-Loss: 0.9097\n",
            "Epoch    58: reducing learning rate of group 0 to 1.6000e-02.\n",
            "Epoch: 58\tBatch: 1\tAvg-Loss: 0.9708\n",
            "Epoch: 58\tBatch: 101\tAvg-Loss: 0.7934\n",
            "Epoch: 58\t Training Accuracy: 75.3740\t Validation Accuracy: 53.6600\t Avg-Loss: 0.7910\n",
            "Epoch: 59\tBatch: 1\tAvg-Loss: 0.7032\n",
            "Epoch: 59\tBatch: 101\tAvg-Loss: 0.7562\n",
            "Epoch: 59\t Training Accuracy: 76.3520\t Validation Accuracy: 52.9600\t Avg-Loss: 0.7576\n",
            "Epoch: 60\tBatch: 1\tAvg-Loss: 0.7324\n",
            "Epoch: 60\tBatch: 101\tAvg-Loss: 0.7265\n",
            "Epoch: 60\t Training Accuracy: 77.1160\t Validation Accuracy: 52.9600\t Avg-Loss: 0.7394\n",
            "Epoch: 61\tBatch: 1\tAvg-Loss: 0.7297\n",
            "Epoch: 61\tBatch: 101\tAvg-Loss: 0.7107\n",
            "Epoch: 61\t Training Accuracy: 77.5880\t Validation Accuracy: 53.3800\t Avg-Loss: 0.7213\n",
            "Epoch: 62\tBatch: 1\tAvg-Loss: 0.7321\n",
            "Epoch: 62\tBatch: 101\tAvg-Loss: 0.7006\n",
            "Epoch: 62\t Training Accuracy: 77.7860\t Validation Accuracy: 53.1700\t Avg-Loss: 0.7114\n",
            "Epoch: 63\tBatch: 1\tAvg-Loss: 0.6387\n",
            "Epoch: 63\tBatch: 101\tAvg-Loss: 0.6969\n",
            "Epoch: 63\t Training Accuracy: 78.2040\t Validation Accuracy: 52.6900\t Avg-Loss: 0.6975\n",
            "Epoch: 64\tBatch: 1\tAvg-Loss: 0.6504\n",
            "Epoch: 64\tBatch: 101\tAvg-Loss: 0.6855\n",
            "Epoch: 64\t Training Accuracy: 78.1600\t Validation Accuracy: 53.1100\t Avg-Loss: 0.6943\n",
            "Epoch    65: reducing learning rate of group 0 to 6.4000e-03.\n",
            "Epoch: 65\tBatch: 1\tAvg-Loss: 0.6181\n",
            "Epoch: 65\tBatch: 101\tAvg-Loss: 0.6277\n",
            "Epoch: 65\t Training Accuracy: 80.0440\t Validation Accuracy: 53.3300\t Avg-Loss: 0.6306\n",
            "Epoch: 66\tBatch: 1\tAvg-Loss: 0.5458\n",
            "Epoch: 66\tBatch: 101\tAvg-Loss: 0.6096\n",
            "Epoch: 66\t Training Accuracy: 80.5600\t Validation Accuracy: 53.5900\t Avg-Loss: 0.6136\n",
            "Epoch: 67\tBatch: 1\tAvg-Loss: 0.5250\n",
            "Epoch: 67\tBatch: 101\tAvg-Loss: 0.6006\n",
            "Epoch: 67\t Training Accuracy: 80.8340\t Validation Accuracy: 53.2700\t Avg-Loss: 0.6060\n",
            "Epoch: 68\tBatch: 1\tAvg-Loss: 0.6638\n",
            "Epoch: 68\tBatch: 101\tAvg-Loss: 0.5936\n",
            "Epoch: 68\t Training Accuracy: 81.0280\t Validation Accuracy: 53.2400\t Avg-Loss: 0.5959\n",
            "Epoch: 69\tBatch: 1\tAvg-Loss: 0.6375\n",
            "Epoch: 69\tBatch: 101\tAvg-Loss: 0.5854\n",
            "Epoch: 69\t Training Accuracy: 81.2440\t Validation Accuracy: 53.2200\t Avg-Loss: 0.5934\n",
            "Epoch: 70\tBatch: 1\tAvg-Loss: 0.6460\n",
            "Epoch: 70\tBatch: 101\tAvg-Loss: 0.5841\n",
            "Epoch: 70\t Training Accuracy: 81.4020\t Validation Accuracy: 53.0500\t Avg-Loss: 0.5863\n",
            "Epoch    71: reducing learning rate of group 0 to 2.5600e-03.\n",
            "Epoch: 71\tBatch: 1\tAvg-Loss: 0.6117\n",
            "Epoch: 71\tBatch: 101\tAvg-Loss: 0.5596\n",
            "Epoch: 71\t Training Accuracy: 81.9740\t Validation Accuracy: 53.3400\t Avg-Loss: 0.5650\n",
            "Epoch: 72\tBatch: 1\tAvg-Loss: 0.4970\n",
            "Epoch: 72\tBatch: 101\tAvg-Loss: 0.5622\n",
            "Epoch: 72\t Training Accuracy: 82.0020\t Validation Accuracy: 53.5300\t Avg-Loss: 0.5654\n",
            "Epoch: 73\tBatch: 1\tAvg-Loss: 0.5947\n",
            "Epoch: 73\tBatch: 101\tAvg-Loss: 0.5633\n",
            "Epoch: 73\t Training Accuracy: 82.2700\t Validation Accuracy: 53.4900\t Avg-Loss: 0.5577\n",
            "Epoch: 74\tBatch: 1\tAvg-Loss: 0.5122\n",
            "Epoch: 74\tBatch: 101\tAvg-Loss: 0.5474\n",
            "Epoch: 74\t Training Accuracy: 82.4680\t Validation Accuracy: 53.4400\t Avg-Loss: 0.5557\n",
            "Epoch: 75\tBatch: 1\tAvg-Loss: 0.5578\n",
            "Epoch: 75\tBatch: 101\tAvg-Loss: 0.5478\n",
            "Epoch: 75\t Training Accuracy: 82.3900\t Validation Accuracy: 53.5100\t Avg-Loss: 0.5483\n",
            "Epoch: 76\tBatch: 1\tAvg-Loss: 0.5033\n",
            "Epoch: 76\tBatch: 101\tAvg-Loss: 0.5450\n",
            "Epoch: 76\t Training Accuracy: 82.2980\t Validation Accuracy: 53.7400\t Avg-Loss: 0.5497\n",
            "Epoch    77: reducing learning rate of group 0 to 1.0240e-03.\n",
            "Epoch: 77\tBatch: 1\tAvg-Loss: 0.5299\n",
            "Epoch: 77\tBatch: 101\tAvg-Loss: 0.5360\n",
            "Epoch: 77\t Training Accuracy: 82.6740\t Validation Accuracy: 53.6600\t Avg-Loss: 0.5390\n",
            "Epoch: 78\tBatch: 1\tAvg-Loss: 0.5522\n",
            "Epoch: 78\tBatch: 101\tAvg-Loss: 0.5391\n",
            "Epoch: 78\t Training Accuracy: 83.0600\t Validation Accuracy: 53.6800\t Avg-Loss: 0.5335\n",
            "Epoch: 79\tBatch: 1\tAvg-Loss: 0.4900\n",
            "Epoch: 79\tBatch: 101\tAvg-Loss: 0.5378\n",
            "Epoch: 79\t Training Accuracy: 82.7500\t Validation Accuracy: 53.6600\t Avg-Loss: 0.5375\n",
            "Epoch: 80\tBatch: 1\tAvg-Loss: 0.5037\n",
            "Epoch: 80\tBatch: 101\tAvg-Loss: 0.5351\n",
            "Epoch: 80\t Training Accuracy: 82.9120\t Validation Accuracy: 53.5400\t Avg-Loss: 0.5324\n",
            "Epoch: 81\tBatch: 1\tAvg-Loss: 0.6595\n",
            "Epoch: 81\tBatch: 101\tAvg-Loss: 0.5215\n",
            "Epoch: 81\t Training Accuracy: 83.2460\t Validation Accuracy: 53.5500\t Avg-Loss: 0.5263\n",
            "Epoch: 82\tBatch: 1\tAvg-Loss: 0.4979\n",
            "Epoch: 82\tBatch: 101\tAvg-Loss: 0.5350\n",
            "Epoch: 82\t Training Accuracy: 82.6640\t Validation Accuracy: 53.5700\t Avg-Loss: 0.5376\n",
            "Epoch    83: reducing learning rate of group 0 to 4.0960e-04.\n",
            "Epoch: 83\tBatch: 1\tAvg-Loss: 0.5767\n",
            "Epoch: 83\tBatch: 101\tAvg-Loss: 0.5193\n",
            "Epoch: 83\t Training Accuracy: 83.1660\t Validation Accuracy: 53.5900\t Avg-Loss: 0.5276\n",
            "Epoch: 84\tBatch: 1\tAvg-Loss: 0.4462\n",
            "Epoch: 84\tBatch: 101\tAvg-Loss: 0.5232\n",
            "Epoch: 84\t Training Accuracy: 83.1260\t Validation Accuracy: 53.5900\t Avg-Loss: 0.5257\n",
            "Epoch: 85\tBatch: 1\tAvg-Loss: 0.5430\n",
            "Epoch: 85\tBatch: 101\tAvg-Loss: 0.5218\n",
            "Epoch: 85\t Training Accuracy: 83.4460\t Validation Accuracy: 53.3900\t Avg-Loss: 0.5225\n",
            "Epoch: 86\tBatch: 1\tAvg-Loss: 0.4713\n",
            "Epoch: 86\tBatch: 101\tAvg-Loss: 0.5161\n",
            "Epoch: 86\t Training Accuracy: 83.2860\t Validation Accuracy: 53.5400\t Avg-Loss: 0.5239\n",
            "Epoch: 87\tBatch: 1\tAvg-Loss: 0.5500\n",
            "Epoch: 87\tBatch: 101\tAvg-Loss: 0.5146\n",
            "Epoch: 87\t Training Accuracy: 83.1860\t Validation Accuracy: 53.5100\t Avg-Loss: 0.5165\n",
            "Epoch: 88\tBatch: 1\tAvg-Loss: 0.5970\n",
            "Epoch: 88\tBatch: 101\tAvg-Loss: 0.5324\n",
            "Epoch: 88\t Training Accuracy: 83.1640\t Validation Accuracy: 53.4300\t Avg-Loss: 0.5308\n",
            "Epoch    89: reducing learning rate of group 0 to 1.6384e-04.\n",
            "Epoch: 89\tBatch: 1\tAvg-Loss: 0.6276\n",
            "Epoch: 89\tBatch: 101\tAvg-Loss: 0.5224\n",
            "Epoch: 89\t Training Accuracy: 83.3160\t Validation Accuracy: 53.4400\t Avg-Loss: 0.5236\n",
            "Epoch: 90\tBatch: 1\tAvg-Loss: 0.4434\n",
            "Epoch: 90\tBatch: 101\tAvg-Loss: 0.5307\n",
            "Epoch: 90\t Training Accuracy: 83.0120\t Validation Accuracy: 53.4000\t Avg-Loss: 0.5300\n",
            "Epoch: 91\tBatch: 1\tAvg-Loss: 0.4434\n",
            "Epoch: 91\tBatch: 101\tAvg-Loss: 0.5203\n",
            "Epoch: 91\t Training Accuracy: 83.3920\t Validation Accuracy: 53.4900\t Avg-Loss: 0.5206\n",
            "Epoch: 92\tBatch: 1\tAvg-Loss: 0.5459\n",
            "Epoch: 92\tBatch: 101\tAvg-Loss: 0.5143\n",
            "Epoch: 92\t Training Accuracy: 83.3360\t Validation Accuracy: 53.5500\t Avg-Loss: 0.5193\n",
            "Epoch: 93\tBatch: 1\tAvg-Loss: 0.5030\n",
            "Epoch: 93\tBatch: 101\tAvg-Loss: 0.5009\n",
            "Epoch: 93\t Training Accuracy: 83.3860\t Validation Accuracy: 53.5500\t Avg-Loss: 0.5162\n",
            "Epoch: 94\tBatch: 1\tAvg-Loss: 0.4738\n",
            "Epoch: 94\tBatch: 101\tAvg-Loss: 0.5135\n",
            "Epoch: 94\t Training Accuracy: 83.1600\t Validation Accuracy: 53.5200\t Avg-Loss: 0.5229\n",
            "Epoch    95: reducing learning rate of group 0 to 6.5536e-05.\n",
            "Epoch: 95\tBatch: 1\tAvg-Loss: 0.5568\n",
            "Epoch: 95\tBatch: 101\tAvg-Loss: 0.5223\n",
            "Epoch: 95\t Training Accuracy: 83.1760\t Validation Accuracy: 53.5700\t Avg-Loss: 0.5221\n",
            "Epoch: 96\tBatch: 1\tAvg-Loss: 0.4575\n",
            "Epoch: 96\tBatch: 101\tAvg-Loss: 0.5146\n",
            "Epoch: 96\t Training Accuracy: 83.6280\t Validation Accuracy: 53.5300\t Avg-Loss: 0.5146\n",
            "Epoch: 97\tBatch: 1\tAvg-Loss: 0.5068\n",
            "Epoch: 97\tBatch: 101\tAvg-Loss: 0.5200\n",
            "Epoch: 97\t Training Accuracy: 83.4140\t Validation Accuracy: 53.5400\t Avg-Loss: 0.5209\n",
            "Epoch: 98\tBatch: 1\tAvg-Loss: 0.4595\n",
            "Epoch: 98\tBatch: 101\tAvg-Loss: 0.5236\n",
            "Epoch: 98\t Training Accuracy: 83.2620\t Validation Accuracy: 53.4900\t Avg-Loss: 0.5211\n",
            "Epoch: 99\tBatch: 1\tAvg-Loss: 0.5174\n",
            "Epoch: 99\tBatch: 101\tAvg-Loss: 0.5193\n",
            "Epoch: 99\t Training Accuracy: 83.4980\t Validation Accuracy: 53.5700\t Avg-Loss: 0.5190\n"
          ],
          "name": "stdout"
        }
      ]
    },
    {
      "cell_type": "code",
      "metadata": {
        "id": "kl7r45-FUmfC"
      },
      "source": [
        ""
      ],
      "execution_count": 15,
      "outputs": []
    }
  ]
}