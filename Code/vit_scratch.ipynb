{
  "nbformat": 4,
  "nbformat_minor": 0,
  "metadata": {
    "accelerator": "GPU",
    "celltoolbar": "Edit Metadata",
    "colab": {
      "name": "vit_scratch.ipynb",
      "provenance": [],
      "collapsed_sections": [],
      "machine_shape": "hm",
      "include_colab_link": true
    },
    "kernelspec": {
      "display_name": "Python 3",
      "language": "python",
      "name": "python3"
    },
    "language_info": {
      "codemirror_mode": {
        "name": "ipython",
        "version": 3
      },
      "file_extension": ".py",
      "mimetype": "text/x-python",
      "name": "python",
      "nbconvert_exporter": "python",
      "pygments_lexer": "ipython3",
      "version": "3.8.5"
    },
    "toc": {
      "base_numbering": 1,
      "nav_menu": {},
      "number_sections": true,
      "sideBar": true,
      "skip_h1_title": false,
      "title_cell": "Table of Contents",
      "title_sidebar": "Contents",
      "toc_cell": false,
      "toc_position": {},
      "toc_section_display": true,
      "toc_window_display": false
    }
  },
  "cells": [
    {
      "cell_type": "markdown",
      "metadata": {
        "id": "view-in-github",
        "colab_type": "text"
      },
      "source": [
        "<a href=\"https://colab.research.google.com/github/tusharvatsa32/VisTransformers/blob/main/Code/vit_scratch.ipynb\" target=\"_parent\"><img src=\"https://colab.research.google.com/assets/colab-badge.svg\" alt=\"Open In Colab\"/></a>"
      ]
    },
    {
      "cell_type": "markdown",
      "metadata": {
        "latex_metadata": {
          "author": "Aditya Mishra",
          "title": "Visual Transformer | Cats&Dogs Edition",
          "twitter": "@adi_myth"
        },
        "id": "s9dE6zqUYEA-"
      },
      "source": [
        "# Visual Transformer with Linformer\n",
        "\n",
        "Training Visual Transformer on *Dogs vs Cats Data*\n",
        "\n",
        "* Dogs vs. Cats Redux: Kernels Edition - https://www.kaggle.com/c/dogs-vs-cats-redux-kernels-edition\n",
        "* Base Code - https://www.kaggle.com/reukki/pytorch-cnn-tutorial-with-cats-and-dogs/\n",
        "* Effecient Attention Implementation - https://github.com/lucidrains/vit-pytorch#efficient-attention"
      ]
    },
    {
      "cell_type": "markdown",
      "metadata": {
        "id": "IDT1Xwv9RZXb"
      },
      "source": [
        "## Import Libraries"
      ]
    },
    {
      "cell_type": "code",
      "metadata": {
        "id": "Je-f_fI7aVgr"
      },
      "source": [
        "!pip install -q einops"
      ],
      "execution_count": null,
      "outputs": []
    },
    {
      "cell_type": "code",
      "metadata": {
        "id": "qq-e52uORIVg"
      },
      "source": [
        "import glob\n",
        "import os\n",
        "import random\n",
        "import zipfile\n",
        "import matplotlib.pyplot as plt\n",
        "import numpy as np\n",
        "import pandas as pd\n",
        "import torch\n",
        "import torch.nn as nn\n",
        "import torchvision\n",
        "import torch.nn.functional as F\n",
        "import torch.optim as optim\n",
        "from torchvision import datasets, models, transforms\n",
        "from __future__ import print_function\n",
        "from itertools import chain\n",
        "from torch import einsum\n",
        "from PIL import Image\n",
        "from sklearn.model_selection import train_test_split\n",
        "from torch.optim.lr_scheduler import StepLR\n",
        "from torch.utils.data import DataLoader, Dataset\n",
        "from torchvision import datasets, transforms\n",
        "from tqdm.notebook import tqdm\n",
        "from einops import rearrange, repeat\n",
        "from einops.layers.torch import Rearrange"
      ],
      "execution_count": null,
      "outputs": []
    },
    {
      "cell_type": "code",
      "metadata": {
        "colab": {
          "base_uri": "https://localhost:8080/"
        },
        "id": "pV-E0IFHRITw",
        "outputId": "f9620551-d381-4c3e-a1ca-f01c9f15f92f"
      },
      "source": [
        "print(f\"Torch: {torch.__version__}\")"
      ],
      "execution_count": null,
      "outputs": [
        {
          "output_type": "stream",
          "text": [
            "Torch: 1.8.1+cu101\n"
          ],
          "name": "stdout"
        }
      ]
    },
    {
      "cell_type": "code",
      "metadata": {
        "id": "GEoNmg0aQVf9"
      },
      "source": [
        "# Training settings\n",
        "batch_size = 64\n",
        "epochs = 3\n",
        "lr = 3e-5\n",
        "gamma = 0.7\n",
        "seed = 42"
      ],
      "execution_count": null,
      "outputs": []
    },
    {
      "cell_type": "code",
      "metadata": {
        "id": "mSO-6jwwlYzO"
      },
      "source": [
        "def seed_everything(seed):\n",
        "    random.seed(seed)\n",
        "    os.environ['PYTHONHASHSEED'] = str(seed)\n",
        "    np.random.seed(seed)\n",
        "    torch.manual_seed(seed)\n",
        "    torch.cuda.manual_seed(seed)\n",
        "    torch.cuda.manual_seed_all(seed)\n",
        "    torch.backends.cudnn.deterministic = True\n",
        "\n",
        "seed_everything(seed)"
      ],
      "execution_count": null,
      "outputs": []
    },
    {
      "cell_type": "code",
      "metadata": {
        "id": "ZS5Jp9SBRgQr"
      },
      "source": [
        "device = 'cuda'"
      ],
      "execution_count": null,
      "outputs": []
    },
    {
      "cell_type": "code",
      "metadata": {
        "colab": {
          "base_uri": "https://localhost:8080/"
        },
        "id": "l_0631Qvbi_3",
        "outputId": "f241df18-7e4a-4168-c2fd-3341448580df"
      },
      "source": [
        "import PIL\n",
        "img_size = ((384, 384)) #For ResNet models\n",
        "# img_size = ((256, 256)) # For ViT predefined weights\n",
        "\n",
        "transforms_train = transforms.Compose([\n",
        "    transforms.Resize(img_size),\n",
        "    transforms.ColorJitter(hue=.05, saturation=.05),\n",
        "    transforms.RandomHorizontalFlip(p=0.3),\n",
        "    transforms.RandomVerticalFlip(p=0.3),\n",
        "    transforms.RandomRotation(10, resample=PIL.Image.BILINEAR),\n",
        "    transforms.ToTensor(),\n",
        "    transforms.RandomCrop(img_size, fill=0),\n",
        "    transforms.RandomAffine(10, translate=None, scale=(0.8, 1.2), shear=None, fill=0, fillcolor=None, resample=None),\n",
        "    transforms.Normalize((0.485, 0.456, 0.406), (0.229, 0.224, 0.225)),\n",
        "    #transforms.Normalize((0.4914, 0.4822, 0.4465), (0.2023, 0.1994, 0.2010)),\n",
        "])\n",
        "\n",
        "transforms_val = transforms.Compose([\n",
        "    transforms.Resize(img_size),\n",
        "    transforms.ToTensor(),\n",
        "    transforms.Normalize((0.485, 0.456, 0.406), (0.229, 0.224, 0.225)),\n",
        "    #transforms.Normalize((0.4914, 0.4822, 0.4465), (0.2023, 0.1994, 0.2010)),\n",
        "])"
      ],
      "execution_count": null,
      "outputs": [
        {
          "output_type": "stream",
          "text": [
            "/usr/local/lib/python3.7/dist-packages/torchvision/transforms/transforms.py:1201: UserWarning: Argument resample is deprecated and will be removed since v0.10.0. Please, use interpolation instead\n",
            "  \"Argument resample is deprecated and will be removed since v0.10.0. Please, use interpolation instead\"\n"
          ],
          "name": "stderr"
        }
      ]
    },
    {
      "cell_type": "markdown",
      "metadata": {
        "id": "ZEIyZaYXRkZF"
      },
      "source": [
        "## Load Data"
      ]
    },
    {
      "cell_type": "code",
      "metadata": {
        "colab": {
          "base_uri": "https://localhost:8080/"
        },
        "id": "hTsnUVjBbOKG",
        "outputId": "d9eef59e-2fe6-4d6d-abcd-327e8445b082"
      },
      "source": [
        "train_data = torchvision.datasets.CIFAR10(train=True,download=True,root= \"./cifar10/train_data\", transform=transforms_train)\n",
        "train_loader = torch.utils.data.DataLoader(trainset, batch_size=512,\n",
        "                                          shuffle=True, num_workers=8)\n",
        "\n",
        "valid_data = torchvision.datasets.CIFAR10(train=False,download=True,root= \"./cifar10/test_data\", transform=transforms_val)\n",
        "valid_loader = torch.utils.data.DataLoader(testset, batch_size=256,\n",
        "                                         shuffle=False, num_workers=8)"
      ],
      "execution_count": null,
      "outputs": [
        {
          "output_type": "stream",
          "text": [
            "Files already downloaded and verified\n"
          ],
          "name": "stdout"
        },
        {
          "output_type": "stream",
          "text": [
            "/usr/local/lib/python3.7/dist-packages/torch/utils/data/dataloader.py:477: UserWarning: This DataLoader will create 8 worker processes in total. Our suggested max number of worker in current system is 4, which is smaller than what this DataLoader is going to create. Please be aware that excessive worker creation might get DataLoader running slow or even freeze, lower the worker number to avoid potential slowness/freeze if necessary.\n",
            "  cpuset_checked))\n"
          ],
          "name": "stderr"
        },
        {
          "output_type": "stream",
          "text": [
            "Files already downloaded and verified\n"
          ],
          "name": "stdout"
        }
      ]
    },
    {
      "cell_type": "code",
      "metadata": {
        "colab": {
          "base_uri": "https://localhost:8080/"
        },
        "id": "JiIcaG1zSZLA",
        "outputId": "84db623e-529f-46f2-fd08-ab6fd70ed9ae"
      },
      "source": [
        "print(len(train_data), len(train_loader))"
      ],
      "execution_count": null,
      "outputs": [
        {
          "output_type": "stream",
          "text": [
            "50000 98\n"
          ],
          "name": "stdout"
        }
      ]
    },
    {
      "cell_type": "code",
      "metadata": {
        "colab": {
          "base_uri": "https://localhost:8080/"
        },
        "id": "hLLq3UCRSZIo",
        "outputId": "cb2338ff-476a-4eab-eb0a-c6300b22ae58"
      },
      "source": [
        "print(len(valid_data), len(valid_loader))"
      ],
      "execution_count": null,
      "outputs": [
        {
          "output_type": "stream",
          "text": [
            "10000 40\n"
          ],
          "name": "stdout"
        }
      ]
    },
    {
      "cell_type": "markdown",
      "metadata": {
        "id": "8VCgoZBvovkx"
      },
      "source": [
        "### Visual Transformer"
      ]
    },
    {
      "cell_type": "code",
      "metadata": {
        "id": "c3zuPy1RZeH1"
      },
      "source": [
        "import torch\n",
        "from torch import nn, einsum\n",
        "import torch.nn.functional as F\n",
        "\n",
        "from einops import rearrange, repeat\n",
        "from einops.layers.torch import Rearrange\n",
        "\n",
        "class PreNorm(nn.Module):\n",
        "    def __init__(self, dim, fn):\n",
        "        super().__init__()\n",
        "        self.norm = nn.LayerNorm(dim)\n",
        "        self.fn = fn\n",
        "    def forward(self, x, **kwargs):\n",
        "        return self.fn(self.norm(x), **kwargs)\n",
        "\n",
        "class FeedForward(nn.Module):\n",
        "    def __init__(self, dim, hidden_dim, dropout = 0.):\n",
        "        super().__init__()\n",
        "        self.net = nn.Sequential(\n",
        "            nn.Linear(dim, hidden_dim),\n",
        "            nn.GELU(),\n",
        "            nn.Dropout(dropout),\n",
        "            nn.Linear(hidden_dim, dim),\n",
        "            nn.Dropout(dropout)\n",
        "        )\n",
        "    def forward(self, x):\n",
        "        return self.net(x)\n",
        "\n",
        "class Attention(nn.Module):\n",
        "    def __init__(self, dim, heads = 8, dim_head = 64, dropout = 0.):\n",
        "        super().__init__()\n",
        "        inner_dim = dim_head *  heads\n",
        "        project_out = not (heads == 1 and dim_head == dim)\n",
        "\n",
        "        self.heads = heads\n",
        "        self.scale = dim_head ** -0.5\n",
        "\n",
        "        self.attend = nn.Softmax(dim = -1)\n",
        "        self.to_qkv = nn.Linear(dim, inner_dim * 3, bias = False)\n",
        "\n",
        "        self.to_out = nn.Sequential(\n",
        "            nn.Linear(inner_dim, dim),\n",
        "            nn.Dropout(dropout)\n",
        "        ) if project_out else nn.Identity()\n",
        "\n",
        "    def forward(self, x):\n",
        "        b, n, _, h = *x.shape, self.heads\n",
        "        qkv = self.to_qkv(x).chunk(3, dim = -1)\n",
        "        q, k, v = map(lambda t: rearrange(t, 'b n (h d) -> b h n d', h = h), qkv)\n",
        "\n",
        "        dots = einsum('b h i d, b h j d -> b h i j', q, k) * self.scale\n",
        "\n",
        "        attn = self.attend(dots)\n",
        "\n",
        "        out = einsum('b h i j, b h j d -> b h i d', attn, v)\n",
        "        out = rearrange(out, 'b h n d -> b n (h d)')\n",
        "        return self.to_out(out)\n",
        "\n",
        "class Transformer(nn.Module):\n",
        "    def __init__(self, dim, depth, heads, dim_head, mlp_dim, dropout = 0.):\n",
        "        super().__init__()\n",
        "        self.layers = nn.ModuleList([])\n",
        "        for _ in range(depth):\n",
        "            self.layers.append(nn.ModuleList([\n",
        "                PreNorm(dim, Attention(dim, heads = heads, dim_head = dim_head, dropout = dropout)),\n",
        "                PreNorm(dim, FeedForward(dim, mlp_dim, dropout = dropout))\n",
        "            ]))\n",
        "    def forward(self, x):\n",
        "        for attn, ff in self.layers:\n",
        "            x = attn(x) + x\n",
        "            x = ff(x) + x\n",
        "        return x\n",
        "\n",
        "class ViT(nn.Module):\n",
        "    def __init__(self, *, image_size, patch_size, num_classes, dim, depth, heads, mlp_dim, pool = 'cls', channels = 3, dim_head = 64, dropout = 0., emb_dropout = 0.):\n",
        "        super().__init__()\n",
        "        assert image_size % patch_size == 0, 'Image dimensions must be divisible by the patch size.'\n",
        "        num_patches = (image_size // patch_size) ** 2\n",
        "        patch_dim = channels * patch_size ** 2\n",
        "        assert pool in {'cls', 'mean'}, 'pool type must be either cls (cls token) or mean (mean pooling)'\n",
        "\n",
        "        self.to_patch_embedding = nn.Sequential(\n",
        "            Rearrange('b c (h p1) (w p2) -> b (h w) (p1 p2 c)', p1 = patch_size, p2 = patch_size),\n",
        "            nn.Linear(patch_dim, dim),\n",
        "        )\n",
        "\n",
        "        self.pos_embedding = nn.Parameter(torch.randn(1, num_patches + 1, dim))\n",
        "        self.cls_token = nn.Parameter(torch.randn(1, 1, dim))\n",
        "        self.dropout = nn.Dropout(emb_dropout)\n",
        "\n",
        "        self.transformer = Transformer(dim, depth, heads, dim_head, mlp_dim, dropout)\n",
        "\n",
        "        self.pool = pool\n",
        "        self.to_latent = nn.Identity()\n",
        "\n",
        "        self.mlp_head = nn.Sequential(\n",
        "            nn.LayerNorm(dim),\n",
        "            nn.Linear(dim, num_classes)\n",
        "        )\n",
        "\n",
        "    def forward(self, img):\n",
        "        x = self.to_patch_embedding(img)\n",
        "        b, n, _ = x.shape\n",
        "\n",
        "        cls_tokens = repeat(self.cls_token, '() n d -> b n d', b = b)\n",
        "        x = torch.cat((cls_tokens, x), dim=1)\n",
        "        x += self.pos_embedding[:, :(n + 1)]\n",
        "        x = self.dropout(x)\n",
        "\n",
        "        x = self.transformer(x)\n",
        "\n",
        "        x = x.mean(dim = 1) if self.pool == 'mean' else x[:, 0]\n",
        "\n",
        "        x = self.to_latent(x)\n",
        "        return self.mlp_head(x)"
      ],
      "execution_count": null,
      "outputs": []
    },
    {
      "cell_type": "code",
      "metadata": {
        "id": "Z3IoLgpkcFql"
      },
      "source": [
        "model = ViT(\n",
        "    image_size=384,\n",
        "    patch_size=32,\n",
        "    num_classes=10,\n",
        "    dim=1024,\n",
        "    depth=6,\n",
        "    heads=8,\n",
        "    mlp_dim=2048,\n",
        "    dropout=0.1,\n",
        "    emb_dropout=0.1\n",
        ").to(device)"
      ],
      "execution_count": null,
      "outputs": []
    },
    {
      "cell_type": "markdown",
      "metadata": {
        "id": "4u5YZG1eozIv"
      },
      "source": [
        "### Training"
      ]
    },
    {
      "cell_type": "code",
      "metadata": {
        "id": "2Go1icggSnrB"
      },
      "source": [
        "numEpochs = 100\n",
        "in_features = 3 # RGB channels\n",
        "\n",
        "learningRate = 0.03\n",
        "weightDecay = 5e-5\n",
        "\n",
        "num_classes = len(trainset.classes)\n",
        "\n",
        "criterion = nn.CrossEntropyLoss()\n",
        "optimizer = torch.optim.SGD(model.parameters(), lr=learningRate, weight_decay=weightDecay, momentum=0.9, nesterov=True)\n",
        "\n",
        "scheduler = torch.optim.lr_scheduler.ReduceLROnPlateau(optimizer, mode='max', factor=0.3, patience=3, threshold=0.002, verbose=True)"
      ],
      "execution_count": null,
      "outputs": []
    },
    {
      "cell_type": "code",
      "metadata": {
        "id": "QsF6UcuGc981"
      },
      "source": [
        "my_acc = []\n",
        "my_loss = []"
      ],
      "execution_count": null,
      "outputs": []
    },
    {
      "cell_type": "code",
      "metadata": {
        "colab": {
          "base_uri": "https://localhost:8080/"
        },
        "id": "KDBDOcxeU1eR",
        "outputId": "6d8e6d65-c5c2-4935-9d74-46e35958c3f1"
      },
      "source": [
        "# Train!\n",
        "numEpochs = 100\n",
        "for epoch in range(numEpochs):\n",
        "    \n",
        "    # Train\n",
        "    model.train()\n",
        "    train_loss = 0.0\n",
        "    train_acc = 0.0\n",
        "    correct = 0\n",
        "\n",
        "    for batch_num, (x, y) in enumerate(trainloader):\n",
        "        optimizer.zero_grad()\n",
        "        \n",
        "        x, y = x.to(device), y.to(device)\n",
        "\n",
        "        outputs = model(x)\n",
        "\n",
        "        correct += (torch.argmax(outputs, axis=1) == y).sum().item()\n",
        "\n",
        "        loss = criterion(outputs, y.long())\n",
        "        loss.backward()\n",
        "        optimizer.step()\n",
        "\n",
        "        del(outputs)\n",
        "\n",
        "        train_loss += loss.item()\n",
        "\n",
        "        if batch_num % 100 == 0:\n",
        "            print('Epoch: {}\\tBatch: {}\\tAvg-Loss: {:.4f}'.format(epoch, batch_num+1, train_loss/(batch_num+1)))\n",
        "\n",
        "    train_accuracy = correct / len(trainset)\n",
        "\n",
        "    # Validate\n",
        "    model.eval()\n",
        "    num_correct = 0\n",
        "    for batch_num1, (x, y) in enumerate(testloader):\n",
        "        x, y = x.to(device), y.to(device)\n",
        "        outputs = model(x)\n",
        "\n",
        "        num_correct += (torch.argmax(outputs, axis=1) == y).sum().item()\n",
        "\n",
        "    val_accuracy = num_correct / len(testset)\n",
        "    my_acc.append(val_accuracy)\n",
        "    my_loss.append(train_loss/(batch_num+1))\n",
        "    print('Epoch: {}\\t Training Accuracy: {:.4f}\\t Validation Accuracy: {:.4f}\\t Avg-Loss: {:.4f}'.format(epoch, train_accuracy*100, val_accuracy * 100, train_loss/(batch_num+1)))\n",
        "    scheduler.step(val_accuracy)\n",
        "\n",
        "    #torch.save(network.state_dict(),'/content/drive/MyDrive/DL_CMU/HW2_P2/ResNet_Plateau_d3/Net_'+str(epoch)+'_'+str(val_accuracy)+'_checkpoint.t7')"
      ],
      "execution_count": null,
      "outputs": [
        {
          "output_type": "stream",
          "text": [
            "/usr/local/lib/python3.7/dist-packages/torch/utils/data/dataloader.py:477: UserWarning: This DataLoader will create 8 worker processes in total. Our suggested max number of worker in current system is 4, which is smaller than what this DataLoader is going to create. Please be aware that excessive worker creation might get DataLoader running slow or even freeze, lower the worker number to avoid potential slowness/freeze if necessary.\n",
            "  cpuset_checked))\n"
          ],
          "name": "stderr"
        },
        {
          "output_type": "stream",
          "text": [
            "Epoch: 0\tBatch: 1\tAvg-Loss: 2.4815\n",
            "Epoch: 0\tBatch: 101\tAvg-Loss: 11.6012\n",
            "Epoch: 0\tBatch: 201\tAvg-Loss: 7.0939\n",
            "Epoch: 0\tBatch: 301\tAvg-Loss: 5.5329\n",
            "Epoch: 0\tBatch: 401\tAvg-Loss: 4.7611\n",
            "Epoch: 0\tBatch: 501\tAvg-Loss: 4.2867\n",
            "Epoch: 0\tBatch: 601\tAvg-Loss: 3.9646\n",
            "Epoch: 0\tBatch: 701\tAvg-Loss: 3.7337\n",
            "Epoch: 0\tBatch: 801\tAvg-Loss: 3.5597\n",
            "Epoch: 0\tBatch: 901\tAvg-Loss: 3.4184\n",
            "Epoch: 0\tBatch: 1001\tAvg-Loss: 3.2955\n",
            "Epoch: 0\tBatch: 1101\tAvg-Loss: 3.1959\n",
            "Epoch: 0\tBatch: 1201\tAvg-Loss: 3.1108\n",
            "Epoch: 0\tBatch: 1301\tAvg-Loss: 3.0399\n",
            "Epoch: 0\tBatch: 1401\tAvg-Loss: 2.9780\n",
            "Epoch: 0\tBatch: 1501\tAvg-Loss: 2.9220\n",
            "Epoch: 0\tBatch: 1601\tAvg-Loss: 2.8748\n",
            "Epoch: 0\tBatch: 1701\tAvg-Loss: 2.8317\n",
            "Epoch: 0\tBatch: 1801\tAvg-Loss: 2.7937\n",
            "Epoch: 0\tBatch: 1901\tAvg-Loss: 2.7593\n",
            "Epoch: 0\tBatch: 2001\tAvg-Loss: 2.7266\n",
            "Epoch: 0\tBatch: 2101\tAvg-Loss: 2.7012\n",
            "Epoch: 0\tBatch: 2201\tAvg-Loss: 2.6758\n",
            "Epoch: 0\tBatch: 2301\tAvg-Loss: 2.6541\n",
            "Epoch: 0\tBatch: 2401\tAvg-Loss: 2.6335\n",
            "Epoch: 0\tBatch: 2501\tAvg-Loss: 2.6139\n",
            "Epoch: 0\tBatch: 2601\tAvg-Loss: 2.5988\n",
            "Epoch: 0\tBatch: 2701\tAvg-Loss: 2.5845\n",
            "Epoch: 0\tBatch: 2801\tAvg-Loss: 2.5704\n",
            "Epoch: 0\tBatch: 2901\tAvg-Loss: 2.5575\n",
            "Epoch: 0\tBatch: 3001\tAvg-Loss: 2.5425\n",
            "Epoch: 0\tBatch: 3101\tAvg-Loss: 2.5293\n",
            "Epoch: 0\tBatch: 3201\tAvg-Loss: 2.5250\n",
            "Epoch: 0\tBatch: 3301\tAvg-Loss: 2.5197\n",
            "Epoch: 0\tBatch: 3401\tAvg-Loss: 2.5129\n",
            "Epoch: 0\tBatch: 3501\tAvg-Loss: 2.5045\n",
            "Epoch: 0\tBatch: 3601\tAvg-Loss: 2.4964\n",
            "Epoch: 0\tBatch: 3701\tAvg-Loss: 2.4915\n",
            "Epoch: 0\tBatch: 3801\tAvg-Loss: 2.4854\n",
            "Epoch: 0\tBatch: 3901\tAvg-Loss: 2.4812\n",
            "Epoch: 0\tBatch: 4001\tAvg-Loss: 2.4774\n",
            "Epoch: 0\tBatch: 4101\tAvg-Loss: 2.4737\n",
            "Epoch: 0\tBatch: 4201\tAvg-Loss: 2.4703\n",
            "Epoch: 0\tBatch: 4301\tAvg-Loss: 2.4672\n",
            "Epoch: 0\tBatch: 4401\tAvg-Loss: 2.4638\n",
            "Epoch: 0\tBatch: 4501\tAvg-Loss: 2.4602\n",
            "Epoch: 0\tBatch: 4601\tAvg-Loss: 2.4561\n",
            "Epoch: 0\tBatch: 4701\tAvg-Loss: 2.4531\n",
            "Epoch: 0\tBatch: 4801\tAvg-Loss: 2.4504\n",
            "Epoch: 0\tBatch: 4901\tAvg-Loss: 2.4472\n",
            "Epoch: 0\tBatch: 5001\tAvg-Loss: 2.4444\n",
            "Epoch: 0\tBatch: 5101\tAvg-Loss: 2.4416\n",
            "Epoch: 0\tBatch: 5201\tAvg-Loss: 2.4387\n",
            "Epoch: 0\tBatch: 5301\tAvg-Loss: 2.4357\n",
            "Epoch: 0\tBatch: 5401\tAvg-Loss: 2.4336\n",
            "Epoch: 0\tBatch: 5501\tAvg-Loss: 2.4313\n",
            "Epoch: 0\tBatch: 5601\tAvg-Loss: 2.4287\n",
            "Epoch: 0\tBatch: 5701\tAvg-Loss: 2.4264\n",
            "Epoch: 0\tBatch: 5801\tAvg-Loss: 2.4244\n",
            "Epoch: 0\tBatch: 5901\tAvg-Loss: 2.4229\n",
            "Epoch: 0\tBatch: 6001\tAvg-Loss: 2.4215\n",
            "Epoch: 0\tBatch: 6101\tAvg-Loss: 2.4196\n",
            "Epoch: 0\tBatch: 6201\tAvg-Loss: 2.4176\n",
            "Epoch: 0\t Training Accuracy: 14.5860\t Validation Accuracy: 12.2500\t Avg-Loss: 2.4170\n",
            "Epoch: 1\tBatch: 1\tAvg-Loss: 2.7349\n",
            "Epoch: 1\tBatch: 101\tAvg-Loss: 2.3092\n",
            "Epoch: 1\tBatch: 201\tAvg-Loss: 2.3124\n",
            "Epoch: 1\tBatch: 301\tAvg-Loss: 2.3183\n",
            "Epoch: 1\tBatch: 401\tAvg-Loss: 2.3204\n",
            "Epoch: 1\tBatch: 501\tAvg-Loss: 2.3086\n",
            "Epoch: 1\tBatch: 601\tAvg-Loss: 2.3075\n",
            "Epoch: 1\tBatch: 701\tAvg-Loss: 2.3018\n",
            "Epoch: 1\tBatch: 801\tAvg-Loss: 2.3183\n",
            "Epoch: 1\tBatch: 901\tAvg-Loss: 2.3322\n",
            "Epoch: 1\tBatch: 1001\tAvg-Loss: 2.3335\n",
            "Epoch: 1\tBatch: 1101\tAvg-Loss: 2.3336\n",
            "Epoch: 1\tBatch: 1201\tAvg-Loss: 2.3356\n",
            "Epoch: 1\tBatch: 1301\tAvg-Loss: 2.3354\n",
            "Epoch: 1\tBatch: 1401\tAvg-Loss: 2.3363\n",
            "Epoch: 1\tBatch: 1501\tAvg-Loss: 2.3349\n",
            "Epoch: 1\tBatch: 1601\tAvg-Loss: 2.3322\n",
            "Epoch: 1\tBatch: 1701\tAvg-Loss: 2.3330\n",
            "Epoch: 1\tBatch: 1801\tAvg-Loss: 2.3326\n",
            "Epoch: 1\tBatch: 1901\tAvg-Loss: 2.3326\n",
            "Epoch: 1\tBatch: 2001\tAvg-Loss: 2.3319\n",
            "Epoch: 1\tBatch: 2101\tAvg-Loss: 2.3316\n",
            "Epoch: 1\tBatch: 2201\tAvg-Loss: 2.3313\n",
            "Epoch: 1\tBatch: 2301\tAvg-Loss: 2.3306\n",
            "Epoch: 1\tBatch: 2401\tAvg-Loss: 2.3303\n",
            "Epoch: 1\tBatch: 2501\tAvg-Loss: 2.3299\n",
            "Epoch: 1\tBatch: 2601\tAvg-Loss: 2.3294\n",
            "Epoch: 1\tBatch: 2701\tAvg-Loss: 2.3289\n",
            "Epoch: 1\tBatch: 2801\tAvg-Loss: 2.3280\n",
            "Epoch: 1\tBatch: 2901\tAvg-Loss: 2.3280\n",
            "Epoch: 1\tBatch: 3001\tAvg-Loss: 2.3273\n",
            "Epoch: 1\tBatch: 3101\tAvg-Loss: 2.3267\n",
            "Epoch: 1\tBatch: 3201\tAvg-Loss: 2.3262\n",
            "Epoch: 1\tBatch: 3301\tAvg-Loss: 2.3254\n",
            "Epoch: 1\tBatch: 3401\tAvg-Loss: 2.3247\n",
            "Epoch: 1\tBatch: 3501\tAvg-Loss: 2.3237\n"
          ],
          "name": "stdout"
        }
      ]
    },
    {
      "cell_type": "code",
      "metadata": {
        "id": "kl7r45-FUmfC"
      },
      "source": [
        ""
      ],
      "execution_count": null,
      "outputs": []
    }
  ]
}