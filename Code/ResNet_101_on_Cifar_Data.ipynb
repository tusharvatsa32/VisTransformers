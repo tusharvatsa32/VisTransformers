{
  "nbformat": 4,
  "nbformat_minor": 0,
  "metadata": {
    "colab": {
      "name": "ResNet_101_on_Cifar_Data.ipynb",
      "provenance": [],
      "collapsed_sections": [],
      "machine_shape": "hm",
      "authorship_tag": "ABX9TyP/j0OknwX4jXQ7LCPZqg9L",
      "include_colab_link": true
    },
    "kernelspec": {
      "name": "python3",
      "display_name": "Python 3"
    },
    "language_info": {
      "name": "python"
    },
    "accelerator": "GPU"
  },
  "cells": [
    {
      "cell_type": "markdown",
      "metadata": {
        "id": "view-in-github",
        "colab_type": "text"
      },
      "source": [
        "<a href=\"https://colab.research.google.com/github/tusharvatsa32/VisTransformers/blob/main/Code/ResNet_101_on_Cifar_Data.ipynb\" target=\"_parent\"><img src=\"https://colab.research.google.com/assets/colab-badge.svg\" alt=\"Open In Colab\"/></a>"
      ]
    },
    {
      "cell_type": "code",
      "metadata": {
        "colab": {
          "base_uri": "https://localhost:8080/"
        },
        "id": "qdip0rmcCXaJ",
        "outputId": "f087ec13-05bf-4a38-b8af-16318a9aa7e3"
      },
      "source": [
        "!nvidia-smi"
      ],
      "execution_count": null,
      "outputs": [
        {
          "output_type": "stream",
          "text": [
            "Sat Apr 10 23:00:41 2021       \n",
            "+-----------------------------------------------------------------------------+\n",
            "| NVIDIA-SMI 460.67       Driver Version: 460.32.03    CUDA Version: 11.2     |\n",
            "|-------------------------------+----------------------+----------------------+\n",
            "| GPU  Name        Persistence-M| Bus-Id        Disp.A | Volatile Uncorr. ECC |\n",
            "| Fan  Temp  Perf  Pwr:Usage/Cap|         Memory-Usage | GPU-Util  Compute M. |\n",
            "|                               |                      |               MIG M. |\n",
            "|===============================+======================+======================|\n",
            "|   0  Tesla V100-SXM2...  Off  | 00000000:00:04.0 Off |                    0 |\n",
            "| N/A   49C    P0    48W / 300W |      0MiB / 16160MiB |      0%      Default |\n",
            "|                               |                      |                  N/A |\n",
            "+-------------------------------+----------------------+----------------------+\n",
            "                                                                               \n",
            "+-----------------------------------------------------------------------------+\n",
            "| Processes:                                                                  |\n",
            "|  GPU   GI   CI        PID   Type   Process name                  GPU Memory |\n",
            "|        ID   ID                                                   Usage      |\n",
            "|=============================================================================|\n",
            "|  No running processes found                                                 |\n",
            "+-----------------------------------------------------------------------------+\n"
          ],
          "name": "stdout"
        }
      ]
    },
    {
      "cell_type": "code",
      "metadata": {
        "id": "1WwmseiFJf6p"
      },
      "source": [
        "# Importing Libraries\n",
        "\n",
        "\n",
        "from __future__ import print_function, division\n",
        "\n",
        "import torch\n",
        "import torch.nn as nn\n",
        "import torch.optim as optim\n",
        "from torch.optim import lr_scheduler\n",
        "import numpy as np\n",
        "import torchvision\n",
        "from torchvision import datasets, models, transforms\n",
        "import matplotlib.pyplot as plt\n",
        "import time\n",
        "import os\n",
        "import copy\n",
        "import PIL\n",
        "\n",
        "\n",
        "plt.ion()   # interactive mode"
      ],
      "execution_count": null,
      "outputs": []
    },
    {
      "cell_type": "code",
      "metadata": {
        "colab": {
          "base_uri": "https://localhost:8080/"
        },
        "id": "CLIni97T2KgS",
        "outputId": "00a75caa-d2d3-42d3-8b3c-389274b80106"
      },
      "source": [
        "#!pip install vision-transformer-pytorch"
      ],
      "execution_count": null,
      "outputs": [
        {
          "output_type": "stream",
          "text": [
            "Requirement already satisfied: vision-transformer-pytorch in /usr/local/lib/python3.7/dist-packages (1.0.3)\n",
            "Requirement already satisfied: numpy in /usr/local/lib/python3.7/dist-packages (from vision-transformer-pytorch) (1.19.5)\n",
            "Requirement already satisfied: torch>=1.5.0 in /usr/local/lib/python3.7/dist-packages (from vision-transformer-pytorch) (1.8.1+cu101)\n",
            "Requirement already satisfied: typing-extensions in /usr/local/lib/python3.7/dist-packages (from torch>=1.5.0->vision-transformer-pytorch) (3.7.4.3)\n"
          ],
          "name": "stdout"
        }
      ]
    },
    {
      "cell_type": "code",
      "metadata": {
        "id": "wQ_Z-VWJ2MLT"
      },
      "source": [
        "#from vision_transformer_pytorch import VisionTransformer"
      ],
      "execution_count": null,
      "outputs": []
    },
    {
      "cell_type": "code",
      "metadata": {
        "colab": {
          "base_uri": "https://localhost:8080/"
        },
        "id": "NvDH-bVR5a4u",
        "outputId": "8bdb3d77-2314-4613-c7a0-7a1aecf7d50b"
      },
      "source": [
        "# Use suitable data augmentation transformation techniques\n",
        "\n",
        "img_size = ((224, 224))\n",
        "transforms_train = transforms.Compose([\n",
        "    transforms.Resize(img_size),\n",
        "    transforms.ColorJitter(hue=.05, saturation=.05),\n",
        "    transforms.RandomHorizontalFlip(p=0.3),\n",
        "    transforms.RandomVerticalFlip(p=0.3),\n",
        "    transforms.RandomRotation(10, resample=PIL.Image.BILINEAR),\n",
        "    transforms.ToTensor(),\n",
        "    transforms.RandomCrop(img_size, fill=0),\n",
        "    transforms.RandomAffine(10, translate=None, scale=(0.8, 1.2), shear=None, fill=0, fillcolor=None, resample=None),\n",
        "    transforms.Normalize((0.485, 0.456, 0.406), (0.229, 0.224, 0.225)),\n",
        "    #transforms.Normalize((0.4914, 0.4822, 0.4465), (0.2023, 0.1994, 0.2010)),\n",
        "])\n",
        "\n",
        "transforms_val = transforms.Compose([\n",
        "    transforms.Resize(img_size),\n",
        "    transforms.ToTensor(),\n",
        "    transforms.Normalize((0.485, 0.456, 0.406), (0.229, 0.224, 0.225)),\n",
        "    #transforms.Normalize((0.4914, 0.4822, 0.4465), (0.2023, 0.1994, 0.2010)),\n",
        "])"
      ],
      "execution_count": null,
      "outputs": [
        {
          "output_type": "stream",
          "text": [
            "/usr/local/lib/python3.7/dist-packages/torchvision/transforms/transforms.py:1201: UserWarning: Argument resample is deprecated and will be removed since v0.10.0. Please, use interpolation instead\n",
            "  \"Argument resample is deprecated and will be removed since v0.10.0. Please, use interpolation instead\"\n"
          ],
          "name": "stderr"
        }
      ]
    },
    {
      "cell_type": "code",
      "metadata": {
        "colab": {
          "base_uri": "https://localhost:8080/"
        },
        "id": "rzKPKosJ0YEE",
        "outputId": "55639e86-1bfb-42b3-a63f-75c2a7cc01ea"
      },
      "source": [
        "#transform --> transform the data during creation (ToTensor())\n",
        "#download  --> to download to local file\n",
        "#root      --> data storage place\n",
        "#train     --> means training data from training set \n",
        "#type(trainset)\n",
        "\n",
        "trainset = torchvision.datasets.CIFAR10(train=True,download=True,root= \"./cifar10/train_data\", transform=transforms_train)\n",
        "trainloader = torch.utils.data.DataLoader(trainset, batch_size=64,\n",
        "                                          shuffle=True, num_workers=8)\n",
        "\n",
        "testset = torchvision.datasets.CIFAR10(train=False,download=True,root= \"./cifar10/test_data\", transform=transforms_val)\n",
        "testloader = torch.utils.data.DataLoader(testset, batch_size=8,\n",
        "                                         shuffle=False, num_workers=8)"
      ],
      "execution_count": null,
      "outputs": [
        {
          "output_type": "stream",
          "text": [
            "Files already downloaded and verified\n"
          ],
          "name": "stdout"
        },
        {
          "output_type": "stream",
          "text": [
            "/usr/local/lib/python3.7/dist-packages/torch/utils/data/dataloader.py:477: UserWarning: This DataLoader will create 8 worker processes in total. Our suggested max number of worker in current system is 4, which is smaller than what this DataLoader is going to create. Please be aware that excessive worker creation might get DataLoader running slow or even freeze, lower the worker number to avoid potential slowness/freeze if necessary.\n",
            "  cpuset_checked))\n"
          ],
          "name": "stderr"
        },
        {
          "output_type": "stream",
          "text": [
            "Files already downloaded and verified\n"
          ],
          "name": "stdout"
        }
      ]
    },
    {
      "cell_type": "code",
      "metadata": {
        "id": "Wd-csdpy0bXX"
      },
      "source": [
        "#class labels [there are 10 lables]\n",
        "#this is the order of lable of this dataset\n",
        "classes = ('airplane', 'automobile', 'bird', 'cat', 'deer', 'dog', 'frog', 'horse', 'ship',' truck' )"
      ],
      "execution_count": null,
      "outputs": []
    },
    {
      "cell_type": "code",
      "metadata": {
        "id": "bmtAWU6E_XKQ"
      },
      "source": [
        "# numEpochs = 100\n",
        "# in_features = 3 # RGB channels\n",
        "\n",
        "# learningRate = 0.03\n",
        "# weightDecay = 5e-5\n",
        "\n",
        "# num_classes = len(trainset.classes)\n",
        "\n",
        "# device = torch.device('cuda' if torch.cuda.is_available() else 'cpu')\n",
        "\n",
        "# model = VisionTransformer.from_pretrained('R50+ViT-B_16', num_classes=10)\n",
        "# model = model.to(device)\n",
        "\n",
        "# criterion = nn.CrossEntropyLoss()\n",
        "# optimizer = torch.optim.SGD(model.parameters(), lr=learningRate, weight_decay=weightDecay, momentum=0.9, nesterov=True)\n",
        "\n",
        "# scheduler = torch.optim.lr_scheduler.ReduceLROnPlateau(optimizer, mode='max', factor=0.3, patience=3, threshold=0.002, verbose=True)"
      ],
      "execution_count": null,
      "outputs": []
    },
    {
      "cell_type": "code",
      "metadata": {
        "id": "Oj48SsAMbQnn"
      },
      "source": [
        "# Can choose to freeze or unfreeze the parameters of the model\n",
        "\n",
        "# for param in model.parameters():\n",
        "#   print(param.requires_grad)\n",
        "\n",
        "# for param in model_ft.parameters():\n",
        "#     param.requires_grad = False"
      ],
      "execution_count": null,
      "outputs": []
    },
    {
      "cell_type": "code",
      "metadata": {
        "id": "zQmLX4NyI-iy"
      },
      "source": [
        "model = models.resnet101(pretrained=True)\n",
        "\n",
        "# for param in model_ft.parameters():\n",
        "#     param.requires_grad = False\n",
        "\n",
        "  \n",
        "num_ftrs = model.fc.in_features\n",
        "# Here the size of each output sample is set to 2.\n",
        "# Alternatively, it can be generalized to nn.Linear(num_ftrs, len(class_names)).\n",
        "\n",
        "num_classes = len(trainset.classes)\n",
        "\n",
        "model.fc = nn.Linear(num_ftrs, num_classes)\n",
        "\n",
        "learningRate = 0.01\n",
        "weightDecay = 5e-5\n",
        "\n",
        "device = torch.device('cuda' if torch.cuda.is_available() else 'cpu')\n",
        "\n",
        "model = model.to(device)\n",
        "\n",
        "criterion = nn.CrossEntropyLoss()\n",
        "optimizer = torch.optim.SGD(model.parameters(), lr=learningRate, weight_decay=weightDecay, momentum=0.9, nesterov=True)\n",
        "\n",
        "scheduler = torch.optim.lr_scheduler.ReduceLROnPlateau(optimizer, mode='max', factor=0.1, patience=3, threshold=0.002, verbose=True)"
      ],
      "execution_count": null,
      "outputs": []
    },
    {
      "cell_type": "code",
      "metadata": {
        "id": "5NLiTe4bAcTF"
      },
      "source": [
        "#model"
      ],
      "execution_count": null,
      "outputs": []
    },
    {
      "cell_type": "code",
      "metadata": {
        "id": "fN8NPf5CBx3E"
      },
      "source": [
        "my_acc = []\n",
        "my_loss = []"
      ],
      "execution_count": null,
      "outputs": []
    },
    {
      "cell_type": "code",
      "metadata": {
        "colab": {
          "base_uri": "https://localhost:8080/",
          "height": 1000
        },
        "id": "Hc7KdLL6BHyj",
        "outputId": "8f23fc69-567d-4134-dfbe-2a02baef4f4e"
      },
      "source": [
        "# Train!\n",
        "numEpochs = 100\n",
        "for epoch in range(numEpochs):\n",
        "    \n",
        "    # Train\n",
        "    model.train()\n",
        "    train_loss = 0.0\n",
        "    train_acc = 0.0\n",
        "    correct = 0\n",
        "\n",
        "    for batch_num, (x, y) in enumerate(trainloader):\n",
        "        optimizer.zero_grad()\n",
        "        \n",
        "        x, y = x.to(device), y.to(device)\n",
        "\n",
        "        outputs = model(x)\n",
        "\n",
        "        correct += (torch.argmax(outputs, axis=1) == y).sum().item()\n",
        "\n",
        "        loss = criterion(outputs, y.long())\n",
        "        loss.backward()\n",
        "        optimizer.step()\n",
        "\n",
        "        del(outputs)\n",
        "\n",
        "        train_loss += loss.item()\n",
        "\n",
        "        if batch_num % 100 == 0:\n",
        "            print('Epoch: {}\\tBatch: {}\\tAvg-Loss: {:.4f}'.format(epoch, batch_num+1, train_loss/(batch_num+1)))\n",
        "\n",
        "    train_accuracy = correct / len(trainset)\n",
        "\n",
        "    # Validate\n",
        "    model.eval()\n",
        "    num_correct = 0\n",
        "    for batch_num1, (x, y) in enumerate(testloader):\n",
        "        x, y = x.to(device), y.to(device)\n",
        "        outputs = model(x)\n",
        "\n",
        "        num_correct += (torch.argmax(outputs, axis=1) == y).sum().item()\n",
        "\n",
        "    val_accuracy = num_correct / len(testset)\n",
        "    my_acc.append(val_accuracy)\n",
        "    my_loss.append(train_loss/(batch_num+1))\n",
        "    print('Epoch: {}\\t Training Accuracy: {:.4f}\\t Validation Accuracy: {:.4f}\\t Avg-Loss: {:.4f}'.format(epoch, train_accuracy*100, val_accuracy * 100, train_loss/(batch_num+1)))\n",
        "    scheduler.step(val_accuracy)\n",
        "\n",
        "    #torch.save(network.state_dict(),'/content/drive/MyDrive/DL_CMU/HW2_P2/ResNet_Plateau_d3/Net_'+str(epoch)+'_'+str(val_accuracy)+'_checkpoint.t7')"
      ],
      "execution_count": null,
      "outputs": [
        {
          "output_type": "stream",
          "text": [
            "/usr/local/lib/python3.7/dist-packages/torch/utils/data/dataloader.py:477: UserWarning: This DataLoader will create 8 worker processes in total. Our suggested max number of worker in current system is 4, which is smaller than what this DataLoader is going to create. Please be aware that excessive worker creation might get DataLoader running slow or even freeze, lower the worker number to avoid potential slowness/freeze if necessary.\n",
            "  cpuset_checked))\n"
          ],
          "name": "stderr"
        },
        {
          "output_type": "stream",
          "text": [
            "Epoch: 0\tBatch: 1\tAvg-Loss: 2.3129\n",
            "Epoch: 0\tBatch: 101\tAvg-Loss: 0.9381\n",
            "Epoch: 0\tBatch: 201\tAvg-Loss: 0.7681\n",
            "Epoch: 0\tBatch: 301\tAvg-Loss: 0.6827\n",
            "Epoch: 0\tBatch: 401\tAvg-Loss: 0.6277\n",
            "Epoch: 0\tBatch: 501\tAvg-Loss: 0.5897\n",
            "Epoch: 0\tBatch: 601\tAvg-Loss: 0.5605\n",
            "Epoch: 0\tBatch: 701\tAvg-Loss: 0.5337\n",
            "Epoch: 0\t Training Accuracy: 82.4640\t Validation Accuracy: 90.7100\t Avg-Loss: 0.5125\n",
            "Epoch: 1\tBatch: 1\tAvg-Loss: 0.3835\n",
            "Epoch: 1\tBatch: 101\tAvg-Loss: 0.3248\n",
            "Epoch: 1\tBatch: 201\tAvg-Loss: 0.3260\n",
            "Epoch: 1\tBatch: 301\tAvg-Loss: 0.3207\n",
            "Epoch: 1\tBatch: 401\tAvg-Loss: 0.3191\n",
            "Epoch: 1\tBatch: 501\tAvg-Loss: 0.3156\n",
            "Epoch: 1\tBatch: 601\tAvg-Loss: 0.3126\n",
            "Epoch: 1\tBatch: 701\tAvg-Loss: 0.3103\n",
            "Epoch: 1\t Training Accuracy: 89.3980\t Validation Accuracy: 90.8000\t Avg-Loss: 0.3056\n",
            "Epoch: 2\tBatch: 1\tAvg-Loss: 0.2628\n",
            "Epoch: 2\tBatch: 101\tAvg-Loss: 0.2328\n",
            "Epoch: 2\tBatch: 201\tAvg-Loss: 0.2375\n",
            "Epoch: 2\tBatch: 301\tAvg-Loss: 0.2359\n",
            "Epoch: 2\tBatch: 401\tAvg-Loss: 0.2337\n",
            "Epoch: 2\tBatch: 501\tAvg-Loss: 0.2338\n",
            "Epoch: 2\tBatch: 601\tAvg-Loss: 0.2372\n",
            "Epoch: 2\tBatch: 701\tAvg-Loss: 0.2377\n",
            "Epoch: 2\t Training Accuracy: 91.7320\t Validation Accuracy: 92.7500\t Avg-Loss: 0.2373\n",
            "Epoch: 3\tBatch: 1\tAvg-Loss: 0.2509\n",
            "Epoch: 3\tBatch: 101\tAvg-Loss: 0.1994\n",
            "Epoch: 3\tBatch: 201\tAvg-Loss: 0.1997\n",
            "Epoch: 3\tBatch: 301\tAvg-Loss: 0.2032\n",
            "Epoch: 3\tBatch: 401\tAvg-Loss: 0.2033\n",
            "Epoch: 3\tBatch: 501\tAvg-Loss: 0.2035\n",
            "Epoch: 3\tBatch: 601\tAvg-Loss: 0.2047\n",
            "Epoch: 3\tBatch: 701\tAvg-Loss: 0.2049\n",
            "Epoch: 3\t Training Accuracy: 92.9480\t Validation Accuracy: 93.8700\t Avg-Loss: 0.2022\n",
            "Epoch: 4\tBatch: 1\tAvg-Loss: 0.4133\n",
            "Epoch: 4\tBatch: 101\tAvg-Loss: 0.1790\n",
            "Epoch: 4\tBatch: 201\tAvg-Loss: 0.1755\n",
            "Epoch: 4\tBatch: 301\tAvg-Loss: 0.1774\n",
            "Epoch: 4\tBatch: 401\tAvg-Loss: 0.1766\n",
            "Epoch: 4\tBatch: 501\tAvg-Loss: 0.1770\n",
            "Epoch: 4\tBatch: 601\tAvg-Loss: 0.1760\n",
            "Epoch: 4\tBatch: 701\tAvg-Loss: 0.1750\n",
            "Epoch: 4\t Training Accuracy: 94.1080\t Validation Accuracy: 93.4200\t Avg-Loss: 0.1733\n",
            "Epoch: 5\tBatch: 1\tAvg-Loss: 0.2310\n",
            "Epoch: 5\tBatch: 101\tAvg-Loss: 0.1510\n",
            "Epoch: 5\tBatch: 201\tAvg-Loss: 0.1478\n",
            "Epoch: 5\tBatch: 301\tAvg-Loss: 0.1528\n",
            "Epoch: 5\tBatch: 401\tAvg-Loss: 0.1536\n",
            "Epoch: 5\tBatch: 501\tAvg-Loss: 0.1569\n",
            "Epoch: 5\tBatch: 601\tAvg-Loss: 0.1566\n",
            "Epoch: 5\tBatch: 701\tAvg-Loss: 0.1553\n",
            "Epoch: 5\t Training Accuracy: 94.6300\t Validation Accuracy: 94.6800\t Avg-Loss: 0.1546\n",
            "Epoch: 6\tBatch: 1\tAvg-Loss: 0.1555\n",
            "Epoch: 6\tBatch: 101\tAvg-Loss: 0.1267\n",
            "Epoch: 6\tBatch: 201\tAvg-Loss: 0.1313\n",
            "Epoch: 6\tBatch: 301\tAvg-Loss: 0.1321\n",
            "Epoch: 6\tBatch: 401\tAvg-Loss: 0.1367\n",
            "Epoch: 6\tBatch: 501\tAvg-Loss: 0.1367\n",
            "Epoch: 6\tBatch: 601\tAvg-Loss: 0.1383\n",
            "Epoch: 6\tBatch: 701\tAvg-Loss: 0.1375\n",
            "Epoch: 6\t Training Accuracy: 95.2000\t Validation Accuracy: 93.6400\t Avg-Loss: 0.1377\n",
            "Epoch: 7\tBatch: 1\tAvg-Loss: 0.0721\n",
            "Epoch: 7\tBatch: 101\tAvg-Loss: 0.1373\n",
            "Epoch: 7\tBatch: 201\tAvg-Loss: 0.1299\n",
            "Epoch: 7\tBatch: 301\tAvg-Loss: 0.1299\n",
            "Epoch: 7\tBatch: 401\tAvg-Loss: 0.1319\n",
            "Epoch: 7\tBatch: 501\tAvg-Loss: 0.1299\n",
            "Epoch: 7\tBatch: 601\tAvg-Loss: 0.1319\n",
            "Epoch: 7\tBatch: 701\tAvg-Loss: 0.1339\n",
            "Epoch: 7\t Training Accuracy: 95.3920\t Validation Accuracy: 93.7400\t Avg-Loss: 0.1341\n",
            "Epoch: 8\tBatch: 1\tAvg-Loss: 0.1046\n",
            "Epoch: 8\tBatch: 101\tAvg-Loss: 0.1306\n",
            "Epoch: 8\tBatch: 201\tAvg-Loss: 0.1262\n",
            "Epoch: 8\tBatch: 301\tAvg-Loss: 0.1194\n",
            "Epoch: 8\tBatch: 401\tAvg-Loss: 0.1192\n",
            "Epoch: 8\tBatch: 501\tAvg-Loss: 0.1191\n",
            "Epoch: 8\tBatch: 601\tAvg-Loss: 0.1215\n",
            "Epoch: 8\tBatch: 701\tAvg-Loss: 0.1210\n",
            "Epoch: 8\t Training Accuracy: 95.8300\t Validation Accuracy: 95.0300\t Avg-Loss: 0.1213\n",
            "Epoch: 9\tBatch: 1\tAvg-Loss: 0.1431\n",
            "Epoch: 9\tBatch: 101\tAvg-Loss: 0.1110\n",
            "Epoch: 9\tBatch: 201\tAvg-Loss: 0.1103\n",
            "Epoch: 9\tBatch: 301\tAvg-Loss: 0.1107\n",
            "Epoch: 9\tBatch: 401\tAvg-Loss: 0.1095\n",
            "Epoch: 9\tBatch: 501\tAvg-Loss: 0.1101\n",
            "Epoch: 9\tBatch: 601\tAvg-Loss: 0.1074\n",
            "Epoch: 9\tBatch: 701\tAvg-Loss: 0.1084\n",
            "Epoch: 9\t Training Accuracy: 96.2780\t Validation Accuracy: 94.1500\t Avg-Loss: 0.1091\n",
            "Epoch: 10\tBatch: 1\tAvg-Loss: 0.1796\n",
            "Epoch: 10\tBatch: 101\tAvg-Loss: 0.1140\n",
            "Epoch: 10\tBatch: 201\tAvg-Loss: 0.1069\n",
            "Epoch: 10\tBatch: 301\tAvg-Loss: 0.1070\n",
            "Epoch: 10\tBatch: 401\tAvg-Loss: 0.1077\n",
            "Epoch: 10\tBatch: 501\tAvg-Loss: 0.1076\n",
            "Epoch: 10\tBatch: 601\tAvg-Loss: 0.1063\n",
            "Epoch: 10\tBatch: 701\tAvg-Loss: 0.1050\n",
            "Epoch: 10\t Training Accuracy: 96.3600\t Validation Accuracy: 95.1600\t Avg-Loss: 0.1046\n",
            "Epoch: 11\tBatch: 1\tAvg-Loss: 0.1613\n",
            "Epoch: 11\tBatch: 101\tAvg-Loss: 0.0896\n",
            "Epoch: 11\tBatch: 201\tAvg-Loss: 0.0837\n",
            "Epoch: 11\tBatch: 301\tAvg-Loss: 0.0897\n",
            "Epoch: 11\tBatch: 401\tAvg-Loss: 0.0960\n",
            "Epoch: 11\tBatch: 501\tAvg-Loss: 0.0957\n",
            "Epoch: 11\tBatch: 601\tAvg-Loss: 0.0958\n",
            "Epoch: 11\tBatch: 701\tAvg-Loss: 0.0955\n",
            "Epoch: 11\t Training Accuracy: 96.6840\t Validation Accuracy: 95.7200\t Avg-Loss: 0.0949\n",
            "Epoch: 12\tBatch: 1\tAvg-Loss: 0.0227\n",
            "Epoch: 12\tBatch: 101\tAvg-Loss: 0.0874\n",
            "Epoch: 12\tBatch: 201\tAvg-Loss: 0.0874\n",
            "Epoch: 12\tBatch: 301\tAvg-Loss: 0.0907\n",
            "Epoch: 12\tBatch: 401\tAvg-Loss: 0.0913\n",
            "Epoch: 12\tBatch: 501\tAvg-Loss: 0.0920\n",
            "Epoch: 12\tBatch: 601\tAvg-Loss: 0.0920\n",
            "Epoch: 12\tBatch: 701\tAvg-Loss: 0.0929\n",
            "Epoch: 12\t Training Accuracy: 96.7720\t Validation Accuracy: 94.6500\t Avg-Loss: 0.0914\n",
            "Epoch: 13\tBatch: 1\tAvg-Loss: 0.0276\n",
            "Epoch: 13\tBatch: 101\tAvg-Loss: 0.0793\n",
            "Epoch: 13\tBatch: 201\tAvg-Loss: 0.0802\n",
            "Epoch: 13\tBatch: 301\tAvg-Loss: 0.0814\n",
            "Epoch: 13\tBatch: 401\tAvg-Loss: 0.0834\n",
            "Epoch: 13\tBatch: 501\tAvg-Loss: 0.0839\n",
            "Epoch: 13\tBatch: 601\tAvg-Loss: 0.0826\n",
            "Epoch: 13\tBatch: 701\tAvg-Loss: 0.0831\n",
            "Epoch: 13\t Training Accuracy: 97.0900\t Validation Accuracy: 95.0400\t Avg-Loss: 0.0833\n",
            "Epoch: 14\tBatch: 1\tAvg-Loss: 0.0454\n",
            "Epoch: 14\tBatch: 101\tAvg-Loss: 0.0774\n",
            "Epoch: 14\tBatch: 201\tAvg-Loss: 0.0800\n",
            "Epoch: 14\tBatch: 301\tAvg-Loss: 0.0804\n",
            "Epoch: 14\tBatch: 401\tAvg-Loss: 0.0802\n",
            "Epoch: 14\tBatch: 501\tAvg-Loss: 0.0812\n",
            "Epoch: 14\tBatch: 601\tAvg-Loss: 0.0811\n",
            "Epoch: 14\tBatch: 701\tAvg-Loss: 0.0790\n",
            "Epoch: 14\t Training Accuracy: 97.3280\t Validation Accuracy: 95.7500\t Avg-Loss: 0.0800\n",
            "Epoch: 15\tBatch: 1\tAvg-Loss: 0.0831\n",
            "Epoch: 15\tBatch: 101\tAvg-Loss: 0.0826\n",
            "Epoch: 15\tBatch: 201\tAvg-Loss: 0.0830\n",
            "Epoch: 15\tBatch: 301\tAvg-Loss: 0.0833\n",
            "Epoch: 15\tBatch: 401\tAvg-Loss: 0.0812\n",
            "Epoch: 15\tBatch: 501\tAvg-Loss: 0.0795\n",
            "Epoch: 15\tBatch: 601\tAvg-Loss: 0.0812\n",
            "Epoch: 15\tBatch: 701\tAvg-Loss: 0.0802\n",
            "Epoch: 15\t Training Accuracy: 97.1740\t Validation Accuracy: 94.8900\t Avg-Loss: 0.0804\n",
            "Epoch    16: reducing learning rate of group 0 to 1.0000e-03.\n",
            "Epoch: 16\tBatch: 1\tAvg-Loss: 0.0394\n",
            "Epoch: 16\tBatch: 101\tAvg-Loss: 0.0554\n",
            "Epoch: 16\tBatch: 201\tAvg-Loss: 0.0504\n",
            "Epoch: 16\tBatch: 301\tAvg-Loss: 0.0465\n",
            "Epoch: 16\tBatch: 401\tAvg-Loss: 0.0443\n",
            "Epoch: 16\tBatch: 501\tAvg-Loss: 0.0424\n",
            "Epoch: 16\tBatch: 601\tAvg-Loss: 0.0411\n",
            "Epoch: 16\tBatch: 701\tAvg-Loss: 0.0400\n",
            "Epoch: 16\t Training Accuracy: 98.7040\t Validation Accuracy: 96.6900\t Avg-Loss: 0.0390\n",
            "Epoch: 17\tBatch: 1\tAvg-Loss: 0.0199\n",
            "Epoch: 17\tBatch: 101\tAvg-Loss: 0.0259\n",
            "Epoch: 17\tBatch: 201\tAvg-Loss: 0.0276\n",
            "Epoch: 17\tBatch: 301\tAvg-Loss: 0.0269\n",
            "Epoch: 17\tBatch: 401\tAvg-Loss: 0.0274\n",
            "Epoch: 17\tBatch: 501\tAvg-Loss: 0.0278\n",
            "Epoch: 17\tBatch: 601\tAvg-Loss: 0.0267\n",
            "Epoch: 17\tBatch: 701\tAvg-Loss: 0.0263\n",
            "Epoch: 17\t Training Accuracy: 99.1720\t Validation Accuracy: 96.9500\t Avg-Loss: 0.0259\n",
            "Epoch: 18\tBatch: 1\tAvg-Loss: 0.0530\n",
            "Epoch: 18\tBatch: 101\tAvg-Loss: 0.0267\n",
            "Epoch: 18\tBatch: 201\tAvg-Loss: 0.0259\n",
            "Epoch: 18\tBatch: 301\tAvg-Loss: 0.0246\n",
            "Epoch: 18\tBatch: 401\tAvg-Loss: 0.0237\n",
            "Epoch: 18\tBatch: 501\tAvg-Loss: 0.0235\n",
            "Epoch: 18\tBatch: 601\tAvg-Loss: 0.0226\n",
            "Epoch: 18\tBatch: 701\tAvg-Loss: 0.0225\n",
            "Epoch: 18\t Training Accuracy: 99.2820\t Validation Accuracy: 96.9500\t Avg-Loss: 0.0224\n",
            "Epoch: 19\tBatch: 1\tAvg-Loss: 0.0508\n",
            "Epoch: 19\tBatch: 101\tAvg-Loss: 0.0178\n",
            "Epoch: 19\tBatch: 201\tAvg-Loss: 0.0181\n",
            "Epoch: 19\tBatch: 301\tAvg-Loss: 0.0179\n",
            "Epoch: 19\tBatch: 401\tAvg-Loss: 0.0173\n",
            "Epoch: 19\tBatch: 501\tAvg-Loss: 0.0170\n",
            "Epoch: 19\tBatch: 601\tAvg-Loss: 0.0174\n",
            "Epoch: 19\tBatch: 701\tAvg-Loss: 0.0174\n",
            "Epoch: 19\t Training Accuracy: 99.4200\t Validation Accuracy: 96.9900\t Avg-Loss: 0.0177\n",
            "Epoch: 20\tBatch: 1\tAvg-Loss: 0.0034\n",
            "Epoch: 20\tBatch: 101\tAvg-Loss: 0.0159\n",
            "Epoch: 20\tBatch: 201\tAvg-Loss: 0.0169\n",
            "Epoch: 20\tBatch: 301\tAvg-Loss: 0.0161\n",
            "Epoch: 20\tBatch: 401\tAvg-Loss: 0.0164\n",
            "Epoch: 20\tBatch: 501\tAvg-Loss: 0.0164\n",
            "Epoch: 20\tBatch: 601\tAvg-Loss: 0.0160\n",
            "Epoch: 20\tBatch: 701\tAvg-Loss: 0.0156\n",
            "Epoch: 20\t Training Accuracy: 99.4960\t Validation Accuracy: 97.0700\t Avg-Loss: 0.0158\n",
            "Epoch: 21\tBatch: 1\tAvg-Loss: 0.0148\n",
            "Epoch: 21\tBatch: 101\tAvg-Loss: 0.0143\n",
            "Epoch: 21\tBatch: 201\tAvg-Loss: 0.0151\n",
            "Epoch: 21\tBatch: 301\tAvg-Loss: 0.0156\n",
            "Epoch: 21\tBatch: 401\tAvg-Loss: 0.0151\n",
            "Epoch: 21\tBatch: 501\tAvg-Loss: 0.0153\n",
            "Epoch: 21\tBatch: 601\tAvg-Loss: 0.0152\n",
            "Epoch: 21\tBatch: 701\tAvg-Loss: 0.0153\n",
            "Epoch: 21\t Training Accuracy: 99.5160\t Validation Accuracy: 97.1800\t Avg-Loss: 0.0152\n",
            "Epoch: 22\tBatch: 1\tAvg-Loss: 0.0005\n",
            "Epoch: 22\tBatch: 101\tAvg-Loss: 0.0120\n",
            "Epoch: 22\tBatch: 201\tAvg-Loss: 0.0130\n",
            "Epoch: 22\tBatch: 301\tAvg-Loss: 0.0138\n",
            "Epoch: 22\tBatch: 401\tAvg-Loss: 0.0146\n",
            "Epoch: 22\tBatch: 501\tAvg-Loss: 0.0141\n",
            "Epoch: 22\tBatch: 601\tAvg-Loss: 0.0136\n",
            "Epoch: 22\tBatch: 701\tAvg-Loss: 0.0136\n",
            "Epoch: 22\t Training Accuracy: 99.5520\t Validation Accuracy: 97.1700\t Avg-Loss: 0.0137\n",
            "Epoch: 23\tBatch: 1\tAvg-Loss: 0.0294\n",
            "Epoch: 23\tBatch: 101\tAvg-Loss: 0.0135\n",
            "Epoch: 23\tBatch: 201\tAvg-Loss: 0.0138\n",
            "Epoch: 23\tBatch: 301\tAvg-Loss: 0.0130\n",
            "Epoch: 23\tBatch: 401\tAvg-Loss: 0.0132\n",
            "Epoch: 23\tBatch: 501\tAvg-Loss: 0.0134\n",
            "Epoch: 23\tBatch: 601\tAvg-Loss: 0.0132\n",
            "Epoch: 23\tBatch: 701\tAvg-Loss: 0.0130\n",
            "Epoch: 23\t Training Accuracy: 99.5860\t Validation Accuracy: 97.2600\t Avg-Loss: 0.0130\n",
            "Epoch: 24\tBatch: 1\tAvg-Loss: 0.0062\n",
            "Epoch: 24\tBatch: 101\tAvg-Loss: 0.0084\n",
            "Epoch: 24\tBatch: 201\tAvg-Loss: 0.0102\n",
            "Epoch: 24\tBatch: 301\tAvg-Loss: 0.0106\n",
            "Epoch: 24\tBatch: 401\tAvg-Loss: 0.0110\n",
            "Epoch: 24\tBatch: 501\tAvg-Loss: 0.0110\n",
            "Epoch: 24\tBatch: 601\tAvg-Loss: 0.0115\n",
            "Epoch: 24\tBatch: 701\tAvg-Loss: 0.0116\n",
            "Epoch: 24\t Training Accuracy: 99.6180\t Validation Accuracy: 97.1700\t Avg-Loss: 0.0116\n",
            "Epoch: 25\tBatch: 1\tAvg-Loss: 0.0033\n",
            "Epoch: 25\tBatch: 101\tAvg-Loss: 0.0123\n",
            "Epoch: 25\tBatch: 201\tAvg-Loss: 0.0114\n",
            "Epoch: 25\tBatch: 301\tAvg-Loss: 0.0108\n",
            "Epoch: 25\tBatch: 401\tAvg-Loss: 0.0107\n",
            "Epoch: 25\tBatch: 501\tAvg-Loss: 0.0113\n",
            "Epoch: 25\tBatch: 601\tAvg-Loss: 0.0113\n",
            "Epoch: 25\tBatch: 701\tAvg-Loss: 0.0118\n",
            "Epoch: 25\t Training Accuracy: 99.6240\t Validation Accuracy: 97.2300\t Avg-Loss: 0.0119\n",
            "Epoch    26: reducing learning rate of group 0 to 1.0000e-04.\n",
            "Epoch: 26\tBatch: 1\tAvg-Loss: 0.0011\n",
            "Epoch: 26\tBatch: 101\tAvg-Loss: 0.0066\n",
            "Epoch: 26\tBatch: 201\tAvg-Loss: 0.0082\n",
            "Epoch: 26\tBatch: 301\tAvg-Loss: 0.0101\n",
            "Epoch: 26\tBatch: 401\tAvg-Loss: 0.0102\n",
            "Epoch: 26\tBatch: 501\tAvg-Loss: 0.0103\n",
            "Epoch: 26\tBatch: 601\tAvg-Loss: 0.0104\n",
            "Epoch: 26\tBatch: 701\tAvg-Loss: 0.0104\n",
            "Epoch: 26\t Training Accuracy: 99.6640\t Validation Accuracy: 97.2000\t Avg-Loss: 0.0108\n",
            "Epoch: 27\tBatch: 1\tAvg-Loss: 0.0355\n",
            "Epoch: 27\tBatch: 101\tAvg-Loss: 0.0116\n",
            "Epoch: 27\tBatch: 201\tAvg-Loss: 0.0095\n",
            "Epoch: 27\tBatch: 301\tAvg-Loss: 0.0100\n",
            "Epoch: 27\tBatch: 401\tAvg-Loss: 0.0103\n",
            "Epoch: 27\tBatch: 501\tAvg-Loss: 0.0103\n",
            "Epoch: 27\tBatch: 601\tAvg-Loss: 0.0105\n",
            "Epoch: 27\tBatch: 701\tAvg-Loss: 0.0103\n",
            "Epoch: 27\t Training Accuracy: 99.6700\t Validation Accuracy: 97.2900\t Avg-Loss: 0.0105\n",
            "Epoch: 28\tBatch: 1\tAvg-Loss: 0.0024\n",
            "Epoch: 28\tBatch: 101\tAvg-Loss: 0.0133\n",
            "Epoch: 28\tBatch: 201\tAvg-Loss: 0.0107\n",
            "Epoch: 28\tBatch: 301\tAvg-Loss: 0.0112\n",
            "Epoch: 28\tBatch: 401\tAvg-Loss: 0.0108\n",
            "Epoch: 28\tBatch: 501\tAvg-Loss: 0.0106\n",
            "Epoch: 28\tBatch: 601\tAvg-Loss: 0.0106\n",
            "Epoch: 28\tBatch: 701\tAvg-Loss: 0.0103\n",
            "Epoch: 28\t Training Accuracy: 99.6760\t Validation Accuracy: 97.2400\t Avg-Loss: 0.0103\n",
            "Epoch: 29\tBatch: 1\tAvg-Loss: 0.0340\n",
            "Epoch: 29\tBatch: 101\tAvg-Loss: 0.0105\n",
            "Epoch: 29\tBatch: 201\tAvg-Loss: 0.0112\n",
            "Epoch: 29\tBatch: 301\tAvg-Loss: 0.0106\n",
            "Epoch: 29\tBatch: 401\tAvg-Loss: 0.0101\n",
            "Epoch: 29\tBatch: 501\tAvg-Loss: 0.0096\n",
            "Epoch: 29\tBatch: 601\tAvg-Loss: 0.0100\n",
            "Epoch: 29\tBatch: 701\tAvg-Loss: 0.0098\n",
            "Epoch: 29\t Training Accuracy: 99.7160\t Validation Accuracy: 97.2700\t Avg-Loss: 0.0097\n",
            "Epoch    30: reducing learning rate of group 0 to 1.0000e-05.\n",
            "Epoch: 30\tBatch: 1\tAvg-Loss: 0.0210\n",
            "Epoch: 30\tBatch: 101\tAvg-Loss: 0.0106\n",
            "Epoch: 30\tBatch: 201\tAvg-Loss: 0.0099\n",
            "Epoch: 30\tBatch: 301\tAvg-Loss: 0.0106\n",
            "Epoch: 30\tBatch: 401\tAvg-Loss: 0.0101\n",
            "Epoch: 30\tBatch: 501\tAvg-Loss: 0.0099\n",
            "Epoch: 30\tBatch: 601\tAvg-Loss: 0.0097\n",
            "Epoch: 30\tBatch: 701\tAvg-Loss: 0.0098\n",
            "Epoch: 30\t Training Accuracy: 99.6780\t Validation Accuracy: 97.2100\t Avg-Loss: 0.0100\n",
            "Epoch: 31\tBatch: 1\tAvg-Loss: 0.0020\n"
          ],
          "name": "stdout"
        },
        {
          "output_type": "error",
          "ename": "KeyboardInterrupt",
          "evalue": "ignored",
          "traceback": [
            "\u001b[0;31m---------------------------------------------------------------------------\u001b[0m",
            "\u001b[0;31mKeyboardInterrupt\u001b[0m                         Traceback (most recent call last)",
            "\u001b[0;32m<ipython-input-15-979cc71a4a61>\u001b[0m in \u001b[0;36m<module>\u001b[0;34m()\u001b[0m\n\u001b[1;32m     20\u001b[0m         \u001b[0mloss\u001b[0m \u001b[0;34m=\u001b[0m \u001b[0mcriterion\u001b[0m\u001b[0;34m(\u001b[0m\u001b[0moutputs\u001b[0m\u001b[0;34m,\u001b[0m \u001b[0my\u001b[0m\u001b[0;34m.\u001b[0m\u001b[0mlong\u001b[0m\u001b[0;34m(\u001b[0m\u001b[0;34m)\u001b[0m\u001b[0;34m)\u001b[0m\u001b[0;34m\u001b[0m\u001b[0;34m\u001b[0m\u001b[0m\n\u001b[1;32m     21\u001b[0m         \u001b[0mloss\u001b[0m\u001b[0;34m.\u001b[0m\u001b[0mbackward\u001b[0m\u001b[0;34m(\u001b[0m\u001b[0;34m)\u001b[0m\u001b[0;34m\u001b[0m\u001b[0;34m\u001b[0m\u001b[0m\n\u001b[0;32m---> 22\u001b[0;31m         \u001b[0moptimizer\u001b[0m\u001b[0;34m.\u001b[0m\u001b[0mstep\u001b[0m\u001b[0;34m(\u001b[0m\u001b[0;34m)\u001b[0m\u001b[0;34m\u001b[0m\u001b[0;34m\u001b[0m\u001b[0m\n\u001b[0m\u001b[1;32m     23\u001b[0m \u001b[0;34m\u001b[0m\u001b[0m\n\u001b[1;32m     24\u001b[0m         \u001b[0;32mdel\u001b[0m\u001b[0;34m(\u001b[0m\u001b[0moutputs\u001b[0m\u001b[0;34m)\u001b[0m\u001b[0;34m\u001b[0m\u001b[0;34m\u001b[0m\u001b[0m\n",
            "\u001b[0;32m/usr/local/lib/python3.7/dist-packages/torch/optim/optimizer.py\u001b[0m in \u001b[0;36mwrapper\u001b[0;34m(*args, **kwargs)\u001b[0m\n\u001b[1;32m     87\u001b[0m                 \u001b[0mprofile_name\u001b[0m \u001b[0;34m=\u001b[0m \u001b[0;34m\"Optimizer.step#{}.step\"\u001b[0m\u001b[0;34m.\u001b[0m\u001b[0mformat\u001b[0m\u001b[0;34m(\u001b[0m\u001b[0mobj\u001b[0m\u001b[0;34m.\u001b[0m\u001b[0m__class__\u001b[0m\u001b[0;34m.\u001b[0m\u001b[0m__name__\u001b[0m\u001b[0;34m)\u001b[0m\u001b[0;34m\u001b[0m\u001b[0;34m\u001b[0m\u001b[0m\n\u001b[1;32m     88\u001b[0m                 \u001b[0;32mwith\u001b[0m \u001b[0mtorch\u001b[0m\u001b[0;34m.\u001b[0m\u001b[0mautograd\u001b[0m\u001b[0;34m.\u001b[0m\u001b[0mprofiler\u001b[0m\u001b[0;34m.\u001b[0m\u001b[0mrecord_function\u001b[0m\u001b[0;34m(\u001b[0m\u001b[0mprofile_name\u001b[0m\u001b[0;34m)\u001b[0m\u001b[0;34m:\u001b[0m\u001b[0;34m\u001b[0m\u001b[0;34m\u001b[0m\u001b[0m\n\u001b[0;32m---> 89\u001b[0;31m                     \u001b[0;32mreturn\u001b[0m \u001b[0mfunc\u001b[0m\u001b[0;34m(\u001b[0m\u001b[0;34m*\u001b[0m\u001b[0margs\u001b[0m\u001b[0;34m,\u001b[0m \u001b[0;34m**\u001b[0m\u001b[0mkwargs\u001b[0m\u001b[0;34m)\u001b[0m\u001b[0;34m\u001b[0m\u001b[0;34m\u001b[0m\u001b[0m\n\u001b[0m\u001b[1;32m     90\u001b[0m             \u001b[0;32mreturn\u001b[0m \u001b[0mwrapper\u001b[0m\u001b[0;34m\u001b[0m\u001b[0;34m\u001b[0m\u001b[0m\n\u001b[1;32m     91\u001b[0m \u001b[0;34m\u001b[0m\u001b[0m\n",
            "\u001b[0;32m/usr/local/lib/python3.7/dist-packages/torch/autograd/grad_mode.py\u001b[0m in \u001b[0;36mdecorate_context\u001b[0;34m(*args, **kwargs)\u001b[0m\n\u001b[1;32m     25\u001b[0m         \u001b[0;32mdef\u001b[0m \u001b[0mdecorate_context\u001b[0m\u001b[0;34m(\u001b[0m\u001b[0;34m*\u001b[0m\u001b[0margs\u001b[0m\u001b[0;34m,\u001b[0m \u001b[0;34m**\u001b[0m\u001b[0mkwargs\u001b[0m\u001b[0;34m)\u001b[0m\u001b[0;34m:\u001b[0m\u001b[0;34m\u001b[0m\u001b[0;34m\u001b[0m\u001b[0m\n\u001b[1;32m     26\u001b[0m             \u001b[0;32mwith\u001b[0m \u001b[0mself\u001b[0m\u001b[0;34m.\u001b[0m\u001b[0m__class__\u001b[0m\u001b[0;34m(\u001b[0m\u001b[0;34m)\u001b[0m\u001b[0;34m:\u001b[0m\u001b[0;34m\u001b[0m\u001b[0;34m\u001b[0m\u001b[0m\n\u001b[0;32m---> 27\u001b[0;31m                 \u001b[0;32mreturn\u001b[0m \u001b[0mfunc\u001b[0m\u001b[0;34m(\u001b[0m\u001b[0;34m*\u001b[0m\u001b[0margs\u001b[0m\u001b[0;34m,\u001b[0m \u001b[0;34m**\u001b[0m\u001b[0mkwargs\u001b[0m\u001b[0;34m)\u001b[0m\u001b[0;34m\u001b[0m\u001b[0;34m\u001b[0m\u001b[0m\n\u001b[0m\u001b[1;32m     28\u001b[0m         \u001b[0;32mreturn\u001b[0m \u001b[0mcast\u001b[0m\u001b[0;34m(\u001b[0m\u001b[0mF\u001b[0m\u001b[0;34m,\u001b[0m \u001b[0mdecorate_context\u001b[0m\u001b[0;34m)\u001b[0m\u001b[0;34m\u001b[0m\u001b[0;34m\u001b[0m\u001b[0m\n\u001b[1;32m     29\u001b[0m \u001b[0;34m\u001b[0m\u001b[0m\n",
            "\u001b[0;32m/usr/local/lib/python3.7/dist-packages/torch/optim/sgd.py\u001b[0m in \u001b[0;36mstep\u001b[0;34m(self, closure)\u001b[0m\n\u001b[1;32m    115\u001b[0m                   \u001b[0mlr\u001b[0m\u001b[0;34m,\u001b[0m\u001b[0;34m\u001b[0m\u001b[0;34m\u001b[0m\u001b[0m\n\u001b[1;32m    116\u001b[0m                   \u001b[0mdampening\u001b[0m\u001b[0;34m,\u001b[0m\u001b[0;34m\u001b[0m\u001b[0;34m\u001b[0m\u001b[0m\n\u001b[0;32m--> 117\u001b[0;31m                   nesterov)\n\u001b[0m\u001b[1;32m    118\u001b[0m \u001b[0;34m\u001b[0m\u001b[0m\n\u001b[1;32m    119\u001b[0m             \u001b[0;31m# update momentum_buffers in state\u001b[0m\u001b[0;34m\u001b[0m\u001b[0;34m\u001b[0m\u001b[0;34m\u001b[0m\u001b[0m\n",
            "\u001b[0;32m/usr/local/lib/python3.7/dist-packages/torch/optim/_functional.py\u001b[0m in \u001b[0;36msgd\u001b[0;34m(params, d_p_list, momentum_buffer_list, weight_decay, momentum, lr, dampening, nesterov)\u001b[0m\n\u001b[1;32m    167\u001b[0m                 \u001b[0mmomentum_buffer_list\u001b[0m\u001b[0;34m[\u001b[0m\u001b[0mi\u001b[0m\u001b[0;34m]\u001b[0m \u001b[0;34m=\u001b[0m \u001b[0mbuf\u001b[0m\u001b[0;34m\u001b[0m\u001b[0;34m\u001b[0m\u001b[0m\n\u001b[1;32m    168\u001b[0m             \u001b[0;32melse\u001b[0m\u001b[0;34m:\u001b[0m\u001b[0;34m\u001b[0m\u001b[0;34m\u001b[0m\u001b[0m\n\u001b[0;32m--> 169\u001b[0;31m                 \u001b[0mbuf\u001b[0m\u001b[0;34m.\u001b[0m\u001b[0mmul_\u001b[0m\u001b[0;34m(\u001b[0m\u001b[0mmomentum\u001b[0m\u001b[0;34m)\u001b[0m\u001b[0;34m.\u001b[0m\u001b[0madd_\u001b[0m\u001b[0;34m(\u001b[0m\u001b[0md_p\u001b[0m\u001b[0;34m,\u001b[0m \u001b[0malpha\u001b[0m\u001b[0;34m=\u001b[0m\u001b[0;36m1\u001b[0m \u001b[0;34m-\u001b[0m \u001b[0mdampening\u001b[0m\u001b[0;34m)\u001b[0m\u001b[0;34m\u001b[0m\u001b[0;34m\u001b[0m\u001b[0m\n\u001b[0m\u001b[1;32m    170\u001b[0m \u001b[0;34m\u001b[0m\u001b[0m\n\u001b[1;32m    171\u001b[0m             \u001b[0;32mif\u001b[0m \u001b[0mnesterov\u001b[0m\u001b[0;34m:\u001b[0m\u001b[0;34m\u001b[0m\u001b[0;34m\u001b[0m\u001b[0m\n",
            "\u001b[0;31mKeyboardInterrupt\u001b[0m: "
          ]
        }
      ]
    },
    {
      "cell_type": "code",
      "metadata": {
        "id": "MCMBZzTklKqA"
      },
      "source": [
        "vit_my_acc = np.load('/content/my_acc_ViT-R50-16.npy')"
      ],
      "execution_count": null,
      "outputs": []
    },
    {
      "cell_type": "code",
      "metadata": {
        "colab": {
          "base_uri": "https://localhost:8080/",
          "height": 748
        },
        "id": "aNkWYNzVkLrI",
        "outputId": "96c422d2-7ecb-4391-9315-77577db0d57b"
      },
      "source": [
        "plt.figure(figsize=(6,4), dpi = 200)\n",
        "plt.plot(vit_my_acc, label = 'R50+ViT-B_16')\n",
        "plt.plot(my_acc_1, label = 'ResNet-101', color = 'orange')\n",
        "plt.legend()\n",
        "plt.xlabel('Epochs')\n",
        "plt.ylabel('Validation Accuracy')\n",
        "plt.show()"
      ],
      "execution_count": null,
      "outputs": [
        {
          "output_type": "display_data",
          "data": {
            "image/png": "[encoded data removed]",
            "text/plain": [
              "<Figure size 1200x800 with 1 Axes>"
            ]
          },
          "metadata": {
            "tags": [],
            "needs_background": "light"
          }
        }
      ]
    }
  ]
}